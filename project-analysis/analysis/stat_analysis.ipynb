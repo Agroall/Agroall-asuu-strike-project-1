{
 "cells": [
  {
   "cell_type": "markdown",
   "metadata": {},
   "source": [
    "# Statistical Analysis\n",
    "In this file, we will perform **statistical analysis** for the ASUU Strike Effect Analysis Project. The statistical analysis performed will be based on the result of the **exploratory data analysis**."
   ]
  },
  {
   "cell_type": "markdown",
   "metadata": {},
   "source": [
    "## Importing necessary models"
   ]
  },
  {
   "cell_type": "code",
   "execution_count": 3,
   "metadata": {},
   "outputs": [],
   "source": [
    "#!pip install scikit_posthocs"
   ]
  },
  {
   "cell_type": "code",
   "execution_count": 4,
   "metadata": {},
   "outputs": [],
   "source": [
    "from scipy.stats import f_oneway, kruskal, ttest_ind, anderson\n",
    "import scikit_posthocs as sp\n",
    "from scipy import stats\n",
    "import pandas as pd\n",
    "import matplotlib as mpl\n",
    "import matplotlib.pyplot as plt\n",
    "import seaborn as sns\n",
    "import numpy as np\n",
    "import utils\n",
    "from statsmodels.stats.multicomp import pairwise_tukeyhsd"
   ]
  },
  {
   "cell_type": "code",
   "execution_count": 5,
   "metadata": {},
   "outputs": [],
   "source": [
    "grey = \"#eeeeee\"\n",
    "blue = \"#4276A5\"\n",
    "red = \"#cf8989\"\n",
    "cream = \"#f9cb9c\"\n",
    "green = \"#45818e\"\n",
    "pink = \"#FF8FC3\"\n",
    "\n",
    "PALETTE = [red, cream, blue, green, pink, grey]\n",
    "FONT = \"Verdana\"\n",
    "\n",
    "# Set Seaborn style and color palette\n",
    "sns.set(\n",
    "    style=\"white\", \n",
    "    palette=PALETTE, \n",
    "    context='notebook', \n",
    "    font=FONT, \n",
    "    font_scale=0.85, \n",
    "    color_codes=True\n",
    "    )\n",
    "\n",
    "# Set Matplotlib font\n",
    "mpl.rcParams['font.family'] = FONT\n",
    "\n",
    "# Set the desired axes border linewidth\n",
    "mpl.rcParams['axes.linewidth'] = 0.2"
   ]
  },
  {
   "cell_type": "markdown",
   "metadata": {},
   "source": [
    "This is temporary, for some reason, utils isn't working."
   ]
  },
  {
   "cell_type": "code",
   "execution_count": null,
   "metadata": {},
   "outputs": [],
   "source": []
  },
  {
   "cell_type": "code",
   "execution_count": 6,
   "metadata": {},
   "outputs": [],
   "source": [
    "def anova_assumptions_test(feature, target, df):\n",
    "    '''\n",
    "    This function tests the assumptions required for the ANOVA statistical test.\n",
    "\n",
    "    feature: The feature being tested for ANOVA assumptions.\n",
    "    target: The column to aggregate for ANOVA.\n",
    "    df: The dataframe containing the data.\n",
    "\n",
    "    Returns one of four strings:\n",
    "    1. The given data passes both tests of homoscedasticity and normality.\n",
    "    2. The given data passes the test of homoscedasticity but fails the test of normality.\n",
    "    3. The given data passes the test of normality but fails the test of homoscedasticity.\n",
    "    4. The given data fails both tests of homoscedasticity and normality.\n",
    "    '''\n",
    "    # Homoscedasticity\n",
    "    feature_std = df.groupby(feature)[target].std()\n",
    "    max_std = feature_std.max()\n",
    "    min_std = feature_std.min()\n",
    "\n",
    "    # Normality\n",
    "    normality = anderson_darling(df=df, feature=feature, target=target, alpha=5)\n",
    "\n",
    "    if min_std * 2 >= max_std and normality:\n",
    "        return 'The given data passes both tests of homoscedasticity and normality.'\n",
    "    elif min_std * 2 >= max_std and not normality:\n",
    "        return 'The given data passes the test of homoscedasticity but fails the test of normality.'\n",
    "    elif min_std * 2 < max_std and normality:\n",
    "        return 'The given data passes the test of normality but fails the test of homoscedasticity.'\n",
    "    else:\n",
    "        return 'The given data fails both tests of homoscedasticity and normality.'\n",
    "\n",
    "\n",
    "def anderson_darling(df,feature,alpha,target):\n",
    "  '''\n",
    "  This function tests for normality in the df.\n",
    "  \n",
    "  df: The dataframe that contains the df you want to test.\n",
    "  feature: The feature being tested for normality.\n",
    "  target: The column to aggregate.\n",
    "  alpha: The significance level for the statistical test. Default 0.05 or 5%.                                                   \n",
    "  alpha should be inserted as a percentage in integer form, eg, 5% should be inserted as 5.\n",
    "  \n",
    "  Returns: True or False\n",
    "  True means that the data follows a normal distribution.\n",
    "  False means that the data doesn't follows a normal distribution.\n",
    "  '''\n",
    "  unique = df[feature].unique()\n",
    "  counter = []\n",
    "\n",
    "  for unique_value in unique:\n",
    "    test_data = df[df[feature]==unique_value][target]\n",
    "    \n",
    "    if len(test_data) < 5:\n",
    "        pass\n",
    "    \n",
    "    else:\n",
    "        result = anderson(test_data)\n",
    "        test_statistic = result.statistic\n",
    "        critical_values = list(result.critical_values)\n",
    "        significance_level = list(result.significance_level)\n",
    "        index_sig_level = significance_level.index(alpha)\n",
    "\n",
    "        if test_statistic <= critical_values[index_sig_level]:\n",
    "            # It follows a normal distribution.\n",
    "            counter.append(True)\n",
    "        \n",
    "        else:\n",
    "            # It does not follow a normal distribution\n",
    "            pass\n",
    "    \n",
    "  if False in counter:\n",
    "      return False\n",
    "  else:\n",
    "      return True\n",
    "  \n",
    "\n",
    "def perform_one_way_anova(df, feature, target):\n",
    "    '''\n",
    "    Perform a one-way ANOVA test to assess the equality of means among multiple groups.\n",
    "    \n",
    "    Parameters:\n",
    "        df (DataFrame): The DataFrame containing the data.\n",
    "        feature (str): The column name for the categorical levels.\n",
    "        target (str): The column name for the continuous variable (CGPA change).\n",
    "\n",
    "    Returns:\n",
    "        result (F_onewayResult): The result of the one-way ANOVA test.\n",
    "    '''\n",
    "    unique_levels = df[feature].unique()\n",
    "    levels_data = {level: df[df[feature] == level][target] for level in unique_levels}\n",
    "    \n",
    "    result = f_oneway(*levels_data.values())\n",
    "    \n",
    "    return (f'ANOVA F-statistic:\", {result.statistic}, \"ANOVA p-value:\", {result.pvalue}')\n",
    "\n",
    "\n",
    "def perform_pairwise_tukeyhsd(df, feature, target):\n",
    "    '''\n",
    "    Perform pairwise Tukey's Honestly Significant Difference (HSD) test to compare group means.\n",
    "\n",
    "    Parameters:\n",
    "        df (DataFrame): The DataFrame containing the data.\n",
    "        feature (str): The column name for the categorical groups.\n",
    "        target (str): The column name for the data to be compared.\n",
    "\n",
    "    Returns:\n",
    "        tukey_result (MultiComparison): The result of the pairwise Tukey's HSD test.\n",
    "    '''\n",
    "    tukey_result = pairwise_tukeyhsd(\n",
    "        endog=df[target],\n",
    "        groups=df[feature]\n",
    "    )\n",
    "    print(tukey_result)\n",
    "    \n",
    "    \n",
    "def perform_kruskal_willis_test(df, feature, target, min_count=5):\n",
    "    '''\n",
    "    Perform the Kruskal-Wallis test after filtering out groups with low counts.\n",
    "\n",
    "    Parameters:\n",
    "        df (DataFrame): The DataFrame containing the data.\n",
    "        feature (str): The column name for the categorical groups.\n",
    "        target (str): The column name for the data to be compared.\n",
    "        min_count (int): Minimum count required for each group. Groups with counts below this are dropped.\n",
    "\n",
    "    Returns:\n",
    "        kruskal_result (KruskalResult): The result of the Kruskal-Wallis test.\n",
    "    '''\n",
    "    group_counts = df[feature].value_counts()\n",
    "    low_count_groups = group_counts.index[group_counts < min_count]\n",
    "    filtered_df = df[~df[feature].isin(low_count_groups)]\n",
    "\n",
    "    groups_data = {group: filtered_df[filtered_df[feature] == group][target] for group in filtered_df[feature].unique()}\n",
    "\n",
    "    kruskal_result = kruskal(*groups_data.values())\n",
    "    return (f\"Kruskal-Wallis Test statistic:, {kruskal_result.statistic}, Kruskal-Wallis Test p-value:, {kruskal_result.pvalue}\")\n",
    "\n",
    "\n",
    "def perform_pairwise_dunn(df, target, feature,p_adjust='bonferroni'):\n",
    "    '''\n",
    "    Perform pairwise Dunn's test to compare group means.\n",
    "\n",
    "    Parameters:\n",
    "        df (DataFrame): The DataFrame containing the data.\n",
    "        feature (str): The column name for the categorical groups.\n",
    "        target (str): The column name for the data to be compared.\n",
    "        method (str): The multiple comparison correction method. Default is 'bonf'.\n",
    "                      Other options: 'bonf', 'holm', 'fdr_bh', 'simes-hochberg'.\n",
    "\n",
    "    Returns:\n",
    "        dunn_result (DataFrame): The result of the pairwise Dunn's test.\n",
    "    '''\n",
    "    dunn_result = sp.posthoc_dunn(\n",
    "        df[target],\n",
    "        df[feature],\n",
    "        p_adjust=p_adjust\n",
    "    )\n",
    "    print(dunn_result)\n",
    "    "
   ]
  },
  {
   "cell_type": "code",
   "execution_count": 7,
   "metadata": {},
   "outputs": [],
   "source": [
    "def generate_subplots(data, x_col, row_col, row_order=None, aspect=12/7):\n",
    "    unique_labels = data[row_col].unique()\n",
    "    num_unique_labels = len(unique_labels)\n",
    "    num_cols = 1 if num_unique_labels <= 2 else num_unique_labels\n",
    "\n",
    "    g = sns.displot(\n",
    "        kind='hist',\n",
    "        data=data,\n",
    "        x=x_col,\n",
    "        row=row_col,\n",
    "        aspect=aspect,\n",
    "        row_order=row_order\n",
    "    )\n",
    "\n",
    "    population_cgpa_average = data[x_col].mean()\n",
    "\n",
    "    for label, ax in zip(unique_labels, g.axes.flat):\n",
    "        ax.axvline(population_cgpa_average, color='red', label='Population CGPA Average')\n",
    "        ax.legend(loc='upper right')\n",
    "        ax.set_title(f'{row_col.capitalize()}: {label}')\n",
    "\n",
    "    plt.tight_layout()\n",
    "\n",
    "    plt.show()"
   ]
  },
  {
   "cell_type": "markdown",
   "metadata": {},
   "source": [
    "## Reading and previewing data"
   ]
  },
  {
   "cell_type": "code",
   "execution_count": 8,
   "metadata": {},
   "outputs": [],
   "source": [
    "# all data here include predicted course units\n",
    "\n",
    "# complete info\n",
    "df = pd.read_csv(\"../data/data_with_predicted_course_units.csv\")\n",
    "\n",
    "# contains students with no cgpa before or after \n",
    "df_invalid_cgpa = pd.read_csv(\"../data/incomplete_cgpa_only.csv\")\n",
    "\n",
    "# only contains students with complete cgpa information\n",
    "df_valid_cgpa = pd.read_csv(\"../data/valid_cgpa_only.csv\")"
   ]
  },
  {
   "cell_type": "code",
   "execution_count": 9,
   "metadata": {
    "scrolled": true
   },
   "outputs": [
    {
     "data": {
      "text/html": [
       "<div>\n",
       "<style scoped>\n",
       "    .dataframe tbody tr th:only-of-type {\n",
       "        vertical-align: middle;\n",
       "    }\n",
       "\n",
       "    .dataframe tbody tr th {\n",
       "        vertical-align: top;\n",
       "    }\n",
       "\n",
       "    .dataframe thead th {\n",
       "        text-align: right;\n",
       "    }\n",
       "</style>\n",
       "<table border=\"1\" class=\"dataframe\">\n",
       "  <thead>\n",
       "    <tr style=\"text-align: right;\">\n",
       "      <th></th>\n",
       "      <th>school</th>\n",
       "      <th>level</th>\n",
       "      <th>age</th>\n",
       "      <th>gender</th>\n",
       "      <th>relationship</th>\n",
       "      <th>faculty</th>\n",
       "      <th>department</th>\n",
       "      <th>strike_effect</th>\n",
       "      <th>challenge</th>\n",
       "      <th>work</th>\n",
       "      <th>skills</th>\n",
       "      <th>prep_before</th>\n",
       "      <th>prep_after</th>\n",
       "      <th>lecture</th>\n",
       "      <th>academic_act</th>\n",
       "      <th>courses_taken</th>\n",
       "      <th>course_unit</th>\n",
       "      <th>cgpa_before</th>\n",
       "      <th>cgpa_after</th>\n",
       "      <th>cgpa_change</th>\n",
       "    </tr>\n",
       "  </thead>\n",
       "  <tbody>\n",
       "    <tr>\n",
       "      <th>0</th>\n",
       "      <td>university of lagos</td>\n",
       "      <td>400 Level</td>\n",
       "      <td>22</td>\n",
       "      <td>Male</td>\n",
       "      <td>Single</td>\n",
       "      <td>Engineering</td>\n",
       "      <td>Chemical engineering</td>\n",
       "      <td>I learned how to study better and my grades al...</td>\n",
       "      <td>Trying to remember things we were taught befor...</td>\n",
       "      <td>Worked in a role relevant to my studies</td>\n",
       "      <td>Acquired skills unrelated to course of study</td>\n",
       "      <td>Poorly</td>\n",
       "      <td>Poorly</td>\n",
       "      <td>No noticeable change</td>\n",
       "      <td>Rarely: I engaged in academic activities once ...</td>\n",
       "      <td>10</td>\n",
       "      <td>23</td>\n",
       "      <td>3.39</td>\n",
       "      <td>3.51</td>\n",
       "      <td>0.12</td>\n",
       "    </tr>\n",
       "    <tr>\n",
       "      <th>1</th>\n",
       "      <td>university of lagos</td>\n",
       "      <td>400 Level</td>\n",
       "      <td>23</td>\n",
       "      <td>Female</td>\n",
       "      <td>Single</td>\n",
       "      <td>Engineering</td>\n",
       "      <td>Chemical engineering</td>\n",
       "      <td>It affected it in a negative way as it became ...</td>\n",
       "      <td>Rekindling the student in me, lol. Trying to g...</td>\n",
       "      <td>Did not work during the strike</td>\n",
       "      <td>Acquired skills unrelated to course of study</td>\n",
       "      <td>Poorly</td>\n",
       "      <td>Moderately</td>\n",
       "      <td>No noticeable change</td>\n",
       "      <td>Rarely: I engaged in academic activities once ...</td>\n",
       "      <td>10</td>\n",
       "      <td>23</td>\n",
       "      <td>4.44</td>\n",
       "      <td>4.50</td>\n",
       "      <td>0.06</td>\n",
       "    </tr>\n",
       "  </tbody>\n",
       "</table>\n",
       "</div>"
      ],
      "text/plain": [
       "                school      level  age  gender relationship      faculty  \\\n",
       "0  university of lagos  400 Level   22    Male       Single  Engineering   \n",
       "1  university of lagos  400 Level   23  Female       Single  Engineering   \n",
       "\n",
       "             department                                      strike_effect  \\\n",
       "0  Chemical engineering  I learned how to study better and my grades al...   \n",
       "1  Chemical engineering  It affected it in a negative way as it became ...   \n",
       "\n",
       "                                           challenge  \\\n",
       "0  Trying to remember things we were taught befor...   \n",
       "1  Rekindling the student in me, lol. Trying to g...   \n",
       "\n",
       "                                      work  \\\n",
       "0  Worked in a role relevant to my studies   \n",
       "1           Did not work during the strike   \n",
       "\n",
       "                                         skills prep_before  prep_after  \\\n",
       "0  Acquired skills unrelated to course of study      Poorly      Poorly   \n",
       "1  Acquired skills unrelated to course of study      Poorly  Moderately   \n",
       "\n",
       "                lecture                                       academic_act  \\\n",
       "0  No noticeable change  Rarely: I engaged in academic activities once ...   \n",
       "1  No noticeable change  Rarely: I engaged in academic activities once ...   \n",
       "\n",
       "   courses_taken  course_unit  cgpa_before  cgpa_after  cgpa_change  \n",
       "0             10           23         3.39        3.51         0.12  \n",
       "1             10           23         4.44        4.50         0.06  "
      ]
     },
     "execution_count": 9,
     "metadata": {},
     "output_type": "execute_result"
    }
   ],
   "source": [
    "df_valid_cgpa.head(2)"
   ]
  },
  {
   "cell_type": "code",
   "execution_count": 10,
   "metadata": {},
   "outputs": [
    {
     "data": {
      "text/plain": [
       "school            0\n",
       "level             0\n",
       "age               0\n",
       "gender            0\n",
       "relationship      0\n",
       "faculty           0\n",
       "department        0\n",
       "strike_effect    60\n",
       "challenge        63\n",
       "work              0\n",
       "skills            0\n",
       "prep_before       0\n",
       "prep_after        0\n",
       "lecture           0\n",
       "academic_act      0\n",
       "courses_taken     0\n",
       "course_unit       0\n",
       "cgpa_before       0\n",
       "cgpa_after        0\n",
       "cgpa_change       0\n",
       "dtype: int64"
      ]
     },
     "execution_count": 10,
     "metadata": {},
     "output_type": "execute_result"
    }
   ],
   "source": [
    "df_valid_cgpa.isna().sum()\n",
    "\n",
    "#Why do we have missing values?"
   ]
  },
  {
   "cell_type": "markdown",
   "metadata": {},
   "source": [
    "## Removing insignificant groups"
   ]
  },
  {
   "cell_type": "code",
   "execution_count": 11,
   "metadata": {},
   "outputs": [
    {
     "data": {
      "text/html": [
       "<div>\n",
       "<style scoped>\n",
       "    .dataframe tbody tr th:only-of-type {\n",
       "        vertical-align: middle;\n",
       "    }\n",
       "\n",
       "    .dataframe tbody tr th {\n",
       "        vertical-align: top;\n",
       "    }\n",
       "\n",
       "    .dataframe thead th {\n",
       "        text-align: right;\n",
       "    }\n",
       "</style>\n",
       "<table border=\"1\" class=\"dataframe\">\n",
       "  <thead>\n",
       "    <tr style=\"text-align: right;\">\n",
       "      <th></th>\n",
       "      <th>school</th>\n",
       "      <th>level</th>\n",
       "      <th>age</th>\n",
       "      <th>gender</th>\n",
       "      <th>relationship</th>\n",
       "      <th>faculty</th>\n",
       "      <th>department</th>\n",
       "      <th>strike_effect</th>\n",
       "      <th>challenge</th>\n",
       "      <th>work</th>\n",
       "      <th>skills</th>\n",
       "      <th>prep_before</th>\n",
       "      <th>prep_after</th>\n",
       "      <th>lecture</th>\n",
       "      <th>academic_act</th>\n",
       "      <th>courses_taken</th>\n",
       "      <th>course_unit</th>\n",
       "      <th>cgpa_before</th>\n",
       "      <th>cgpa_after</th>\n",
       "      <th>cgpa_change</th>\n",
       "    </tr>\n",
       "  </thead>\n",
       "  <tbody>\n",
       "    <tr>\n",
       "      <th>61</th>\n",
       "      <td>university of lagos</td>\n",
       "      <td>100 Level</td>\n",
       "      <td>20</td>\n",
       "      <td>Male</td>\n",
       "      <td>Single</td>\n",
       "      <td>Sciences</td>\n",
       "      <td>Botany</td>\n",
       "      <td>Awan challenges yen poor gan.\\r\\nMelo melo ni ...</td>\n",
       "      <td>No money</td>\n",
       "      <td>Did not work during the strike</td>\n",
       "      <td>None of the above</td>\n",
       "      <td>Very</td>\n",
       "      <td>Poorly</td>\n",
       "      <td>Fewer lecturers attended classes</td>\n",
       "      <td>Rarely: I engaged in academic activities once ...</td>\n",
       "      <td>8</td>\n",
       "      <td>7</td>\n",
       "      <td>3.8</td>\n",
       "      <td>3.8</td>\n",
       "      <td>0.0</td>\n",
       "    </tr>\n",
       "    <tr>\n",
       "      <th>104</th>\n",
       "      <td>university of lagos</td>\n",
       "      <td>100 Level</td>\n",
       "      <td>20</td>\n",
       "      <td>Male</td>\n",
       "      <td>Single</td>\n",
       "      <td>Engineering</td>\n",
       "      <td>Electrical &amp; electronics engineering</td>\n",
       "      <td>Wasted a lot of my time</td>\n",
       "      <td>Doing a crash course to pass exams and barely ...</td>\n",
       "      <td>Did not work during the strike</td>\n",
       "      <td>Acquired skills relevant to course of study</td>\n",
       "      <td>Poorly</td>\n",
       "      <td>Poorly</td>\n",
       "      <td>No noticeable change</td>\n",
       "      <td>Rarely: I engaged in academic activities once ...</td>\n",
       "      <td>6</td>\n",
       "      <td>1</td>\n",
       "      <td>2.9</td>\n",
       "      <td>2.9</td>\n",
       "      <td>0.0</td>\n",
       "    </tr>\n",
       "  </tbody>\n",
       "</table>\n",
       "</div>"
      ],
      "text/plain": [
       "                  school      level  age gender relationship      faculty  \\\n",
       "61   university of lagos  100 Level   20   Male       Single     Sciences   \n",
       "104  university of lagos  100 Level   20   Male       Single  Engineering   \n",
       "\n",
       "                               department  \\\n",
       "61                                 Botany   \n",
       "104  Electrical & electronics engineering   \n",
       "\n",
       "                                         strike_effect  \\\n",
       "61   Awan challenges yen poor gan.\\r\\nMelo melo ni ...   \n",
       "104                            Wasted a lot of my time   \n",
       "\n",
       "                                             challenge  \\\n",
       "61                                           No money    \n",
       "104  Doing a crash course to pass exams and barely ...   \n",
       "\n",
       "                               work  \\\n",
       "61   Did not work during the strike   \n",
       "104  Did not work during the strike   \n",
       "\n",
       "                                          skills prep_before prep_after  \\\n",
       "61                             None of the above        Very     Poorly   \n",
       "104  Acquired skills relevant to course of study      Poorly     Poorly   \n",
       "\n",
       "                              lecture  \\\n",
       "61   Fewer lecturers attended classes   \n",
       "104              No noticeable change   \n",
       "\n",
       "                                          academic_act  courses_taken  \\\n",
       "61   Rarely: I engaged in academic activities once ...              8   \n",
       "104  Rarely: I engaged in academic activities once ...              6   \n",
       "\n",
       "     course_unit  cgpa_before  cgpa_after  cgpa_change  \n",
       "61             7          3.8         3.8          0.0  \n",
       "104            1          2.9         2.9          0.0  "
      ]
     },
     "execution_count": 11,
     "metadata": {},
     "output_type": "execute_result"
    }
   ],
   "source": [
    "df_valid_cgpa[(df_valid_cgpa['level'] == '100 Level')]"
   ]
  },
  {
   "cell_type": "markdown",
   "metadata": {},
   "source": [
    "We would have to filter those with 100 level and the likes out"
   ]
  },
  {
   "cell_type": "code",
   "execution_count": 12,
   "metadata": {},
   "outputs": [
    {
     "data": {
      "text/plain": [
       "array(['400 Level', '300 Level', '200 Level', '500 Level'], dtype=object)"
      ]
     },
     "execution_count": 12,
     "metadata": {},
     "output_type": "execute_result"
    }
   ],
   "source": [
    "# Dropping out-of-scope levels\n",
    "df_valid_cgpa = df_valid_cgpa[~((df_valid_cgpa['level']=='600 Level') | (df_valid_cgpa['level']=='Masters Program') | (df_valid_cgpa['level']=='Postgraduate Diploma') | (df_valid_cgpa['level']=='100 Level'))]\n",
    "df_valid_cgpa.level.unique()                                                                  "
   ]
  },
  {
   "cell_type": "code",
   "execution_count": 13,
   "metadata": {},
   "outputs": [],
   "source": [
    "# Removing outlier row.\n",
    "df_valid_cgpa = df_valid_cgpa[~(df_valid_cgpa['cgpa_change']==3.2)]"
   ]
  },
  {
   "cell_type": "markdown",
   "metadata": {},
   "source": [
    "# Academic Level                                                                           "
   ]
  },
  {
   "cell_type": "markdown",
   "metadata": {},
   "source": [
    "Feature: Academic Level\n",
    "\n",
    "Null Hypothesis: There is no difference in the average cgpa change across academic levels.\n",
    "\n",
    "Alternative Hypothesis: The Average cgpa change varies across academic levels.\n",
    "\n",
    "Test Type: Two Tailed Test\n",
    "\n",
    "Statistical Test: One Way ANOVA Test\n",
    "\n",
    "Significance Level: 0.05\n",
    "\n",
    "ANOVA Test Assumptions:\n",
    "1. The samples are independent.\n",
    "2. Each sample is from a normally distributed population.\n",
    "3. The population standard deviations of the groups are all equal. This property is known as homoscedasticity."
   ]
  },
  {
   "cell_type": "markdown",
   "metadata": {},
   "source": [
    "## Confirming Assumptions "
   ]
  },
  {
   "cell_type": "code",
   "execution_count": 14,
   "metadata": {},
   "outputs": [
    {
     "name": "stdout",
     "output_type": "stream",
     "text": [
      "The given data passes both tests of homoscedasticity and normality.\n"
     ]
    }
   ],
   "source": [
    "level_anova_assumptions = anova_assumptions_test(feature='level', target='cgpa_change', df=df_valid_cgpa)\n",
    "print(level_anova_assumptions)"
   ]
  },
  {
   "cell_type": "markdown",
   "metadata": {},
   "source": [
    "## Hypothesis Testing on Academic Levels                                                                         "
   ]
  },
  {
   "cell_type": "code",
   "execution_count": 15,
   "metadata": {},
   "outputs": [
    {
     "data": {
      "text/plain": [
       "'ANOVA F-statistic:\", 4.184646206134625, \"ANOVA p-value:\", 0.006365008572911084'"
      ]
     },
     "execution_count": 15,
     "metadata": {},
     "output_type": "execute_result"
    }
   ],
   "source": [
    "level_hypothesis_test = perform_one_way_anova(feature='level', target='cgpa_change', df=df_valid_cgpa)\n",
    "level_hypothesis_test  "
   ]
  },
  {
   "cell_type": "markdown",
   "metadata": {},
   "source": [
    "The p-value score of 0.0064 is less than the significance level of 0.05 this means that we reject the null hypothesis\n",
    "\n",
    "**There is a significant difference between the average cgpa change across the different academic levels**                                                                     "
   ]
  },
  {
   "cell_type": "markdown",
   "metadata": {},
   "source": [
    "## Interpreting the difference"
   ]
  },
  {
   "cell_type": "markdown",
   "metadata": {},
   "source": [
    "While we've confirmed that a significant difference exist among the academic levels. The test carried out tells us nothing about the nature of this difference. To understand this difference, we can carry out post hoc tests to determine which specific pairs or groups differ significantly from the rest.                               "
   ]
  },
  {
   "cell_type": "code",
   "execution_count": 16,
   "metadata": {},
   "outputs": [
    {
     "data": {
      "image/png": "[encoded data removed]",
      "text/plain": [
       "<Figure size 617.143x360 with 1 Axes>"
      ]
     },
     "metadata": {},
     "output_type": "display_data"
    }
   ],
   "source": [
    "# Visualizing the difference\n",
    "sns.catplot(\n",
    "    kind='box',\n",
    "    data=df_valid_cgpa,\n",
    "    x='cgpa_change',\n",
    "    y='level',\n",
    "    aspect=12/7\n",
    ")\n",
    "plt.axvline(df_valid_cgpa.cgpa_change.mean(),color='red',label='Population CGPA Average')      \n",
    "plt.legend(loc='upper right')                                                                           \n",
    "plt.title('Boxplot of CGPA Change Split By Level');"
   ]
  },
  {
   "cell_type": "code",
   "execution_count": 17,
   "metadata": {},
   "outputs": [
    {
     "name": "stdout",
     "output_type": "stream",
     "text": [
      "   Multiple Comparison of Means - Tukey HSD, FWER=0.05   \n",
      "=========================================================\n",
      "  group1    group2  meandiff p-adj   lower  upper  reject\n",
      "---------------------------------------------------------\n",
      "200 Level 300 Level   0.1607 0.0125  0.0254  0.296   True\n",
      "200 Level 400 Level   0.1299 0.1082 -0.0181  0.278  False\n",
      "200 Level 500 Level   0.2355 0.0539 -0.0026 0.4737  False\n",
      "300 Level 400 Level  -0.0308 0.9429 -0.1721 0.1105  False\n",
      "300 Level 500 Level   0.0748 0.8423 -0.1592 0.3088  False\n",
      "400 Level 500 Level   0.1056  0.672  -0.136 0.3472  False\n",
      "---------------------------------------------------------\n"
     ]
    }
   ],
   "source": [
    "# Investigating pairwise differences                                                                                 \n",
    "level_tukey_results = perform_pairwise_tukeyhsd(feature='level', target='cgpa_change', df=df_valid_cgpa)\n",
    "level_tukey_results"
   ]
  },
  {
   "cell_type": "markdown",
   "metadata": {},
   "source": [
    "We can conclude from the reject column that there is a significant difference between the means of those in 200 and 300 level but no significant difference between any other group. This is supported visually. 200 level has the lowest 2nd quartile and 300 level has the highest 3 quartile. \n",
    "\n",
    "**The cgpa change of the 300 level students is significantly more than the cgpa change of 200 level students**"
   ]
  },
  {
   "cell_type": "markdown",
   "metadata": {},
   "source": [
    "# Faculty"
   ]
  },
  {
   "cell_type": "markdown",
   "metadata": {},
   "source": [
    "Feature: Faculty\n",
    "\n",
    "Null Hypothesis: There is no difference in the average cgpa change across Faculty.\n",
    "\n",
    "Alternative Hypothesis: The Average cgpa change varies across Faculty.\n",
    "\n",
    "Test Type: Two Tailed Test\n",
    "\n",
    "Statistical Test: One Way ANOVA Test\n",
    "\n",
    "Significance Level: 0.05\n",
    "\n",
    "ANOVA Test Assumptions:\n",
    "1. The samples are independent.\n",
    "2. Each sample is from a normally distributed population.\n",
    "3. The population standard deviations of the groups are all equal. This property is known as homoscedasticity."
   ]
  },
  {
   "cell_type": "markdown",
   "metadata": {},
   "source": [
    "## Confirming Assumptions "
   ]
  },
  {
   "cell_type": "code",
   "execution_count": 18,
   "metadata": {},
   "outputs": [
    {
     "name": "stdout",
     "output_type": "stream",
     "text": [
      "The given data passes the test of normality but fails the test of homoscedasticity.\n"
     ]
    }
   ],
   "source": [
    "faculty_anova_assumptions = anova_assumptions_test(feature='faculty', target='cgpa_change', df=df_valid_cgpa)\n",
    "print(faculty_anova_assumptions)"
   ]
  },
  {
   "cell_type": "markdown",
   "metadata": {},
   "source": [
    "This feature fails homoscandesity test. We cannot use the Anova test to test the Hypothesis.\n",
    "\n",
    "**We will use the Kruskal Willis Test.**\n",
    "                                                       "
   ]
  },
  {
   "cell_type": "markdown",
   "metadata": {},
   "source": [
    "## Hypothesis Testing on Faculty                                                                         "
   ]
  },
  {
   "cell_type": "code",
   "execution_count": 19,
   "metadata": {},
   "outputs": [
    {
     "data": {
      "text/plain": [
       "'Kruskal-Wallis Test statistic:, 17.846018573361583, Kruskal-Wallis Test p-value:, 0.03700261022840909'"
      ]
     },
     "execution_count": 19,
     "metadata": {},
     "output_type": "execute_result"
    }
   ],
   "source": [
    "faculty_hypothesis_test = perform_kruskal_willis_test(feature='faculty', target='cgpa_change', df=df_valid_cgpa,min_count=5)\n",
    "faculty_hypothesis_test  "
   ]
  },
  {
   "cell_type": "markdown",
   "metadata": {},
   "source": [
    "The p-value score of 0.037 is less than the significance level of 0.05 this means that we reject the null hypothesis\n",
    "\n",
    "**There is a significant difference between the average cgpa change across the different faculties**"
   ]
  },
  {
   "cell_type": "markdown",
   "metadata": {},
   "source": [
    "## Interpreting the difference"
   ]
  },
  {
   "cell_type": "code",
   "execution_count": 20,
   "metadata": {},
   "outputs": [
    {
     "data": {
      "image/png": "[encoded data removed]",
      "text/plain": [
       "<Figure size 617.143x360 with 1 Axes>"
      ]
     },
     "metadata": {},
     "output_type": "display_data"
    }
   ],
   "source": [
    "# Visualizing the difference\n",
    "sns.catplot(\n",
    "    kind='box',\n",
    "    data=df_valid_cgpa,\n",
    "    x='cgpa_change',\n",
    "    y='faculty',\n",
    "    aspect=12/7\n",
    ")\n",
    "plt.axvline(df_valid_cgpa.cgpa_change.mean(),color='red',label='Population CGPA Average')      \n",
    "plt.legend(loc='upper right')                                                                           \n",
    "plt.title('Boxplot of CGPA Change Split By Faculties');"
   ]
  },
  {
   "cell_type": "code",
   "execution_count": 21,
   "metadata": {},
   "outputs": [
    {
     "data": {
      "text/html": [
       "<div>\n",
       "<style scoped>\n",
       "    .dataframe tbody tr th:only-of-type {\n",
       "        vertical-align: middle;\n",
       "    }\n",
       "\n",
       "    .dataframe tbody tr th {\n",
       "        vertical-align: top;\n",
       "    }\n",
       "\n",
       "    .dataframe thead th {\n",
       "        text-align: right;\n",
       "    }\n",
       "</style>\n",
       "<table border=\"1\" class=\"dataframe\">\n",
       "  <thead>\n",
       "    <tr style=\"text-align: right;\">\n",
       "      <th></th>\n",
       "      <th>AGRICULTURE</th>\n",
       "      <th>Arts</th>\n",
       "      <th>Basic Medical Sciences</th>\n",
       "      <th>Clinical Sciences</th>\n",
       "      <th>Dental Sciences</th>\n",
       "      <th>Education</th>\n",
       "      <th>Engineering</th>\n",
       "      <th>Environmental Sciences</th>\n",
       "      <th>Law</th>\n",
       "      <th>Management Science</th>\n",
       "      <th>Pharmacy</th>\n",
       "      <th>Physical sciences</th>\n",
       "      <th>Sciences</th>\n",
       "      <th>Social Sciences</th>\n",
       "    </tr>\n",
       "  </thead>\n",
       "  <tbody>\n",
       "    <tr>\n",
       "      <th>AGRICULTURE</th>\n",
       "      <td>1.0</td>\n",
       "      <td>1.0</td>\n",
       "      <td>1.0</td>\n",
       "      <td>1.0</td>\n",
       "      <td>1.0</td>\n",
       "      <td>1.0</td>\n",
       "      <td>1.0</td>\n",
       "      <td>1.000000</td>\n",
       "      <td>1.0</td>\n",
       "      <td>1.0</td>\n",
       "      <td>1.0</td>\n",
       "      <td>1.0</td>\n",
       "      <td>1.000000</td>\n",
       "      <td>1.000000</td>\n",
       "    </tr>\n",
       "    <tr>\n",
       "      <th>Arts</th>\n",
       "      <td>1.0</td>\n",
       "      <td>1.0</td>\n",
       "      <td>1.0</td>\n",
       "      <td>1.0</td>\n",
       "      <td>1.0</td>\n",
       "      <td>1.0</td>\n",
       "      <td>1.0</td>\n",
       "      <td>1.000000</td>\n",
       "      <td>1.0</td>\n",
       "      <td>1.0</td>\n",
       "      <td>1.0</td>\n",
       "      <td>1.0</td>\n",
       "      <td>1.000000</td>\n",
       "      <td>1.000000</td>\n",
       "    </tr>\n",
       "    <tr>\n",
       "      <th>Basic Medical Sciences</th>\n",
       "      <td>1.0</td>\n",
       "      <td>1.0</td>\n",
       "      <td>1.0</td>\n",
       "      <td>1.0</td>\n",
       "      <td>1.0</td>\n",
       "      <td>1.0</td>\n",
       "      <td>1.0</td>\n",
       "      <td>1.000000</td>\n",
       "      <td>1.0</td>\n",
       "      <td>1.0</td>\n",
       "      <td>1.0</td>\n",
       "      <td>1.0</td>\n",
       "      <td>1.000000</td>\n",
       "      <td>1.000000</td>\n",
       "    </tr>\n",
       "    <tr>\n",
       "      <th>Clinical Sciences</th>\n",
       "      <td>1.0</td>\n",
       "      <td>1.0</td>\n",
       "      <td>1.0</td>\n",
       "      <td>1.0</td>\n",
       "      <td>1.0</td>\n",
       "      <td>1.0</td>\n",
       "      <td>1.0</td>\n",
       "      <td>1.000000</td>\n",
       "      <td>1.0</td>\n",
       "      <td>1.0</td>\n",
       "      <td>1.0</td>\n",
       "      <td>1.0</td>\n",
       "      <td>1.000000</td>\n",
       "      <td>1.000000</td>\n",
       "    </tr>\n",
       "    <tr>\n",
       "      <th>Dental Sciences</th>\n",
       "      <td>1.0</td>\n",
       "      <td>1.0</td>\n",
       "      <td>1.0</td>\n",
       "      <td>1.0</td>\n",
       "      <td>1.0</td>\n",
       "      <td>1.0</td>\n",
       "      <td>1.0</td>\n",
       "      <td>1.000000</td>\n",
       "      <td>1.0</td>\n",
       "      <td>1.0</td>\n",
       "      <td>1.0</td>\n",
       "      <td>1.0</td>\n",
       "      <td>1.000000</td>\n",
       "      <td>1.000000</td>\n",
       "    </tr>\n",
       "    <tr>\n",
       "      <th>Education</th>\n",
       "      <td>1.0</td>\n",
       "      <td>1.0</td>\n",
       "      <td>1.0</td>\n",
       "      <td>1.0</td>\n",
       "      <td>1.0</td>\n",
       "      <td>1.0</td>\n",
       "      <td>1.0</td>\n",
       "      <td>1.000000</td>\n",
       "      <td>1.0</td>\n",
       "      <td>1.0</td>\n",
       "      <td>1.0</td>\n",
       "      <td>1.0</td>\n",
       "      <td>1.000000</td>\n",
       "      <td>1.000000</td>\n",
       "    </tr>\n",
       "    <tr>\n",
       "      <th>Engineering</th>\n",
       "      <td>1.0</td>\n",
       "      <td>1.0</td>\n",
       "      <td>1.0</td>\n",
       "      <td>1.0</td>\n",
       "      <td>1.0</td>\n",
       "      <td>1.0</td>\n",
       "      <td>1.0</td>\n",
       "      <td>1.000000</td>\n",
       "      <td>1.0</td>\n",
       "      <td>1.0</td>\n",
       "      <td>1.0</td>\n",
       "      <td>1.0</td>\n",
       "      <td>1.000000</td>\n",
       "      <td>1.000000</td>\n",
       "    </tr>\n",
       "    <tr>\n",
       "      <th>Environmental Sciences</th>\n",
       "      <td>1.0</td>\n",
       "      <td>1.0</td>\n",
       "      <td>1.0</td>\n",
       "      <td>1.0</td>\n",
       "      <td>1.0</td>\n",
       "      <td>1.0</td>\n",
       "      <td>1.0</td>\n",
       "      <td>1.000000</td>\n",
       "      <td>1.0</td>\n",
       "      <td>1.0</td>\n",
       "      <td>1.0</td>\n",
       "      <td>1.0</td>\n",
       "      <td>1.000000</td>\n",
       "      <td>0.074117</td>\n",
       "    </tr>\n",
       "    <tr>\n",
       "      <th>Law</th>\n",
       "      <td>1.0</td>\n",
       "      <td>1.0</td>\n",
       "      <td>1.0</td>\n",
       "      <td>1.0</td>\n",
       "      <td>1.0</td>\n",
       "      <td>1.0</td>\n",
       "      <td>1.0</td>\n",
       "      <td>1.000000</td>\n",
       "      <td>1.0</td>\n",
       "      <td>1.0</td>\n",
       "      <td>1.0</td>\n",
       "      <td>1.0</td>\n",
       "      <td>1.000000</td>\n",
       "      <td>1.000000</td>\n",
       "    </tr>\n",
       "    <tr>\n",
       "      <th>Management Science</th>\n",
       "      <td>1.0</td>\n",
       "      <td>1.0</td>\n",
       "      <td>1.0</td>\n",
       "      <td>1.0</td>\n",
       "      <td>1.0</td>\n",
       "      <td>1.0</td>\n",
       "      <td>1.0</td>\n",
       "      <td>1.000000</td>\n",
       "      <td>1.0</td>\n",
       "      <td>1.0</td>\n",
       "      <td>1.0</td>\n",
       "      <td>1.0</td>\n",
       "      <td>1.000000</td>\n",
       "      <td>1.000000</td>\n",
       "    </tr>\n",
       "    <tr>\n",
       "      <th>Pharmacy</th>\n",
       "      <td>1.0</td>\n",
       "      <td>1.0</td>\n",
       "      <td>1.0</td>\n",
       "      <td>1.0</td>\n",
       "      <td>1.0</td>\n",
       "      <td>1.0</td>\n",
       "      <td>1.0</td>\n",
       "      <td>1.000000</td>\n",
       "      <td>1.0</td>\n",
       "      <td>1.0</td>\n",
       "      <td>1.0</td>\n",
       "      <td>1.0</td>\n",
       "      <td>1.000000</td>\n",
       "      <td>1.000000</td>\n",
       "    </tr>\n",
       "    <tr>\n",
       "      <th>Physical sciences</th>\n",
       "      <td>1.0</td>\n",
       "      <td>1.0</td>\n",
       "      <td>1.0</td>\n",
       "      <td>1.0</td>\n",
       "      <td>1.0</td>\n",
       "      <td>1.0</td>\n",
       "      <td>1.0</td>\n",
       "      <td>1.000000</td>\n",
       "      <td>1.0</td>\n",
       "      <td>1.0</td>\n",
       "      <td>1.0</td>\n",
       "      <td>1.0</td>\n",
       "      <td>1.000000</td>\n",
       "      <td>1.000000</td>\n",
       "    </tr>\n",
       "    <tr>\n",
       "      <th>Sciences</th>\n",
       "      <td>1.0</td>\n",
       "      <td>1.0</td>\n",
       "      <td>1.0</td>\n",
       "      <td>1.0</td>\n",
       "      <td>1.0</td>\n",
       "      <td>1.0</td>\n",
       "      <td>1.0</td>\n",
       "      <td>1.000000</td>\n",
       "      <td>1.0</td>\n",
       "      <td>1.0</td>\n",
       "      <td>1.0</td>\n",
       "      <td>1.0</td>\n",
       "      <td>1.000000</td>\n",
       "      <td>0.095092</td>\n",
       "    </tr>\n",
       "    <tr>\n",
       "      <th>Social Sciences</th>\n",
       "      <td>1.0</td>\n",
       "      <td>1.0</td>\n",
       "      <td>1.0</td>\n",
       "      <td>1.0</td>\n",
       "      <td>1.0</td>\n",
       "      <td>1.0</td>\n",
       "      <td>1.0</td>\n",
       "      <td>0.074117</td>\n",
       "      <td>1.0</td>\n",
       "      <td>1.0</td>\n",
       "      <td>1.0</td>\n",
       "      <td>1.0</td>\n",
       "      <td>0.095092</td>\n",
       "      <td>1.000000</td>\n",
       "    </tr>\n",
       "  </tbody>\n",
       "</table>\n",
       "</div>"
      ],
      "text/plain": [
       "                        AGRICULTURE   Arts  Basic Medical Sciences  \\\n",
       "AGRICULTURE                      1.0   1.0                     1.0   \n",
       "Arts                             1.0   1.0                     1.0   \n",
       "Basic Medical Sciences           1.0   1.0                     1.0   \n",
       "Clinical Sciences                1.0   1.0                     1.0   \n",
       "Dental Sciences                  1.0   1.0                     1.0   \n",
       "Education                        1.0   1.0                     1.0   \n",
       "Engineering                      1.0   1.0                     1.0   \n",
       "Environmental Sciences           1.0   1.0                     1.0   \n",
       "Law                              1.0   1.0                     1.0   \n",
       "Management Science               1.0   1.0                     1.0   \n",
       "Pharmacy                         1.0   1.0                     1.0   \n",
       "Physical sciences                1.0   1.0                     1.0   \n",
       "Sciences                         1.0   1.0                     1.0   \n",
       "Social Sciences                  1.0   1.0                     1.0   \n",
       "\n",
       "                        Clinical Sciences  Dental Sciences  Education  \\\n",
       "AGRICULTURE                           1.0              1.0        1.0   \n",
       "Arts                                  1.0              1.0        1.0   \n",
       "Basic Medical Sciences                1.0              1.0        1.0   \n",
       "Clinical Sciences                     1.0              1.0        1.0   \n",
       "Dental Sciences                       1.0              1.0        1.0   \n",
       "Education                             1.0              1.0        1.0   \n",
       "Engineering                           1.0              1.0        1.0   \n",
       "Environmental Sciences                1.0              1.0        1.0   \n",
       "Law                                   1.0              1.0        1.0   \n",
       "Management Science                    1.0              1.0        1.0   \n",
       "Pharmacy                              1.0              1.0        1.0   \n",
       "Physical sciences                     1.0              1.0        1.0   \n",
       "Sciences                              1.0              1.0        1.0   \n",
       "Social Sciences                       1.0              1.0        1.0   \n",
       "\n",
       "                        Engineering  Environmental Sciences  Law  \\\n",
       "AGRICULTURE                     1.0                1.000000  1.0   \n",
       "Arts                            1.0                1.000000  1.0   \n",
       "Basic Medical Sciences          1.0                1.000000  1.0   \n",
       "Clinical Sciences               1.0                1.000000  1.0   \n",
       "Dental Sciences                 1.0                1.000000  1.0   \n",
       "Education                       1.0                1.000000  1.0   \n",
       "Engineering                     1.0                1.000000  1.0   \n",
       "Environmental Sciences          1.0                1.000000  1.0   \n",
       "Law                             1.0                1.000000  1.0   \n",
       "Management Science              1.0                1.000000  1.0   \n",
       "Pharmacy                        1.0                1.000000  1.0   \n",
       "Physical sciences               1.0                1.000000  1.0   \n",
       "Sciences                        1.0                1.000000  1.0   \n",
       "Social Sciences                 1.0                0.074117  1.0   \n",
       "\n",
       "                        Management Science  Pharmacy  Physical sciences  \\\n",
       "AGRICULTURE                            1.0       1.0                1.0   \n",
       "Arts                                   1.0       1.0                1.0   \n",
       "Basic Medical Sciences                 1.0       1.0                1.0   \n",
       "Clinical Sciences                      1.0       1.0                1.0   \n",
       "Dental Sciences                        1.0       1.0                1.0   \n",
       "Education                              1.0       1.0                1.0   \n",
       "Engineering                            1.0       1.0                1.0   \n",
       "Environmental Sciences                 1.0       1.0                1.0   \n",
       "Law                                    1.0       1.0                1.0   \n",
       "Management Science                     1.0       1.0                1.0   \n",
       "Pharmacy                               1.0       1.0                1.0   \n",
       "Physical sciences                      1.0       1.0                1.0   \n",
       "Sciences                               1.0       1.0                1.0   \n",
       "Social Sciences                        1.0       1.0                1.0   \n",
       "\n",
       "                        Sciences  Social Sciences  \n",
       "AGRICULTURE             1.000000         1.000000  \n",
       "Arts                    1.000000         1.000000  \n",
       "Basic Medical Sciences  1.000000         1.000000  \n",
       "Clinical Sciences       1.000000         1.000000  \n",
       "Dental Sciences         1.000000         1.000000  \n",
       "Education               1.000000         1.000000  \n",
       "Engineering             1.000000         1.000000  \n",
       "Environmental Sciences  1.000000         0.074117  \n",
       "Law                     1.000000         1.000000  \n",
       "Management Science      1.000000         1.000000  \n",
       "Pharmacy                1.000000         1.000000  \n",
       "Physical sciences       1.000000         1.000000  \n",
       "Sciences                1.000000         0.095092  \n",
       "Social Sciences         0.095092         1.000000  "
      ]
     },
     "execution_count": 21,
     "metadata": {},
     "output_type": "execute_result"
    }
   ],
   "source": [
    "# Investigating pairwise differences      \n",
    "dunn_result=sp.posthoc_dunn(df_valid_cgpa,val_col='cgpa_change',group_col='faculty',p_adjust='holm')\n",
    "dunn_result"
   ]
  },
  {
   "cell_type": "markdown",
   "metadata": {},
   "source": [
    "## RESOLUTION"
   ]
  },
  {
   "cell_type": "markdown",
   "metadata": {},
   "source": [
    "Results are inconclusive. The hypothesis test and post hoc analysis directly contradict each other. Asides what's displayed on the notebook, I also tried different combinations of two more statistical testing methods (ANOVA and Tukey_usd) to similar results.                                              "
   ]
  },
  {
   "cell_type": "markdown",
   "metadata": {},
   "source": [
    "# Age"
   ]
  },
  {
   "cell_type": "markdown",
   "metadata": {},
   "source": [
    "Feature: Age\n",
    "\n",
    "Null Hypothesis: There is no significant difference in the cgpa of students older and younger than 21.\n",
    "\n",
    "Alternative Hypothesis: There is a significant difference in the cgpa of students older and younger than 21.\n",
    "\n",
    "Test Type: Two Tailed Test\n",
    "\n",
    "Statistical Test: One Way ANOVA Test\n",
    "\n",
    "Significance Level: 0.05\n",
    "\n",
    "ANOVA Test Assumptions:\n",
    "1. The samples are independent.\n",
    "2. Each sample is from a normally distributed population.\n",
    "3. The population standard deviations of the groups are all equal. This property is known as homoscedasticity."
   ]
  },
  {
   "cell_type": "markdown",
   "metadata": {},
   "source": [
    "## Preprocessing"
   ]
  },
  {
   "cell_type": "code",
   "execution_count": 22,
   "metadata": {},
   "outputs": [],
   "source": [
    "def age_cat(row):\n",
    "    if row <= 21:\n",
    "        return 'Less Than 21'\n",
    "    else:\n",
    "        return 'Older Than 21' \n",
    "    \n",
    "df_valid_cgpa_temporary = df_valid_cgpa.copy()\n",
    "df_valid_cgpa_temporary['age_cat'] = df_valid_cgpa.age.apply(age_cat)"
   ]
  },
  {
   "cell_type": "code",
   "execution_count": 23,
   "metadata": {},
   "outputs": [
    {
     "data": {
      "text/html": [
       "<div>\n",
       "<style scoped>\n",
       "    .dataframe tbody tr th:only-of-type {\n",
       "        vertical-align: middle;\n",
       "    }\n",
       "\n",
       "    .dataframe tbody tr th {\n",
       "        vertical-align: top;\n",
       "    }\n",
       "\n",
       "    .dataframe thead th {\n",
       "        text-align: right;\n",
       "    }\n",
       "</style>\n",
       "<table border=\"1\" class=\"dataframe\">\n",
       "  <thead>\n",
       "    <tr style=\"text-align: right;\">\n",
       "      <th></th>\n",
       "      <th>school</th>\n",
       "      <th>level</th>\n",
       "      <th>age</th>\n",
       "      <th>gender</th>\n",
       "      <th>relationship</th>\n",
       "      <th>faculty</th>\n",
       "      <th>department</th>\n",
       "      <th>strike_effect</th>\n",
       "      <th>challenge</th>\n",
       "      <th>work</th>\n",
       "      <th>...</th>\n",
       "      <th>prep_before</th>\n",
       "      <th>prep_after</th>\n",
       "      <th>lecture</th>\n",
       "      <th>academic_act</th>\n",
       "      <th>courses_taken</th>\n",
       "      <th>course_unit</th>\n",
       "      <th>cgpa_before</th>\n",
       "      <th>cgpa_after</th>\n",
       "      <th>cgpa_change</th>\n",
       "      <th>age_cat</th>\n",
       "    </tr>\n",
       "  </thead>\n",
       "  <tbody>\n",
       "    <tr>\n",
       "      <th>0</th>\n",
       "      <td>university of lagos</td>\n",
       "      <td>400 Level</td>\n",
       "      <td>22</td>\n",
       "      <td>Male</td>\n",
       "      <td>Single</td>\n",
       "      <td>Engineering</td>\n",
       "      <td>Chemical engineering</td>\n",
       "      <td>I learned how to study better and my grades al...</td>\n",
       "      <td>Trying to remember things we were taught befor...</td>\n",
       "      <td>Worked in a role relevant to my studies</td>\n",
       "      <td>...</td>\n",
       "      <td>Poorly</td>\n",
       "      <td>Poorly</td>\n",
       "      <td>No noticeable change</td>\n",
       "      <td>Rarely: I engaged in academic activities once ...</td>\n",
       "      <td>10</td>\n",
       "      <td>23</td>\n",
       "      <td>3.39</td>\n",
       "      <td>3.51</td>\n",
       "      <td>0.12</td>\n",
       "      <td>Older Than 21</td>\n",
       "    </tr>\n",
       "  </tbody>\n",
       "</table>\n",
       "<p>1 rows × 21 columns</p>\n",
       "</div>"
      ],
      "text/plain": [
       "                school      level  age gender relationship      faculty  \\\n",
       "0  university of lagos  400 Level   22   Male       Single  Engineering   \n",
       "\n",
       "             department                                      strike_effect  \\\n",
       "0  Chemical engineering  I learned how to study better and my grades al...   \n",
       "\n",
       "                                           challenge  \\\n",
       "0  Trying to remember things we were taught befor...   \n",
       "\n",
       "                                      work  ... prep_before prep_after  \\\n",
       "0  Worked in a role relevant to my studies  ...      Poorly     Poorly   \n",
       "\n",
       "                lecture                                       academic_act  \\\n",
       "0  No noticeable change  Rarely: I engaged in academic activities once ...   \n",
       "\n",
       "  courses_taken  course_unit  cgpa_before  cgpa_after  cgpa_change  \\\n",
       "0            10           23         3.39        3.51         0.12   \n",
       "\n",
       "         age_cat  \n",
       "0  Older Than 21  \n",
       "\n",
       "[1 rows x 21 columns]"
      ]
     },
     "execution_count": 23,
     "metadata": {},
     "output_type": "execute_result"
    }
   ],
   "source": [
    "df_valid_cgpa_temporary.head(1)"
   ]
  },
  {
   "cell_type": "code",
   "execution_count": 24,
   "metadata": {},
   "outputs": [
    {
     "data": {
      "text/plain": [
       "array(['Older Than 21', 'Less Than 21'], dtype=object)"
      ]
     },
     "execution_count": 24,
     "metadata": {},
     "output_type": "execute_result"
    }
   ],
   "source": [
    "df_valid_cgpa_temporary.age_cat.unique()"
   ]
  },
  {
   "cell_type": "markdown",
   "metadata": {},
   "source": [
    "## Confirming Assumptions "
   ]
  },
  {
   "cell_type": "code",
   "execution_count": 25,
   "metadata": {},
   "outputs": [
    {
     "name": "stdout",
     "output_type": "stream",
     "text": [
      "The given data passes both tests of homoscedasticity and normality.\n"
     ]
    }
   ],
   "source": [
    "age_anova_assumptions = anova_assumptions_test(feature='age_cat', target='cgpa_change', df=df_valid_cgpa_temporary)\n",
    "print(age_anova_assumptions)"
   ]
  },
  {
   "cell_type": "markdown",
   "metadata": {},
   "source": [
    "## Hypothesis Testing on Age                                                         "
   ]
  },
  {
   "cell_type": "code",
   "execution_count": 26,
   "metadata": {},
   "outputs": [
    {
     "data": {
      "text/plain": [
       "'ANOVA F-statistic:\", 0.13957190912191791, \"ANOVA p-value:\", 0.7089682217418058'"
      ]
     },
     "execution_count": 26,
     "metadata": {},
     "output_type": "execute_result"
    }
   ],
   "source": [
    "age_hypothesis_test = perform_one_way_anova(feature='age_cat', target='cgpa_change', df=df_valid_cgpa_temporary)\n",
    "age_hypothesis_test  "
   ]
  },
  {
   "cell_type": "markdown",
   "metadata": {},
   "source": [
    "The p-value score of 0.709 is more than the significance level of 0.05 this means that we fail to reject the null hypothesis\n",
    "\n",
    "**There is no significant difference between the average cgpa change across the different age classes**"
   ]
  },
  {
   "cell_type": "markdown",
   "metadata": {},
   "source": [
    "## Interpreting the results"
   ]
  },
  {
   "cell_type": "code",
   "execution_count": 27,
   "metadata": {},
   "outputs": [
    {
     "name": "stderr",
     "output_type": "stream",
     "text": [
      "*c* argument looks like a single numeric RGB or RGBA sequence, which should be avoided as value-mapping will have precedence in case its length matches with *x* & *y*.  Please use the *color* keyword-argument or provide a 2D array with a single row if you intend to specify the same RGB or RGBA value for all points.\n"
     ]
    },
    {
     "data": {
      "text/plain": [
       "<matplotlib.legend.Legend at 0x23ef8ac7f40>"
      ]
     },
     "execution_count": 27,
     "metadata": {},
     "output_type": "execute_result"
    },
    {
     "data": {
      "image/png": "[encoded data removed]",
      "text/plain": [
       "<Figure size 432x288 with 1 Axes>"
      ]
     },
     "metadata": {},
     "output_type": "display_data"
    }
   ],
   "source": [
    "df_valid_cgpa.plot(kind='scatter',x='age',y='cgpa_change',title='Scatter Plot of CGPA Change vs Student Age')\n",
    "plt.axvline(21.5,color='red',label='age split')\n",
    "plt.axhline(df_valid_cgpa.cgpa_change.mean(),color='red', label='Average cgpa change')\n",
    "plt.legend()"
   ]
  },
  {
   "cell_type": "code",
   "execution_count": 28,
   "metadata": {
    "scrolled": false
   },
   "outputs": [
    {
     "data": {
      "image/png": "[encoded data removed]",
      "text/plain": [
       "<Figure size 617.143x360 with 1 Axes>"
      ]
     },
     "metadata": {},
     "output_type": "display_data"
    }
   ],
   "source": [
    "# Visualizing the difference\n",
    "sns.catplot(\n",
    "    kind='box',\n",
    "    data=df_valid_cgpa_temporary,\n",
    "    x='cgpa_change',\n",
    "    y='age_cat',\n",
    "    aspect=12/7\n",
    ")\n",
    "plt.axvline(df_valid_cgpa.cgpa_change.mean(),color='red',label='Population CGPA Average')      \n",
    "plt.legend(loc='upper right')                                                                           \n",
    "plt.title('Boxplot of CGPA Change Split By Age Class');"
   ]
  },
  {
   "cell_type": "code",
   "execution_count": 29,
   "metadata": {},
   "outputs": [
    {
     "data": {
      "image/png": "[encoded data removed]",
      "text/plain": [
       "<Figure size 617.143x720 with 2 Axes>"
      ]
     },
     "metadata": {},
     "output_type": "display_data"
    }
   ],
   "source": [
    "generate_subplots(df_valid_cgpa_temporary, x_col='cgpa_change', row_col='age_cat')"
   ]
  },
  {
   "cell_type": "code",
   "execution_count": 30,
   "metadata": {},
   "outputs": [],
   "source": [
    "\n",
    "# g = sns.displot(\n",
    "#     kind='hist',\n",
    "#     data=df_valid_cgpa_temporary,\n",
    "#     x='cgpa_change',\n",
    "#     col='age_cat',\n",
    "#     aspect=12/7\n",
    "# )\n",
    "\n",
    "# population_cgpa_average = df_valid_cgpa['cgpa_change'].mean()\n",
    "\n",
    "\n",
    "# subplot_titles = ['Age Category: Older than 21', 'Age Category: Less than 21']\n",
    "\n",
    "# # Loop through each subplot, add the red line, and set the title\n",
    "# for idx, ax in enumerate(g.axes.flat):\n",
    "#     ax.axvline(population_cgpa_average, color='red', label='Population CGPA Average')\n",
    "#     ax.legend(loc='upper right')\n",
    "#     ax.set_title(subplot_titles[idx])  # Set the title based on the index\n",
    "\n",
    "    \n",
    "# plt.show()"
   ]
  },
  {
   "cell_type": "markdown",
   "metadata": {},
   "source": [
    "The Boxplot and Histogram both confirm that the change in CGPA is independent of age class.                                                                    "
   ]
  },
  {
   "cell_type": "markdown",
   "metadata": {},
   "source": [
    "# Gender"
   ]
  },
  {
   "cell_type": "markdown",
   "metadata": {},
   "source": [
    "Feature: Gender\n",
    "\n",
    "Null Hypothesis: There is no significant difference in the cgpa of males and females.\n",
    "\n",
    "Alternative Hypothesis: There is no significant difference in the cgpa of students males and females\n",
    "\n",
    "Test Type: Two Tailed Test\n",
    "\n",
    "Statistical Test: One Way ANOVA Test\n",
    "\n",
    "Significance Level: 0.05\n",
    "\n",
    "ANOVA Test Assumptions:\n",
    "1. The samples are independent.\n",
    "2. Each sample is from a normally distributed population.\n",
    "3. The population standard deviations of the groups are all equal. This property is known as homoscedasticity."
   ]
  },
  {
   "cell_type": "markdown",
   "metadata": {},
   "source": [
    "## Confirming Assumptions "
   ]
  },
  {
   "cell_type": "code",
   "execution_count": 31,
   "metadata": {},
   "outputs": [
    {
     "name": "stdout",
     "output_type": "stream",
     "text": [
      "The given data passes both tests of homoscedasticity and normality.\n"
     ]
    }
   ],
   "source": [
    "dgenderanova_assumptions = anova_assumptions_test(feature='gender', target='cgpa_change', df=df_valid_cgpa)\n",
    "print(dgenderanova_assumptions)"
   ]
  },
  {
   "cell_type": "markdown",
   "metadata": {},
   "source": [
    "## Hypothesis Testing on Gender                                             "
   ]
  },
  {
   "cell_type": "code",
   "execution_count": 32,
   "metadata": {},
   "outputs": [
    {
     "data": {
      "text/plain": [
       "'ANOVA F-statistic:\", 0.28331724825381116, \"ANOVA p-value:\", 0.5949252552984301'"
      ]
     },
     "execution_count": 32,
     "metadata": {},
     "output_type": "execute_result"
    }
   ],
   "source": [
    "gender_hypothesis_test = perform_one_way_anova(feature='gender', target='cgpa_change', df=df_valid_cgpa)\n",
    "gender_hypothesis_test  "
   ]
  },
  {
   "cell_type": "markdown",
   "metadata": {},
   "source": [
    "The p-value score of 0.5949 is greater than the significance level of 0.05 this means that we fail to reject the null hypothesis\n",
    "\n",
    "**There is no significant difference between the average cgpa change across the different genders**"
   ]
  },
  {
   "cell_type": "markdown",
   "metadata": {},
   "source": [
    "## Interpreting the results"
   ]
  },
  {
   "cell_type": "code",
   "execution_count": 33,
   "metadata": {
    "scrolled": true
   },
   "outputs": [
    {
     "data": {
      "image/png": "[encoded data removed]",
      "text/plain": [
       "<Figure size 617.143x360 with 1 Axes>"
      ]
     },
     "metadata": {},
     "output_type": "display_data"
    }
   ],
   "source": [
    "# Visualizing the results\n",
    "sns.catplot(\n",
    "    kind='box',\n",
    "    data=df_valid_cgpa,\n",
    "    x='cgpa_change',\n",
    "    y='gender',\n",
    "    aspect=12/7\n",
    ")\n",
    "plt.axvline(df_valid_cgpa.cgpa_change.mean(),color='red',label='Population CGPA Average')      \n",
    "plt.legend(loc='upper right')                                                                           \n",
    "plt.title('Boxplot of CGPA Change Split By gender');"
   ]
  },
  {
   "cell_type": "code",
   "execution_count": 34,
   "metadata": {},
   "outputs": [
    {
     "data": {
      "image/png": "[encoded data removed]",
      "text/plain": [
       "<Figure size 617.143x720 with 2 Axes>"
      ]
     },
     "metadata": {},
     "output_type": "display_data"
    }
   ],
   "source": [
    "generate_subplots(df_valid_cgpa, x_col='cgpa_change', row_col='gender')"
   ]
  },
  {
   "cell_type": "code",
   "execution_count": 35,
   "metadata": {},
   "outputs": [],
   "source": [
    "# # Visualizing the results\n",
    "# sns.displot(\n",
    "#     kind='hist',\n",
    "#     data=df_valid_cgpa,\n",
    "#     x='cgpa_change',\n",
    "#     col='gender',\n",
    "#     aspect=12/7\n",
    "# )\n",
    "# plt.axvline(df_valid_cgpa.cgpa_change.mean(),color='red',label='Population CGPA Average')      \n",
    "# plt.legend(loc='upper right')                                                                           \n",
    "# plt.title('Histogram of CGPA Change Split By gender');"
   ]
  },
  {
   "cell_type": "markdown",
   "metadata": {},
   "source": [
    "The Boxplot and Histogram both confirm that the change in CGPA is independent of gender.                                                                    "
   ]
  },
  {
   "cell_type": "markdown",
   "metadata": {},
   "source": [
    "# Relationship Status"
   ]
  },
  {
   "cell_type": "markdown",
   "metadata": {},
   "source": [
    "Feature: Relationship Status\n",
    "\n",
    "Null Hypothesis: There is no difference in the average cgpa change across Relationship status.\n",
    "\n",
    "Alternative Hypothesis: The Average cgpa change varies across Relationship status.\n",
    "\n",
    "Test Type: Two Tailed Test\n",
    "\n",
    "Statistical Test: One Way ANOVA Test\n",
    "\n",
    "Significance Level: 0.05\n",
    "\n",
    "Test Assumptions:\n",
    "1. The samples are independent.\n",
    "2. Each sample is from a normally distributed population.\n",
    "3. The population standard deviations of the groups are all equal. This property is known as homoscedasticity."
   ]
  },
  {
   "cell_type": "markdown",
   "metadata": {},
   "source": [
    "## Confirming Assumptions"
   ]
  },
  {
   "cell_type": "code",
   "execution_count": 36,
   "metadata": {},
   "outputs": [
    {
     "name": "stdout",
     "output_type": "stream",
     "text": [
      "The given data passes the test of normality but fails the test of homoscedasticity.\n"
     ]
    }
   ],
   "source": [
    "relationship_anova_assumptions = anova_assumptions_test(feature='relationship', target='cgpa_change', df=df_valid_cgpa)\n",
    "print(relationship_anova_assumptions)"
   ]
  },
  {
   "cell_type": "markdown",
   "metadata": {},
   "source": [
    "This feature fails homoscandesity test. We cannot use the Anova test to test the Hypothesis.\n",
    "\n",
    "**We will use the Kruskal Willis Test.**\n",
    "                                                       "
   ]
  },
  {
   "cell_type": "markdown",
   "metadata": {},
   "source": [
    "## Hypothesis Testing on Relationship Status                                         "
   ]
  },
  {
   "cell_type": "code",
   "execution_count": 37,
   "metadata": {},
   "outputs": [
    {
     "data": {
      "text/plain": [
       "'Kruskal-Wallis Test statistic:, 0.43583777979683214, Kruskal-Wallis Test p-value:, 0.8041906670080009'"
      ]
     },
     "execution_count": 37,
     "metadata": {},
     "output_type": "execute_result"
    }
   ],
   "source": [
    "relationship_hypothesis_test = perform_kruskal_willis_test(feature='relationship', target='cgpa_change', df=df_valid_cgpa,min_count=5)\n",
    "relationship_hypothesis_test  "
   ]
  },
  {
   "cell_type": "markdown",
   "metadata": {},
   "source": [
    "The p-value score of 0.804 is greater than the significance level of 0.05 this means that we fail to reject the null hypothesis.\n",
    "\n",
    "**There is no significant difference between the average cgpa change across the different relationship_statuses**"
   ]
  },
  {
   "cell_type": "markdown",
   "metadata": {},
   "source": [
    "## Interpreting the results"
   ]
  },
  {
   "cell_type": "code",
   "execution_count": 38,
   "metadata": {},
   "outputs": [
    {
     "data": {
      "image/png": "[encoded data removed]",
      "text/plain": [
       "<Figure size 617.143x360 with 1 Axes>"
      ]
     },
     "metadata": {},
     "output_type": "display_data"
    }
   ],
   "source": [
    "# Visualizing the difference\n",
    "sns.catplot(\n",
    "    kind='box',\n",
    "    data=df_valid_cgpa,\n",
    "    x='cgpa_change',\n",
    "    y='relationship',\n",
    "    aspect=12/7\n",
    ")\n",
    "plt.axvline(df_valid_cgpa.cgpa_change.mean(),color='red',label='Population CGPA Average')      \n",
    "plt.legend(loc='upper right')                                                                           \n",
    "plt.title('Boxplot of CGPA Change Split By relationship');"
   ]
  },
  {
   "cell_type": "code",
   "execution_count": 39,
   "metadata": {},
   "outputs": [
    {
     "data": {
      "image/png": "[encoded data removed]",
      "text/plain": [
       "<Figure size 617.143x1800 with 5 Axes>"
      ]
     },
     "metadata": {},
     "output_type": "display_data"
    }
   ],
   "source": [
    "generate_subplots(df_valid_cgpa, x_col='cgpa_change', row_col='relationship')"
   ]
  },
  {
   "cell_type": "markdown",
   "metadata": {},
   "source": [
    "The Boxplot and Histogram both confirm that the change in CGPA is independent of relationship status.                                                                    "
   ]
  },
  {
   "cell_type": "markdown",
   "metadata": {},
   "source": [
    "# Worked"
   ]
  },
  {
   "cell_type": "markdown",
   "metadata": {},
   "source": [
    "Feature: worked\n",
    "\n",
    "Null Hypothesis: There is no significant difference in the cgpa of students with different working statuses.\n",
    "\n",
    "Alternative Hypothesis: There is a significant difference in the cgpa of students with different working statuses. \n",
    "\n",
    "Test Type: Two Tailed Test\n",
    "\n",
    "Statistical Test: One Way ANOVA Test\n",
    "\n",
    "Significance Level: 0.05\n",
    "\n",
    "ANOVA Test Assumptions:\n",
    "1. The samples are independent.\n",
    "2. Each sample is from a normally distributed population.\n",
    "3. The population standard deviations of the groups are all equal. This property is known as homoscedasticity."
   ]
  },
  {
   "cell_type": "markdown",
   "metadata": {},
   "source": [
    "## Confirming Assumptions "
   ]
  },
  {
   "cell_type": "code",
   "execution_count": 40,
   "metadata": {},
   "outputs": [
    {
     "name": "stdout",
     "output_type": "stream",
     "text": [
      "The given data passes both tests of homoscedasticity and normality.\n"
     ]
    }
   ],
   "source": [
    "worked_anova_assumptions = anova_assumptions_test(feature='work', target='cgpa_change', df=df_valid_cgpa)\n",
    "print(worked_anova_assumptions)"
   ]
  },
  {
   "cell_type": "markdown",
   "metadata": {},
   "source": [
    "## Hypothesis Testing on work status.                                                                       "
   ]
  },
  {
   "cell_type": "code",
   "execution_count": 41,
   "metadata": {},
   "outputs": [
    {
     "data": {
      "text/plain": [
       "'ANOVA F-statistic:\", 2.583026685351414, \"ANOVA p-value:\", 0.07721337074564746'"
      ]
     },
     "execution_count": 41,
     "metadata": {},
     "output_type": "execute_result"
    }
   ],
   "source": [
    "worked_hypothesis_test = perform_one_way_anova(feature='work', target='cgpa_change', df=df_valid_cgpa)\n",
    "worked_hypothesis_test  "
   ]
  },
  {
   "cell_type": "markdown",
   "metadata": {},
   "source": [
    "The p-value score of 0.077 is more than the significance level of 0.05 this means that we fail to reject the null hypothesis\n",
    "\n",
    "**There is no significant difference between the average cgpa change across the different work status**                                                                     "
   ]
  },
  {
   "cell_type": "markdown",
   "metadata": {},
   "source": [
    "## Interpreting the results"
   ]
  },
  {
   "cell_type": "code",
   "execution_count": 42,
   "metadata": {},
   "outputs": [
    {
     "data": {
      "image/png": "[encoded data removed]",
      "text/plain": [
       "<Figure size 617.143x360 with 1 Axes>"
      ]
     },
     "metadata": {},
     "output_type": "display_data"
    }
   ],
   "source": [
    "# Visualizing the result\n",
    "sns.catplot(\n",
    "    kind='box',\n",
    "    data=df_valid_cgpa,\n",
    "    x='cgpa_change',\n",
    "    y='work',\n",
    "    aspect=12/7\n",
    ")\n",
    "plt.axvline(df_valid_cgpa.cgpa_change.mean(),color='red',label='Population CGPA Average')      \n",
    "plt.legend(loc='upper right')                                                                           \n",
    "plt.title('Boxplot of CGPA Change Split By work');"
   ]
  },
  {
   "cell_type": "code",
   "execution_count": 43,
   "metadata": {},
   "outputs": [
    {
     "data": {
      "image/png": "[encoded data removed]",
      "text/plain": [
       "<Figure size 617.143x1080 with 3 Axes>"
      ]
     },
     "metadata": {},
     "output_type": "display_data"
    }
   ],
   "source": [
    "generate_subplots(df_valid_cgpa, x_col='cgpa_change', row_col='work')"
   ]
  },
  {
   "cell_type": "markdown",
   "metadata": {},
   "source": [
    "The Boxplot and Histogram both confirm that the change in CGPA is independent of work status.                                                                    "
   ]
  },
  {
   "cell_type": "markdown",
   "metadata": {},
   "source": [
    "# Academic Engagement"
   ]
  },
  {
   "cell_type": "markdown",
   "metadata": {},
   "source": [
    "Feature: Academic Engagement\n",
    "\n",
    "Null Hypothesis: There is no difference in the CGPA change across academic levels.\n",
    "\n",
    "Alternative Hypothesis: There is a difference in the CGPA change across academic levels\n",
    "\n",
    "Test Type: Two Tailed Test\n",
    "\n",
    "Statistical Test: One Way ANOVA Test\n",
    "\n",
    "Significance Level: 0.05\n",
    "\n",
    "ANOVA Test Assumptions:\n",
    "1. The samples are independent.\n",
    "2. Each sample is from a normally distributed population.\n",
    "3. The population standard deviations of the groups are all equal. This property is known as homoscedasticity."
   ]
  },
  {
   "cell_type": "markdown",
   "metadata": {},
   "source": [
    "## Preprocessing"
   ]
  },
  {
   "cell_type": "code",
   "execution_count": 44,
   "metadata": {},
   "outputs": [
    {
     "data": {
      "text/plain": [
       "array(['Rarely: I engaged in academic activities once or twice during the strike.',\n",
       "       'Never: I did not engage in any academic activities during the strike.',\n",
       "       'Often: I engaged in academic activities regularly, but not as often as I would during a normal semester.',\n",
       "       'Sometimes: I engaged in academic activities occasionally, but not on a regular basis during the strike.',\n",
       "       'Very often: I engaged in academic activities almost as often as I would during a normal semester.'],\n",
       "      dtype=object)"
      ]
     },
     "execution_count": 44,
     "metadata": {},
     "output_type": "execute_result"
    }
   ],
   "source": [
    "df_valid_cgpa.academic_act.unique()"
   ]
  },
  {
   "cell_type": "code",
   "execution_count": 45,
   "metadata": {},
   "outputs": [
    {
     "data": {
      "text/plain": [
       "array(['rarely', 'Never', 'often', 'sometimes', 'very_often'],\n",
       "      dtype=object)"
      ]
     },
     "execution_count": 45,
     "metadata": {},
     "output_type": "execute_result"
    }
   ],
   "source": [
    "df_valid_cgpa.academic_act.replace({'Very often: I engaged in academic activities almost as often as I would during a normal semester.':'very_often',\n",
    "                                   'Sometimes: I engaged in academic activities occasionally, but not on a regular basis during the strike.':'sometimes',\n",
    "                                   'Often: I engaged in academic activities regularly, but not as often as I would during a normal semester.':'often',\n",
    "                                   'Never: I did not engage in any academic activities during the strike.':'Never',\n",
    "                                   'Rarely: I engaged in academic activities once or twice during the strike.':'rarely'},\n",
    "                                   inplace=True)\n",
    "\n",
    "df_valid_cgpa.academic_act.unique()"
   ]
  },
  {
   "cell_type": "markdown",
   "metadata": {},
   "source": [
    "## Confirming Assumptions "
   ]
  },
  {
   "cell_type": "code",
   "execution_count": 46,
   "metadata": {},
   "outputs": [
    {
     "name": "stdout",
     "output_type": "stream",
     "text": [
      "The given data passes both tests of homoscedasticity and normality.\n"
     ]
    }
   ],
   "source": [
    "academic_act_anova_assumptions = anova_assumptions_test(feature='academic_act', target='cgpa_change', df=df_valid_cgpa)\n",
    "print(academic_act_anova_assumptions)"
   ]
  },
  {
   "cell_type": "markdown",
   "metadata": {},
   "source": [
    "## Hypothesis Testing on Academic activities.                                                                      "
   ]
  },
  {
   "cell_type": "code",
   "execution_count": 47,
   "metadata": {},
   "outputs": [
    {
     "data": {
      "text/plain": [
       "'ANOVA F-statistic:\", 1.5554944954838623, \"ANOVA p-value:\", 0.18618784017777876'"
      ]
     },
     "execution_count": 47,
     "metadata": {},
     "output_type": "execute_result"
    }
   ],
   "source": [
    "academic_act_hypothesis_test = perform_one_way_anova(feature='academic_act', target='cgpa_change', df=df_valid_cgpa)\n",
    "academic_act_hypothesis_test  "
   ]
  },
  {
   "cell_type": "markdown",
   "metadata": {},
   "source": [
    "The p-value score of 0.186 is greater than the significance level of 0.05 this means that we fail to reject the null hypothesis.\n",
    "\n",
    "**There is no significant difference between the average cgpa change across the different academic activities**                                                                     "
   ]
  },
  {
   "cell_type": "markdown",
   "metadata": {},
   "source": [
    "## Interpreting the results"
   ]
  },
  {
   "cell_type": "code",
   "execution_count": 48,
   "metadata": {
    "scrolled": true
   },
   "outputs": [
    {
     "data": {
      "image/png": "[encoded data removed]",
      "text/plain": [
       "<Figure size 617.143x360 with 1 Axes>"
      ]
     },
     "metadata": {},
     "output_type": "display_data"
    }
   ],
   "source": [
    "# Visualizing the difference\n",
    "sns.catplot(\n",
    "    kind='box',\n",
    "    data=df_valid_cgpa,\n",
    "    x='cgpa_change',\n",
    "    y='academic_act',\n",
    "    aspect=12/7\n",
    ")\n",
    "plt.axvline(df_valid_cgpa.cgpa_change.mean(),color='red',label='Population CGPA Average')      \n",
    "plt.legend(loc='upper right')                                                                           \n",
    "plt.title('Boxplot of CGPA Change Split By Academic Act');"
   ]
  },
  {
   "cell_type": "code",
   "execution_count": 49,
   "metadata": {},
   "outputs": [
    {
     "data": {
      "image/png": "[encoded data removed]",
      "text/plain": [
       "<Figure size 617.143x1800 with 5 Axes>"
      ]
     },
     "metadata": {},
     "output_type": "display_data"
    }
   ],
   "source": [
    "generate_subplots(df_valid_cgpa, x_col='cgpa_change', row_col='academic_act')\n"
   ]
  },
  {
   "cell_type": "code",
   "execution_count": 50,
   "metadata": {},
   "outputs": [],
   "source": [
    "# # Get unique values in the 'relationship' column to serve as subplot titles\n",
    "# unique_labels = df_valid_cgpa['academic_act'].unique()\n",
    "\n",
    "# # Create subplots using Seaborn, arranging vertically with 'row'\n",
    "# g = sns.displot(\n",
    "#     kind='hist',\n",
    "#     data=df_valid_cgpa,\n",
    "#     x='cgpa_change',\n",
    "#     row='academic_act',  \n",
    "#     aspect=12/7,\n",
    "#     row_order=unique_labels \n",
    "# )\n",
    "\n",
    "# population_cgpa_average = df_valid_cgpa['cgpa_change'].mean()\n",
    "\n",
    "# # Loop through each subplot, add the red line, and set the title\n",
    "# for relationship, ax in zip(unique_labels, g.axes.flat):\n",
    "#     ax.axvline(population_cgpa_av2'/        erage, color='red', label='Population CGPA Average')\n",
    "#     ax.legend(loc='upper right')/\n",
    "\n",
    "\n",
    "# plt.tight_layout()\n",
    "\n",
    "\n",
    "# plt.show()\n"
   ]
  },
  {
   "cell_type": "markdown",
   "metadata": {},
   "source": [
    "The Boxplot and Histogram both confirm that the change in CGPA is independent of Academic_act.                                                                    "
   ]
  },
  {
   "cell_type": "markdown",
   "metadata": {},
   "source": [
    "# Lecture                                                                                  "
   ]
  },
  {
   "cell_type": "markdown",
   "metadata": {},
   "source": [
    "Feature: Lecture\n",
    "\n",
    "Null Hypothesis: There is no difference in the CGPA change across Lecture Effect.\n",
    "\n",
    "Alternative Hypothesis:There is a difference in the CGPA change across Lecture Effect.\n",
    "\n",
    "Test Type: Two Tailed Test\n",
    "\n",
    "Statistical Test: One Way ANOVA Test\n",
    "\n",
    "Significance Level: 0.05\n",
    "\n",
    "ANOVA Test Assumptions:\n",
    "1. The samples are independent.\n",
    "2. Each sample is from a normally distributed population.\n",
    "3. The population standard deviations of the groups are all equal. This property is known as homoscedasticity."
   ]
  },
  {
   "cell_type": "markdown",
   "metadata": {},
   "source": [
    "## Confirming Assumptions "
   ]
  },
  {
   "cell_type": "code",
   "execution_count": 51,
   "metadata": {},
   "outputs": [
    {
     "name": "stdout",
     "output_type": "stream",
     "text": [
      "The given data passes both tests of homoscedasticity and normality.\n"
     ]
    }
   ],
   "source": [
    "lecture_anova_assumptions = anova_assumptions_test(feature='lecture', target='cgpa_change', df=df_valid_cgpa)\n",
    "print(lecture_anova_assumptions)"
   ]
  },
  {
   "cell_type": "markdown",
   "metadata": {},
   "source": [
    "## Hypothesis Testing on Lecture Effects."
   ]
  },
  {
   "cell_type": "code",
   "execution_count": 52,
   "metadata": {},
   "outputs": [
    {
     "data": {
      "text/plain": [
       "'ANOVA F-statistic:\", 3.0837176943043434, \"ANOVA p-value:\", 0.01642350733045032'"
      ]
     },
     "execution_count": 52,
     "metadata": {},
     "output_type": "execute_result"
    }
   ],
   "source": [
    "lecture_hypothesis_test = perform_one_way_anova(feature='lecture', target='cgpa_change', df=df_valid_cgpa)\n",
    "lecture_hypothesis_test  "
   ]
  },
  {
   "cell_type": "markdown",
   "metadata": {},
   "source": [
    "The p-value score of 0.0164 is less than the significance level of 0.05 this means that we reject the null hypothesis\n",
    "\n",
    "**There is a significant difference between the average cgpa change across the different Lecture effects**                                                                     "
   ]
  },
  {
   "cell_type": "markdown",
   "metadata": {},
   "source": [
    "## Interpreting the difference"
   ]
  },
  {
   "cell_type": "markdown",
   "metadata": {},
   "source": [
    "While we've confirmed that a significant difference exist among the Lecture Effects. The test carried out tells us nothing about the nature of this difference. To understand this difference, we can carry out post hoc tests to determine which specific pairs or groups differ significantly from the rest.                               "
   ]
  },
  {
   "cell_type": "code",
   "execution_count": 53,
   "metadata": {},
   "outputs": [
    {
     "data": {
      "image/png": "[encoded data removed]",
      "text/plain": [
       "<Figure size 617.143x360 with 1 Axes>"
      ]
     },
     "metadata": {},
     "output_type": "display_data"
    }
   ],
   "source": [
    "# Visualizing the difference\n",
    "sns.catplot(\n",
    "    kind='box',\n",
    "    data=df_valid_cgpa,\n",
    "    x='cgpa_change',\n",
    "    y='lecture',\n",
    "    aspect=12/7\n",
    ")\n",
    "plt.axvline(df_valid_cgpa.cgpa_change.mean(),color='red',label='Population CGPA Average')      \n",
    "plt.legend(loc='upper right')                                                                           \n",
    "plt.title('Boxplot of CGPA Change Split By Lecture_effect');"
   ]
  },
  {
   "cell_type": "code",
   "execution_count": 54,
   "metadata": {
    "scrolled": true
   },
   "outputs": [
    {
     "name": "stdout",
     "output_type": "stream",
     "text": [
      "                                        Multiple Comparison of Means - Tukey HSD, FWER=0.05                                         \n",
      "====================================================================================================================================\n",
      "                    group1                                         group2                     meandiff p-adj   lower   upper  reject\n",
      "------------------------------------------------------------------------------------------------------------------------------------\n",
      "              Fewer lecturers attended classes I did not attend any lectures after the strike   0.0116    1.0  -0.393  0.4161  False\n",
      "              Fewer lecturers attended classes             Improved lectures after the strike   0.0624 0.9808 -0.2443  0.3692  False\n",
      "              Fewer lecturers attended classes                           No noticeable change  -0.1013 0.3459 -0.2515  0.0489  False\n",
      "              Fewer lecturers attended classes                Worse lectures after the strike   -0.175 0.0183 -0.3302 -0.0197   True\n",
      "I did not attend any lectures after the strike             Improved lectures after the strike   0.0509 0.9985 -0.4308  0.5326  False\n",
      "I did not attend any lectures after the strike                           No noticeable change  -0.1129 0.9381 -0.5135  0.2877  False\n",
      "I did not attend any lectures after the strike                Worse lectures after the strike  -0.1865 0.7088 -0.5891   0.216  False\n",
      "            Improved lectures after the strike                           No noticeable change  -0.1638 0.5692 -0.4653  0.1377  False\n",
      "            Improved lectures after the strike                Worse lectures after the strike  -0.2374 0.2048 -0.5414  0.0666  False\n",
      "                          No noticeable change                Worse lectures after the strike  -0.0736 0.6299 -0.2183   0.071  False\n",
      "------------------------------------------------------------------------------------------------------------------------------------\n"
     ]
    }
   ],
   "source": [
    "# Investigating pairwise differences                                                                                 \n",
    "level_tukey_results = perform_pairwise_tukeyhsd(feature='lecture', target='cgpa_change', df=df_valid_cgpa)\n",
    "level_tukey_results"
   ]
  },
  {
   "cell_type": "markdown",
   "metadata": {},
   "source": [
    "From the table above, the strongest significant change was noticed in a pair containing \"Worse Lecture after the strike\". The Boxplot also showed that the group had the lowest 2nd quartile, lowest median value, lowest bottom whisker (minimum non-outlier value) and it was also the only group without a positive outlier. This overwhelmingly proves that those with worse lectures after the strike recieved the most negative impact on their CGPA.\n",
    "          "
   ]
  },
  {
   "cell_type": "markdown",
   "metadata": {},
   "source": [
    "# Prep Change\n",
    "\n",
    "Feature: Prep_Change\n",
    "\n",
    "Null Hypothesis: There is no difference in the CGPA change across Preparation's Effect.\n",
    "\n",
    "Alternative Hypothesis:There is a difference in the CGPA change across Preparation's Effect.\n",
    "\n",
    "Test Type: Two Tailed Test\n",
    "\n",
    "Statistical Test: One Way ANOVA Test\n",
    "\n",
    "Significance Level: 0.05\n",
    "\n",
    "ANOVA Test Assumptions:\n",
    "1. The samples are independent.\n",
    "2. Each sample is from a normally distributed population.\n",
    "3. The population standard deviations of the groups are all equal. This property is known as homoscedasticity."
   ]
  },
  {
   "cell_type": "code",
   "execution_count": 55,
   "metadata": {},
   "outputs": [
    {
     "data": {
      "text/html": [
       "<div>\n",
       "<style scoped>\n",
       "    .dataframe tbody tr th:only-of-type {\n",
       "        vertical-align: middle;\n",
       "    }\n",
       "\n",
       "    .dataframe tbody tr th {\n",
       "        vertical-align: top;\n",
       "    }\n",
       "\n",
       "    .dataframe thead th {\n",
       "        text-align: right;\n",
       "    }\n",
       "</style>\n",
       "<table border=\"1\" class=\"dataframe\">\n",
       "  <thead>\n",
       "    <tr style=\"text-align: right;\">\n",
       "      <th></th>\n",
       "      <th>school</th>\n",
       "      <th>level</th>\n",
       "      <th>age</th>\n",
       "      <th>gender</th>\n",
       "      <th>relationship</th>\n",
       "      <th>faculty</th>\n",
       "      <th>department</th>\n",
       "      <th>strike_effect</th>\n",
       "      <th>challenge</th>\n",
       "      <th>work</th>\n",
       "      <th>skills</th>\n",
       "      <th>prep_before</th>\n",
       "      <th>prep_after</th>\n",
       "      <th>lecture</th>\n",
       "      <th>academic_act</th>\n",
       "      <th>courses_taken</th>\n",
       "      <th>course_unit</th>\n",
       "      <th>cgpa_before</th>\n",
       "      <th>cgpa_after</th>\n",
       "      <th>cgpa_change</th>\n",
       "    </tr>\n",
       "  </thead>\n",
       "  <tbody>\n",
       "    <tr>\n",
       "      <th>0</th>\n",
       "      <td>university of lagos</td>\n",
       "      <td>400 Level</td>\n",
       "      <td>22</td>\n",
       "      <td>Male</td>\n",
       "      <td>Single</td>\n",
       "      <td>Engineering</td>\n",
       "      <td>Chemical engineering</td>\n",
       "      <td>I learned how to study better and my grades al...</td>\n",
       "      <td>Trying to remember things we were taught befor...</td>\n",
       "      <td>Worked in a role relevant to my studies</td>\n",
       "      <td>Acquired skills unrelated to course of study</td>\n",
       "      <td>Poorly</td>\n",
       "      <td>Poorly</td>\n",
       "      <td>No noticeable change</td>\n",
       "      <td>rarely</td>\n",
       "      <td>10</td>\n",
       "      <td>23</td>\n",
       "      <td>3.39</td>\n",
       "      <td>3.51</td>\n",
       "      <td>0.12</td>\n",
       "    </tr>\n",
       "    <tr>\n",
       "      <th>1</th>\n",
       "      <td>university of lagos</td>\n",
       "      <td>400 Level</td>\n",
       "      <td>23</td>\n",
       "      <td>Female</td>\n",
       "      <td>Single</td>\n",
       "      <td>Engineering</td>\n",
       "      <td>Chemical engineering</td>\n",
       "      <td>It affected it in a negative way as it became ...</td>\n",
       "      <td>Rekindling the student in me, lol. Trying to g...</td>\n",
       "      <td>Did not work during the strike</td>\n",
       "      <td>Acquired skills unrelated to course of study</td>\n",
       "      <td>Poorly</td>\n",
       "      <td>Moderately</td>\n",
       "      <td>No noticeable change</td>\n",
       "      <td>rarely</td>\n",
       "      <td>10</td>\n",
       "      <td>23</td>\n",
       "      <td>4.44</td>\n",
       "      <td>4.50</td>\n",
       "      <td>0.06</td>\n",
       "    </tr>\n",
       "  </tbody>\n",
       "</table>\n",
       "</div>"
      ],
      "text/plain": [
       "                school      level  age  gender relationship      faculty  \\\n",
       "0  university of lagos  400 Level   22    Male       Single  Engineering   \n",
       "1  university of lagos  400 Level   23  Female       Single  Engineering   \n",
       "\n",
       "             department                                      strike_effect  \\\n",
       "0  Chemical engineering  I learned how to study better and my grades al...   \n",
       "1  Chemical engineering  It affected it in a negative way as it became ...   \n",
       "\n",
       "                                           challenge  \\\n",
       "0  Trying to remember things we were taught befor...   \n",
       "1  Rekindling the student in me, lol. Trying to g...   \n",
       "\n",
       "                                      work  \\\n",
       "0  Worked in a role relevant to my studies   \n",
       "1           Did not work during the strike   \n",
       "\n",
       "                                         skills prep_before  prep_after  \\\n",
       "0  Acquired skills unrelated to course of study      Poorly      Poorly   \n",
       "1  Acquired skills unrelated to course of study      Poorly  Moderately   \n",
       "\n",
       "                lecture academic_act  courses_taken  course_unit  cgpa_before  \\\n",
       "0  No noticeable change       rarely             10           23         3.39   \n",
       "1  No noticeable change       rarely             10           23         4.44   \n",
       "\n",
       "   cgpa_after  cgpa_change  \n",
       "0        3.51         0.12  \n",
       "1        4.50         0.06  "
      ]
     },
     "execution_count": 55,
     "metadata": {},
     "output_type": "execute_result"
    }
   ],
   "source": [
    "df_valid_cgpa.head(2)"
   ]
  },
  {
   "cell_type": "code",
   "execution_count": 56,
   "metadata": {},
   "outputs": [
    {
     "data": {
      "text/plain": [
       "array(['Poorly', 'Moderately', 'Very'], dtype=object)"
      ]
     },
     "execution_count": 56,
     "metadata": {},
     "output_type": "execute_result"
    }
   ],
   "source": [
    "df_valid_cgpa['prep_after'].unique()"
   ]
  },
  {
   "cell_type": "code",
   "execution_count": 57,
   "metadata": {},
   "outputs": [],
   "source": [
    "cols = ['prep_before', 'prep_after', 'cgpa_change']"
   ]
  },
  {
   "cell_type": "code",
   "execution_count": 58,
   "metadata": {},
   "outputs": [],
   "source": [
    "df_prep_encoded = df_valid_cgpa[cols]"
   ]
  },
  {
   "cell_type": "code",
   "execution_count": 59,
   "metadata": {
    "scrolled": true
   },
   "outputs": [
    {
     "data": {
      "text/html": [
       "<div>\n",
       "<style scoped>\n",
       "    .dataframe tbody tr th:only-of-type {\n",
       "        vertical-align: middle;\n",
       "    }\n",
       "\n",
       "    .dataframe tbody tr th {\n",
       "        vertical-align: top;\n",
       "    }\n",
       "\n",
       "    .dataframe thead th {\n",
       "        text-align: right;\n",
       "    }\n",
       "</style>\n",
       "<table border=\"1\" class=\"dataframe\">\n",
       "  <thead>\n",
       "    <tr style=\"text-align: right;\">\n",
       "      <th></th>\n",
       "      <th>prep_before</th>\n",
       "      <th>prep_after</th>\n",
       "      <th>cgpa_change</th>\n",
       "    </tr>\n",
       "  </thead>\n",
       "  <tbody>\n",
       "    <tr>\n",
       "      <th>0</th>\n",
       "      <td>Poorly</td>\n",
       "      <td>Poorly</td>\n",
       "      <td>0.12</td>\n",
       "    </tr>\n",
       "    <tr>\n",
       "      <th>1</th>\n",
       "      <td>Poorly</td>\n",
       "      <td>Moderately</td>\n",
       "      <td>0.06</td>\n",
       "    </tr>\n",
       "  </tbody>\n",
       "</table>\n",
       "</div>"
      ],
      "text/plain": [
       "  prep_before  prep_after  cgpa_change\n",
       "0      Poorly      Poorly         0.12\n",
       "1      Poorly  Moderately         0.06"
      ]
     },
     "execution_count": 59,
     "metadata": {},
     "output_type": "execute_result"
    }
   ],
   "source": [
    "df_prep_encoded.head(2)"
   ]
  },
  {
   "cell_type": "code",
   "execution_count": null,
   "metadata": {},
   "outputs": [],
   "source": []
  },
  {
   "cell_type": "code",
   "execution_count": 60,
   "metadata": {
    "scrolled": true
   },
   "outputs": [
    {
     "name": "stderr",
     "output_type": "stream",
     "text": [
      "C:\\Users\\Modupe\\AppData\\Local\\Temp\\ipykernel_7612\\969368347.py:12: SettingWithCopyWarning: \n",
      "A value is trying to be set on a copy of a slice from a DataFrame.\n",
      "Try using .loc[row_indexer,col_indexer] = value instead\n",
      "\n",
      "See the caveats in the documentation: https://pandas.pydata.org/pandas-docs/stable/user_guide/indexing.html#returning-a-view-versus-a-copy\n",
      "  df_prep_encoded['prep_after'] = encoder.transform(df_prep_encoded['prep_after'])\n",
      "C:\\Users\\Modupe\\AppData\\Local\\Temp\\ipykernel_7612\\969368347.py:13: SettingWithCopyWarning: \n",
      "A value is trying to be set on a copy of a slice from a DataFrame.\n",
      "Try using .loc[row_indexer,col_indexer] = value instead\n",
      "\n",
      "See the caveats in the documentation: https://pandas.pydata.org/pandas-docs/stable/user_guide/indexing.html#returning-a-view-versus-a-copy\n",
      "  df_prep_encoded['prep_before'] = encoder.transform(df_prep_encoded['prep_before'])\n"
     ]
    }
   ],
   "source": [
    "from sklearn.preprocessing import LabelEncoder\n",
    "\n",
    "\n",
    "# Define the custom order of labels\n",
    "custom_order = ['Poorly', 'Moderately', 'Very']\n",
    "\n",
    "# Initialize the LabelEncoder with custom categories\n",
    "encoder = LabelEncoder()\n",
    "encoder.classes_ = custom_order\n",
    "\n",
    "\n",
    "df_prep_encoded['prep_after'] = encoder.transform(df_prep_encoded['prep_after'])\n",
    "df_prep_encoded['prep_before'] = encoder.transform(df_prep_encoded['prep_before'])\n",
    "\n",
    "# #Do the same for 'prep_after'\n",
    "# df_prep_encoded['prep_after'] = encoder.fit_transform(df_prep_encoded['prep_after'])\n",
    "\n",
    "# df_valid_cgpa['prep_after'] = df_valid_cgpa['prep_after'].apply(lambda x: custom_order[x])\n"
   ]
  },
  {
   "cell_type": "code",
   "execution_count": 61,
   "metadata": {},
   "outputs": [
    {
     "data": {
      "text/html": [
       "<div>\n",
       "<style scoped>\n",
       "    .dataframe tbody tr th:only-of-type {\n",
       "        vertical-align: middle;\n",
       "    }\n",
       "\n",
       "    .dataframe tbody tr th {\n",
       "        vertical-align: top;\n",
       "    }\n",
       "\n",
       "    .dataframe thead th {\n",
       "        text-align: right;\n",
       "    }\n",
       "</style>\n",
       "<table border=\"1\" class=\"dataframe\">\n",
       "  <thead>\n",
       "    <tr style=\"text-align: right;\">\n",
       "      <th></th>\n",
       "      <th>prep_before</th>\n",
       "      <th>prep_after</th>\n",
       "      <th>cgpa_change</th>\n",
       "    </tr>\n",
       "  </thead>\n",
       "  <tbody>\n",
       "    <tr>\n",
       "      <th>0</th>\n",
       "      <td>0</td>\n",
       "      <td>0</td>\n",
       "      <td>0.12</td>\n",
       "    </tr>\n",
       "    <tr>\n",
       "      <th>1</th>\n",
       "      <td>0</td>\n",
       "      <td>1</td>\n",
       "      <td>0.06</td>\n",
       "    </tr>\n",
       "  </tbody>\n",
       "</table>\n",
       "</div>"
      ],
      "text/plain": [
       "   prep_before  prep_after  cgpa_change\n",
       "0            0           0         0.12\n",
       "1            0           1         0.06"
      ]
     },
     "execution_count": 61,
     "metadata": {},
     "output_type": "execute_result"
    }
   ],
   "source": [
    "df_prep_encoded.head(2)"
   ]
  },
  {
   "cell_type": "code",
   "execution_count": 62,
   "metadata": {},
   "outputs": [
    {
     "data": {
      "text/plain": [
       "array([0, 1, 2])"
      ]
     },
     "execution_count": 62,
     "metadata": {},
     "output_type": "execute_result"
    }
   ],
   "source": [
    "df_prep_encoded['prep_before'].unique()"
   ]
  },
  {
   "cell_type": "code",
   "execution_count": 63,
   "metadata": {},
   "outputs": [
    {
     "name": "stderr",
     "output_type": "stream",
     "text": [
      "C:\\Users\\Modupe\\AppData\\Local\\Temp\\ipykernel_7612\\1350355195.py:1: SettingWithCopyWarning: \n",
      "A value is trying to be set on a copy of a slice from a DataFrame.\n",
      "Try using .loc[row_indexer,col_indexer] = value instead\n",
      "\n",
      "See the caveats in the documentation: https://pandas.pydata.org/pandas-docs/stable/user_guide/indexing.html#returning-a-view-versus-a-copy\n",
      "  df_prep_encoded['prep_change'] = df_prep_encoded['prep_after'] - df_prep_encoded['prep_before']\n"
     ]
    }
   ],
   "source": [
    "df_prep_encoded['prep_change'] = df_prep_encoded['prep_after'] - df_prep_encoded['prep_before']"
   ]
  },
  {
   "cell_type": "code",
   "execution_count": 64,
   "metadata": {},
   "outputs": [
    {
     "data": {
      "text/plain": [
       "array([ 0,  1,  2, -2, -1])"
      ]
     },
     "execution_count": 64,
     "metadata": {},
     "output_type": "execute_result"
    }
   ],
   "source": [
    "df_prep_encoded['prep_change'].unique()"
   ]
  },
  {
   "cell_type": "code",
   "execution_count": 65,
   "metadata": {},
   "outputs": [
    {
     "name": "stderr",
     "output_type": "stream",
     "text": [
      "C:\\Users\\Modupe\\AppData\\Local\\Temp\\ipykernel_7612\\262986441.py:10: SettingWithCopyWarning: \n",
      "A value is trying to be set on a copy of a slice from a DataFrame.\n",
      "Try using .loc[row_indexer,col_indexer] = value instead\n",
      "\n",
      "See the caveats in the documentation: https://pandas.pydata.org/pandas-docs/stable/user_guide/indexing.html#returning-a-view-versus-a-copy\n",
      "  df_prep_encoded['prep_change_category'] = df_prep_encoded['prep_change'].apply(map_prep_change)\n"
     ]
    }
   ],
   "source": [
    "def map_prep_change(value):\n",
    "    if value > 0:\n",
    "        return 'positive prep change'\n",
    "    elif value < 0:\n",
    "        return 'decreased prep change'\n",
    "    else:\n",
    "        return 'no prep change'\n",
    "\n",
    "# Apply the mapping function to create a new categorical column\n",
    "df_prep_encoded['prep_change_category'] = df_prep_encoded['prep_change'].apply(map_prep_change)\n"
   ]
  },
  {
   "cell_type": "code",
   "execution_count": 66,
   "metadata": {},
   "outputs": [
    {
     "data": {
      "text/html": [
       "<div>\n",
       "<style scoped>\n",
       "    .dataframe tbody tr th:only-of-type {\n",
       "        vertical-align: middle;\n",
       "    }\n",
       "\n",
       "    .dataframe tbody tr th {\n",
       "        vertical-align: top;\n",
       "    }\n",
       "\n",
       "    .dataframe thead th {\n",
       "        text-align: right;\n",
       "    }\n",
       "</style>\n",
       "<table border=\"1\" class=\"dataframe\">\n",
       "  <thead>\n",
       "    <tr style=\"text-align: right;\">\n",
       "      <th></th>\n",
       "      <th>prep_before</th>\n",
       "      <th>prep_after</th>\n",
       "      <th>cgpa_change</th>\n",
       "      <th>prep_change</th>\n",
       "      <th>prep_change_category</th>\n",
       "    </tr>\n",
       "  </thead>\n",
       "  <tbody>\n",
       "    <tr>\n",
       "      <th>0</th>\n",
       "      <td>0</td>\n",
       "      <td>0</td>\n",
       "      <td>0.12</td>\n",
       "      <td>0</td>\n",
       "      <td>no prep change</td>\n",
       "    </tr>\n",
       "    <tr>\n",
       "      <th>1</th>\n",
       "      <td>0</td>\n",
       "      <td>1</td>\n",
       "      <td>0.06</td>\n",
       "      <td>1</td>\n",
       "      <td>positive prep change</td>\n",
       "    </tr>\n",
       "  </tbody>\n",
       "</table>\n",
       "</div>"
      ],
      "text/plain": [
       "   prep_before  prep_after  cgpa_change  prep_change  prep_change_category\n",
       "0            0           0         0.12            0        no prep change\n",
       "1            0           1         0.06            1  positive prep change"
      ]
     },
     "execution_count": 66,
     "metadata": {},
     "output_type": "execute_result"
    }
   ],
   "source": [
    "df_prep_encoded.head(2)"
   ]
  },
  {
   "cell_type": "code",
   "execution_count": 67,
   "metadata": {},
   "outputs": [
    {
     "data": {
      "text/plain": [
       "array(['no prep change', 'positive prep change', 'decreased prep change'],\n",
       "      dtype=object)"
      ]
     },
     "execution_count": 67,
     "metadata": {},
     "output_type": "execute_result"
    }
   ],
   "source": [
    "df_prep_encoded.prep_change_category.unique()"
   ]
  },
  {
   "cell_type": "code",
   "execution_count": 68,
   "metadata": {},
   "outputs": [
    {
     "data": {
      "text/html": [
       "<div>\n",
       "<style scoped>\n",
       "    .dataframe tbody tr th:only-of-type {\n",
       "        vertical-align: middle;\n",
       "    }\n",
       "\n",
       "    .dataframe tbody tr th {\n",
       "        vertical-align: top;\n",
       "    }\n",
       "\n",
       "    .dataframe thead th {\n",
       "        text-align: right;\n",
       "    }\n",
       "</style>\n",
       "<table border=\"1\" class=\"dataframe\">\n",
       "  <thead>\n",
       "    <tr style=\"text-align: right;\">\n",
       "      <th></th>\n",
       "      <th>prep_before</th>\n",
       "      <th>prep_after</th>\n",
       "      <th>cgpa_change</th>\n",
       "      <th>prep_change</th>\n",
       "      <th>prep_change_category</th>\n",
       "    </tr>\n",
       "  </thead>\n",
       "  <tbody>\n",
       "    <tr>\n",
       "      <th>1</th>\n",
       "      <td>0</td>\n",
       "      <td>1</td>\n",
       "      <td>0.06</td>\n",
       "      <td>1</td>\n",
       "      <td>positive prep change</td>\n",
       "    </tr>\n",
       "    <tr>\n",
       "      <th>3</th>\n",
       "      <td>1</td>\n",
       "      <td>2</td>\n",
       "      <td>0.10</td>\n",
       "      <td>1</td>\n",
       "      <td>positive prep change</td>\n",
       "    </tr>\n",
       "    <tr>\n",
       "      <th>4</th>\n",
       "      <td>0</td>\n",
       "      <td>2</td>\n",
       "      <td>-0.85</td>\n",
       "      <td>2</td>\n",
       "      <td>positive prep change</td>\n",
       "    </tr>\n",
       "    <tr>\n",
       "      <th>14</th>\n",
       "      <td>0</td>\n",
       "      <td>1</td>\n",
       "      <td>0.10</td>\n",
       "      <td>1</td>\n",
       "      <td>positive prep change</td>\n",
       "    </tr>\n",
       "    <tr>\n",
       "      <th>16</th>\n",
       "      <td>0</td>\n",
       "      <td>2</td>\n",
       "      <td>0.00</td>\n",
       "      <td>2</td>\n",
       "      <td>positive prep change</td>\n",
       "    </tr>\n",
       "    <tr>\n",
       "      <th>...</th>\n",
       "      <td>...</td>\n",
       "      <td>...</td>\n",
       "      <td>...</td>\n",
       "      <td>...</td>\n",
       "      <td>...</td>\n",
       "    </tr>\n",
       "    <tr>\n",
       "      <th>285</th>\n",
       "      <td>0</td>\n",
       "      <td>1</td>\n",
       "      <td>0.10</td>\n",
       "      <td>1</td>\n",
       "      <td>positive prep change</td>\n",
       "    </tr>\n",
       "    <tr>\n",
       "      <th>289</th>\n",
       "      <td>0</td>\n",
       "      <td>1</td>\n",
       "      <td>0.32</td>\n",
       "      <td>1</td>\n",
       "      <td>positive prep change</td>\n",
       "    </tr>\n",
       "    <tr>\n",
       "      <th>296</th>\n",
       "      <td>0</td>\n",
       "      <td>1</td>\n",
       "      <td>-0.11</td>\n",
       "      <td>1</td>\n",
       "      <td>positive prep change</td>\n",
       "    </tr>\n",
       "    <tr>\n",
       "      <th>300</th>\n",
       "      <td>0</td>\n",
       "      <td>1</td>\n",
       "      <td>-0.04</td>\n",
       "      <td>1</td>\n",
       "      <td>positive prep change</td>\n",
       "    </tr>\n",
       "    <tr>\n",
       "      <th>311</th>\n",
       "      <td>0</td>\n",
       "      <td>1</td>\n",
       "      <td>-0.22</td>\n",
       "      <td>1</td>\n",
       "      <td>positive prep change</td>\n",
       "    </tr>\n",
       "  </tbody>\n",
       "</table>\n",
       "<p>79 rows × 5 columns</p>\n",
       "</div>"
      ],
      "text/plain": [
       "     prep_before  prep_after  cgpa_change  prep_change  prep_change_category\n",
       "1              0           1         0.06            1  positive prep change\n",
       "3              1           2         0.10            1  positive prep change\n",
       "4              0           2        -0.85            2  positive prep change\n",
       "14             0           1         0.10            1  positive prep change\n",
       "16             0           2         0.00            2  positive prep change\n",
       "..           ...         ...          ...          ...                   ...\n",
       "285            0           1         0.10            1  positive prep change\n",
       "289            0           1         0.32            1  positive prep change\n",
       "296            0           1        -0.11            1  positive prep change\n",
       "300            0           1        -0.04            1  positive prep change\n",
       "311            0           1        -0.22            1  positive prep change\n",
       "\n",
       "[79 rows x 5 columns]"
      ]
     },
     "execution_count": 68,
     "metadata": {},
     "output_type": "execute_result"
    }
   ],
   "source": [
    "df_prep_encoded[(df_prep_encoded['prep_change_category'] == 'positive prep change')]"
   ]
  },
  {
   "cell_type": "markdown",
   "metadata": {},
   "source": [
    "## Confirming Assumptions"
   ]
  },
  {
   "cell_type": "code",
   "execution_count": 69,
   "metadata": {},
   "outputs": [
    {
     "name": "stdout",
     "output_type": "stream",
     "text": [
      "The given data passes both tests of homoscedasticity and normality.\n"
     ]
    }
   ],
   "source": [
    "prep_anova_assumptions = anova_assumptions_test(feature='prep_change_category', target='cgpa_change', df=df_prep_encoded)\n",
    "\n",
    "print(prep_anova_assumptions)"
   ]
  },
  {
   "cell_type": "markdown",
   "metadata": {},
   "source": [
    "## Hypothesis Testing on Preparation's effect on CPGA Change "
   ]
  },
  {
   "cell_type": "code",
   "execution_count": 70,
   "metadata": {},
   "outputs": [
    {
     "data": {
      "text/plain": [
       "'ANOVA F-statistic:\", 9.714273034604844, \"ANOVA p-value:\", 8.152623148871439e-05'"
      ]
     },
     "execution_count": 70,
     "metadata": {},
     "output_type": "execute_result"
    }
   ],
   "source": [
    "prep_hypothesis_test = perform_one_way_anova(feature='prep_change_category', target='cgpa_change', df=df_prep_encoded)\n",
    "\n",
    "prep_hypothesis_test  "
   ]
  },
  {
   "cell_type": "markdown",
   "metadata": {},
   "source": [
    "The p-value score of 0.0000815 is less than the significance level of 0.05 this means that the observed effect is likely not due to random chance and is statistically significant.\n",
    "\n",
    "So p-value ≤ alpha: We reject the null hypothesis\n",
    "\n",
    "**There is a significant difference between the average cgpa change across the different prep change effects**                                                                     "
   ]
  },
  {
   "cell_type": "markdown",
   "metadata": {},
   "source": [
    "## Interpreting the difference\n",
    "\n",
    "While we've confirmed that a significant difference exist among the preparation change. The test carried out tells us nothing about the nature of this difference. To understand this difference, we can carry out post hoc tests to determine which specific pairs or groups differ significantly from the rest.                               "
   ]
  },
  {
   "cell_type": "code",
   "execution_count": 71,
   "metadata": {},
   "outputs": [
    {
     "data": {
      "image/png": "[encoded data removed]",
      "text/plain": [
       "<Figure size 617.143x360 with 1 Axes>"
      ]
     },
     "metadata": {},
     "output_type": "display_data"
    }
   ],
   "source": [
    "# Visualizing the difference\n",
    "sns.catplot(\n",
    "    kind='box',\n",
    "    data=df_prep_encoded,\n",
    "    x='cgpa_change',\n",
    "    y='prep_change_category',\n",
    "    aspect=12/7\n",
    ")\n",
    "plt.axvline(df_prep_encoded.cgpa_change.mean(),color='red',label='Population CGPA Average')      \n",
    "plt.legend(loc='upper right')                                                                           \n",
    "plt.title('Boxplot of CGPA Change Split By Prep_Change');"
   ]
  },
  {
   "cell_type": "code",
   "execution_count": 72,
   "metadata": {},
   "outputs": [
    {
     "name": "stdout",
     "output_type": "stream",
     "text": [
      "              Multiple Comparison of Means - Tukey HSD, FWER=0.05               \n",
      "================================================================================\n",
      "        group1               group2        meandiff p-adj   lower  upper  reject\n",
      "--------------------------------------------------------------------------------\n",
      "decreased prep change       no prep change   0.1708 0.0031  0.0488 0.2928   True\n",
      "decreased prep change positive prep change   0.1993 0.0004  0.0783 0.3203   True\n",
      "       no prep change positive prep change   0.0285 0.8797 -0.1107 0.1677  False\n",
      "--------------------------------------------------------------------------------\n"
     ]
    }
   ],
   "source": [
    "# Investigating pairwise differences                                                                                 \n",
    "print_tukey_results = perform_pairwise_tukeyhsd(feature='prep_change_category', target='cgpa_change', df=df_prep_encoded)\n",
    "print_tukey_results"
   ]
  },
  {
   "cell_type": "markdown",
   "metadata": {},
   "source": [
    "Based on the Tukey HSD test results, the \"decreased prep change\" group shows statistically significant differences in means with both \"no prep change\" and \"positive prep change\" groups, but there's no significant difference between \"no prep change\" and \"positive prep change\" groups.\n",
    "\n",
    "The significant differences observed between certain groups suggest that there are meaningful distinctions in how these groups are associated with changes in CGPA."
   ]
  },
  {
   "cell_type": "markdown",
   "metadata": {},
   "source": [
    "# Self Development (Skill Acquisition)\n",
    "\n",
    "Feature: Prep_Change\n",
    "\n",
    "Null Hypothesis: There is no difference in the CGPA change across self dev's Effect.\n",
    "\n",
    "Alternative Hypothesis:There is a difference in the CGPA change across self dev's Effect.\n",
    "\n",
    "Test Type: Two Tailed Test\n",
    "\n",
    "Statistical Test: One Way ANOVA Test\n",
    "\n",
    "Significance Level: 0.05\n",
    "\n",
    "ANOVA Test Assumptions:\n",
    "1. The samples are independent.\n",
    "2. Each sample is from a normally distributed population.\n",
    "3. The population standard deviations of the groups are all equal. This property is known as homoscedasticity."
   ]
  },
  {
   "cell_type": "code",
   "execution_count": 73,
   "metadata": {},
   "outputs": [
    {
     "data": {
      "text/plain": [
       "array(['Acquired skills unrelated to course of study',\n",
       "       'Volunteered for an event or organization, Acquired skills unrelated to course of study',\n",
       "       'None of the above', 'Volunteered for an event or organization',\n",
       "       'Acquired skills relevant to course of study, Acquired skills unrelated to course of study',\n",
       "       'Vocational training and artisanship',\n",
       "       'Acquired skills relevant to course of study',\n",
       "       'Acquired skills unrelated to course of study, Vocational training and artisanship',\n",
       "       'Volunteered for an event or organization, Acquired skills relevant to course of study, Acquired skills unrelated to course of study',\n",
       "       'Vocational training and artisanship, None of the above',\n",
       "       'Acquired skills relevant to course of study, Acquired skills unrelated to course of study, Vocational training and artisanship',\n",
       "       'Volunteered for an event or organization, Acquired skills unrelated to course of study, Vocational training and artisanship',\n",
       "       'Volunteered for an event or organization, Acquired skills relevant to course of study, Acquired skills unrelated to course of study, Vocational training and artisanship',\n",
       "       'Volunteered for an event or organization, Acquired skills relevant to course of study',\n",
       "       'Acquired skills relevant to course of study, Vocational training and artisanship',\n",
       "       'Volunteered for an event or organization, Vocational training and artisanship'],\n",
       "      dtype=object)"
      ]
     },
     "execution_count": 73,
     "metadata": {},
     "output_type": "execute_result"
    }
   ],
   "source": [
    "df_valid_cgpa['skills'].unique()"
   ]
  },
  {
   "cell_type": "code",
   "execution_count": 74,
   "metadata": {},
   "outputs": [],
   "source": [
    "# df_valid_cgpa[df_valid_cgpa['skills'].str.contains('Acquired skills unrelated to course of study', case=False, na=False)]\n"
   ]
  },
  {
   "cell_type": "code",
   "execution_count": 75,
   "metadata": {},
   "outputs": [],
   "source": [
    "labels = df_valid_cgpa['skills'].values"
   ]
  },
  {
   "cell_type": "code",
   "execution_count": 76,
   "metadata": {},
   "outputs": [
    {
     "data": {
      "text/plain": [
       "305"
      ]
     },
     "execution_count": 76,
     "metadata": {},
     "output_type": "execute_result"
    }
   ],
   "source": [
    "len(labels)"
   ]
  },
  {
   "cell_type": "code",
   "execution_count": 77,
   "metadata": {},
   "outputs": [],
   "source": [
    "transformed_labels = []\n",
    "for label in labels:\n",
    "    if 'Acquired skills relevant to course of study' in label:\n",
    "        transformed_labels.append('Acquired skills relevant to course of study')\n",
    "    elif 'Acquired skills unrelated to course of study' in label:\n",
    "        transformed_labels.append('Acquired skills unrelated to course of study')\n",
    "    elif 'Acquired skills relevant to course of study' in label and 'Acquired skills unrelated to course of study' in label:\n",
    "        transformed_labels.append('Acquired skills relevant to course of study')\n",
    "    elif 'Volunteered for an event or organization' in label or 'Vocational training and artisanship' in label:\n",
    "        if 'Acquired skills unrelated to course of study' not in label and 'Acquired skills relevant to course of study' not in label:\n",
    "            transformed_labels.append('Vocational skills acquired')\n",
    "    elif 'None of the above' in label:\n",
    "        if 'Vocational training and artisanship' not in label:\n",
    "            transformed_labels.append('No skills acquired')\n",
    "    else:\n",
    "        transformed_labels.append(label)\n",
    "        \n",
    "        \n"
   ]
  },
  {
   "cell_type": "code",
   "execution_count": 78,
   "metadata": {},
   "outputs": [
    {
     "data": {
      "text/plain": [
       "305"
      ]
     },
     "execution_count": 78,
     "metadata": {},
     "output_type": "execute_result"
    }
   ],
   "source": [
    "len(transformed_labels)"
   ]
  },
  {
   "cell_type": "code",
   "execution_count": 79,
   "metadata": {},
   "outputs": [],
   "source": [
    "df_self_dev = df_valid_cgpa.copy()\n",
    "\n",
    "df_self_dev['skills'] = transformed_labels"
   ]
  },
  {
   "cell_type": "code",
   "execution_count": 80,
   "metadata": {},
   "outputs": [
    {
     "data": {
      "text/html": [
       "<div>\n",
       "<style scoped>\n",
       "    .dataframe tbody tr th:only-of-type {\n",
       "        vertical-align: middle;\n",
       "    }\n",
       "\n",
       "    .dataframe tbody tr th {\n",
       "        vertical-align: top;\n",
       "    }\n",
       "\n",
       "    .dataframe thead th {\n",
       "        text-align: right;\n",
       "    }\n",
       "</style>\n",
       "<table border=\"1\" class=\"dataframe\">\n",
       "  <thead>\n",
       "    <tr style=\"text-align: right;\">\n",
       "      <th></th>\n",
       "      <th>school</th>\n",
       "      <th>level</th>\n",
       "      <th>age</th>\n",
       "      <th>gender</th>\n",
       "      <th>relationship</th>\n",
       "      <th>faculty</th>\n",
       "      <th>department</th>\n",
       "      <th>strike_effect</th>\n",
       "      <th>challenge</th>\n",
       "      <th>work</th>\n",
       "      <th>skills</th>\n",
       "      <th>prep_before</th>\n",
       "      <th>prep_after</th>\n",
       "      <th>lecture</th>\n",
       "      <th>academic_act</th>\n",
       "      <th>courses_taken</th>\n",
       "      <th>course_unit</th>\n",
       "      <th>cgpa_before</th>\n",
       "      <th>cgpa_after</th>\n",
       "      <th>cgpa_change</th>\n",
       "    </tr>\n",
       "  </thead>\n",
       "  <tbody>\n",
       "    <tr>\n",
       "      <th>310</th>\n",
       "      <td>university of lagos</td>\n",
       "      <td>200 Level</td>\n",
       "      <td>30</td>\n",
       "      <td>Male</td>\n",
       "      <td>Single</td>\n",
       "      <td>Management Science</td>\n",
       "      <td>Accounting</td>\n",
       "      <td>It has really affect my service year,enlogated...</td>\n",
       "      <td>It affected my grades,but all thanks to God.</td>\n",
       "      <td>Worked in a role relevant to my studies</td>\n",
       "      <td>Acquired skills relevant to course of study</td>\n",
       "      <td>Moderately</td>\n",
       "      <td>Moderately</td>\n",
       "      <td>Fewer lecturers attended classes</td>\n",
       "      <td>sometimes</td>\n",
       "      <td>7</td>\n",
       "      <td>18</td>\n",
       "      <td>4.56</td>\n",
       "      <td>4.56</td>\n",
       "      <td>0.00</td>\n",
       "    </tr>\n",
       "    <tr>\n",
       "      <th>311</th>\n",
       "      <td>university of lagos</td>\n",
       "      <td>300 Level</td>\n",
       "      <td>21</td>\n",
       "      <td>Male</td>\n",
       "      <td>Single</td>\n",
       "      <td>Sciences</td>\n",
       "      <td>Physics</td>\n",
       "      <td>Business dey go</td>\n",
       "      <td>Reading</td>\n",
       "      <td>Worked in a role unrelated to my studies</td>\n",
       "      <td>Acquired skills unrelated to course of study</td>\n",
       "      <td>Poorly</td>\n",
       "      <td>Moderately</td>\n",
       "      <td>No noticeable change</td>\n",
       "      <td>Never</td>\n",
       "      <td>8</td>\n",
       "      <td>22</td>\n",
       "      <td>3.69</td>\n",
       "      <td>3.47</td>\n",
       "      <td>-0.22</td>\n",
       "    </tr>\n",
       "    <tr>\n",
       "      <th>312</th>\n",
       "      <td>university of lagos</td>\n",
       "      <td>400 Level</td>\n",
       "      <td>22</td>\n",
       "      <td>Male</td>\n",
       "      <td>Single</td>\n",
       "      <td>Engineering</td>\n",
       "      <td>Systems engineering</td>\n",
       "      <td>NaN</td>\n",
       "      <td>NaN</td>\n",
       "      <td>Worked in a role unrelated to my studies</td>\n",
       "      <td>Acquired skills unrelated to course of study</td>\n",
       "      <td>Very</td>\n",
       "      <td>Poorly</td>\n",
       "      <td>Fewer lecturers attended classes</td>\n",
       "      <td>Never</td>\n",
       "      <td>10</td>\n",
       "      <td>23</td>\n",
       "      <td>3.20</td>\n",
       "      <td>3.07</td>\n",
       "      <td>-0.13</td>\n",
       "    </tr>\n",
       "  </tbody>\n",
       "</table>\n",
       "</div>"
      ],
      "text/plain": [
       "                  school      level  age gender relationship  \\\n",
       "310  university of lagos  200 Level   30   Male       Single   \n",
       "311  university of lagos  300 Level   21   Male       Single   \n",
       "312  university of lagos  400 Level   22   Male       Single   \n",
       "\n",
       "                faculty           department  \\\n",
       "310  Management Science           Accounting   \n",
       "311            Sciences              Physics   \n",
       "312         Engineering  Systems engineering   \n",
       "\n",
       "                                         strike_effect  \\\n",
       "310  It has really affect my service year,enlogated...   \n",
       "311                                    Business dey go   \n",
       "312                                                NaN   \n",
       "\n",
       "                                        challenge  \\\n",
       "310  It affected my grades,but all thanks to God.   \n",
       "311                                      Reading    \n",
       "312                                           NaN   \n",
       "\n",
       "                                         work  \\\n",
       "310   Worked in a role relevant to my studies   \n",
       "311  Worked in a role unrelated to my studies   \n",
       "312  Worked in a role unrelated to my studies   \n",
       "\n",
       "                                           skills prep_before  prep_after  \\\n",
       "310   Acquired skills relevant to course of study  Moderately  Moderately   \n",
       "311  Acquired skills unrelated to course of study      Poorly  Moderately   \n",
       "312  Acquired skills unrelated to course of study        Very      Poorly   \n",
       "\n",
       "                              lecture academic_act  courses_taken  \\\n",
       "310  Fewer lecturers attended classes    sometimes              7   \n",
       "311              No noticeable change        Never              8   \n",
       "312  Fewer lecturers attended classes        Never             10   \n",
       "\n",
       "     course_unit  cgpa_before  cgpa_after  cgpa_change  \n",
       "310           18         4.56        4.56         0.00  \n",
       "311           22         3.69        3.47        -0.22  \n",
       "312           23         3.20        3.07        -0.13  "
      ]
     },
     "execution_count": 80,
     "metadata": {},
     "output_type": "execute_result"
    }
   ],
   "source": [
    "df_self_dev.tail(3)"
   ]
  },
  {
   "cell_type": "code",
   "execution_count": 81,
   "metadata": {},
   "outputs": [
    {
     "data": {
      "text/plain": [
       "array(['Acquired skills unrelated to course of study',\n",
       "       'No skills acquired', 'Vocational skills acquired',\n",
       "       'Acquired skills relevant to course of study'], dtype=object)"
      ]
     },
     "execution_count": 81,
     "metadata": {},
     "output_type": "execute_result"
    }
   ],
   "source": [
    "df_self_dev['skills'].unique()"
   ]
  },
  {
   "cell_type": "markdown",
   "metadata": {},
   "source": [
    "## Confirming Assumptions"
   ]
  },
  {
   "cell_type": "code",
   "execution_count": 82,
   "metadata": {},
   "outputs": [
    {
     "name": "stdout",
     "output_type": "stream",
     "text": [
      "The given data passes both tests of homoscedasticity and normality.\n"
     ]
    }
   ],
   "source": [
    "skills_anova_assumptions = anova_assumptions_test(feature='skills', target='cgpa_change', df=df_self_dev)\n",
    "\n",
    "print(skills_anova_assumptions)"
   ]
  },
  {
   "cell_type": "markdown",
   "metadata": {},
   "source": [
    "## Hypothesis Testing on Self Development effect on CPGA Change "
   ]
  },
  {
   "cell_type": "code",
   "execution_count": 83,
   "metadata": {},
   "outputs": [
    {
     "data": {
      "text/plain": [
       "'ANOVA F-statistic:\", 1.7565161777851446, \"ANOVA p-value:\", 0.15553571478344047'"
      ]
     },
     "execution_count": 83,
     "metadata": {},
     "output_type": "execute_result"
    }
   ],
   "source": [
    "skills_hypothesis_test = perform_one_way_anova(feature='skills', target='cgpa_change', df=df_self_dev)\n",
    "\n",
    "skills_hypothesis_test  "
   ]
  },
  {
   "cell_type": "markdown",
   "metadata": {},
   "source": [
    "The p-value score of 0.156 is greater than the significance level of 0.05.\n",
    "\n",
    "So p-value > alpha: this means that we fail to reject the null hypothesis.\n",
    "\n",
    "**There is no significant difference between the average cgpa change across the different self development activities**                                                                     \n",
    "\n"
   ]
  },
  {
   "cell_type": "code",
   "execution_count": 84,
   "metadata": {},
   "outputs": [
    {
     "data": {
      "image/png": "[encoded data removed]",
      "text/plain": [
       "<Figure size 617.143x360 with 1 Axes>"
      ]
     },
     "metadata": {},
     "output_type": "display_data"
    }
   ],
   "source": [
    "# Visualizing the difference or lack of difference\n",
    "sns.catplot(\n",
    "    kind='box',\n",
    "    data=df_self_dev,\n",
    "    x='cgpa_change',\n",
    "    y='skills',\n",
    "    aspect=12/7\n",
    ")\n",
    "plt.axvline(df_self_dev.cgpa_change.mean(),color='red',label='Population CGPA Average')      \n",
    "plt.legend(loc='upper right')                                                                           \n",
    "plt.title('Boxplot of CGPA Change Split By Self Development Acts');"
   ]
  },
  {
   "cell_type": "code",
   "execution_count": 85,
   "metadata": {},
   "outputs": [
    {
     "data": {
      "image/png": "[encoded data removed]",
      "text/plain": [
       "<Figure size 617.143x1440 with 4 Axes>"
      ]
     },
     "metadata": {},
     "output_type": "display_data"
    }
   ],
   "source": [
    "generate_subplots(df_self_dev, x_col='cgpa_change', row_col='skills')\n"
   ]
  },
  {
   "cell_type": "markdown",
   "metadata": {},
   "source": [
    "The p-value obtained from the hypothesis test is 0.156, which is greater than the chosen significance level of 0.05. As a result, we fail to reject the null hypothesis. This suggests that there is not enough evidence to conclude a significant difference. Additionally, the accompanying box plot visually supports this finding, showing overlapping distributions between the groups."
   ]
  },
  {
   "cell_type": "markdown",
   "metadata": {},
   "source": [
    "# No of Course Units\n",
    "\n",
    "Feature: Course Units\n",
    "\n",
    "Null Hypothesis: There is no difference in the CGPA change across No of Course Units Effect.\n",
    "\n",
    "Alternative Hypothesis:There is a difference in the CGPA change across No of Course Units Effect.\n",
    "\n",
    "Test Type: Two Tailed Test\n",
    "\n",
    "Statistical Test: One Way ANOVA Test\n",
    "\n",
    "Significance Level: 0.05\n",
    "\n",
    "ANOVA Test Assumptions:\n",
    "1. The samples are independent.\n",
    "2. Each sample is from a normally distributed population.\n",
    "3. The population standard deviations of the groups are all equal. This property is known as homoscedasticity."
   ]
  },
  {
   "cell_type": "code",
   "execution_count": 86,
   "metadata": {},
   "outputs": [
    {
     "data": {
      "text/html": [
       "<div>\n",
       "<style scoped>\n",
       "    .dataframe tbody tr th:only-of-type {\n",
       "        vertical-align: middle;\n",
       "    }\n",
       "\n",
       "    .dataframe tbody tr th {\n",
       "        vertical-align: top;\n",
       "    }\n",
       "\n",
       "    .dataframe thead th {\n",
       "        text-align: right;\n",
       "    }\n",
       "</style>\n",
       "<table border=\"1\" class=\"dataframe\">\n",
       "  <thead>\n",
       "    <tr style=\"text-align: right;\">\n",
       "      <th></th>\n",
       "      <th>school</th>\n",
       "      <th>level</th>\n",
       "      <th>age</th>\n",
       "      <th>gender</th>\n",
       "      <th>relationship</th>\n",
       "      <th>faculty</th>\n",
       "      <th>department</th>\n",
       "      <th>strike_effect</th>\n",
       "      <th>challenge</th>\n",
       "      <th>work</th>\n",
       "      <th>skills</th>\n",
       "      <th>prep_before</th>\n",
       "      <th>prep_after</th>\n",
       "      <th>lecture</th>\n",
       "      <th>academic_act</th>\n",
       "      <th>courses_taken</th>\n",
       "      <th>course_unit</th>\n",
       "      <th>cgpa_before</th>\n",
       "      <th>cgpa_after</th>\n",
       "      <th>cgpa_change</th>\n",
       "    </tr>\n",
       "  </thead>\n",
       "  <tbody>\n",
       "    <tr>\n",
       "      <th>31</th>\n",
       "      <td>university of lagos</td>\n",
       "      <td>300 Level</td>\n",
       "      <td>28</td>\n",
       "      <td>Female</td>\n",
       "      <td>Single</td>\n",
       "      <td>Education</td>\n",
       "      <td>Education administration</td>\n",
       "      <td>My academic performance has reduced, because I...</td>\n",
       "      <td>Reading</td>\n",
       "      <td>Worked in a role unrelated to my studies</td>\n",
       "      <td>Vocational training and artisanship</td>\n",
       "      <td>Very</td>\n",
       "      <td>Moderately</td>\n",
       "      <td>Fewer lecturers attended classes</td>\n",
       "      <td>often</td>\n",
       "      <td>8</td>\n",
       "      <td>25</td>\n",
       "      <td>3.25</td>\n",
       "      <td>2.55</td>\n",
       "      <td>-0.7</td>\n",
       "    </tr>\n",
       "    <tr>\n",
       "      <th>70</th>\n",
       "      <td>university of ibadan</td>\n",
       "      <td>300 Level</td>\n",
       "      <td>22</td>\n",
       "      <td>Male</td>\n",
       "      <td>Single</td>\n",
       "      <td>Social Sciences</td>\n",
       "      <td>Economics</td>\n",
       "      <td>Reduced enthusiasm for academic related activi...</td>\n",
       "      <td>Refocusing</td>\n",
       "      <td>Worked in a role relevant to my studies</td>\n",
       "      <td>Acquired skills relevant to course of study</td>\n",
       "      <td>Moderately</td>\n",
       "      <td>Moderately</td>\n",
       "      <td>Worse lectures after the strike</td>\n",
       "      <td>Never</td>\n",
       "      <td>10</td>\n",
       "      <td>30</td>\n",
       "      <td>2.80</td>\n",
       "      <td>2.70</td>\n",
       "      <td>-0.1</td>\n",
       "    </tr>\n",
       "  </tbody>\n",
       "</table>\n",
       "</div>"
      ],
      "text/plain": [
       "                  school      level  age  gender relationship  \\\n",
       "31   university of lagos  300 Level   28  Female       Single   \n",
       "70  university of ibadan  300 Level   22    Male       Single   \n",
       "\n",
       "            faculty                department  \\\n",
       "31        Education  Education administration   \n",
       "70  Social Sciences                 Economics   \n",
       "\n",
       "                                        strike_effect    challenge  \\\n",
       "31  My academic performance has reduced, because I...     Reading    \n",
       "70  Reduced enthusiasm for academic related activi...  Refocusing    \n",
       "\n",
       "                                        work  \\\n",
       "31  Worked in a role unrelated to my studies   \n",
       "70   Worked in a role relevant to my studies   \n",
       "\n",
       "                                         skills prep_before  prep_after  \\\n",
       "31          Vocational training and artisanship        Very  Moderately   \n",
       "70  Acquired skills relevant to course of study  Moderately  Moderately   \n",
       "\n",
       "                             lecture academic_act  courses_taken  course_unit  \\\n",
       "31  Fewer lecturers attended classes        often              8           25   \n",
       "70   Worse lectures after the strike        Never             10           30   \n",
       "\n",
       "    cgpa_before  cgpa_after  cgpa_change  \n",
       "31         3.25        2.55         -0.7  \n",
       "70         2.80        2.70         -0.1  "
      ]
     },
     "execution_count": 86,
     "metadata": {},
     "output_type": "execute_result"
    }
   ],
   "source": [
    "df_valid_cgpa[(df_valid_cgpa['course_unit'] > 24)].head(2)"
   ]
  },
  {
   "cell_type": "code",
   "execution_count": 87,
   "metadata": {},
   "outputs": [
    {
     "data": {
      "text/html": [
       "<div>\n",
       "<style scoped>\n",
       "    .dataframe tbody tr th:only-of-type {\n",
       "        vertical-align: middle;\n",
       "    }\n",
       "\n",
       "    .dataframe tbody tr th {\n",
       "        vertical-align: top;\n",
       "    }\n",
       "\n",
       "    .dataframe thead th {\n",
       "        text-align: right;\n",
       "    }\n",
       "</style>\n",
       "<table border=\"1\" class=\"dataframe\">\n",
       "  <thead>\n",
       "    <tr style=\"text-align: right;\">\n",
       "      <th></th>\n",
       "      <th>school</th>\n",
       "      <th>level</th>\n",
       "      <th>age</th>\n",
       "      <th>gender</th>\n",
       "      <th>relationship</th>\n",
       "      <th>faculty</th>\n",
       "      <th>department</th>\n",
       "      <th>strike_effect</th>\n",
       "      <th>challenge</th>\n",
       "      <th>work</th>\n",
       "      <th>skills</th>\n",
       "      <th>prep_before</th>\n",
       "      <th>prep_after</th>\n",
       "      <th>lecture</th>\n",
       "      <th>academic_act</th>\n",
       "      <th>courses_taken</th>\n",
       "      <th>course_unit</th>\n",
       "      <th>cgpa_before</th>\n",
       "      <th>cgpa_after</th>\n",
       "      <th>cgpa_change</th>\n",
       "    </tr>\n",
       "  </thead>\n",
       "  <tbody>\n",
       "    <tr>\n",
       "      <th>3</th>\n",
       "      <td>university of lagos</td>\n",
       "      <td>400 Level</td>\n",
       "      <td>29</td>\n",
       "      <td>Male</td>\n",
       "      <td>Dating</td>\n",
       "      <td>Social Sciences</td>\n",
       "      <td>Political science</td>\n",
       "      <td>Good</td>\n",
       "      <td>Reading</td>\n",
       "      <td>Worked in a role unrelated to my studies</td>\n",
       "      <td>Acquired skills unrelated to course of study</td>\n",
       "      <td>Moderately</td>\n",
       "      <td>Very</td>\n",
       "      <td>No noticeable change</td>\n",
       "      <td>rarely</td>\n",
       "      <td>7</td>\n",
       "      <td>1</td>\n",
       "      <td>3.86</td>\n",
       "      <td>3.96</td>\n",
       "      <td>0.1</td>\n",
       "    </tr>\n",
       "    <tr>\n",
       "      <th>9</th>\n",
       "      <td>university of lagos</td>\n",
       "      <td>500 Level</td>\n",
       "      <td>25</td>\n",
       "      <td>Male</td>\n",
       "      <td>Single</td>\n",
       "      <td>Engineering</td>\n",
       "      <td>Surveying &amp; geo-informatics engineering</td>\n",
       "      <td>Still the same</td>\n",
       "      <td>Prolonged graduating date</td>\n",
       "      <td>Worked in a role unrelated to my studies</td>\n",
       "      <td>Acquired skills unrelated to course of study</td>\n",
       "      <td>Moderately</td>\n",
       "      <td>Moderately</td>\n",
       "      <td>Worse lectures after the strike</td>\n",
       "      <td>often</td>\n",
       "      <td>10</td>\n",
       "      <td>1</td>\n",
       "      <td>3.42</td>\n",
       "      <td>3.72</td>\n",
       "      <td>0.3</td>\n",
       "    </tr>\n",
       "  </tbody>\n",
       "</table>\n",
       "</div>"
      ],
      "text/plain": [
       "                school      level  age gender relationship          faculty  \\\n",
       "3  university of lagos  400 Level   29   Male       Dating  Social Sciences   \n",
       "9  university of lagos  500 Level   25   Male       Single      Engineering   \n",
       "\n",
       "                                department   strike_effect  \\\n",
       "3                        Political science            Good   \n",
       "9  Surveying & geo-informatics engineering  Still the same   \n",
       "\n",
       "                   challenge                                      work  \\\n",
       "3                   Reading   Worked in a role unrelated to my studies   \n",
       "9  Prolonged graduating date  Worked in a role unrelated to my studies   \n",
       "\n",
       "                                         skills prep_before  prep_after  \\\n",
       "3  Acquired skills unrelated to course of study  Moderately        Very   \n",
       "9  Acquired skills unrelated to course of study  Moderately  Moderately   \n",
       "\n",
       "                           lecture academic_act  courses_taken  course_unit  \\\n",
       "3             No noticeable change       rarely              7            1   \n",
       "9  Worse lectures after the strike        often             10            1   \n",
       "\n",
       "   cgpa_before  cgpa_after  cgpa_change  \n",
       "3         3.86        3.96          0.1  \n",
       "9         3.42        3.72          0.3  "
      ]
     },
     "execution_count": 87,
     "metadata": {},
     "output_type": "execute_result"
    }
   ],
   "source": [
    "df_valid_cgpa[(df_valid_cgpa['course_unit'] == 1)].head(2)"
   ]
  },
  {
   "cell_type": "markdown",
   "metadata": {},
   "source": [
    "***There is a noticed problem, some course units have less values than the no of courses taken which should not be possible***\n",
    "\n",
    "***Let's take another approach***"
   ]
  },
  {
   "cell_type": "code",
   "execution_count": 88,
   "metadata": {},
   "outputs": [],
   "source": [
    "# Extract rows where the value in 'column1' is NOT smaller than the value in 'column2'\n",
    "# and where the value in 'column3' is NOT greater than 24\n",
    "\n",
    "valid_course_unit = df_valid_cgpa[(df_valid_cgpa['course_unit'] > df_valid_cgpa['courses_taken']) & (df_valid_cgpa['course_unit'] <= 24)]\n"
   ]
  },
  {
   "cell_type": "code",
   "execution_count": 89,
   "metadata": {},
   "outputs": [
    {
     "data": {
      "text/plain": [
       "array([23, 18, 15, 21, 20,  9, 16, 22, 24, 17, 19, 12,  8, 14, 13, 10, 11],\n",
       "      dtype=int64)"
      ]
     },
     "execution_count": 89,
     "metadata": {},
     "output_type": "execute_result"
    }
   ],
   "source": [
    "valid_course_unit['course_unit'].unique()"
   ]
  },
  {
   "cell_type": "markdown",
   "metadata": {},
   "source": [
    "##### Convert the numerical values to a categorical representation for the ANOVA Test"
   ]
  },
  {
   "cell_type": "code",
   "execution_count": 90,
   "metadata": {},
   "outputs": [],
   "source": [
    "def course_units(row):\n",
    "    if row >= 0 and row < 8:\n",
    "        return 'Range: 0 - 7'\n",
    "    elif row >= 8 and row < 16:\n",
    "        return 'Range: 8 - 15'\n",
    "    else:\n",
    "        return 'Range: 16 - 24'"
   ]
  },
  {
   "cell_type": "code",
   "execution_count": 91,
   "metadata": {},
   "outputs": [
    {
     "name": "stderr",
     "output_type": "stream",
     "text": [
      "C:\\Users\\Modupe\\AppData\\Local\\Temp\\ipykernel_7612\\321468735.py:1: SettingWithCopyWarning: \n",
      "A value is trying to be set on a copy of a slice from a DataFrame.\n",
      "Try using .loc[row_indexer,col_indexer] = value instead\n",
      "\n",
      "See the caveats in the documentation: https://pandas.pydata.org/pandas-docs/stable/user_guide/indexing.html#returning-a-view-versus-a-copy\n",
      "  valid_course_unit['course_units_cat'] = valid_course_unit.course_unit.apply(course_units)\n"
     ]
    }
   ],
   "source": [
    "valid_course_unit['course_units_cat'] = valid_course_unit.course_unit.apply(course_units)"
   ]
  },
  {
   "cell_type": "code",
   "execution_count": 92,
   "metadata": {},
   "outputs": [],
   "source": [
    "valid_course_unit = valid_course_unit.reset_index(drop=True)"
   ]
  },
  {
   "cell_type": "code",
   "execution_count": 93,
   "metadata": {},
   "outputs": [
    {
     "data": {
      "text/html": [
       "<div>\n",
       "<style scoped>\n",
       "    .dataframe tbody tr th:only-of-type {\n",
       "        vertical-align: middle;\n",
       "    }\n",
       "\n",
       "    .dataframe tbody tr th {\n",
       "        vertical-align: top;\n",
       "    }\n",
       "\n",
       "    .dataframe thead th {\n",
       "        text-align: right;\n",
       "    }\n",
       "</style>\n",
       "<table border=\"1\" class=\"dataframe\">\n",
       "  <thead>\n",
       "    <tr style=\"text-align: right;\">\n",
       "      <th></th>\n",
       "      <th>school</th>\n",
       "      <th>level</th>\n",
       "      <th>age</th>\n",
       "      <th>gender</th>\n",
       "      <th>relationship</th>\n",
       "      <th>faculty</th>\n",
       "      <th>department</th>\n",
       "      <th>strike_effect</th>\n",
       "      <th>challenge</th>\n",
       "      <th>work</th>\n",
       "      <th>...</th>\n",
       "      <th>prep_before</th>\n",
       "      <th>prep_after</th>\n",
       "      <th>lecture</th>\n",
       "      <th>academic_act</th>\n",
       "      <th>courses_taken</th>\n",
       "      <th>course_unit</th>\n",
       "      <th>cgpa_before</th>\n",
       "      <th>cgpa_after</th>\n",
       "      <th>cgpa_change</th>\n",
       "      <th>course_units_cat</th>\n",
       "    </tr>\n",
       "  </thead>\n",
       "  <tbody>\n",
       "    <tr>\n",
       "      <th>4</th>\n",
       "      <td>university of lagos</td>\n",
       "      <td>200 Level</td>\n",
       "      <td>20</td>\n",
       "      <td>Female</td>\n",
       "      <td>Single</td>\n",
       "      <td>Sciences</td>\n",
       "      <td>Statistics</td>\n",
       "      <td>NaN</td>\n",
       "      <td>NaN</td>\n",
       "      <td>Worked in a role unrelated to my studies</td>\n",
       "      <td>...</td>\n",
       "      <td>Moderately</td>\n",
       "      <td>Moderately</td>\n",
       "      <td>No noticeable change</td>\n",
       "      <td>rarely</td>\n",
       "      <td>5</td>\n",
       "      <td>15</td>\n",
       "      <td>4.00</td>\n",
       "      <td>3.80</td>\n",
       "      <td>-0.20</td>\n",
       "      <td>Range: 8 - 15</td>\n",
       "    </tr>\n",
       "    <tr>\n",
       "      <th>8</th>\n",
       "      <td>university of lagos</td>\n",
       "      <td>400 Level</td>\n",
       "      <td>22</td>\n",
       "      <td>Female</td>\n",
       "      <td>Single</td>\n",
       "      <td>Sciences</td>\n",
       "      <td>Marine science</td>\n",
       "      <td>Extra 1.7 months addition to normal graduation...</td>\n",
       "      <td>The uncertainty</td>\n",
       "      <td>Worked in a role unrelated to my studies</td>\n",
       "      <td>...</td>\n",
       "      <td>Very</td>\n",
       "      <td>Moderately</td>\n",
       "      <td>No noticeable change</td>\n",
       "      <td>rarely</td>\n",
       "      <td>3</td>\n",
       "      <td>9</td>\n",
       "      <td>4.16</td>\n",
       "      <td>4.08</td>\n",
       "      <td>-0.08</td>\n",
       "      <td>Range: 8 - 15</td>\n",
       "    </tr>\n",
       "  </tbody>\n",
       "</table>\n",
       "<p>2 rows × 21 columns</p>\n",
       "</div>"
      ],
      "text/plain": [
       "                school      level  age  gender relationship   faculty  \\\n",
       "4  university of lagos  200 Level   20  Female       Single  Sciences   \n",
       "8  university of lagos  400 Level   22  Female       Single  Sciences   \n",
       "\n",
       "       department                                      strike_effect  \\\n",
       "4      Statistics                                                NaN   \n",
       "8  Marine science  Extra 1.7 months addition to normal graduation...   \n",
       "\n",
       "          challenge                                      work  ...  \\\n",
       "4               NaN  Worked in a role unrelated to my studies  ...   \n",
       "8  The uncertainty   Worked in a role unrelated to my studies  ...   \n",
       "\n",
       "  prep_before  prep_after               lecture academic_act courses_taken  \\\n",
       "4  Moderately  Moderately  No noticeable change       rarely             5   \n",
       "8        Very  Moderately  No noticeable change       rarely             3   \n",
       "\n",
       "   course_unit  cgpa_before  cgpa_after  cgpa_change  course_units_cat  \n",
       "4           15         4.00        3.80        -0.20     Range: 8 - 15  \n",
       "8            9         4.16        4.08        -0.08     Range: 8 - 15  \n",
       "\n",
       "[2 rows x 21 columns]"
      ]
     },
     "execution_count": 93,
     "metadata": {},
     "output_type": "execute_result"
    }
   ],
   "source": [
    "valid_course_unit[(valid_course_unit['course_units_cat'] == 'Range: 8 - 15')].head(2)"
   ]
  },
  {
   "cell_type": "markdown",
   "metadata": {},
   "source": [
    "## Confirming Assumptions"
   ]
  },
  {
   "cell_type": "code",
   "execution_count": 94,
   "metadata": {},
   "outputs": [
    {
     "name": "stdout",
     "output_type": "stream",
     "text": [
      "The given data passes both tests of homoscedasticity and normality.\n"
     ]
    }
   ],
   "source": [
    "course_anova_assumptions = anova_assumptions_test(feature='course_units_cat', target='cgpa_change', df=valid_course_unit)\n",
    "\n",
    "print(course_anova_assumptions)"
   ]
  },
  {
   "cell_type": "markdown",
   "metadata": {},
   "source": [
    "## Hypothesis Testing of Course Units on CGPA Change"
   ]
  },
  {
   "cell_type": "code",
   "execution_count": 95,
   "metadata": {},
   "outputs": [
    {
     "data": {
      "text/plain": [
       "'ANOVA F-statistic:\", 0.6126395035652697, \"ANOVA p-value:\", 0.43464903888538864'"
      ]
     },
     "execution_count": 95,
     "metadata": {},
     "output_type": "execute_result"
    }
   ],
   "source": [
    "course_hypothesis_test = perform_one_way_anova(feature='course_units_cat', target='cgpa_change', df=valid_course_unit)\n",
    "\n",
    "course_hypothesis_test  "
   ]
  },
  {
   "cell_type": "markdown",
   "metadata": {},
   "source": [
    "The p-value score of 0.435 is greater than the significance level of 0.05.\n",
    "\n",
    "So p-value > alpha: this means that we fail to reject the null hypothesis.\n",
    "\n",
    "**There is no significant difference between the average cgpa change across the different course units groups**                                                                     \n",
    "\n"
   ]
  },
  {
   "cell_type": "markdown",
   "metadata": {},
   "source": [
    "### Visualizing the difference or lack of difference"
   ]
  },
  {
   "cell_type": "code",
   "execution_count": 96,
   "metadata": {},
   "outputs": [
    {
     "data": {
      "image/png": "[encoded data removed]",
      "text/plain": [
       "<Figure size 617.143x360 with 1 Axes>"
      ]
     },
     "metadata": {},
     "output_type": "display_data"
    }
   ],
   "source": [
    "sns.catplot(\n",
    "    kind='box',\n",
    "    data=valid_course_unit,\n",
    "    x='cgpa_change',\n",
    "    y='course_units_cat',\n",
    "    aspect=12/7\n",
    ")\n",
    "plt.axvline(valid_course_unit.cgpa_change.mean(),color='red',label='Population CGPA Average')      \n",
    "plt.legend(loc='upper right')                                                                           \n",
    "plt.title('Boxplot of CGPA Change Split By Course Units Differences');"
   ]
  },
  {
   "cell_type": "code",
   "execution_count": 97,
   "metadata": {},
   "outputs": [
    {
     "data": {
      "image/png": "[encoded data removed]",
      "text/plain": [
       "<Figure size 617.143x720 with 2 Axes>"
      ]
     },
     "metadata": {},
     "output_type": "display_data"
    }
   ],
   "source": [
    "generate_subplots(valid_course_unit, x_col='cgpa_change', row_col='course_units_cat')\n"
   ]
  },
  {
   "cell_type": "code",
   "execution_count": null,
   "metadata": {},
   "outputs": [],
   "source": []
  },
  {
   "cell_type": "code",
   "execution_count": null,
   "metadata": {},
   "outputs": [],
   "source": []
  }
 ],
 "metadata": {
  "kernelspec": {
   "display_name": "Python 3 (ipykernel)",
   "language": "python",
   "name": "python3"
  },
  "language_info": {
   "codemirror_mode": {
    "name": "ipython",
    "version": 3
   },
   "file_extension": ".py",
   "mimetype": "text/x-python",
   "name": "python",
   "nbconvert_exporter": "python",
   "pygments_lexer": "ipython3",
   "version": "3.9.12"
  }
 },
 "nbformat": 4,
 "nbformat_minor": 2
}
