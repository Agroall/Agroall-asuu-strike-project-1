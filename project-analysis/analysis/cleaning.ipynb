{
 "cells": [
  {
   "attachments": {},
   "cell_type": "markdown",
   "id": "ecb2862e",
   "metadata": {},
   "source": [
    "# Data Cleaning\n",
    "\n",
    "In this file, we are going to clean our data and save the created dataframes for future analysis.\n",
    "\n",
    "While we attempted to reduce the amount of cleaning required, via good survey design, there are still some cases that would require cleaning. "
   ]
  },
  {
   "attachments": {},
   "cell_type": "markdown",
   "id": "3a307f3e",
   "metadata": {},
   "source": [
    "## Import packages"
   ]
  },
  {
   "cell_type": "code",
   "execution_count": 218,
   "id": "a87e6536",
   "metadata": {},
   "outputs": [],
   "source": [
    "import pandas as pd\n",
    "import numpy as np\n",
    "import matplotlib.pyplot as plt\n",
    "import seaborn as sns\n",
    "import utils\n",
    "from sklearn.metrics import mean_squared_error, r2_score\n",
    "from sklearn.compose import ColumnTransformer\n",
    "from sklearn.pipeline import Pipeline\n",
    "from sklearn.impute import SimpleImputer\n",
    "from sklearn.decomposition import PCA\n",
    "from fuzzywuzzy import fuzz\n",
    "import lightgbm as lgb\n",
    "from category_encoders import BinaryEncoder"
   ]
  },
  {
   "attachments": {},
   "cell_type": "markdown",
   "id": "e65f635c",
   "metadata": {},
   "source": [
    "## Inspect data"
   ]
  },
  {
   "attachments": {},
   "cell_type": "markdown",
   "id": "8bccc2d6",
   "metadata": {},
   "source": [
    "Load data"
   ]
  },
  {
   "cell_type": "code",
   "execution_count": 219,
   "id": "fcf268f8",
   "metadata": {},
   "outputs": [],
   "source": [
    "data_filepath = \"../data/strike_and_academic_performance.csv\"\n",
    "\n",
    "data = pd.read_csv(data_filepath)"
   ]
  },
  {
   "cell_type": "code",
   "execution_count": 220,
   "id": "316b4a7d",
   "metadata": {},
   "outputs": [
    {
     "name": "stdout",
     "output_type": "stream",
     "text": [
      "<class 'pandas.core.frame.DataFrame'>\n",
      "RangeIndex: 431 entries, 0 to 430\n",
      "Data columns (total 21 columns):\n",
      " #   Column                                                                              Non-Null Count  Dtype  \n",
      "---  ------                                                                              --------------  -----  \n",
      " 0   Are you a student of the University of Lagos?                                       431 non-null    object \n",
      " 1   If not, what is your university/institution?                                        22 non-null     object \n",
      " 2   What is your current academic level?                                                431 non-null    object \n",
      " 3   How old are you?                                                                    431 non-null    int64  \n",
      " 4   What is your gender?                                                                431 non-null    object \n",
      " 5   What was your relationship status during the strike?                                431 non-null    object \n",
      " 6   What is your faculty?                                                               431 non-null    object \n",
      " 7   What is your department?                                                            431 non-null    object \n",
      " 8   Kindly input your department, if not listed in the previous question.               28 non-null     object \n",
      " 9   How has the ASUU strike affected you and your academic performance?                 345 non-null    object \n",
      " 10  What was the most challenging part of returning to academic life after the strike?  340 non-null    object \n",
      " 11  Did you undertake any work during the strike?                                       431 non-null    object \n",
      " 12  How did you develop yourself during the strike?                                     431 non-null    object \n",
      " 13  How prepared were you for the exams? [Before Strike]                                431 non-null    object \n",
      " 14  How prepared were you for the exams? [After Strike]                                 431 non-null    object \n",
      " 15  How were your lectures affected by the strike?                                      431 non-null    object \n",
      " 16  How often did you engage in academic activities during the strike?                  431 non-null    object \n",
      " 17  How many courses did you take in the affected semester?                             431 non-null    int64  \n",
      " 18  How many credit units did your courses add up to in the affected semester?          353 non-null    float64\n",
      " 19  What was your CGPA before the strike?                                               431 non-null    float64\n",
      " 20  What is your current CGPA?                                                          431 non-null    float64\n",
      "dtypes: float64(3), int64(2), object(16)\n",
      "memory usage: 70.8+ KB\n"
     ]
    }
   ],
   "source": [
    "data.info()"
   ]
  },
  {
   "attachments": {},
   "cell_type": "markdown",
   "id": "0619fa3e",
   "metadata": {},
   "source": [
    "Are there any missing values?"
   ]
  },
  {
   "cell_type": "code",
   "execution_count": 221,
   "id": "3ab0624b",
   "metadata": {},
   "outputs": [
    {
     "data": {
      "text/plain": [
       "Are you a student of the University of Lagos?                                           0\n",
       "If not, what is your university/institution?                                          409\n",
       "What is your current academic level?                                                    0\n",
       "How old are you?                                                                        0\n",
       "What is your gender?                                                                    0\n",
       "What was your relationship status during the strike?                                    0\n",
       "What is your faculty?                                                                   0\n",
       "What is your department?                                                                0\n",
       "Kindly input your department, if not listed in the previous question.                 403\n",
       "How has the ASUU strike affected you and your academic performance?                    86\n",
       "What was the most challenging part of returning to academic life after the strike?     91\n",
       "Did you undertake any work during the strike?                                           0\n",
       "How did you develop yourself during the strike?                                         0\n",
       "How prepared were you for the exams? [Before Strike]                                    0\n",
       "How prepared were you for the exams? [After Strike]                                     0\n",
       "How were your lectures affected by the strike?                                          0\n",
       "How often did you engage in academic activities during the strike?                      0\n",
       "How many courses did you take in the affected semester?                                 0\n",
       "How many credit units did your courses add up to in the affected semester?             78\n",
       "What was your CGPA before the strike?                                                   0\n",
       "What is your current CGPA?                                                              0\n",
       "dtype: int64"
      ]
     },
     "execution_count": 221,
     "metadata": {},
     "output_type": "execute_result"
    }
   ],
   "source": [
    "data.isna().sum()"
   ]
  },
  {
   "attachments": {},
   "cell_type": "markdown",
   "id": "ac1bd207",
   "metadata": {},
   "source": [
    "### Rename Columns\n",
    "The current column names are too long. Let's make them shorter for easier analysis."
   ]
  },
  {
   "cell_type": "code",
   "execution_count": 222,
   "id": "6de003d8",
   "metadata": {},
   "outputs": [
    {
     "data": {
      "text/html": [
       "<div>\n",
       "<style scoped>\n",
       "    .dataframe tbody tr th:only-of-type {\n",
       "        vertical-align: middle;\n",
       "    }\n",
       "\n",
       "    .dataframe tbody tr th {\n",
       "        vertical-align: top;\n",
       "    }\n",
       "\n",
       "    .dataframe thead th {\n",
       "        text-align: right;\n",
       "    }\n",
       "</style>\n",
       "<table border=\"1\" class=\"dataframe\">\n",
       "  <thead>\n",
       "    <tr style=\"text-align: right;\">\n",
       "      <th></th>\n",
       "      <th>unilag</th>\n",
       "      <th>non_unilag</th>\n",
       "      <th>level</th>\n",
       "      <th>age</th>\n",
       "      <th>gender</th>\n",
       "      <th>relationship</th>\n",
       "      <th>faculty</th>\n",
       "      <th>department</th>\n",
       "      <th>other_dept</th>\n",
       "      <th>strike_effect</th>\n",
       "      <th>...</th>\n",
       "      <th>work</th>\n",
       "      <th>skills</th>\n",
       "      <th>prep_before</th>\n",
       "      <th>prep_after</th>\n",
       "      <th>lecture</th>\n",
       "      <th>academic_act</th>\n",
       "      <th>courses_taken</th>\n",
       "      <th>course_unit</th>\n",
       "      <th>cgpa_before</th>\n",
       "      <th>cgpa_after</th>\n",
       "    </tr>\n",
       "  </thead>\n",
       "  <tbody>\n",
       "    <tr>\n",
       "      <th>0</th>\n",
       "      <td>Yes</td>\n",
       "      <td>NaN</td>\n",
       "      <td>400 Level</td>\n",
       "      <td>22</td>\n",
       "      <td>Male</td>\n",
       "      <td>Single</td>\n",
       "      <td>Engineering</td>\n",
       "      <td>Chemical Engineering</td>\n",
       "      <td>NaN</td>\n",
       "      <td>I learned how to study better and my grades al...</td>\n",
       "      <td>...</td>\n",
       "      <td>Worked in a role relevant to my studies</td>\n",
       "      <td>Acquired skills unrelated to course of study</td>\n",
       "      <td>Poorly</td>\n",
       "      <td>Poorly</td>\n",
       "      <td>No noticeable change</td>\n",
       "      <td>Rarely: I engaged in academic activities once ...</td>\n",
       "      <td>10</td>\n",
       "      <td>23.0</td>\n",
       "      <td>3.39</td>\n",
       "      <td>3.51</td>\n",
       "    </tr>\n",
       "    <tr>\n",
       "      <th>1</th>\n",
       "      <td>Yes</td>\n",
       "      <td>NaN</td>\n",
       "      <td>400 Level</td>\n",
       "      <td>23</td>\n",
       "      <td>Female</td>\n",
       "      <td>Single</td>\n",
       "      <td>Engineering</td>\n",
       "      <td>Chemical Engineering</td>\n",
       "      <td>NaN</td>\n",
       "      <td>It affected it in a negative way as it became ...</td>\n",
       "      <td>...</td>\n",
       "      <td>Did not work during the strike</td>\n",
       "      <td>Acquired skills unrelated to course of study</td>\n",
       "      <td>Poorly</td>\n",
       "      <td>Moderately</td>\n",
       "      <td>No noticeable change</td>\n",
       "      <td>Rarely: I engaged in academic activities once ...</td>\n",
       "      <td>10</td>\n",
       "      <td>23.0</td>\n",
       "      <td>4.44</td>\n",
       "      <td>4.50</td>\n",
       "    </tr>\n",
       "  </tbody>\n",
       "</table>\n",
       "<p>2 rows × 21 columns</p>\n",
       "</div>"
      ],
      "text/plain": [
       "  unilag non_unilag      level  age  gender relationship      faculty  \\\n",
       "0    Yes        NaN  400 Level   22    Male       Single  Engineering   \n",
       "1    Yes        NaN  400 Level   23  Female       Single  Engineering   \n",
       "\n",
       "             department other_dept  \\\n",
       "0  Chemical Engineering        NaN   \n",
       "1  Chemical Engineering        NaN   \n",
       "\n",
       "                                       strike_effect  ...  \\\n",
       "0  I learned how to study better and my grades al...  ...   \n",
       "1  It affected it in a negative way as it became ...  ...   \n",
       "\n",
       "                                      work  \\\n",
       "0  Worked in a role relevant to my studies   \n",
       "1           Did not work during the strike   \n",
       "\n",
       "                                         skills prep_before  prep_after  \\\n",
       "0  Acquired skills unrelated to course of study      Poorly      Poorly   \n",
       "1  Acquired skills unrelated to course of study      Poorly  Moderately   \n",
       "\n",
       "                lecture                                       academic_act  \\\n",
       "0  No noticeable change  Rarely: I engaged in academic activities once ...   \n",
       "1  No noticeable change  Rarely: I engaged in academic activities once ...   \n",
       "\n",
       "  courses_taken  course_unit  cgpa_before  cgpa_after  \n",
       "0            10         23.0         3.39        3.51  \n",
       "1            10         23.0         4.44        4.50  \n",
       "\n",
       "[2 rows x 21 columns]"
      ]
     },
     "execution_count": 222,
     "metadata": {},
     "output_type": "execute_result"
    }
   ],
   "source": [
    "# Rename multiple columns\n",
    "\n",
    "column_mapping = {\n",
    "    'Are you a student of the University of Lagos?': 'unilag',\n",
    "    'If not, what is your university/institution?': 'non_unilag',\n",
    "    'What is your current academic level?': 'level',\n",
    "    'How old are you?': 'age',\n",
    "    'What is your gender?': 'gender',\n",
    "    'What was your relationship status during the strike?': 'relationship',\n",
    "    'What is your faculty?': 'faculty',\n",
    "    'What is your department?': 'department',\n",
    "    'Kindly input your department, if not listed in the previous question. ': 'other_dept',\n",
    "    'How has the ASUU strike affected you and your academic performance?': 'strike_effect',\n",
    "    'What was the most challenging part of returning to academic life after the strike?': 'challenge',\n",
    "    'Did you undertake any work during the strike?': 'work',\n",
    "    'How did you develop yourself during the strike?': 'skills',\n",
    "    'How prepared were you for the exams? [Before Strike]': 'prep_before',\n",
    "    'How prepared were you for the exams? [After Strike]': 'prep_after',\n",
    "    'How were your lectures affected by the strike?': 'lecture',\n",
    "    'How often did you engage in academic activities during the strike?': 'academic_act',\n",
    "    'How many courses did you take in the affected semester? ': 'courses_taken',\n",
    "    'How many credit units did your courses add up to in the affected semester?': 'course_unit',\n",
    "    'What was your CGPA before the strike?': 'cgpa_before',\n",
    "    'What is your current CGPA?': 'cgpa_after'\n",
    "}\n",
    "\n",
    "data = data.rename(columns=column_mapping)\n",
    "\n",
    "data.head(2)"
   ]
  },
  {
   "attachments": {},
   "cell_type": "markdown",
   "id": "e44c2169",
   "metadata": {},
   "source": [
    "### Creating our target column\n",
    "Our target column in this analysis is the change in CGPA after the strike. We're trying to see if the strike had a positive or negative effect on the participants.\n",
    "\n",
    "If CGPA increases after the strike, it may be possible that the strike had a positive effect on the participants. And vice versa. "
   ]
  },
  {
   "cell_type": "code",
   "execution_count": 223,
   "id": "0ebda94f",
   "metadata": {},
   "outputs": [],
   "source": [
    "#Creating our outcome variable column\n",
    "\n",
    "data['cgpa_change'] = data['cgpa_after'] - data['cgpa_before']"
   ]
  },
  {
   "attachments": {},
   "cell_type": "markdown",
   "id": "1cc634a1",
   "metadata": {},
   "source": [
    "## Solving the department debacle\n",
    "\n",
    "There are 2 columns for department `department` and `other_dept`, \n",
    "1. One contains the main department of individuals who had their department on the list while filling, and those that did not find theirs and had to specify\n",
    "2. We have to find a way to merge them, as clearly one of the columns aren't needed"
   ]
  },
  {
   "cell_type": "code",
   "execution_count": 224,
   "id": "8749ce38",
   "metadata": {},
   "outputs": [
    {
     "data": {
      "text/plain": [
       "array(['Chemical Engineering', 'Political Science',\n",
       "       'Computer Engineering', 'Educational Foundations', 'Statistics',\n",
       "       'Geosciences', 'Science Tech. Education',\n",
       "       'Petroleum & Gas Engineering', 'Cell Biology & Genetics',\n",
       "       'Surveying & Geo-Informatics Engineering', 'Mathematics',\n",
       "       'Finance', 'Marine Science',\n",
       "       'Industrial Relations & Personnel Management',\n",
       "       'Mechanical Engineering', 'Mass Communication',\n",
       "       'Biomedical Engineering', 'Estate', 'Other',\n",
       "       'Biochemistry (Basic Medical Sciences)', 'Law', 'Medicine',\n",
       "       'Arts & Social Science Education', 'Zoology',\n",
       "       'Biochemistry (Sciences)', 'Education Administration', 'Botany',\n",
       "       'Economics', 'Systems Engineering', 'Psychology', 'Accounting',\n",
       "       'Physics', 'Radiology', 'Electrical & Electronics Engineering',\n",
       "       'Geography', 'Microbiology', 'Chemistry', 'Architecture',\n",
       "       'Biology Education', 'Human Kinetics & Health Education',\n",
       "       'Physiology', 'Adult Education',\n",
       "       'Civil & Environmental Engineering', 'Philosophy',\n",
       "       'Pharmaceutics & Pharmaceutical Technology', 'English',\n",
       "       'Quantity Surveying', 'Metallurgical & Materials Engineering',\n",
       "       'Actuarial Science & Insurance',\n",
       "       'European Languages & Integration Studies', 'Nursing',\n",
       "       'History & Strategic Studies', 'Computer Sciences', 'Building',\n",
       "       'Business Administration', 'Sociology', 'Restorative Dentistry',\n",
       "       'Medical Laboratory Science'], dtype=object)"
      ]
     },
     "execution_count": 224,
     "metadata": {},
     "output_type": "execute_result"
    }
   ],
   "source": [
    "data.department.unique()"
   ]
  },
  {
   "cell_type": "code",
   "execution_count": 225,
   "id": "b8f92fda",
   "metadata": {},
   "outputs": [
    {
     "data": {
      "text/plain": [
       "array([nan, 'Geophysics ', 'Radiography ', 'Biology Education ',\n",
       "       'FISHERIES ', 'Education and Biology ', 'Pharmacy ', 'Law ',\n",
       "       'Early childhood education ', 'Education Eng',\n",
       "       'Business Education ', 'Education ', 'Business Education',\n",
       "       'Religious Studies ', 'Technology and vocational education ',\n",
       "       'Communication and Language Arts ', 'Pharmacology ',\n",
       "       'Pharmacology, therapeutics and toxicology ', 'PHARMACY ',\n",
       "       'Pharmacy', 'Pharmacology', 'Mechatronics Engineering.',\n",
       "       'Banking and Finance ', 'Insurance ', 'Education foundation ',\n",
       "       'Art & Social Science Education '], dtype=object)"
      ]
     },
     "execution_count": 225,
     "metadata": {},
     "output_type": "execute_result"
    }
   ],
   "source": [
    "data.other_dept.unique()"
   ]
  },
  {
   "attachments": {},
   "cell_type": "markdown",
   "id": "3dca86e5",
   "metadata": {},
   "source": [
    "Replace \"Other\" in `department` with the corresponding value from `other_dept`"
   ]
  },
  {
   "cell_type": "code",
   "execution_count": 226,
   "id": "6d3e53b7",
   "metadata": {},
   "outputs": [],
   "source": [
    "data['department'] = data['department'].str.lower()\n",
    "data['other_dept'] = data['other_dept'].str.lower()\n",
    "\n",
    "\n",
    "data['department'] = data.apply(lambda row: row['other_dept'] if row['department'] == 'other' else row['department'], axis=1).str.capitalize()\n"
   ]
  },
  {
   "cell_type": "code",
   "execution_count": 227,
   "id": "9583e630",
   "metadata": {},
   "outputs": [
    {
     "data": {
      "text/html": [
       "<div>\n",
       "<style scoped>\n",
       "    .dataframe tbody tr th:only-of-type {\n",
       "        vertical-align: middle;\n",
       "    }\n",
       "\n",
       "    .dataframe tbody tr th {\n",
       "        vertical-align: top;\n",
       "    }\n",
       "\n",
       "    .dataframe thead th {\n",
       "        text-align: right;\n",
       "    }\n",
       "</style>\n",
       "<table border=\"1\" class=\"dataframe\">\n",
       "  <thead>\n",
       "    <tr style=\"text-align: right;\">\n",
       "      <th></th>\n",
       "      <th>unilag</th>\n",
       "      <th>non_unilag</th>\n",
       "      <th>level</th>\n",
       "      <th>age</th>\n",
       "      <th>gender</th>\n",
       "      <th>relationship</th>\n",
       "      <th>faculty</th>\n",
       "      <th>department</th>\n",
       "      <th>other_dept</th>\n",
       "      <th>strike_effect</th>\n",
       "      <th>...</th>\n",
       "      <th>skills</th>\n",
       "      <th>prep_before</th>\n",
       "      <th>prep_after</th>\n",
       "      <th>lecture</th>\n",
       "      <th>academic_act</th>\n",
       "      <th>courses_taken</th>\n",
       "      <th>course_unit</th>\n",
       "      <th>cgpa_before</th>\n",
       "      <th>cgpa_after</th>\n",
       "      <th>cgpa_change</th>\n",
       "    </tr>\n",
       "  </thead>\n",
       "  <tbody>\n",
       "    <tr>\n",
       "      <th>51</th>\n",
       "      <td>Yes</td>\n",
       "      <td>NaN</td>\n",
       "      <td>200 Level</td>\n",
       "      <td>20</td>\n",
       "      <td>Male</td>\n",
       "      <td>Single</td>\n",
       "      <td>Pharmacy</td>\n",
       "      <td>NaN</td>\n",
       "      <td>NaN</td>\n",
       "      <td>NaN</td>\n",
       "      <td>...</td>\n",
       "      <td>Acquired skills unrelated to course of study</td>\n",
       "      <td>Moderately</td>\n",
       "      <td>Moderately</td>\n",
       "      <td>Fewer lecturers attended classes</td>\n",
       "      <td>Often: I engaged in academic activities regula...</td>\n",
       "      <td>7</td>\n",
       "      <td>NaN</td>\n",
       "      <td>5.0</td>\n",
       "      <td>4.89</td>\n",
       "      <td>-0.11</td>\n",
       "    </tr>\n",
       "    <tr>\n",
       "      <th>331</th>\n",
       "      <td>Yes</td>\n",
       "      <td>NaN</td>\n",
       "      <td>300 Level</td>\n",
       "      <td>22</td>\n",
       "      <td>Female</td>\n",
       "      <td>Single</td>\n",
       "      <td>Social Sciences</td>\n",
       "      <td>NaN</td>\n",
       "      <td>NaN</td>\n",
       "      <td>I am mentally tired</td>\n",
       "      <td>...</td>\n",
       "      <td>Volunteered for an event or organization, Acqu...</td>\n",
       "      <td>Moderately</td>\n",
       "      <td>Poorly</td>\n",
       "      <td>No noticeable change</td>\n",
       "      <td>Rarely: I engaged in academic activities once ...</td>\n",
       "      <td>7</td>\n",
       "      <td>18.0</td>\n",
       "      <td>0.0</td>\n",
       "      <td>0.00</td>\n",
       "      <td>0.00</td>\n",
       "    </tr>\n",
       "  </tbody>\n",
       "</table>\n",
       "<p>2 rows × 22 columns</p>\n",
       "</div>"
      ],
      "text/plain": [
       "    unilag non_unilag      level  age  gender relationship          faculty  \\\n",
       "51     Yes        NaN  200 Level   20    Male       Single         Pharmacy   \n",
       "331    Yes        NaN  300 Level   22  Female       Single  Social Sciences   \n",
       "\n",
       "    department other_dept         strike_effect  ...  \\\n",
       "51         NaN        NaN                   NaN  ...   \n",
       "331        NaN        NaN  I am mentally tired   ...   \n",
       "\n",
       "                                                skills prep_before  \\\n",
       "51        Acquired skills unrelated to course of study  Moderately   \n",
       "331  Volunteered for an event or organization, Acqu...  Moderately   \n",
       "\n",
       "     prep_after                           lecture  \\\n",
       "51   Moderately  Fewer lecturers attended classes   \n",
       "331      Poorly              No noticeable change   \n",
       "\n",
       "                                          academic_act courses_taken  \\\n",
       "51   Often: I engaged in academic activities regula...             7   \n",
       "331  Rarely: I engaged in academic activities once ...             7   \n",
       "\n",
       "    course_unit  cgpa_before  cgpa_after  cgpa_change  \n",
       "51          NaN          5.0        4.89        -0.11  \n",
       "331        18.0          0.0        0.00         0.00  \n",
       "\n",
       "[2 rows x 22 columns]"
      ]
     },
     "execution_count": 227,
     "metadata": {},
     "output_type": "execute_result"
    }
   ],
   "source": [
    "#Deal with any missing data in this column\n",
    "data[data['department'].isna()]"
   ]
  },
  {
   "attachments": {},
   "cell_type": "markdown",
   "id": "0c78dd3d",
   "metadata": {},
   "source": [
    "There are two missing values here. We know that \"Pharmacy is the most common value in `other_dept` for Pharmcy students. Hence, we can replace the NaN there with it. "
   ]
  },
  {
   "cell_type": "code",
   "execution_count": 228,
   "id": "aabe249b",
   "metadata": {},
   "outputs": [],
   "source": [
    "#For location 51\n",
    "data.loc[51, 'department'] = 'Pharmacy'"
   ]
  },
  {
   "attachments": {},
   "cell_type": "markdown",
   "id": "a89476ea",
   "metadata": {},
   "source": [
    "However, we have no context here and would have to drop."
   ]
  },
  {
   "cell_type": "code",
   "execution_count": 229,
   "id": "8aacd036",
   "metadata": {},
   "outputs": [],
   "source": [
    "# Drop row with index 331 and reindex the DataFrame\n",
    "data.drop(331, inplace=True)\n",
    "data.reset_index(drop=True, inplace=True)"
   ]
  },
  {
   "attachments": {},
   "cell_type": "markdown",
   "id": "e6bc24a3",
   "metadata": {},
   "source": [
    "How many rows do we have in the data now?"
   ]
  },
  {
   "cell_type": "code",
   "execution_count": 230,
   "id": "479a1fe8",
   "metadata": {},
   "outputs": [
    {
     "data": {
      "text/plain": [
       "430"
      ]
     },
     "execution_count": 230,
     "metadata": {},
     "output_type": "execute_result"
    }
   ],
   "source": [
    "len(data['department'])"
   ]
  },
  {
   "attachments": {},
   "cell_type": "markdown",
   "id": "9d56d3e2",
   "metadata": {},
   "source": [
    "Now let's drop the other_dept column."
   ]
  },
  {
   "cell_type": "code",
   "execution_count": 231,
   "id": "c911090d",
   "metadata": {},
   "outputs": [
    {
     "data": {
      "text/html": [
       "<div>\n",
       "<style scoped>\n",
       "    .dataframe tbody tr th:only-of-type {\n",
       "        vertical-align: middle;\n",
       "    }\n",
       "\n",
       "    .dataframe tbody tr th {\n",
       "        vertical-align: top;\n",
       "    }\n",
       "\n",
       "    .dataframe thead th {\n",
       "        text-align: right;\n",
       "    }\n",
       "</style>\n",
       "<table border=\"1\" class=\"dataframe\">\n",
       "  <thead>\n",
       "    <tr style=\"text-align: right;\">\n",
       "      <th></th>\n",
       "      <th>unilag</th>\n",
       "      <th>non_unilag</th>\n",
       "      <th>level</th>\n",
       "      <th>age</th>\n",
       "      <th>gender</th>\n",
       "      <th>relationship</th>\n",
       "      <th>faculty</th>\n",
       "      <th>department</th>\n",
       "      <th>strike_effect</th>\n",
       "      <th>challenge</th>\n",
       "      <th>...</th>\n",
       "      <th>skills</th>\n",
       "      <th>prep_before</th>\n",
       "      <th>prep_after</th>\n",
       "      <th>lecture</th>\n",
       "      <th>academic_act</th>\n",
       "      <th>courses_taken</th>\n",
       "      <th>course_unit</th>\n",
       "      <th>cgpa_before</th>\n",
       "      <th>cgpa_after</th>\n",
       "      <th>cgpa_change</th>\n",
       "    </tr>\n",
       "  </thead>\n",
       "  <tbody>\n",
       "    <tr>\n",
       "      <th>0</th>\n",
       "      <td>Yes</td>\n",
       "      <td>NaN</td>\n",
       "      <td>400 Level</td>\n",
       "      <td>22</td>\n",
       "      <td>Male</td>\n",
       "      <td>Single</td>\n",
       "      <td>Engineering</td>\n",
       "      <td>Chemical engineering</td>\n",
       "      <td>I learned how to study better and my grades al...</td>\n",
       "      <td>Trying to remember things we were taught befor...</td>\n",
       "      <td>...</td>\n",
       "      <td>Acquired skills unrelated to course of study</td>\n",
       "      <td>Poorly</td>\n",
       "      <td>Poorly</td>\n",
       "      <td>No noticeable change</td>\n",
       "      <td>Rarely: I engaged in academic activities once ...</td>\n",
       "      <td>10</td>\n",
       "      <td>23.0</td>\n",
       "      <td>3.39</td>\n",
       "      <td>3.51</td>\n",
       "      <td>0.12</td>\n",
       "    </tr>\n",
       "    <tr>\n",
       "      <th>1</th>\n",
       "      <td>Yes</td>\n",
       "      <td>NaN</td>\n",
       "      <td>400 Level</td>\n",
       "      <td>23</td>\n",
       "      <td>Female</td>\n",
       "      <td>Single</td>\n",
       "      <td>Engineering</td>\n",
       "      <td>Chemical engineering</td>\n",
       "      <td>It affected it in a negative way as it became ...</td>\n",
       "      <td>Rekindling the student in me, lol. Trying to g...</td>\n",
       "      <td>...</td>\n",
       "      <td>Acquired skills unrelated to course of study</td>\n",
       "      <td>Poorly</td>\n",
       "      <td>Moderately</td>\n",
       "      <td>No noticeable change</td>\n",
       "      <td>Rarely: I engaged in academic activities once ...</td>\n",
       "      <td>10</td>\n",
       "      <td>23.0</td>\n",
       "      <td>4.44</td>\n",
       "      <td>4.50</td>\n",
       "      <td>0.06</td>\n",
       "    </tr>\n",
       "  </tbody>\n",
       "</table>\n",
       "<p>2 rows × 21 columns</p>\n",
       "</div>"
      ],
      "text/plain": [
       "  unilag non_unilag      level  age  gender relationship      faculty  \\\n",
       "0    Yes        NaN  400 Level   22    Male       Single  Engineering   \n",
       "1    Yes        NaN  400 Level   23  Female       Single  Engineering   \n",
       "\n",
       "             department                                      strike_effect  \\\n",
       "0  Chemical engineering  I learned how to study better and my grades al...   \n",
       "1  Chemical engineering  It affected it in a negative way as it became ...   \n",
       "\n",
       "                                           challenge  ...  \\\n",
       "0  Trying to remember things we were taught befor...  ...   \n",
       "1  Rekindling the student in me, lol. Trying to g...  ...   \n",
       "\n",
       "                                         skills prep_before  prep_after  \\\n",
       "0  Acquired skills unrelated to course of study      Poorly      Poorly   \n",
       "1  Acquired skills unrelated to course of study      Poorly  Moderately   \n",
       "\n",
       "                lecture                                       academic_act  \\\n",
       "0  No noticeable change  Rarely: I engaged in academic activities once ...   \n",
       "1  No noticeable change  Rarely: I engaged in academic activities once ...   \n",
       "\n",
       "  courses_taken  course_unit  cgpa_before  cgpa_after  cgpa_change  \n",
       "0            10         23.0         3.39        3.51         0.12  \n",
       "1            10         23.0         4.44        4.50         0.06  \n",
       "\n",
       "[2 rows x 21 columns]"
      ]
     },
     "execution_count": 231,
     "metadata": {},
     "output_type": "execute_result"
    }
   ],
   "source": [
    "data.drop(columns=['other_dept'], inplace=True)\n",
    "data.head(2)"
   ]
  },
  {
   "attachments": {},
   "cell_type": "markdown",
   "id": "fec92547",
   "metadata": {},
   "source": [
    "## Are the columns in the right data types?"
   ]
  },
  {
   "cell_type": "code",
   "execution_count": 232,
   "id": "c3786523",
   "metadata": {},
   "outputs": [
    {
     "name": "stdout",
     "output_type": "stream",
     "text": [
      "<class 'pandas.core.frame.DataFrame'>\n",
      "RangeIndex: 430 entries, 0 to 429\n",
      "Data columns (total 21 columns):\n",
      " #   Column         Non-Null Count  Dtype  \n",
      "---  ------         --------------  -----  \n",
      " 0   unilag         430 non-null    string \n",
      " 1   non_unilag     22 non-null     string \n",
      " 2   level          430 non-null    string \n",
      " 3   age            430 non-null    Int64  \n",
      " 4   gender         430 non-null    string \n",
      " 5   relationship   430 non-null    string \n",
      " 6   faculty        430 non-null    string \n",
      " 7   department     430 non-null    string \n",
      " 8   strike_effect  344 non-null    string \n",
      " 9   challenge      339 non-null    string \n",
      " 10  work           430 non-null    string \n",
      " 11  skills         430 non-null    string \n",
      " 12  prep_before    430 non-null    string \n",
      " 13  prep_after     430 non-null    string \n",
      " 14  lecture        430 non-null    string \n",
      " 15  academic_act   430 non-null    string \n",
      " 16  courses_taken  430 non-null    Int64  \n",
      " 17  course_unit    352 non-null    Float64\n",
      " 18  cgpa_before    430 non-null    Float64\n",
      " 19  cgpa_after     430 non-null    Float64\n",
      " 20  cgpa_change    430 non-null    Float64\n",
      "dtypes: Float64(4), Int64(2), string(15)\n",
      "memory usage: 73.2 KB\n"
     ]
    }
   ],
   "source": [
    "data = data.convert_dtypes()\n",
    "\n",
    "data.info()"
   ]
  },
  {
   "attachments": {},
   "cell_type": "markdown",
   "id": "91a62a05",
   "metadata": {},
   "source": [
    "Let's make some further conversions. "
   ]
  },
  {
   "cell_type": "code",
   "execution_count": 233,
   "id": "c7aa78b7",
   "metadata": {},
   "outputs": [
    {
     "name": "stdout",
     "output_type": "stream",
     "text": [
      "<class 'pandas.core.frame.DataFrame'>\n",
      "RangeIndex: 430 entries, 0 to 429\n",
      "Data columns (total 21 columns):\n",
      " #   Column         Non-Null Count  Dtype   \n",
      "---  ------         --------------  -----   \n",
      " 0   unilag         430 non-null    string  \n",
      " 1   non_unilag     22 non-null     string  \n",
      " 2   level          430 non-null    category\n",
      " 3   age            430 non-null    Int64   \n",
      " 4   gender         430 non-null    category\n",
      " 5   relationship   430 non-null    category\n",
      " 6   faculty        430 non-null    category\n",
      " 7   department     430 non-null    category\n",
      " 8   strike_effect  344 non-null    string  \n",
      " 9   challenge      339 non-null    string  \n",
      " 10  work           430 non-null    category\n",
      " 11  skills         430 non-null    string  \n",
      " 12  prep_before    430 non-null    category\n",
      " 13  prep_after     430 non-null    category\n",
      " 14  lecture        430 non-null    category\n",
      " 15  academic_act   430 non-null    category\n",
      " 16  courses_taken  430 non-null    Int64   \n",
      " 17  course_unit    352 non-null    Int64   \n",
      " 18  cgpa_before    430 non-null    Float64 \n",
      " 19  cgpa_after     430 non-null    Float64 \n",
      " 20  cgpa_change    430 non-null    Float64 \n",
      "dtypes: Float64(3), Int64(3), category(10), string(5)\n",
      "memory usage: 48.6 KB\n"
     ]
    }
   ],
   "source": [
    "# convert some columns to category\n",
    "cat_columns = [\n",
    "    \"level\", \"gender\", \"relationship\", \"faculty\", \"department\", \"work\",\"prep_before\", \"prep_after\", \"lecture\", \"academic_act\", \n",
    "    ]\n",
    "\n",
    "data[cat_columns] = data[cat_columns].astype('category')\n",
    "    \n",
    "# convert course_unit to integar\n",
    "data[\"course_unit\"] = data[\"course_unit\"].astype('Int64')\n",
    "    \n",
    "data.info()"
   ]
  },
  {
   "attachments": {},
   "cell_type": "markdown",
   "id": "c4b46083",
   "metadata": {},
   "source": [
    "## Unifying the schools\n",
    "\n",
    "Similar to the departmment debacle, we have two columns to merge. \n",
    "1. `unilag`: Contains a Yes/No option for students of the University of Lagos. \n",
    "2. `non_unilag`: Students not from the University of Lagos had to include their schools."
   ]
  },
  {
   "attachments": {},
   "cell_type": "markdown",
   "id": "fa3b9700",
   "metadata": {},
   "source": [
    "Which schools are represented in this dataset?"
   ]
  },
  {
   "cell_type": "code",
   "execution_count": 234,
   "id": "4eb82b08",
   "metadata": {},
   "outputs": [
    {
     "data": {
      "text/plain": [
       "<StringArray>\n",
       "[                                                                       <NA>,\n",
       "                                                                       'Nil',\n",
       "                                                                   'UNILAG ',\n",
       "             'Federal University of Petroleum Resources Effurun Delta State',\n",
       "                                                           'OOU OGUN STATE ',\n",
       "                                                     'University of Ibadan ',\n",
       " 'Alex Ekwueme Federal University Ndufu-Alike Ikwo, Abakaliki Ebonyi State ',\n",
       "                                                      'University of ibadan',\n",
       "                                                    'Lagos state University',\n",
       "                                                                    'Funaab',\n",
       "                                                        'University of Uyo ',\n",
       "                                                       'University of Abuja',\n",
       "                                                                    'FUNAAB',\n",
       "                                                   'Lagos State University ',\n",
       "                                                    'Bayero University Kano',\n",
       "                                                     'University of Nigeria',\n",
       "                                             'University of Nigeria Nsukka ',\n",
       "                                                                        'UI',\n",
       "                                   'I am a student of university of Lagos. ',\n",
       "                                                      'University of Lagos ',\n",
       "                                                                      'I am']\n",
       "Length: 21, dtype: string"
      ]
     },
     "execution_count": 234,
     "metadata": {},
     "output_type": "execute_result"
    }
   ],
   "source": [
    "data.non_unilag.unique()"
   ]
  },
  {
   "attachments": {},
   "cell_type": "markdown",
   "id": "b3ab5b0a",
   "metadata": {},
   "source": [
    "### Creating the school column.\n",
    "\n",
    "Let's create a variable, called school. If this variable is NaN, we replace the NaN with UNILAG. Then we drop the UNILAG column."
   ]
  },
  {
   "cell_type": "code",
   "execution_count": 235,
   "id": "49ab30b3",
   "metadata": {},
   "outputs": [
    {
     "data": {
      "text/html": [
       "<div>\n",
       "<style scoped>\n",
       "    .dataframe tbody tr th:only-of-type {\n",
       "        vertical-align: middle;\n",
       "    }\n",
       "\n",
       "    .dataframe tbody tr th {\n",
       "        vertical-align: top;\n",
       "    }\n",
       "\n",
       "    .dataframe thead th {\n",
       "        text-align: right;\n",
       "    }\n",
       "</style>\n",
       "<table border=\"1\" class=\"dataframe\">\n",
       "  <thead>\n",
       "    <tr style=\"text-align: right;\">\n",
       "      <th></th>\n",
       "      <th>school</th>\n",
       "      <th>level</th>\n",
       "      <th>age</th>\n",
       "      <th>gender</th>\n",
       "      <th>relationship</th>\n",
       "      <th>faculty</th>\n",
       "      <th>department</th>\n",
       "      <th>strike_effect</th>\n",
       "      <th>challenge</th>\n",
       "      <th>work</th>\n",
       "      <th>skills</th>\n",
       "      <th>prep_before</th>\n",
       "      <th>prep_after</th>\n",
       "      <th>lecture</th>\n",
       "      <th>academic_act</th>\n",
       "      <th>courses_taken</th>\n",
       "      <th>course_unit</th>\n",
       "      <th>cgpa_before</th>\n",
       "      <th>cgpa_after</th>\n",
       "      <th>cgpa_change</th>\n",
       "    </tr>\n",
       "  </thead>\n",
       "  <tbody>\n",
       "    <tr>\n",
       "      <th>0</th>\n",
       "      <td>university of lagos</td>\n",
       "      <td>400 Level</td>\n",
       "      <td>22</td>\n",
       "      <td>Male</td>\n",
       "      <td>Single</td>\n",
       "      <td>Engineering</td>\n",
       "      <td>Chemical engineering</td>\n",
       "      <td>I learned how to study better and my grades al...</td>\n",
       "      <td>Trying to remember things we were taught befor...</td>\n",
       "      <td>Worked in a role relevant to my studies</td>\n",
       "      <td>Acquired skills unrelated to course of study</td>\n",
       "      <td>Poorly</td>\n",
       "      <td>Poorly</td>\n",
       "      <td>No noticeable change</td>\n",
       "      <td>Rarely: I engaged in academic activities once ...</td>\n",
       "      <td>10</td>\n",
       "      <td>23</td>\n",
       "      <td>3.39</td>\n",
       "      <td>3.51</td>\n",
       "      <td>0.12</td>\n",
       "    </tr>\n",
       "    <tr>\n",
       "      <th>1</th>\n",
       "      <td>university of lagos</td>\n",
       "      <td>400 Level</td>\n",
       "      <td>23</td>\n",
       "      <td>Female</td>\n",
       "      <td>Single</td>\n",
       "      <td>Engineering</td>\n",
       "      <td>Chemical engineering</td>\n",
       "      <td>It affected it in a negative way as it became ...</td>\n",
       "      <td>Rekindling the student in me, lol. Trying to g...</td>\n",
       "      <td>Did not work during the strike</td>\n",
       "      <td>Acquired skills unrelated to course of study</td>\n",
       "      <td>Poorly</td>\n",
       "      <td>Moderately</td>\n",
       "      <td>No noticeable change</td>\n",
       "      <td>Rarely: I engaged in academic activities once ...</td>\n",
       "      <td>10</td>\n",
       "      <td>23</td>\n",
       "      <td>4.44</td>\n",
       "      <td>4.5</td>\n",
       "      <td>0.06</td>\n",
       "    </tr>\n",
       "    <tr>\n",
       "      <th>2</th>\n",
       "      <td>nil</td>\n",
       "      <td>400 Level</td>\n",
       "      <td>21</td>\n",
       "      <td>Male</td>\n",
       "      <td>Dating</td>\n",
       "      <td>Engineering</td>\n",
       "      <td>Chemical engineering</td>\n",
       "      <td>It has actually helped me a bit. The extended ...</td>\n",
       "      <td>Readapting to school</td>\n",
       "      <td>Worked in a role unrelated to my studies</td>\n",
       "      <td>Volunteered for an event or organization, Acqu...</td>\n",
       "      <td>Moderately</td>\n",
       "      <td>Moderately</td>\n",
       "      <td>Fewer lecturers attended classes</td>\n",
       "      <td>Rarely: I engaged in academic activities once ...</td>\n",
       "      <td>10</td>\n",
       "      <td>23</td>\n",
       "      <td>3.54</td>\n",
       "      <td>3.61</td>\n",
       "      <td>0.07</td>\n",
       "    </tr>\n",
       "    <tr>\n",
       "      <th>3</th>\n",
       "      <td>university of lagos</td>\n",
       "      <td>400 Level</td>\n",
       "      <td>29</td>\n",
       "      <td>Male</td>\n",
       "      <td>Dating</td>\n",
       "      <td>Social Sciences</td>\n",
       "      <td>Political science</td>\n",
       "      <td>Good</td>\n",
       "      <td>Reading</td>\n",
       "      <td>Worked in a role unrelated to my studies</td>\n",
       "      <td>Acquired skills unrelated to course of study</td>\n",
       "      <td>Moderately</td>\n",
       "      <td>Very</td>\n",
       "      <td>No noticeable change</td>\n",
       "      <td>Rarely: I engaged in academic activities once ...</td>\n",
       "      <td>7</td>\n",
       "      <td>&lt;NA&gt;</td>\n",
       "      <td>3.86</td>\n",
       "      <td>3.96</td>\n",
       "      <td>0.1</td>\n",
       "    </tr>\n",
       "    <tr>\n",
       "      <th>4</th>\n",
       "      <td>university of lagos</td>\n",
       "      <td>100 Level</td>\n",
       "      <td>18</td>\n",
       "      <td>Female</td>\n",
       "      <td>Single</td>\n",
       "      <td>Engineering</td>\n",
       "      <td>Computer engineering</td>\n",
       "      <td>&lt;NA&gt;</td>\n",
       "      <td>&lt;NA&gt;</td>\n",
       "      <td>Worked in a role relevant to my studies</td>\n",
       "      <td>Volunteered for an event or organization, Acqu...</td>\n",
       "      <td>Moderately</td>\n",
       "      <td>Moderately</td>\n",
       "      <td>Fewer lecturers attended classes</td>\n",
       "      <td>Rarely: I engaged in academic activities once ...</td>\n",
       "      <td>8</td>\n",
       "      <td>18</td>\n",
       "      <td>0.0</td>\n",
       "      <td>4.28</td>\n",
       "      <td>4.28</td>\n",
       "    </tr>\n",
       "  </tbody>\n",
       "</table>\n",
       "</div>"
      ],
      "text/plain": [
       "                school      level  age  gender relationship          faculty  \\\n",
       "0  university of lagos  400 Level   22    Male       Single      Engineering   \n",
       "1  university of lagos  400 Level   23  Female       Single      Engineering   \n",
       "2                  nil  400 Level   21    Male       Dating      Engineering   \n",
       "3  university of lagos  400 Level   29    Male       Dating  Social Sciences   \n",
       "4  university of lagos  100 Level   18  Female       Single      Engineering   \n",
       "\n",
       "             department                                      strike_effect  \\\n",
       "0  Chemical engineering  I learned how to study better and my grades al...   \n",
       "1  Chemical engineering  It affected it in a negative way as it became ...   \n",
       "2  Chemical engineering  It has actually helped me a bit. The extended ...   \n",
       "3     Political science                                               Good   \n",
       "4  Computer engineering                                               <NA>   \n",
       "\n",
       "                                           challenge  \\\n",
       "0  Trying to remember things we were taught befor...   \n",
       "1  Rekindling the student in me, lol. Trying to g...   \n",
       "2                               Readapting to school   \n",
       "3                                           Reading    \n",
       "4                                               <NA>   \n",
       "\n",
       "                                       work  \\\n",
       "0   Worked in a role relevant to my studies   \n",
       "1            Did not work during the strike   \n",
       "2  Worked in a role unrelated to my studies   \n",
       "3  Worked in a role unrelated to my studies   \n",
       "4   Worked in a role relevant to my studies   \n",
       "\n",
       "                                              skills prep_before  prep_after  \\\n",
       "0       Acquired skills unrelated to course of study      Poorly      Poorly   \n",
       "1       Acquired skills unrelated to course of study      Poorly  Moderately   \n",
       "2  Volunteered for an event or organization, Acqu...  Moderately  Moderately   \n",
       "3       Acquired skills unrelated to course of study  Moderately        Very   \n",
       "4  Volunteered for an event or organization, Acqu...  Moderately  Moderately   \n",
       "\n",
       "                            lecture  \\\n",
       "0              No noticeable change   \n",
       "1              No noticeable change   \n",
       "2  Fewer lecturers attended classes   \n",
       "3              No noticeable change   \n",
       "4  Fewer lecturers attended classes   \n",
       "\n",
       "                                        academic_act  courses_taken  \\\n",
       "0  Rarely: I engaged in academic activities once ...             10   \n",
       "1  Rarely: I engaged in academic activities once ...             10   \n",
       "2  Rarely: I engaged in academic activities once ...             10   \n",
       "3  Rarely: I engaged in academic activities once ...              7   \n",
       "4  Rarely: I engaged in academic activities once ...              8   \n",
       "\n",
       "   course_unit  cgpa_before  cgpa_after  cgpa_change  \n",
       "0           23         3.39        3.51         0.12  \n",
       "1           23         4.44         4.5         0.06  \n",
       "2           23         3.54        3.61         0.07  \n",
       "3         <NA>         3.86        3.96          0.1  \n",
       "4           18          0.0        4.28         4.28  "
      ]
     },
     "execution_count": 235,
     "metadata": {},
     "output_type": "execute_result"
    }
   ],
   "source": [
    "# rename non_unilag column to school\n",
    "data.rename(columns={\"non_unilag\":\"school\"}, inplace=True)\n",
    "\n",
    "# replace NaN with \"unilag\"\n",
    "data[\"school\"] = data[\"school\"].fillna(\"university of lagos\")\n",
    "\n",
    "# strip the column\n",
    "data[\"school\"] = data[\"school\"].str.lower().str.strip()\n",
    "\n",
    "# drop the \"unilag\" column\n",
    "data.drop(columns = \"unilag\", inplace=True)\n",
    "\n",
    "data.head()"
   ]
  },
  {
   "cell_type": "code",
   "execution_count": 236,
   "id": "d5410848",
   "metadata": {},
   "outputs": [
    {
     "data": {
      "text/plain": [
       "<StringArray>\n",
       "[                                                     'university of lagos',\n",
       "                                                                      'nil',\n",
       "                                                                   'unilag',\n",
       "            'federal university of petroleum resources effurun delta state',\n",
       "                                                           'oou ogun state',\n",
       "                                                     'university of ibadan',\n",
       " 'alex ekwueme federal university ndufu-alike ikwo, abakaliki ebonyi state',\n",
       "                                                   'lagos state university',\n",
       "                                                                   'funaab',\n",
       "                                                        'university of uyo',\n",
       "                                                      'university of abuja',\n",
       "                                                   'bayero university kano',\n",
       "                                                    'university of nigeria',\n",
       "                                             'university of nigeria nsukka',\n",
       "                                                                       'ui',\n",
       "                                   'i am a student of university of lagos.',\n",
       "                                                                     'i am']\n",
       "Length: 17, dtype: string"
      ]
     },
     "execution_count": 236,
     "metadata": {},
     "output_type": "execute_result"
    }
   ],
   "source": [
    "data[\"school\"].unique()"
   ]
  },
  {
   "attachments": {},
   "cell_type": "markdown",
   "id": "40827ae1",
   "metadata": {},
   "source": [
    "Cleaning the school column"
   ]
  },
  {
   "cell_type": "code",
   "execution_count": 237,
   "id": "f8b42bbf",
   "metadata": {},
   "outputs": [
    {
     "data": {
      "text/plain": [
       "['university of lagos', 'federal university of petroleum resources eff..., 'oou ogun state', 'university of ibadan', 'alex ekwueme federal university ndufu-alike i..., ..., 'funaab', 'university of uyo', 'university of abuja', 'bayero university kano', 'university of nigeria']\n",
       "Length: 11\n",
       "Categories (11, object): ['alex ekwueme federal university ndufu-alike i..., 'bayero university kano', 'federal university of petroleum resources eff..., 'funaab', ..., 'university of ibadan', 'university of lagos', 'university of nigeria', 'university of uyo']"
      ]
     },
     "execution_count": 237,
     "metadata": {},
     "output_type": "execute_result"
    }
   ],
   "source": [
    "def clean_school(row):\n",
    "    \n",
    "    if (\"unilag\" in row \n",
    "        or \"university of lagos\" in row \n",
    "        or \"i am\" in row \n",
    "        or \"nil\" in row):\n",
    "        return \"university of lagos\"\n",
    "    elif \"ui\" in row:\n",
    "        return \"university of ibadan\"\n",
    "    elif \"university of nigeria\" in row:\n",
    "        return \"university of nigeria\"\n",
    "    else:\n",
    "        return row\n",
    "        \n",
    "data[\"school\"] = data[\"school\"].apply(clean_school).astype('category')\n",
    "data[\"school\"].unique()"
   ]
  },
  {
   "attachments": {},
   "cell_type": "markdown",
   "id": "2d41fb20",
   "metadata": {},
   "source": [
    "How many students are from other schools?"
   ]
  },
  {
   "cell_type": "code",
   "execution_count": 238,
   "id": "88bd3933",
   "metadata": {},
   "outputs": [
    {
     "data": {
      "text/plain": [
       "16"
      ]
     },
     "execution_count": 238,
     "metadata": {},
     "output_type": "execute_result"
    }
   ],
   "source": [
    "len(data[data[\"school\"]!=\"university of lagos\"])"
   ]
  },
  {
   "attachments": {},
   "cell_type": "markdown",
   "id": "0e41d6b3",
   "metadata": {},
   "source": [
    "## Quest for Duplicates"
   ]
  },
  {
   "attachments": {},
   "cell_type": "markdown",
   "id": "0a6339b1",
   "metadata": {},
   "source": [
    "Are there any duplicates?"
   ]
  },
  {
   "cell_type": "code",
   "execution_count": 239,
   "id": "c5d4d5e4",
   "metadata": {},
   "outputs": [
    {
     "data": {
      "text/html": [
       "<div>\n",
       "<style scoped>\n",
       "    .dataframe tbody tr th:only-of-type {\n",
       "        vertical-align: middle;\n",
       "    }\n",
       "\n",
       "    .dataframe tbody tr th {\n",
       "        vertical-align: top;\n",
       "    }\n",
       "\n",
       "    .dataframe thead th {\n",
       "        text-align: right;\n",
       "    }\n",
       "</style>\n",
       "<table border=\"1\" class=\"dataframe\">\n",
       "  <thead>\n",
       "    <tr style=\"text-align: right;\">\n",
       "      <th></th>\n",
       "      <th>school</th>\n",
       "      <th>level</th>\n",
       "      <th>age</th>\n",
       "      <th>gender</th>\n",
       "      <th>relationship</th>\n",
       "      <th>faculty</th>\n",
       "      <th>department</th>\n",
       "      <th>strike_effect</th>\n",
       "      <th>challenge</th>\n",
       "      <th>work</th>\n",
       "      <th>skills</th>\n",
       "      <th>prep_before</th>\n",
       "      <th>prep_after</th>\n",
       "      <th>lecture</th>\n",
       "      <th>academic_act</th>\n",
       "      <th>courses_taken</th>\n",
       "      <th>course_unit</th>\n",
       "      <th>cgpa_before</th>\n",
       "      <th>cgpa_after</th>\n",
       "      <th>cgpa_change</th>\n",
       "    </tr>\n",
       "  </thead>\n",
       "  <tbody>\n",
       "    <tr>\n",
       "      <th>160</th>\n",
       "      <td>university of lagos</td>\n",
       "      <td>400 Level</td>\n",
       "      <td>22</td>\n",
       "      <td>Female</td>\n",
       "      <td>Single</td>\n",
       "      <td>Education</td>\n",
       "      <td>Arts &amp; social science education</td>\n",
       "      <td>I just want to end all this..🥲</td>\n",
       "      <td>Having to return back to reading books and att...</td>\n",
       "      <td>Worked in a role unrelated to my studies</td>\n",
       "      <td>Acquired skills unrelated to course of study, ...</td>\n",
       "      <td>Moderately</td>\n",
       "      <td>Poorly</td>\n",
       "      <td>No noticeable change</td>\n",
       "      <td>Never: I did not engage in any academic activi...</td>\n",
       "      <td>8</td>\n",
       "      <td>16</td>\n",
       "      <td>3.69</td>\n",
       "      <td>2.34</td>\n",
       "      <td>-1.35</td>\n",
       "    </tr>\n",
       "  </tbody>\n",
       "</table>\n",
       "</div>"
      ],
      "text/plain": [
       "                  school      level  age  gender relationship    faculty  \\\n",
       "160  university of lagos  400 Level   22  Female       Single  Education   \n",
       "\n",
       "                          department                   strike_effect  \\\n",
       "160  Arts & social science education  I just want to end all this..🥲   \n",
       "\n",
       "                                             challenge  \\\n",
       "160  Having to return back to reading books and att...   \n",
       "\n",
       "                                         work  \\\n",
       "160  Worked in a role unrelated to my studies   \n",
       "\n",
       "                                                skills prep_before prep_after  \\\n",
       "160  Acquired skills unrelated to course of study, ...  Moderately     Poorly   \n",
       "\n",
       "                  lecture                                       academic_act  \\\n",
       "160  No noticeable change  Never: I did not engage in any academic activi...   \n",
       "\n",
       "     courses_taken  course_unit  cgpa_before  cgpa_after  cgpa_change  \n",
       "160              8           16         3.69        2.34        -1.35  "
      ]
     },
     "execution_count": 239,
     "metadata": {},
     "output_type": "execute_result"
    }
   ],
   "source": [
    "#Search for duplicates\n",
    "\n",
    "data[data.duplicated()]"
   ]
  },
  {
   "cell_type": "code",
   "execution_count": 240,
   "id": "1f35b919",
   "metadata": {},
   "outputs": [],
   "source": [
    "data = data.drop_duplicates(keep='first')\n",
    "data.reset_index(drop=True, inplace = True)"
   ]
  },
  {
   "attachments": {},
   "cell_type": "markdown",
   "id": "3d220af4",
   "metadata": {},
   "source": [
    "Checking missing values for each column, once more"
   ]
  },
  {
   "cell_type": "code",
   "execution_count": 241,
   "id": "277680a6",
   "metadata": {},
   "outputs": [],
   "source": [
    "# df_valid_cgpa.isna().sum()"
   ]
  },
  {
   "attachments": {},
   "cell_type": "markdown",
   "id": "a0d59186",
   "metadata": {},
   "source": [
    "Lots of missing values in the `strike_effect` and `challenge` columns. We'll deal with that later."
   ]
  },
  {
   "attachments": {},
   "cell_type": "markdown",
   "id": "f78bcbab",
   "metadata": {},
   "source": [
    "## Predicting missing course unit values\n",
    "\n",
    "Given the number of missing values in the course_unit column, we're going to create a simple model to predict the values."
   ]
  },
  {
   "attachments": {},
   "cell_type": "markdown",
   "id": "40280446",
   "metadata": {},
   "source": [
    "### Relevant columns\n",
    "\n",
    "Select the relevant columns to predict `course_units`. These are dependent on `level`, `faculty`, `department`, and `course_taken` ."
   ]
  },
  {
   "cell_type": "code",
   "execution_count": 242,
   "id": "5550e3e9",
   "metadata": {},
   "outputs": [
    {
     "data": {
      "text/plain": [
       "13"
      ]
     },
     "execution_count": 242,
     "metadata": {},
     "output_type": "execute_result"
    }
   ],
   "source": [
    "len(data[data['course_unit']==0])"
   ]
  },
  {
   "cell_type": "code",
   "execution_count": 243,
   "id": "ab150fe2",
   "metadata": {},
   "outputs": [
    {
     "name": "stdout",
     "output_type": "stream",
     "text": [
      "<class 'pandas.core.frame.DataFrame'>\n",
      "RangeIndex: 429 entries, 0 to 428\n",
      "Data columns (total 6 columns):\n",
      " #   Column         Non-Null Count  Dtype   \n",
      "---  ------         --------------  -----   \n",
      " 0   school         429 non-null    category\n",
      " 1   level          429 non-null    category\n",
      " 2   faculty        429 non-null    category\n",
      " 3   department     429 non-null    category\n",
      " 4   courses_taken  429 non-null    Int64   \n",
      " 5   course_unit    351 non-null    Int64   \n",
      "dtypes: Int64(2), category(4)\n",
      "memory usage: 13.4 KB\n"
     ]
    }
   ],
   "source": [
    "#select relevant columns\n",
    "course_unit_data  = data[[\"school\", \"level\", \"faculty\", \"department\", \"courses_taken\",\"course_unit\"]]\n",
    "course_unit_data.info()"
   ]
  },
  {
   "attachments": {},
   "cell_type": "markdown",
   "id": "867f952e",
   "metadata": {},
   "source": [
    "### Separating the valids from the invalids\n",
    "\n",
    "Now, we're going to separate the course unit data. We'll create two dataframes to house the given values and the missing values. We aim to use the known values to predict the unknown."
   ]
  },
  {
   "cell_type": "code",
   "execution_count": 244,
   "id": "6d8c8a82",
   "metadata": {},
   "outputs": [],
   "source": [
    "# Step 1: Prepare the data\n",
    "\n",
    "valid_course_units = (course_unit_data[course_unit_data['course_unit'].notnull() & (course_unit_data['course_unit'] > 0)]\n",
    "             .reset_index(drop=True))\n",
    "invalid_course_units = course_unit_data[(course_unit_data[\"course_unit\"].isnull()) | (course_unit_data[\"course_unit\"] == 0)]"
   ]
  },
  {
   "cell_type": "code",
   "execution_count": 245,
   "id": "2d62095d",
   "metadata": {},
   "outputs": [],
   "source": [
    "# Checking for rows where the number of courses taken is greater than the number of course units. This should be impossible.                                                           \n",
    "taken_units_diff = valid_course_units['course_unit'] - valid_course_units['courses_taken']\n",
    "taken_units_diff_index = taken_units_diff[taken_units_diff<0].index.to_list()"
   ]
  },
  {
   "cell_type": "code",
   "execution_count": 246,
   "id": "48230fd5",
   "metadata": {},
   "outputs": [
    {
     "name": "stdout",
     "output_type": "stream",
     "text": [
      "11\n",
      "3\n"
     ]
    }
   ],
   "source": [
    "# Checking for the difference in variance in the training and testing data.                                                                        \n",
    "print(len(valid_course_units.school.unique()))\n",
    "print(len(invalid_course_units.school.unique()))"
   ]
  },
  {
   "cell_type": "markdown",
   "id": "93cba806",
   "metadata": {},
   "source": [
    "Columns with missing data comes from only 3 school as compared to the 11 schools in the training data. This could introduce unneccesary variance."
   ]
  },
  {
   "cell_type": "code",
   "execution_count": 247,
   "id": "41f046ed",
   "metadata": {},
   "outputs": [],
   "source": [
    "# Generating a list of all schoolsrepresented in the prediction dataset.                                                                          \n",
    "schools = invalid_course_units.school.unique().to_list()\n",
    "# Removing all data points that comes from schools not present in the prediction dataset.                                                                      \n",
    "valid_course_units = valid_course_units[valid_course_units['school'].isin(schools)]\n",
    "# Dropping all data points where the number of courses taken is larger than the number of units.                                                                   \n",
    "valid_course_units = valid_course_units.drop(index=taken_units_diff_index)"
   ]
  },
  {
   "attachments": {},
   "cell_type": "markdown",
   "id": "77089c41",
   "metadata": {},
   "source": [
    "### Creating our features and target\n",
    "\n",
    "Now we split the valid course units to create our features and target.\n",
    "\n",
    "**Note**: We're going to be using the suffix \"_cu\" to represent course units."
   ]
  },
  {
   "cell_type": "code",
   "execution_count": 248,
   "id": "26cb23b5",
   "metadata": {},
   "outputs": [],
   "source": [
    "# Step 2: Split the data into features (X) and target (y)\n",
    "target = 'course_unit'\n",
    "\n",
    "X_cu = valid_course_units.drop(columns=[target])\n",
    "y_cu = valid_course_units[target].astype(np.int64)"
   ]
  },
  {
   "cell_type": "markdown",
   "id": "34b229e6",
   "metadata": {},
   "source": [
    "### Exploring the target variable"
   ]
  },
  {
   "cell_type": "code",
   "execution_count": 249,
   "id": "1ba92c91",
   "metadata": {},
   "outputs": [
    {
     "data": {
      "text/plain": [
       "<Axes: ylabel='Frequency'>"
      ]
     },
     "execution_count": 249,
     "metadata": {},
     "output_type": "execute_result"
    },
    {
     "data": {
      "image/png": "[encoded data removed]",
      "text/plain": [
       "<Figure size 640x480 with 1 Axes>"
      ]
     },
     "metadata": {},
     "output_type": "display_data"
    }
   ],
   "source": [
    "# Visualizing the Target distribution.\n",
    "y_cu.plot(kind='hist')"
   ]
  },
  {
   "cell_type": "code",
   "execution_count": 250,
   "id": "48ef4c3f",
   "metadata": {},
   "outputs": [
    {
     "data": {
      "text/plain": [
       "0      1.361728\n",
       "1      1.361728\n",
       "2      1.361728\n",
       "3      1.255273\n",
       "4      1.255273\n",
       "         ...   \n",
       "332    1.146128\n",
       "333    1.342423\n",
       "334    1.255273\n",
       "335    1.342423\n",
       "337    1.361728\n",
       "Name: course_unit, Length: 308, dtype: float64"
      ]
     },
     "execution_count": 250,
     "metadata": {},
     "output_type": "execute_result"
    }
   ],
   "source": [
    "# Applying a log transform on the target variable.                                                                            \n",
    "y_cu=np.log10(y_cu)\n",
    "y_cu"
   ]
  },
  {
   "cell_type": "code",
   "execution_count": 251,
   "id": "eb8f4ca2",
   "metadata": {},
   "outputs": [
    {
     "data": {
      "text/plain": [
       "<Axes: ylabel='Frequency'>"
      ]
     },
     "execution_count": 251,
     "metadata": {},
     "output_type": "execute_result"
    },
    {
     "data": {
      "image/png": "[encoded data removed]",
      "text/plain": [
       "<Figure size 640x480 with 1 Axes>"
      ]
     },
     "metadata": {},
     "output_type": "display_data"
    }
   ],
   "source": [
    "# Visualizing the target distribution after the log transformation.\n",
    "y_cu.plot(kind='hist')"
   ]
  },
  {
   "attachments": {},
   "cell_type": "markdown",
   "id": "b08d4a7f",
   "metadata": {},
   "source": [
    "### Preprocessing"
   ]
  },
  {
   "cell_type": "code",
   "execution_count": 252,
   "id": "cf87cb73",
   "metadata": {},
   "outputs": [],
   "source": [
    "# Create categorical encoder instance to convert categorical data to numerical data\n",
    "# BinaryEncoder is preferred due to the high cardinality of the categorical_columns.\n",
    "encoder = BinaryEncoder(handle_unknown='ignore')\n",
    "\n",
    "# Create imputer instance to fill up missing data\n",
    "imputer = SimpleImputer(strategy='mean')\n",
    "\n",
    "# Create Principal component analysis instance to reduce the dimension of the data\n",
    "pca = PCA(n_components=2)\n",
    "\n",
    "# Create model instance\n",
    "model = lgb.LGBMRegressor(num_leaves=3,max_depth=9,min_data_in_leaf=65)"
   ]
  },
  {
   "attachments": {},
   "cell_type": "markdown",
   "id": "925bc58c",
   "metadata": {},
   "source": [
    "### Training and test data\n",
    "\n",
    "Create training and test data"
   ]
  },
  {
   "cell_type": "code",
   "execution_count": 253,
   "id": "67a509e1",
   "metadata": {},
   "outputs": [],
   "source": [
    "from sklearn.model_selection import train_test_split\n",
    "\n",
    "X_cu_train, X_cu_test, y_cu_train, y_cu_test = train_test_split(X_cu, y_cu, test_size=0.2, random_state=42)"
   ]
  },
  {
   "attachments": {},
   "cell_type": "markdown",
   "id": "fd24294f",
   "metadata": {},
   "source": [
    "### Time to train the model!"
   ]
  },
  {
   "cell_type": "markdown",
   "id": "83de5ab2",
   "metadata": {},
   "source": [
    "Create pipeline"
   ]
  },
  {
   "cell_type": "code",
   "execution_count": 254,
   "id": "667d42db",
   "metadata": {},
   "outputs": [],
   "source": [
    "model = Pipeline(\n",
    "    [\n",
    "        ('cat',encoder),\n",
    "        ('impute',imputer),\n",
    "        ('reduction',pca),\n",
    "        ('model',model)\n",
    "    ]\n",
    ")"
   ]
  },
  {
   "cell_type": "code",
   "execution_count": 255,
   "id": "a17c9201",
   "metadata": {},
   "outputs": [
    {
     "name": "stdout",
     "output_type": "stream",
     "text": [
      "[LightGBM] [Warning] min_data_in_leaf is set=65, min_child_samples=20 will be ignored. Current value: min_data_in_leaf=65\n",
      "[LightGBM] [Warning] min_data_in_leaf is set=65, min_child_samples=20 will be ignored. Current value: min_data_in_leaf=65\n",
      "[LightGBM] [Warning] Auto-choosing col-wise multi-threading, the overhead of testing was 0.000042 seconds.\n",
      "You can set `force_col_wise=true` to remove the overhead.\n",
      "[LightGBM] [Info] Total Bins 152\n",
      "[LightGBM] [Info] Number of data points in the train set: 246, number of used features: 2\n",
      "[LightGBM] [Info] Start training from score 1.262878\n"
     ]
    },
    {
     "data": {
      "text/html": [
       "<style>#sk-container-id-9 {color: black;}#sk-container-id-9 pre{padding: 0;}#sk-container-id-9 div.sk-toggleable {background-color: white;}#sk-container-id-9 label.sk-toggleable__label {cursor: pointer;display: block;width: 100%;margin-bottom: 0;padding: 0.3em;box-sizing: border-box;text-align: center;}#sk-container-id-9 label.sk-toggleable__label-arrow:before {content: \"▸\";float: left;margin-right: 0.25em;color: #696969;}#sk-container-id-9 label.sk-toggleable__label-arrow:hover:before {color: black;}#sk-container-id-9 div.sk-estimator:hover label.sk-toggleable__label-arrow:before {color: black;}#sk-container-id-9 div.sk-toggleable__content {max-height: 0;max-width: 0;overflow: hidden;text-align: left;background-color: #f0f8ff;}#sk-container-id-9 div.sk-toggleable__content pre {margin: 0.2em;color: black;border-radius: 0.25em;background-color: #f0f8ff;}#sk-container-id-9 input.sk-toggleable__control:checked~div.sk-toggleable__content {max-height: 200px;max-width: 100%;overflow: auto;}#sk-container-id-9 input.sk-toggleable__control:checked~label.sk-toggleable__label-arrow:before {content: \"▾\";}#sk-container-id-9 div.sk-estimator input.sk-toggleable__control:checked~label.sk-toggleable__label {background-color: #d4ebff;}#sk-container-id-9 div.sk-label input.sk-toggleable__control:checked~label.sk-toggleable__label {background-color: #d4ebff;}#sk-container-id-9 input.sk-hidden--visually {border: 0;clip: rect(1px 1px 1px 1px);clip: rect(1px, 1px, 1px, 1px);height: 1px;margin: -1px;overflow: hidden;padding: 0;position: absolute;width: 1px;}#sk-container-id-9 div.sk-estimator {font-family: monospace;background-color: #f0f8ff;border: 1px dotted black;border-radius: 0.25em;box-sizing: border-box;margin-bottom: 0.5em;}#sk-container-id-9 div.sk-estimator:hover {background-color: #d4ebff;}#sk-container-id-9 div.sk-parallel-item::after {content: \"\";width: 100%;border-bottom: 1px solid gray;flex-grow: 1;}#sk-container-id-9 div.sk-label:hover label.sk-toggleable__label {background-color: #d4ebff;}#sk-container-id-9 div.sk-serial::before {content: \"\";position: absolute;border-left: 1px solid gray;box-sizing: border-box;top: 0;bottom: 0;left: 50%;z-index: 0;}#sk-container-id-9 div.sk-serial {display: flex;flex-direction: column;align-items: center;background-color: white;padding-right: 0.2em;padding-left: 0.2em;position: relative;}#sk-container-id-9 div.sk-item {position: relative;z-index: 1;}#sk-container-id-9 div.sk-parallel {display: flex;align-items: stretch;justify-content: center;background-color: white;position: relative;}#sk-container-id-9 div.sk-item::before, #sk-container-id-9 div.sk-parallel-item::before {content: \"\";position: absolute;border-left: 1px solid gray;box-sizing: border-box;top: 0;bottom: 0;left: 50%;z-index: -1;}#sk-container-id-9 div.sk-parallel-item {display: flex;flex-direction: column;z-index: 1;position: relative;background-color: white;}#sk-container-id-9 div.sk-parallel-item:first-child::after {align-self: flex-end;width: 50%;}#sk-container-id-9 div.sk-parallel-item:last-child::after {align-self: flex-start;width: 50%;}#sk-container-id-9 div.sk-parallel-item:only-child::after {width: 0;}#sk-container-id-9 div.sk-dashed-wrapped {border: 1px dashed gray;margin: 0 0.4em 0.5em 0.4em;box-sizing: border-box;padding-bottom: 0.4em;background-color: white;}#sk-container-id-9 div.sk-label label {font-family: monospace;font-weight: bold;display: inline-block;line-height: 1.2em;}#sk-container-id-9 div.sk-label-container {text-align: center;}#sk-container-id-9 div.sk-container {/* jupyter's `normalize.less` sets `[hidden] { display: none; }` but bootstrap.min.css set `[hidden] { display: none !important; }` so we also need the `!important` here to be able to override the default hidden behavior on the sphinx rendered scikit-learn.org. See: https://github.com/scikit-learn/scikit-learn/issues/21755 */display: inline-block !important;position: relative;}#sk-container-id-9 div.sk-text-repr-fallback {display: none;}</style><div id=\"sk-container-id-9\" class=\"sk-top-container\"><div class=\"sk-text-repr-fallback\"><pre>Pipeline(steps=[(&#x27;cat&#x27;,\n",
       "                 BinaryEncoder(cols=[&#x27;school&#x27;, &#x27;level&#x27;, &#x27;faculty&#x27;,\n",
       "                                     &#x27;department&#x27;],\n",
       "                               handle_unknown=&#x27;ignore&#x27;,\n",
       "                               mapping=[{&#x27;col&#x27;: &#x27;school&#x27;,\n",
       "                                         &#x27;mapping&#x27;:     school_0  school_1\n",
       " 1         0         1\n",
       " 2         1         0\n",
       "-2         0         0},\n",
       "                                        {&#x27;col&#x27;: &#x27;level&#x27;,\n",
       "                                         &#x27;mapping&#x27;:     level_0  level_1  level_2\n",
       " 1        0        0        1\n",
       " 2        0        1        0\n",
       " 3        0        1        1\n",
       " 4        1        0        0\n",
       " 5        1        0        1\n",
       " 6        1        1        0\n",
       " 7        1        1        1\n",
       "-2        0        0        0},\n",
       "                                        {&#x27;col&#x27;: &#x27;faculty&#x27;,\n",
       "                                         &#x27;mapping&#x27;:      faculty_0  faculty_1  faculty_2  faculty_3\n",
       " 1           0          0          0          1\n",
       " 2           0          0          1          0\n",
       " 3           0          0          1          1\n",
       " 4           0          1          0          0\n",
       " 5           0          1          0          1\n",
       " 6           0          1          1          0\n",
       " 7           0          1          1          1...\n",
       " 56             1             1             1             0             0   \n",
       " 57             1             1             1             0             0   \n",
       " 58             1             1             1             0             1   \n",
       " 59             1             1             1             0             1   \n",
       "-2              0             0             0             0             0   \n",
       "\n",
       "     department_5  \n",
       " 1              1  \n",
       " 2              0  \n",
       " 3              1  \n",
       " 4              0  \n",
       " 5              1  \n",
       " 6              0  \n",
       " 7              1  \n",
       " 8              0  \n",
       " 9              1  \n",
       " 10             0  \n",
       " 11             1  \n",
       " 12             0  \n",
       " 13             1  \n",
       " 14             0  \n",
       " 15             1  \n",
       " 16             0  \n",
       " 17             1  \n",
       " 18             0  \n",
       " 19             1  \n",
       " 20             0  \n",
       " 21             1  \n",
       " 22             0  \n",
       " 23             1  \n",
       " 24             0  \n",
       " 25             1  \n",
       " 26             0  \n",
       " 27             1  \n",
       " 28             0  \n",
       " 29             1  \n",
       " 30             0  \n",
       " 31             1  \n",
       " 32             0  \n",
       " 33             1  \n",
       " 34             0  \n",
       " 35             1  \n",
       " 36             0  \n",
       " 37             1  \n",
       " 38             0  \n",
       " 39             1  \n",
       " 40             0  \n",
       " 41             1  \n",
       " 42             0  \n",
       " 43             1  \n",
       " 44             0  \n",
       " 45             1  \n",
       " 46             0  \n",
       " 47             1  \n",
       " 48             0  \n",
       " 49             1  \n",
       " 50             0  \n",
       " 51             1  \n",
       " 52             0  \n",
       " 53             1  \n",
       " 54             0  \n",
       " 55             1  \n",
       " 56             0  \n",
       " 57             1  \n",
       " 58             0  \n",
       " 59             1  \n",
       "-2              0  }])),\n",
       "                (&#x27;impute&#x27;, SimpleImputer()), (&#x27;reduction&#x27;, PCA(n_components=2)),\n",
       "                (&#x27;model&#x27;,\n",
       "                 LGBMRegressor(max_depth=9, min_data_in_leaf=65,\n",
       "                               num_leaves=3))])</pre><b>In a Jupyter environment, please rerun this cell to show the HTML representation or trust the notebook. <br />On GitHub, the HTML representation is unable to render, please try loading this page with nbviewer.org.</b></div><div class=\"sk-container\" hidden><div class=\"sk-item sk-dashed-wrapped\"><div class=\"sk-label-container\"><div class=\"sk-label sk-toggleable\"><input class=\"sk-toggleable__control sk-hidden--visually\" id=\"sk-estimator-id-37\" type=\"checkbox\" ><label for=\"sk-estimator-id-37\" class=\"sk-toggleable__label sk-toggleable__label-arrow\">Pipeline</label><div class=\"sk-toggleable__content\"><pre>Pipeline(steps=[(&#x27;cat&#x27;,\n",
       "                 BinaryEncoder(cols=[&#x27;school&#x27;, &#x27;level&#x27;, &#x27;faculty&#x27;,\n",
       "                                     &#x27;department&#x27;],\n",
       "                               handle_unknown=&#x27;ignore&#x27;,\n",
       "                               mapping=[{&#x27;col&#x27;: &#x27;school&#x27;,\n",
       "                                         &#x27;mapping&#x27;:     school_0  school_1\n",
       " 1         0         1\n",
       " 2         1         0\n",
       "-2         0         0},\n",
       "                                        {&#x27;col&#x27;: &#x27;level&#x27;,\n",
       "                                         &#x27;mapping&#x27;:     level_0  level_1  level_2\n",
       " 1        0        0        1\n",
       " 2        0        1        0\n",
       " 3        0        1        1\n",
       " 4        1        0        0\n",
       " 5        1        0        1\n",
       " 6        1        1        0\n",
       " 7        1        1        1\n",
       "-2        0        0        0},\n",
       "                                        {&#x27;col&#x27;: &#x27;faculty&#x27;,\n",
       "                                         &#x27;mapping&#x27;:      faculty_0  faculty_1  faculty_2  faculty_3\n",
       " 1           0          0          0          1\n",
       " 2           0          0          1          0\n",
       " 3           0          0          1          1\n",
       " 4           0          1          0          0\n",
       " 5           0          1          0          1\n",
       " 6           0          1          1          0\n",
       " 7           0          1          1          1...\n",
       " 56             1             1             1             0             0   \n",
       " 57             1             1             1             0             0   \n",
       " 58             1             1             1             0             1   \n",
       " 59             1             1             1             0             1   \n",
       "-2              0             0             0             0             0   \n",
       "\n",
       "     department_5  \n",
       " 1              1  \n",
       " 2              0  \n",
       " 3              1  \n",
       " 4              0  \n",
       " 5              1  \n",
       " 6              0  \n",
       " 7              1  \n",
       " 8              0  \n",
       " 9              1  \n",
       " 10             0  \n",
       " 11             1  \n",
       " 12             0  \n",
       " 13             1  \n",
       " 14             0  \n",
       " 15             1  \n",
       " 16             0  \n",
       " 17             1  \n",
       " 18             0  \n",
       " 19             1  \n",
       " 20             0  \n",
       " 21             1  \n",
       " 22             0  \n",
       " 23             1  \n",
       " 24             0  \n",
       " 25             1  \n",
       " 26             0  \n",
       " 27             1  \n",
       " 28             0  \n",
       " 29             1  \n",
       " 30             0  \n",
       " 31             1  \n",
       " 32             0  \n",
       " 33             1  \n",
       " 34             0  \n",
       " 35             1  \n",
       " 36             0  \n",
       " 37             1  \n",
       " 38             0  \n",
       " 39             1  \n",
       " 40             0  \n",
       " 41             1  \n",
       " 42             0  \n",
       " 43             1  \n",
       " 44             0  \n",
       " 45             1  \n",
       " 46             0  \n",
       " 47             1  \n",
       " 48             0  \n",
       " 49             1  \n",
       " 50             0  \n",
       " 51             1  \n",
       " 52             0  \n",
       " 53             1  \n",
       " 54             0  \n",
       " 55             1  \n",
       " 56             0  \n",
       " 57             1  \n",
       " 58             0  \n",
       " 59             1  \n",
       "-2              0  }])),\n",
       "                (&#x27;impute&#x27;, SimpleImputer()), (&#x27;reduction&#x27;, PCA(n_components=2)),\n",
       "                (&#x27;model&#x27;,\n",
       "                 LGBMRegressor(max_depth=9, min_data_in_leaf=65,\n",
       "                               num_leaves=3))])</pre></div></div></div><div class=\"sk-serial\"><div class=\"sk-item\"><div class=\"sk-estimator sk-toggleable\"><input class=\"sk-toggleable__control sk-hidden--visually\" id=\"sk-estimator-id-38\" type=\"checkbox\" ><label for=\"sk-estimator-id-38\" class=\"sk-toggleable__label sk-toggleable__label-arrow\">BinaryEncoder</label><div class=\"sk-toggleable__content\"><pre>BinaryEncoder(cols=[&#x27;school&#x27;, &#x27;level&#x27;, &#x27;faculty&#x27;, &#x27;department&#x27;],\n",
       "              handle_unknown=&#x27;ignore&#x27;,\n",
       "              mapping=[{&#x27;col&#x27;: &#x27;school&#x27;,\n",
       "                        &#x27;mapping&#x27;:     school_0  school_1\n",
       " 1         0         1\n",
       " 2         1         0\n",
       "-2         0         0},\n",
       "                       {&#x27;col&#x27;: &#x27;level&#x27;,\n",
       "                        &#x27;mapping&#x27;:     level_0  level_1  level_2\n",
       " 1        0        0        1\n",
       " 2        0        1        0\n",
       " 3        0        1        1\n",
       " 4        1        0        0\n",
       " 5        1        0        1\n",
       " 6        1        1        0\n",
       " 7        1        1        1\n",
       "-2        0        0        0},\n",
       "                       {&#x27;col&#x27;: &#x27;faculty&#x27;,\n",
       "                        &#x27;mapping&#x27;:      faculty_0  faculty_1  faculty_2  faculty_3\n",
       " 1           0          0          0          1\n",
       " 2           0          0          1          0\n",
       " 3           0          0          1          1\n",
       " 4           0          1          0          0\n",
       " 5           0          1          0          1\n",
       " 6           0          1          1          0\n",
       " 7           0          1          1          1\n",
       " 8           1          0          0          0\n",
       " 9           1          0          0          1\n",
       " 10          1          0          1          0\n",
       " 11          1          0          1          1\n",
       " 1...\n",
       " 37             1             0             0             1             0   \n",
       " 38             1             0             0             1             1   \n",
       " 39             1             0             0             1             1   \n",
       " 40             1             0             1             0             0   \n",
       " 41             1             0             1             0             0   \n",
       " 42             1             0             1             0             1   \n",
       " 43             1             0             1             0             1   \n",
       " 44             1             0             1             1             0   \n",
       " 45             1             0             1             1             0   \n",
       " 46             1             0             1             1             1   \n",
       " 47             1             0             1             1             1   \n",
       " 48             1             1             0             0             0   \n",
       " 49             1             1             0             0             0   \n",
       " 50             1             1             0             0             1   \n",
       " 51             1             1             0             0             1   \n",
       " 52             1             1             0             1             0   \n",
       " 53             1             1             0             1             0   \n",
       " 54             1             1             0             1             1   \n",
       " 55             1             1             0             1             1   \n",
       " 56             1             1             1             0             0   \n",
       " 57             1             1             1             0             0   \n",
       " 58             1             1             1             0             1   \n",
       " 59             1             1             1             0             1   \n",
       "-2              0             0             0             0             0   \n",
       "\n",
       "     department_5  \n",
       " 1              1  \n",
       " 2              0  \n",
       " 3              1  \n",
       " 4              0  \n",
       " 5              1  \n",
       " 6              0  \n",
       " 7              1  \n",
       " 8              0  \n",
       " 9              1  \n",
       " 10             0  \n",
       " 11             1  \n",
       " 12             0  \n",
       " 13             1  \n",
       " 14             0  \n",
       " 15             1  \n",
       " 16             0  \n",
       " 17             1  \n",
       " 18             0  \n",
       " 19             1  \n",
       " 20             0  \n",
       " 21             1  \n",
       " 22             0  \n",
       " 23             1  \n",
       " 24             0  \n",
       " 25             1  \n",
       " 26             0  \n",
       " 27             1  \n",
       " 28             0  \n",
       " 29             1  \n",
       " 30             0  \n",
       " 31             1  \n",
       " 32             0  \n",
       " 33             1  \n",
       " 34             0  \n",
       " 35             1  \n",
       " 36             0  \n",
       " 37             1  \n",
       " 38             0  \n",
       " 39             1  \n",
       " 40             0  \n",
       " 41             1  \n",
       " 42             0  \n",
       " 43             1  \n",
       " 44             0  \n",
       " 45             1  \n",
       " 46             0  \n",
       " 47             1  \n",
       " 48             0  \n",
       " 49             1  \n",
       " 50             0  \n",
       " 51             1  \n",
       " 52             0  \n",
       " 53             1  \n",
       " 54             0  \n",
       " 55             1  \n",
       " 56             0  \n",
       " 57             1  \n",
       " 58             0  \n",
       " 59             1  \n",
       "-2              0  }])</pre></div></div></div><div class=\"sk-item\"><div class=\"sk-estimator sk-toggleable\"><input class=\"sk-toggleable__control sk-hidden--visually\" id=\"sk-estimator-id-39\" type=\"checkbox\" ><label for=\"sk-estimator-id-39\" class=\"sk-toggleable__label sk-toggleable__label-arrow\">SimpleImputer</label><div class=\"sk-toggleable__content\"><pre>SimpleImputer()</pre></div></div></div><div class=\"sk-item\"><div class=\"sk-estimator sk-toggleable\"><input class=\"sk-toggleable__control sk-hidden--visually\" id=\"sk-estimator-id-40\" type=\"checkbox\" ><label for=\"sk-estimator-id-40\" class=\"sk-toggleable__label sk-toggleable__label-arrow\">PCA</label><div class=\"sk-toggleable__content\"><pre>PCA(n_components=2)</pre></div></div></div><div class=\"sk-item\"><div class=\"sk-estimator sk-toggleable\"><input class=\"sk-toggleable__control sk-hidden--visually\" id=\"sk-estimator-id-41\" type=\"checkbox\" ><label for=\"sk-estimator-id-41\" class=\"sk-toggleable__label sk-toggleable__label-arrow\">LGBMRegressor</label><div class=\"sk-toggleable__content\"><pre>LGBMRegressor(max_depth=9, min_data_in_leaf=65, num_leaves=3)</pre></div></div></div></div></div></div></div>"
      ],
      "text/plain": [
       "Pipeline(steps=[('cat',\n",
       "                 BinaryEncoder(cols=['school', 'level', 'faculty',\n",
       "                                     'department'],\n",
       "                               handle_unknown='ignore',\n",
       "                               mapping=[{'col': 'school',\n",
       "                                         'mapping':     school_0  school_1\n",
       " 1         0         1\n",
       " 2         1         0\n",
       "-2         0         0},\n",
       "                                        {'col': 'level',\n",
       "                                         'mapping':     level_0  level_1  level_2\n",
       " 1        0        0        1\n",
       " 2        0        1        0\n",
       " 3        0        1        1\n",
       " 4        1        0        0\n",
       " 5        1        0        1\n",
       " 6        1        1        0\n",
       " 7        1        1        1\n",
       "-2        0        0        0},\n",
       "                                        {'col': 'faculty',\n",
       "                                         'mapping':      faculty_0  faculty_1  faculty_2  faculty_3\n",
       " 1           0          0          0          1\n",
       " 2           0          0          1          0\n",
       " 3           0          0          1          1\n",
       " 4           0          1          0          0\n",
       " 5           0          1          0          1\n",
       " 6           0          1          1          0\n",
       " 7           0          1          1          1...\n",
       " 56             1             1             1             0             0   \n",
       " 57             1             1             1             0             0   \n",
       " 58             1             1             1             0             1   \n",
       " 59             1             1             1             0             1   \n",
       "-2              0             0             0             0             0   \n",
       "\n",
       "     department_5  \n",
       " 1              1  \n",
       " 2              0  \n",
       " 3              1  \n",
       " 4              0  \n",
       " 5              1  \n",
       " 6              0  \n",
       " 7              1  \n",
       " 8              0  \n",
       " 9              1  \n",
       " 10             0  \n",
       " 11             1  \n",
       " 12             0  \n",
       " 13             1  \n",
       " 14             0  \n",
       " 15             1  \n",
       " 16             0  \n",
       " 17             1  \n",
       " 18             0  \n",
       " 19             1  \n",
       " 20             0  \n",
       " 21             1  \n",
       " 22             0  \n",
       " 23             1  \n",
       " 24             0  \n",
       " 25             1  \n",
       " 26             0  \n",
       " 27             1  \n",
       " 28             0  \n",
       " 29             1  \n",
       " 30             0  \n",
       " 31             1  \n",
       " 32             0  \n",
       " 33             1  \n",
       " 34             0  \n",
       " 35             1  \n",
       " 36             0  \n",
       " 37             1  \n",
       " 38             0  \n",
       " 39             1  \n",
       " 40             0  \n",
       " 41             1  \n",
       " 42             0  \n",
       " 43             1  \n",
       " 44             0  \n",
       " 45             1  \n",
       " 46             0  \n",
       " 47             1  \n",
       " 48             0  \n",
       " 49             1  \n",
       " 50             0  \n",
       " 51             1  \n",
       " 52             0  \n",
       " 53             1  \n",
       " 54             0  \n",
       " 55             1  \n",
       " 56             0  \n",
       " 57             1  \n",
       " 58             0  \n",
       " 59             1  \n",
       "-2              0  }])),\n",
       "                ('impute', SimpleImputer()), ('reduction', PCA(n_components=2)),\n",
       "                ('model',\n",
       "                 LGBMRegressor(max_depth=9, min_data_in_leaf=65,\n",
       "                               num_leaves=3))])"
      ]
     },
     "execution_count": 255,
     "metadata": {},
     "output_type": "execute_result"
    }
   ],
   "source": [
    "model.fit(X_cu_train,y_cu_train)\n"
   ]
  },
  {
   "attachments": {},
   "cell_type": "markdown",
   "id": "adc7b011",
   "metadata": {},
   "source": [
    "### Model Evaluation"
   ]
  },
  {
   "attachments": {},
   "cell_type": "markdown",
   "id": "c1d0eada",
   "metadata": {},
   "source": [
    "What is our accuracy like?"
   ]
  },
  {
   "cell_type": "code",
   "execution_count": 256,
   "id": "9d28e9e5",
   "metadata": {},
   "outputs": [
    {
     "name": "stdout",
     "output_type": "stream",
     "text": [
      "[LightGBM] [Warning] min_data_in_leaf is set=65, min_child_samples=20 will be ignored. Current value: min_data_in_leaf=65\n",
      "Root Mean Squared Error (RMSE): 0.08546664749775193\n",
      "R-squared (Coefficient of Determination): 0.22861637254271205\n"
     ]
    }
   ],
   "source": [
    "# Step 6: Predict on the test data\n",
    "y_cu_test_pred = model.predict(X_cu_test)\n",
    "\n",
    "# Step 7: Calculate Mean Squared Error (MSE) on the test data\n",
    "rmse_cu = mean_squared_error(y_cu_test, y_cu_test_pred, squared=False)\n",
    "\n",
    "# Step 8: Calculate R-squared (coefficient of determination) on the test data\n",
    "r2_cu = r2_score(y_cu_test, y_cu_test_pred)\n",
    "\n",
    "print(\"Root Mean Squared Error (RMSE):\", rmse_cu)\n",
    "print(\"R-squared (Coefficient of Determination):\", r2_cu)"
   ]
  },
  {
   "cell_type": "code",
   "execution_count": 257,
   "id": "89690135",
   "metadata": {},
   "outputs": [
    {
     "name": "stdout",
     "output_type": "stream",
     "text": [
      "1.089225232351227\n"
     ]
    }
   ],
   "source": [
    "print(np.exp(rmse_cu))"
   ]
  },
  {
   "attachments": {},
   "cell_type": "markdown",
   "id": "712f3b39",
   "metadata": {},
   "source": [
    "### Time to predict the missing values"
   ]
  },
  {
   "cell_type": "code",
   "execution_count": 258,
   "id": "9b98003e",
   "metadata": {},
   "outputs": [
    {
     "data": {
      "text/plain": [
       "(91, 5)"
      ]
     },
     "execution_count": 258,
     "metadata": {},
     "output_type": "execute_result"
    }
   ],
   "source": [
    "X_cu_invalid.shape"
   ]
  },
  {
   "cell_type": "code",
   "execution_count": 259,
   "id": "3cec648b",
   "metadata": {},
   "outputs": [
    {
     "name": "stdout",
     "output_type": "stream",
     "text": [
      "[LightGBM] [Warning] min_data_in_leaf is set=65, min_child_samples=20 will be ignored. Current value: min_data_in_leaf=65\n"
     ]
    }
   ],
   "source": [
    "# Step 6: Use the trained model to predict the missing values\n",
    "X_cu_invalid = invalid_course_units.drop(columns=['course_unit'])\n",
    "predicted_cu_values = np.round(model.predict(X_cu_invalid))"
   ]
  },
  {
   "cell_type": "code",
   "execution_count": 260,
   "id": "f28f14c9",
   "metadata": {},
   "outputs": [
    {
     "data": {
      "text/html": [
       "<div>\n",
       "<style scoped>\n",
       "    .dataframe tbody tr th:only-of-type {\n",
       "        vertical-align: middle;\n",
       "    }\n",
       "\n",
       "    .dataframe tbody tr th {\n",
       "        vertical-align: top;\n",
       "    }\n",
       "\n",
       "    .dataframe thead th {\n",
       "        text-align: right;\n",
       "    }\n",
       "</style>\n",
       "<table border=\"1\" class=\"dataframe\">\n",
       "  <thead>\n",
       "    <tr style=\"text-align: right;\">\n",
       "      <th></th>\n",
       "      <th>school</th>\n",
       "      <th>level</th>\n",
       "      <th>faculty</th>\n",
       "      <th>department</th>\n",
       "      <th>courses_taken</th>\n",
       "      <th>course_unit</th>\n",
       "    </tr>\n",
       "  </thead>\n",
       "  <tbody>\n",
       "    <tr>\n",
       "      <th>3</th>\n",
       "      <td>university of lagos</td>\n",
       "      <td>400 Level</td>\n",
       "      <td>Social Sciences</td>\n",
       "      <td>Political science</td>\n",
       "      <td>7</td>\n",
       "      <td>1</td>\n",
       "    </tr>\n",
       "    <tr>\n",
       "      <th>12</th>\n",
       "      <td>university of lagos</td>\n",
       "      <td>500 Level</td>\n",
       "      <td>Engineering</td>\n",
       "      <td>Surveying &amp; geo-informatics engineering</td>\n",
       "      <td>10</td>\n",
       "      <td>1</td>\n",
       "    </tr>\n",
       "    <tr>\n",
       "      <th>17</th>\n",
       "      <td>university of lagos</td>\n",
       "      <td>100 Level</td>\n",
       "      <td>Sciences</td>\n",
       "      <td>Marine science</td>\n",
       "      <td>9</td>\n",
       "      <td>1</td>\n",
       "    </tr>\n",
       "    <tr>\n",
       "      <th>18</th>\n",
       "      <td>university of lagos</td>\n",
       "      <td>400 Level</td>\n",
       "      <td>Engineering</td>\n",
       "      <td>Chemical engineering</td>\n",
       "      <td>10</td>\n",
       "      <td>1</td>\n",
       "    </tr>\n",
       "    <tr>\n",
       "      <th>19</th>\n",
       "      <td>university of lagos</td>\n",
       "      <td>400 Level</td>\n",
       "      <td>Management Science</td>\n",
       "      <td>Finance</td>\n",
       "      <td>6</td>\n",
       "      <td>1</td>\n",
       "    </tr>\n",
       "  </tbody>\n",
       "</table>\n",
       "</div>"
      ],
      "text/plain": [
       "                 school      level             faculty  \\\n",
       "3   university of lagos  400 Level     Social Sciences   \n",
       "12  university of lagos  500 Level         Engineering   \n",
       "17  university of lagos  100 Level            Sciences   \n",
       "18  university of lagos  400 Level         Engineering   \n",
       "19  university of lagos  400 Level  Management Science   \n",
       "\n",
       "                                 department  courses_taken  course_unit  \n",
       "3                         Political science              7            1  \n",
       "12  Surveying & geo-informatics engineering             10            1  \n",
       "17                           Marine science              9            1  \n",
       "18                     Chemical engineering             10            1  \n",
       "19                                  Finance              6            1  "
      ]
     },
     "execution_count": 260,
     "metadata": {},
     "output_type": "execute_result"
    }
   ],
   "source": [
    "# Step 7: Assign the predicted values to the training data\n",
    "invalid_course_units.loc[invalid_course_units.index, 'course_unit'] = np.ceil(predicted_cu_values)\n",
    "invalid_course_units.head()"
   ]
  },
  {
   "attachments": {},
   "cell_type": "markdown",
   "id": "2988ee04",
   "metadata": {},
   "source": [
    "#### Merging the predicted values\n",
    "\n",
    "Now let's merge the predicted values to the general dataframe."
   ]
  },
  {
   "attachments": {},
   "cell_type": "markdown",
   "id": "1b62ce30",
   "metadata": {},
   "source": [
    "Create a copy of the previous dataframe, to prevent errors."
   ]
  },
  {
   "cell_type": "code",
   "execution_count": 261,
   "id": "65bcf2e3",
   "metadata": {},
   "outputs": [],
   "source": [
    "df_clean = data.copy()"
   ]
  },
  {
   "attachments": {},
   "cell_type": "markdown",
   "id": "97da8827",
   "metadata": {},
   "source": [
    "Add the predicted values."
   ]
  },
  {
   "cell_type": "code",
   "execution_count": 262,
   "id": "2c6d0285",
   "metadata": {},
   "outputs": [],
   "source": [
    "changed_rows = invalid_course_units.index"
   ]
  },
  {
   "cell_type": "code",
   "execution_count": 263,
   "id": "af8bd3a6",
   "metadata": {},
   "outputs": [
    {
     "name": "stdout",
     "output_type": "stream",
     "text": [
      "<class 'pandas.core.frame.DataFrame'>\n",
      "RangeIndex: 429 entries, 0 to 428\n",
      "Data columns (total 20 columns):\n",
      " #   Column         Non-Null Count  Dtype   \n",
      "---  ------         --------------  -----   \n",
      " 0   school         429 non-null    category\n",
      " 1   level          429 non-null    category\n",
      " 2   age            429 non-null    Int64   \n",
      " 3   gender         429 non-null    category\n",
      " 4   relationship   429 non-null    category\n",
      " 5   faculty        429 non-null    category\n",
      " 6   department     429 non-null    category\n",
      " 7   strike_effect  343 non-null    string  \n",
      " 8   challenge      338 non-null    string  \n",
      " 9   work           429 non-null    category\n",
      " 10  skills         429 non-null    string  \n",
      " 11  prep_before    429 non-null    category\n",
      " 12  prep_after     429 non-null    category\n",
      " 13  lecture        429 non-null    category\n",
      " 14  academic_act   429 non-null    category\n",
      " 15  courses_taken  429 non-null    Int64   \n",
      " 16  course_unit    429 non-null    Int64   \n",
      " 17  cgpa_before    429 non-null    Float64 \n",
      " 18  cgpa_after     429 non-null    Float64 \n",
      " 19  cgpa_change    429 non-null    Float64 \n",
      "dtypes: Float64(3), Int64(3), category(11), string(3)\n",
      "memory usage: 42.6 KB\n"
     ]
    }
   ],
   "source": [
    "df_clean.loc[changed_rows, \"course_unit\"] = invalid_course_units[\"course_unit\"]\n",
    "\n",
    "df_clean.info()"
   ]
  },
  {
   "attachments": {},
   "cell_type": "markdown",
   "id": "a4010aec",
   "metadata": {},
   "source": [
    "## Addressing cases of No CGPA\n",
    "\n",
    "Since the 2022 ASUU strike occured in the first semester, we expect that newly admitted students won't have a CGPA before the strike. In such cases, the participants were told to input \"0\"."
   ]
  },
  {
   "cell_type": "code",
   "execution_count": 264,
   "id": "46d57eff",
   "metadata": {},
   "outputs": [
    {
     "name": "stdout",
     "output_type": "stream",
     "text": [
      "<class 'pandas.core.frame.DataFrame'>\n",
      "Index: 109 entries, 4 to 427\n",
      "Data columns (total 20 columns):\n",
      " #   Column         Non-Null Count  Dtype   \n",
      "---  ------         --------------  -----   \n",
      " 0   school         109 non-null    category\n",
      " 1   level          109 non-null    category\n",
      " 2   age            109 non-null    Int64   \n",
      " 3   gender         109 non-null    category\n",
      " 4   relationship   109 non-null    category\n",
      " 5   faculty        109 non-null    category\n",
      " 6   department     109 non-null    category\n",
      " 7   strike_effect  83 non-null     string  \n",
      " 8   challenge      81 non-null     string  \n",
      " 9   work           109 non-null    category\n",
      " 10  skills         109 non-null    string  \n",
      " 11  prep_before    109 non-null    category\n",
      " 12  prep_after     109 non-null    category\n",
      " 13  lecture        109 non-null    category\n",
      " 14  academic_act   109 non-null    category\n",
      " 15  courses_taken  109 non-null    Int64   \n",
      " 16  course_unit    109 non-null    Int64   \n",
      " 17  cgpa_before    109 non-null    Float64 \n",
      " 18  cgpa_after     109 non-null    Float64 \n",
      " 19  cgpa_change    109 non-null    Float64 \n",
      "dtypes: Float64(3), Int64(3), category(11), string(3)\n",
      "memory usage: 15.5 KB\n"
     ]
    }
   ],
   "source": [
    "#Extract a dataframe of individuals who had no cgpa before but cgpa after\n",
    "\n",
    "no_cgpa_before = df_clean[df_clean['cgpa_before'] == 0]\n",
    "\n",
    "no_cgpa_before.info()"
   ]
  },
  {
   "attachments": {},
   "cell_type": "markdown",
   "id": "da760f11",
   "metadata": {},
   "source": [
    "### No CGPA After? \n",
    "At the time of this survey, some students were yet to see their results. Hence, they filled in 0 in the CGPA After column. While their comments may be useful, we can't use the value they inputed in analysis. Therefore, we have to address this."
   ]
  },
  {
   "attachments": {},
   "cell_type": "markdown",
   "id": "0ec9f022",
   "metadata": {},
   "source": [
    "What proportion of students in the dataframe are victims of this?"
   ]
  },
  {
   "cell_type": "code",
   "execution_count": 265,
   "id": "80b18006",
   "metadata": {},
   "outputs": [
    {
     "data": {
      "text/plain": [
       "'About 9% of students were affected'"
      ]
     },
     "execution_count": 265,
     "metadata": {},
     "output_type": "execute_result"
    }
   ],
   "source": [
    "percent_affected = len(df_clean[df_clean['cgpa_after'] == 0])/len(data) * 100\n",
    "\n",
    "f\"About {round(percent_affected)}% of students were affected\""
   ]
  },
  {
   "attachments": {},
   "cell_type": "markdown",
   "id": "d5158f4a",
   "metadata": {},
   "source": [
    "How many students have complete info?"
   ]
  },
  {
   "cell_type": "code",
   "execution_count": 266,
   "id": "8fa4b59e",
   "metadata": {},
   "outputs": [
    {
     "data": {
      "text/plain": [
       "313"
      ]
     },
     "execution_count": 266,
     "metadata": {},
     "output_type": "execute_result"
    }
   ],
   "source": [
    "len(data[(df_clean['cgpa_before'] != 0.00) & (df_clean['cgpa_after'] != 0)])"
   ]
  },
  {
   "attachments": {},
   "cell_type": "markdown",
   "id": "91584cf9",
   "metadata": {},
   "source": [
    "### Valid CGPA\n",
    "\n",
    "Now we have a dataframe of students with valid CGPAs. That is, neither CGPA before nor CGPA after = 0."
   ]
  },
  {
   "cell_type": "code",
   "execution_count": 267,
   "id": "34522b9e",
   "metadata": {},
   "outputs": [],
   "source": [
    "df_valid_cgpa = df_clean[(df_clean['cgpa_before'] != 0.00) & (df_clean['cgpa_after'] != 0)]"
   ]
  },
  {
   "cell_type": "code",
   "execution_count": 268,
   "id": "d07771fb",
   "metadata": {},
   "outputs": [
    {
     "name": "stdout",
     "output_type": "stream",
     "text": [
      "<class 'pandas.core.frame.DataFrame'>\n",
      "Index: 313 entries, 0 to 428\n",
      "Data columns (total 20 columns):\n",
      " #   Column         Non-Null Count  Dtype   \n",
      "---  ------         --------------  -----   \n",
      " 0   school         313 non-null    category\n",
      " 1   level          313 non-null    category\n",
      " 2   age            313 non-null    Int64   \n",
      " 3   gender         313 non-null    category\n",
      " 4   relationship   313 non-null    category\n",
      " 5   faculty        313 non-null    category\n",
      " 6   department     313 non-null    category\n",
      " 7   strike_effect  253 non-null    string  \n",
      " 8   challenge      250 non-null    string  \n",
      " 9   work           313 non-null    category\n",
      " 10  skills         313 non-null    string  \n",
      " 11  prep_before    313 non-null    category\n",
      " 12  prep_after     313 non-null    category\n",
      " 13  lecture        313 non-null    category\n",
      " 14  academic_act   313 non-null    category\n",
      " 15  courses_taken  313 non-null    Int64   \n",
      " 16  course_unit    313 non-null    Int64   \n",
      " 17  cgpa_before    313 non-null    Float64 \n",
      " 18  cgpa_after     313 non-null    Float64 \n",
      " 19  cgpa_change    313 non-null    Float64 \n",
      "dtypes: Float64(3), Int64(3), category(11), string(3)\n",
      "memory usage: 34.8 KB\n"
     ]
    }
   ],
   "source": [
    "#Checking data information\n",
    "df_valid_cgpa.info()"
   ]
  },
  {
   "attachments": {},
   "cell_type": "markdown",
   "id": "cff4802e",
   "metadata": {},
   "source": [
    "## Saving our dataframes!\n",
    "\n",
    "Now that we're done cleaning, it's time to save all our dataframes for use in the analysis files!"
   ]
  },
  {
   "cell_type": "code",
   "execution_count": 269,
   "id": "43c9960b",
   "metadata": {},
   "outputs": [],
   "source": [
    "# cleaned data before course unit prediction and removal of invalid cgpa\n",
    "data.to_csv(\"../data/data_without_predicted_course_units.csv\", header=True, index=False)\n",
    "\n",
    "# cleaned data after course unit prediction\n",
    "df_clean.to_csv(\"../data/data_with_predicted_course_units.csv\", header=True, index=False)\n",
    "\n",
    "# contains students lacking complete cgpa info and predicted course units\n",
    "no_cgpa_before.to_csv(\"../data/incomplete_cgpa_only.csv\", header=True, index=False)\n",
    "\n",
    "# contains only valid cgpa and predicted course units\n",
    "df_valid_cgpa.to_csv(\"../data/valid_cgpa_only.csv\", header=True, index=False)"
   ]
  }
 ],
 "metadata": {
  "kernelspec": {
   "display_name": "Python 3 (ipykernel)",
   "language": "python",
   "name": "python3"
  },
  "language_info": {
   "codemirror_mode": {
    "name": "ipython",
    "version": 3
   },
   "file_extension": ".py",
   "mimetype": "text/x-python",
   "name": "python",
   "nbconvert_exporter": "python",
   "pygments_lexer": "ipython3",
   "version": "3.11.4"
  }
 },
 "nbformat": 4,
 "nbformat_minor": 5
}
