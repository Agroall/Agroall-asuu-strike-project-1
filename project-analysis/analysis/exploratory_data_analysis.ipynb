{
 "cells": [
  {
   "attachments": {},
   "cell_type": "markdown",
   "id": "a909a6db",
   "metadata": {},
   "source": [
    "# Exploratory Data Analysis - ASUU Strike Effect Analysis Project"
   ]
  },
  {
   "attachments": {},
   "cell_type": "markdown",
   "id": "ecb2862e",
   "metadata": {},
   "source": [
    "## Data Cleaning\n",
    "\n",
    "While we attempted to reduce the amount of cleaning required, via good survey design, there are still some cases that would require cleaning. \n",
    "\n",
    "\n",
    "### Data Cleaning Cadence\n",
    "1. Inspect data for structure and data types\n",
    "2. Inspect for missing values\n",
    "3. Check for duplicates in data\n",
    "4. Check for outliers\n",
    "5. Mislabeling and spurious data entries\n",
    "6. Inspect data columns for data types"
   ]
  },
  {
   "attachments": {},
   "cell_type": "markdown",
   "id": "3a307f3e",
   "metadata": {},
   "source": [
    "Import packages"
   ]
  },
  {
   "cell_type": "code",
   "execution_count": 356,
   "id": "a87e6536",
   "metadata": {},
   "outputs": [],
   "source": [
    "import pandas as pd\n",
    "import numpy as np\n",
    "import matplotlib.pyplot as plt\n",
    "import seaborn as sns"
   ]
  },
  {
   "attachments": {},
   "cell_type": "markdown",
   "id": "8bccc2d6",
   "metadata": {},
   "source": [
    "Load data"
   ]
  },
  {
   "cell_type": "code",
   "execution_count": 357,
   "id": "fcf268f8",
   "metadata": {},
   "outputs": [],
   "source": [
    "data_filepath = \"../data/strike_and_academic_performance.csv\"\n",
    "\n",
    "data = pd.read_csv(data_filepath)"
   ]
  },
  {
   "cell_type": "code",
   "execution_count": 358,
   "id": "2299ed37",
   "metadata": {},
   "outputs": [
    {
     "name": "stdout",
     "output_type": "stream",
     "text": [
      "<class 'pandas.core.frame.DataFrame'>\n",
      "RangeIndex: 431 entries, 0 to 430\n",
      "Data columns (total 21 columns):\n",
      " #   Column                                                                              Non-Null Count  Dtype  \n",
      "---  ------                                                                              --------------  -----  \n",
      " 0   Are you a student of the University of Lagos?                                       431 non-null    object \n",
      " 1   If not, what is your university/institution?                                        22 non-null     object \n",
      " 2   What is your current academic level?                                                431 non-null    object \n",
      " 3   How old are you?                                                                    431 non-null    int64  \n",
      " 4   What is your gender?                                                                431 non-null    object \n",
      " 5   What was your relationship status during the strike?                                431 non-null    object \n",
      " 6   What is your faculty?                                                               431 non-null    object \n",
      " 7   What is your department?                                                            431 non-null    object \n",
      " 8   Kindly input your department, if not listed in the previous question.               28 non-null     object \n",
      " 9   How has the ASUU strike affected you and your academic performance?                 345 non-null    object \n",
      " 10  What was the most challenging part of returning to academic life after the strike?  340 non-null    object \n",
      " 11  Did you undertake any work during the strike?                                       431 non-null    object \n",
      " 12  How did you develop yourself during the strike?                                     431 non-null    object \n",
      " 13  How prepared were you for the exams? [Before Strike]                                431 non-null    object \n",
      " 14  How prepared were you for the exams? [After Strike]                                 431 non-null    object \n",
      " 15  How were your lectures affected by the strike?                                      431 non-null    object \n",
      " 16  How often did you engage in academic activities during the strike?                  431 non-null    object \n",
      " 17  How many courses did you take in the affected semester?                             431 non-null    int64  \n",
      " 18  How many credit units did your courses add up to in the affected semester?          353 non-null    float64\n",
      " 19  What was your CGPA before the strike?                                               431 non-null    float64\n",
      " 20  What is your current CGPA?                                                          431 non-null    float64\n",
      "dtypes: float64(3), int64(2), object(16)\n",
      "memory usage: 70.8+ KB\n"
     ]
    }
   ],
   "source": [
    "data.info()"
   ]
  },
  {
   "attachments": {},
   "cell_type": "markdown",
   "id": "e65f635c",
   "metadata": {},
   "source": [
    "### Inspect data for structure and data type"
   ]
  },
  {
   "cell_type": "code",
   "execution_count": 359,
   "id": "316b4a7d",
   "metadata": {},
   "outputs": [
    {
     "name": "stdout",
     "output_type": "stream",
     "text": [
      "<class 'pandas.core.frame.DataFrame'>\n",
      "RangeIndex: 431 entries, 0 to 430\n",
      "Data columns (total 21 columns):\n",
      " #   Column                                                                              Non-Null Count  Dtype  \n",
      "---  ------                                                                              --------------  -----  \n",
      " 0   Are you a student of the University of Lagos?                                       431 non-null    object \n",
      " 1   If not, what is your university/institution?                                        22 non-null     object \n",
      " 2   What is your current academic level?                                                431 non-null    object \n",
      " 3   How old are you?                                                                    431 non-null    int64  \n",
      " 4   What is your gender?                                                                431 non-null    object \n",
      " 5   What was your relationship status during the strike?                                431 non-null    object \n",
      " 6   What is your faculty?                                                               431 non-null    object \n",
      " 7   What is your department?                                                            431 non-null    object \n",
      " 8   Kindly input your department, if not listed in the previous question.               28 non-null     object \n",
      " 9   How has the ASUU strike affected you and your academic performance?                 345 non-null    object \n",
      " 10  What was the most challenging part of returning to academic life after the strike?  340 non-null    object \n",
      " 11  Did you undertake any work during the strike?                                       431 non-null    object \n",
      " 12  How did you develop yourself during the strike?                                     431 non-null    object \n",
      " 13  How prepared were you for the exams? [Before Strike]                                431 non-null    object \n",
      " 14  How prepared were you for the exams? [After Strike]                                 431 non-null    object \n",
      " 15  How were your lectures affected by the strike?                                      431 non-null    object \n",
      " 16  How often did you engage in academic activities during the strike?                  431 non-null    object \n",
      " 17  How many courses did you take in the affected semester?                             431 non-null    int64  \n",
      " 18  How many credit units did your courses add up to in the affected semester?          353 non-null    float64\n",
      " 19  What was your CGPA before the strike?                                               431 non-null    float64\n",
      " 20  What is your current CGPA?                                                          431 non-null    float64\n",
      "dtypes: float64(3), int64(2), object(16)\n",
      "memory usage: 70.8+ KB\n"
     ]
    }
   ],
   "source": [
    "data.info()"
   ]
  },
  {
   "attachments": {},
   "cell_type": "markdown",
   "id": "0619fa3e",
   "metadata": {},
   "source": [
    "Are there any missing values?"
   ]
  },
  {
   "cell_type": "code",
   "execution_count": 360,
   "id": "3ab0624b",
   "metadata": {},
   "outputs": [
    {
     "data": {
      "text/plain": [
       "Are you a student of the University of Lagos?                                           0\n",
       "If not, what is your university/institution?                                          409\n",
       "What is your current academic level?                                                    0\n",
       "How old are you?                                                                        0\n",
       "What is your gender?                                                                    0\n",
       "What was your relationship status during the strike?                                    0\n",
       "What is your faculty?                                                                   0\n",
       "What is your department?                                                                0\n",
       "Kindly input your department, if not listed in the previous question.                 403\n",
       "How has the ASUU strike affected you and your academic performance?                    86\n",
       "What was the most challenging part of returning to academic life after the strike?     91\n",
       "Did you undertake any work during the strike?                                           0\n",
       "How did you develop yourself during the strike?                                         0\n",
       "How prepared were you for the exams? [Before Strike]                                    0\n",
       "How prepared were you for the exams? [After Strike]                                     0\n",
       "How were your lectures affected by the strike?                                          0\n",
       "How often did you engage in academic activities during the strike?                      0\n",
       "How many courses did you take in the affected semester?                                 0\n",
       "How many credit units did your courses add up to in the affected semester?             78\n",
       "What was your CGPA before the strike?                                                   0\n",
       "What is your current CGPA?                                                              0\n",
       "dtype: int64"
      ]
     },
     "execution_count": 360,
     "metadata": {},
     "output_type": "execute_result"
    }
   ],
   "source": [
    "data.isna().sum()"
   ]
  },
  {
   "attachments": {},
   "cell_type": "markdown",
   "id": "ac1bd207",
   "metadata": {},
   "source": [
    "### Rename Columns\n",
    "The current column names are too long. Let's make them shorter for easier analysis."
   ]
  },
  {
   "cell_type": "code",
   "execution_count": 361,
   "id": "6de003d8",
   "metadata": {},
   "outputs": [
    {
     "data": {
      "text/html": [
       "<div>\n",
       "<style scoped>\n",
       "    .dataframe tbody tr th:only-of-type {\n",
       "        vertical-align: middle;\n",
       "    }\n",
       "\n",
       "    .dataframe tbody tr th {\n",
       "        vertical-align: top;\n",
       "    }\n",
       "\n",
       "    .dataframe thead th {\n",
       "        text-align: right;\n",
       "    }\n",
       "</style>\n",
       "<table border=\"1\" class=\"dataframe\">\n",
       "  <thead>\n",
       "    <tr style=\"text-align: right;\">\n",
       "      <th></th>\n",
       "      <th>unilag</th>\n",
       "      <th>non_unilag</th>\n",
       "      <th>level</th>\n",
       "      <th>age</th>\n",
       "      <th>gender</th>\n",
       "      <th>relationship</th>\n",
       "      <th>faculty</th>\n",
       "      <th>department</th>\n",
       "      <th>other_dept</th>\n",
       "      <th>strike_effect</th>\n",
       "      <th>...</th>\n",
       "      <th>work</th>\n",
       "      <th>skills</th>\n",
       "      <th>prep_before</th>\n",
       "      <th>prep_after</th>\n",
       "      <th>lecture</th>\n",
       "      <th>academic_act</th>\n",
       "      <th>courses_taken</th>\n",
       "      <th>course_unit</th>\n",
       "      <th>cgpa_before</th>\n",
       "      <th>cgpa_after</th>\n",
       "    </tr>\n",
       "  </thead>\n",
       "  <tbody>\n",
       "    <tr>\n",
       "      <th>0</th>\n",
       "      <td>Yes</td>\n",
       "      <td>NaN</td>\n",
       "      <td>400 Level</td>\n",
       "      <td>22</td>\n",
       "      <td>Male</td>\n",
       "      <td>Single</td>\n",
       "      <td>Engineering</td>\n",
       "      <td>Chemical Engineering</td>\n",
       "      <td>NaN</td>\n",
       "      <td>I learned how to study better and my grades al...</td>\n",
       "      <td>...</td>\n",
       "      <td>Worked in a role relevant to my studies</td>\n",
       "      <td>Acquired skills unrelated to course of study</td>\n",
       "      <td>Poorly</td>\n",
       "      <td>Poorly</td>\n",
       "      <td>No noticeable change</td>\n",
       "      <td>Rarely: I engaged in academic activities once ...</td>\n",
       "      <td>10</td>\n",
       "      <td>23.0</td>\n",
       "      <td>3.39</td>\n",
       "      <td>3.51</td>\n",
       "    </tr>\n",
       "    <tr>\n",
       "      <th>1</th>\n",
       "      <td>Yes</td>\n",
       "      <td>NaN</td>\n",
       "      <td>400 Level</td>\n",
       "      <td>23</td>\n",
       "      <td>Female</td>\n",
       "      <td>Single</td>\n",
       "      <td>Engineering</td>\n",
       "      <td>Chemical Engineering</td>\n",
       "      <td>NaN</td>\n",
       "      <td>It affected it in a negative way as it became ...</td>\n",
       "      <td>...</td>\n",
       "      <td>Did not work during the strike</td>\n",
       "      <td>Acquired skills unrelated to course of study</td>\n",
       "      <td>Poorly</td>\n",
       "      <td>Moderately</td>\n",
       "      <td>No noticeable change</td>\n",
       "      <td>Rarely: I engaged in academic activities once ...</td>\n",
       "      <td>10</td>\n",
       "      <td>23.0</td>\n",
       "      <td>4.44</td>\n",
       "      <td>4.50</td>\n",
       "    </tr>\n",
       "  </tbody>\n",
       "</table>\n",
       "<p>2 rows × 21 columns</p>\n",
       "</div>"
      ],
      "text/plain": [
       "  unilag non_unilag      level  age  gender relationship      faculty  \\\n",
       "0    Yes        NaN  400 Level   22    Male       Single  Engineering   \n",
       "1    Yes        NaN  400 Level   23  Female       Single  Engineering   \n",
       "\n",
       "             department other_dept  \\\n",
       "0  Chemical Engineering        NaN   \n",
       "1  Chemical Engineering        NaN   \n",
       "\n",
       "                                       strike_effect  ...  \\\n",
       "0  I learned how to study better and my grades al...  ...   \n",
       "1  It affected it in a negative way as it became ...  ...   \n",
       "\n",
       "                                      work  \\\n",
       "0  Worked in a role relevant to my studies   \n",
       "1           Did not work during the strike   \n",
       "\n",
       "                                         skills prep_before  prep_after  \\\n",
       "0  Acquired skills unrelated to course of study      Poorly      Poorly   \n",
       "1  Acquired skills unrelated to course of study      Poorly  Moderately   \n",
       "\n",
       "                lecture                                       academic_act  \\\n",
       "0  No noticeable change  Rarely: I engaged in academic activities once ...   \n",
       "1  No noticeable change  Rarely: I engaged in academic activities once ...   \n",
       "\n",
       "  courses_taken  course_unit  cgpa_before  cgpa_after  \n",
       "0            10         23.0         3.39        3.51  \n",
       "1            10         23.0         4.44        4.50  \n",
       "\n",
       "[2 rows x 21 columns]"
      ]
     },
     "execution_count": 361,
     "metadata": {},
     "output_type": "execute_result"
    }
   ],
   "source": [
    "# Rename multiple columns\n",
    "\n",
    "column_mapping = {\n",
    "    'Are you a student of the University of Lagos?': 'unilag',\n",
    "    'If not, what is your university/institution?': 'non_unilag',\n",
    "    'What is your current academic level?': 'level',\n",
    "    'How old are you?': 'age',\n",
    "    'What is your gender?': 'gender',\n",
    "    'What was your relationship status during the strike?': 'relationship',\n",
    "    'What is your faculty?': 'faculty',\n",
    "    'What is your department?': 'department',\n",
    "    'Kindly input your department, if not listed in the previous question. ': 'other_dept',\n",
    "    'How has the ASUU strike affected you and your academic performance?': 'strike_effect',\n",
    "    'What was the most challenging part of returning to academic life after the strike?': 'challenge',\n",
    "    'Did you undertake any work during the strike?': 'work',\n",
    "    'How did you develop yourself during the strike?': 'skills',\n",
    "    'How prepared were you for the exams? [Before Strike]': 'prep_before',\n",
    "    'How prepared were you for the exams? [After Strike]': 'prep_after',\n",
    "    'How were your lectures affected by the strike?': 'lecture',\n",
    "    'How often did you engage in academic activities during the strike?': 'academic_act',\n",
    "    'How many courses did you take in the affected semester? ': 'courses_taken',\n",
    "    'How many credit units did your courses add up to in the affected semester?': 'course_unit',\n",
    "    'What was your CGPA before the strike?': 'cgpa_before',\n",
    "    'What is your current CGPA?': 'cgpa_after'\n",
    "}\n",
    "\n",
    "data = data.rename(columns=column_mapping)\n",
    "\n",
    "data.head(2)"
   ]
  },
  {
   "attachments": {},
   "cell_type": "markdown",
   "id": "e44c2169",
   "metadata": {},
   "source": [
    "### Creating our target column\n",
    "Our target column in this analysis is the change in CGPA after the strike. We're trying to see if the strike had a positive or negative effect on the participants.\n",
    "\n",
    "If CGPA increases after the strike, it may be possible that the strike had a positive effect on the participants. And vice versa. "
   ]
  },
  {
   "cell_type": "code",
   "execution_count": 362,
   "id": "0ebda94f",
   "metadata": {},
   "outputs": [],
   "source": [
    "#Creating our outcome variable column\n",
    "\n",
    "data['cgpa_change'] = data['cgpa_after'] - data['cgpa_before']"
   ]
  },
  {
   "attachments": {},
   "cell_type": "markdown",
   "id": "1cc634a1",
   "metadata": {},
   "source": [
    "### Solving the department debacle\n",
    "\n",
    "There are 2 columns for department `department` and `other_dept`, \n",
    "1. One contains the main department of individuals who had their department on the list while filling, and those that did not find theirs and had to specify\n",
    "2. We have to find a way to merge them, as clearly one of the columns aren't needed"
   ]
  },
  {
   "cell_type": "code",
   "execution_count": 363,
   "id": "8749ce38",
   "metadata": {},
   "outputs": [
    {
     "data": {
      "text/plain": [
       "array(['Chemical Engineering', 'Political Science',\n",
       "       'Computer Engineering', 'Educational Foundations', 'Statistics',\n",
       "       'Geosciences', 'Science Tech. Education',\n",
       "       'Petroleum & Gas Engineering', 'Cell Biology & Genetics',\n",
       "       'Surveying & Geo-Informatics Engineering', 'Mathematics',\n",
       "       'Finance', 'Marine Science',\n",
       "       'Industrial Relations & Personnel Management',\n",
       "       'Mechanical Engineering', 'Mass Communication',\n",
       "       'Biomedical Engineering', 'Estate', 'Other',\n",
       "       'Biochemistry (Basic Medical Sciences)', 'Law', 'Medicine',\n",
       "       'Arts & Social Science Education', 'Zoology',\n",
       "       'Biochemistry (Sciences)', 'Education Administration', 'Botany',\n",
       "       'Economics', 'Systems Engineering', 'Psychology', 'Accounting',\n",
       "       'Physics', 'Radiology', 'Electrical & Electronics Engineering',\n",
       "       'Geography', 'Microbiology', 'Chemistry', 'Architecture',\n",
       "       'Biology Education', 'Human Kinetics & Health Education',\n",
       "       'Physiology', 'Adult Education',\n",
       "       'Civil & Environmental Engineering', 'Philosophy',\n",
       "       'Pharmaceutics & Pharmaceutical Technology', 'English',\n",
       "       'Quantity Surveying', 'Metallurgical & Materials Engineering',\n",
       "       'Actuarial Science & Insurance',\n",
       "       'European Languages & Integration Studies', 'Nursing',\n",
       "       'History & Strategic Studies', 'Computer Sciences', 'Building',\n",
       "       'Business Administration', 'Sociology', 'Restorative Dentistry',\n",
       "       'Medical Laboratory Science'], dtype=object)"
      ]
     },
     "execution_count": 363,
     "metadata": {},
     "output_type": "execute_result"
    }
   ],
   "source": [
    "data.department.unique()"
   ]
  },
  {
   "cell_type": "code",
   "execution_count": 364,
   "id": "b8f92fda",
   "metadata": {},
   "outputs": [
    {
     "data": {
      "text/plain": [
       "array([nan, 'Geophysics ', 'Radiography ', 'Biology Education ',\n",
       "       'FISHERIES ', 'Education and Biology ', 'Pharmacy ', 'Law ',\n",
       "       'Early childhood education ', 'Education Eng',\n",
       "       'Business Education ', 'Education ', 'Business Education',\n",
       "       'Religious Studies ', 'Technology and vocational education ',\n",
       "       'Communication and Language Arts ', 'Pharmacology ',\n",
       "       'Pharmacology, therapeutics and toxicology ', 'PHARMACY ',\n",
       "       'Pharmacy', 'Pharmacology', 'Mechatronics Engineering.',\n",
       "       'Banking and Finance ', 'Insurance ', 'Education foundation ',\n",
       "       'Art & Social Science Education '], dtype=object)"
      ]
     },
     "execution_count": 364,
     "metadata": {},
     "output_type": "execute_result"
    }
   ],
   "source": [
    "data.other_dept.unique()"
   ]
  },
  {
   "attachments": {},
   "cell_type": "markdown",
   "id": "3dca86e5",
   "metadata": {},
   "source": [
    "Replace \"Other\" in `department` with the corresponding value from `other_dept`"
   ]
  },
  {
   "cell_type": "code",
   "execution_count": 365,
   "id": "6d3e53b7",
   "metadata": {},
   "outputs": [],
   "source": [
    "data['department'] = data['department'].str.lower()\n",
    "data['other_dept'] = data['other_dept'].str.lower()\n",
    "\n",
    "\n",
    "data['department'] = data.apply(lambda row: row['other_dept'] if row['department'] == 'other' else row['department'], axis=1).str.capitalize()\n"
   ]
  },
  {
   "cell_type": "code",
   "execution_count": 366,
   "id": "9583e630",
   "metadata": {},
   "outputs": [
    {
     "data": {
      "text/html": [
       "<div>\n",
       "<style scoped>\n",
       "    .dataframe tbody tr th:only-of-type {\n",
       "        vertical-align: middle;\n",
       "    }\n",
       "\n",
       "    .dataframe tbody tr th {\n",
       "        vertical-align: top;\n",
       "    }\n",
       "\n",
       "    .dataframe thead th {\n",
       "        text-align: right;\n",
       "    }\n",
       "</style>\n",
       "<table border=\"1\" class=\"dataframe\">\n",
       "  <thead>\n",
       "    <tr style=\"text-align: right;\">\n",
       "      <th></th>\n",
       "      <th>unilag</th>\n",
       "      <th>non_unilag</th>\n",
       "      <th>level</th>\n",
       "      <th>age</th>\n",
       "      <th>gender</th>\n",
       "      <th>relationship</th>\n",
       "      <th>faculty</th>\n",
       "      <th>department</th>\n",
       "      <th>other_dept</th>\n",
       "      <th>strike_effect</th>\n",
       "      <th>...</th>\n",
       "      <th>skills</th>\n",
       "      <th>prep_before</th>\n",
       "      <th>prep_after</th>\n",
       "      <th>lecture</th>\n",
       "      <th>academic_act</th>\n",
       "      <th>courses_taken</th>\n",
       "      <th>course_unit</th>\n",
       "      <th>cgpa_before</th>\n",
       "      <th>cgpa_after</th>\n",
       "      <th>cgpa_change</th>\n",
       "    </tr>\n",
       "  </thead>\n",
       "  <tbody>\n",
       "    <tr>\n",
       "      <th>51</th>\n",
       "      <td>Yes</td>\n",
       "      <td>NaN</td>\n",
       "      <td>200 Level</td>\n",
       "      <td>20</td>\n",
       "      <td>Male</td>\n",
       "      <td>Single</td>\n",
       "      <td>Pharmacy</td>\n",
       "      <td>NaN</td>\n",
       "      <td>NaN</td>\n",
       "      <td>NaN</td>\n",
       "      <td>...</td>\n",
       "      <td>Acquired skills unrelated to course of study</td>\n",
       "      <td>Moderately</td>\n",
       "      <td>Moderately</td>\n",
       "      <td>Fewer lecturers attended classes</td>\n",
       "      <td>Often: I engaged in academic activities regula...</td>\n",
       "      <td>7</td>\n",
       "      <td>NaN</td>\n",
       "      <td>5.0</td>\n",
       "      <td>4.89</td>\n",
       "      <td>-0.11</td>\n",
       "    </tr>\n",
       "    <tr>\n",
       "      <th>331</th>\n",
       "      <td>Yes</td>\n",
       "      <td>NaN</td>\n",
       "      <td>300 Level</td>\n",
       "      <td>22</td>\n",
       "      <td>Female</td>\n",
       "      <td>Single</td>\n",
       "      <td>Social Sciences</td>\n",
       "      <td>NaN</td>\n",
       "      <td>NaN</td>\n",
       "      <td>I am mentally tired</td>\n",
       "      <td>...</td>\n",
       "      <td>Volunteered for an event or organization, Acqu...</td>\n",
       "      <td>Moderately</td>\n",
       "      <td>Poorly</td>\n",
       "      <td>No noticeable change</td>\n",
       "      <td>Rarely: I engaged in academic activities once ...</td>\n",
       "      <td>7</td>\n",
       "      <td>18.0</td>\n",
       "      <td>0.0</td>\n",
       "      <td>0.00</td>\n",
       "      <td>0.00</td>\n",
       "    </tr>\n",
       "  </tbody>\n",
       "</table>\n",
       "<p>2 rows × 22 columns</p>\n",
       "</div>"
      ],
      "text/plain": [
       "    unilag non_unilag      level  age  gender relationship          faculty  \\\n",
       "51     Yes        NaN  200 Level   20    Male       Single         Pharmacy   \n",
       "331    Yes        NaN  300 Level   22  Female       Single  Social Sciences   \n",
       "\n",
       "    department other_dept         strike_effect  ...  \\\n",
       "51         NaN        NaN                   NaN  ...   \n",
       "331        NaN        NaN  I am mentally tired   ...   \n",
       "\n",
       "                                                skills prep_before  \\\n",
       "51        Acquired skills unrelated to course of study  Moderately   \n",
       "331  Volunteered for an event or organization, Acqu...  Moderately   \n",
       "\n",
       "     prep_after                           lecture  \\\n",
       "51   Moderately  Fewer lecturers attended classes   \n",
       "331      Poorly              No noticeable change   \n",
       "\n",
       "                                          academic_act courses_taken  \\\n",
       "51   Often: I engaged in academic activities regula...             7   \n",
       "331  Rarely: I engaged in academic activities once ...             7   \n",
       "\n",
       "    course_unit  cgpa_before  cgpa_after  cgpa_change  \n",
       "51          NaN          5.0        4.89        -0.11  \n",
       "331        18.0          0.0        0.00         0.00  \n",
       "\n",
       "[2 rows x 22 columns]"
      ]
     },
     "execution_count": 366,
     "metadata": {},
     "output_type": "execute_result"
    }
   ],
   "source": [
    "#Deal with any missing data in this column\n",
    "data[data['department'].isna()]"
   ]
  },
  {
   "attachments": {},
   "cell_type": "markdown",
   "id": "0c78dd3d",
   "metadata": {},
   "source": [
    "There are two missing values here. We know that \"Pharmacy is the most common value in `other_dept` for Pharmcy students. Hence, we can replace the NaN there with it. "
   ]
  },
  {
   "cell_type": "code",
   "execution_count": 367,
   "id": "aabe249b",
   "metadata": {},
   "outputs": [],
   "source": [
    "#For location 51\n",
    "data.loc[51, 'department'] = 'Pharmacy'"
   ]
  },
  {
   "attachments": {},
   "cell_type": "markdown",
   "id": "a89476ea",
   "metadata": {},
   "source": [
    "However, we have no context here and would have to drop."
   ]
  },
  {
   "cell_type": "code",
   "execution_count": 368,
   "id": "8aacd036",
   "metadata": {},
   "outputs": [],
   "source": [
    "# Drop row with index 331 and reindex the DataFrame\n",
    "data.drop(331, inplace=True)\n",
    "data.reset_index(drop=True, inplace=True)"
   ]
  },
  {
   "attachments": {},
   "cell_type": "markdown",
   "id": "132e3bb0",
   "metadata": {},
   "source": [
    "What are the most common departments?"
   ]
  },
  {
   "cell_type": "code",
   "execution_count": 369,
   "id": "5bf1c49d",
   "metadata": {},
   "outputs": [
    {
     "data": {
      "text/plain": [
       "Cell biology & genetics       34\n",
       "Chemical engineering          22\n",
       "Accounting                    22\n",
       "Educational foundations       19\n",
       "Finance                       19\n",
       "                              ..\n",
       "Education and biology          1\n",
       "Pharmacy                       1\n",
       "Fisheries                      1\n",
       "Biomedical engineering         1\n",
       "Medical laboratory science     1\n",
       "Name: department, Length: 76, dtype: int64"
      ]
     },
     "execution_count": 369,
     "metadata": {},
     "output_type": "execute_result"
    }
   ],
   "source": [
    "data['department'].value_counts()"
   ]
  },
  {
   "attachments": {},
   "cell_type": "markdown",
   "id": "e6bc24a3",
   "metadata": {},
   "source": [
    "How many rows do we have in the data now?"
   ]
  },
  {
   "cell_type": "code",
   "execution_count": 370,
   "id": "479a1fe8",
   "metadata": {},
   "outputs": [
    {
     "data": {
      "text/plain": [
       "430"
      ]
     },
     "execution_count": 370,
     "metadata": {},
     "output_type": "execute_result"
    }
   ],
   "source": [
    "len(data['department'])"
   ]
  },
  {
   "attachments": {},
   "cell_type": "markdown",
   "id": "9d56d3e2",
   "metadata": {},
   "source": [
    "Now let's drop the other_dept column."
   ]
  },
  {
   "cell_type": "code",
   "execution_count": 371,
   "id": "c911090d",
   "metadata": {},
   "outputs": [
    {
     "data": {
      "text/html": [
       "<div>\n",
       "<style scoped>\n",
       "    .dataframe tbody tr th:only-of-type {\n",
       "        vertical-align: middle;\n",
       "    }\n",
       "\n",
       "    .dataframe tbody tr th {\n",
       "        vertical-align: top;\n",
       "    }\n",
       "\n",
       "    .dataframe thead th {\n",
       "        text-align: right;\n",
       "    }\n",
       "</style>\n",
       "<table border=\"1\" class=\"dataframe\">\n",
       "  <thead>\n",
       "    <tr style=\"text-align: right;\">\n",
       "      <th></th>\n",
       "      <th>unilag</th>\n",
       "      <th>non_unilag</th>\n",
       "      <th>level</th>\n",
       "      <th>age</th>\n",
       "      <th>gender</th>\n",
       "      <th>relationship</th>\n",
       "      <th>faculty</th>\n",
       "      <th>department</th>\n",
       "      <th>strike_effect</th>\n",
       "      <th>challenge</th>\n",
       "      <th>...</th>\n",
       "      <th>skills</th>\n",
       "      <th>prep_before</th>\n",
       "      <th>prep_after</th>\n",
       "      <th>lecture</th>\n",
       "      <th>academic_act</th>\n",
       "      <th>courses_taken</th>\n",
       "      <th>course_unit</th>\n",
       "      <th>cgpa_before</th>\n",
       "      <th>cgpa_after</th>\n",
       "      <th>cgpa_change</th>\n",
       "    </tr>\n",
       "  </thead>\n",
       "  <tbody>\n",
       "    <tr>\n",
       "      <th>0</th>\n",
       "      <td>Yes</td>\n",
       "      <td>NaN</td>\n",
       "      <td>400 Level</td>\n",
       "      <td>22</td>\n",
       "      <td>Male</td>\n",
       "      <td>Single</td>\n",
       "      <td>Engineering</td>\n",
       "      <td>Chemical engineering</td>\n",
       "      <td>I learned how to study better and my grades al...</td>\n",
       "      <td>Trying to remember things we were taught befor...</td>\n",
       "      <td>...</td>\n",
       "      <td>Acquired skills unrelated to course of study</td>\n",
       "      <td>Poorly</td>\n",
       "      <td>Poorly</td>\n",
       "      <td>No noticeable change</td>\n",
       "      <td>Rarely: I engaged in academic activities once ...</td>\n",
       "      <td>10</td>\n",
       "      <td>23.0</td>\n",
       "      <td>3.39</td>\n",
       "      <td>3.51</td>\n",
       "      <td>0.12</td>\n",
       "    </tr>\n",
       "    <tr>\n",
       "      <th>1</th>\n",
       "      <td>Yes</td>\n",
       "      <td>NaN</td>\n",
       "      <td>400 Level</td>\n",
       "      <td>23</td>\n",
       "      <td>Female</td>\n",
       "      <td>Single</td>\n",
       "      <td>Engineering</td>\n",
       "      <td>Chemical engineering</td>\n",
       "      <td>It affected it in a negative way as it became ...</td>\n",
       "      <td>Rekindling the student in me, lol. Trying to g...</td>\n",
       "      <td>...</td>\n",
       "      <td>Acquired skills unrelated to course of study</td>\n",
       "      <td>Poorly</td>\n",
       "      <td>Moderately</td>\n",
       "      <td>No noticeable change</td>\n",
       "      <td>Rarely: I engaged in academic activities once ...</td>\n",
       "      <td>10</td>\n",
       "      <td>23.0</td>\n",
       "      <td>4.44</td>\n",
       "      <td>4.50</td>\n",
       "      <td>0.06</td>\n",
       "    </tr>\n",
       "  </tbody>\n",
       "</table>\n",
       "<p>2 rows × 21 columns</p>\n",
       "</div>"
      ],
      "text/plain": [
       "  unilag non_unilag      level  age  gender relationship      faculty  \\\n",
       "0    Yes        NaN  400 Level   22    Male       Single  Engineering   \n",
       "1    Yes        NaN  400 Level   23  Female       Single  Engineering   \n",
       "\n",
       "             department                                      strike_effect  \\\n",
       "0  Chemical engineering  I learned how to study better and my grades al...   \n",
       "1  Chemical engineering  It affected it in a negative way as it became ...   \n",
       "\n",
       "                                           challenge  ...  \\\n",
       "0  Trying to remember things we were taught befor...  ...   \n",
       "1  Rekindling the student in me, lol. Trying to g...  ...   \n",
       "\n",
       "                                         skills prep_before  prep_after  \\\n",
       "0  Acquired skills unrelated to course of study      Poorly      Poorly   \n",
       "1  Acquired skills unrelated to course of study      Poorly  Moderately   \n",
       "\n",
       "                lecture                                       academic_act  \\\n",
       "0  No noticeable change  Rarely: I engaged in academic activities once ...   \n",
       "1  No noticeable change  Rarely: I engaged in academic activities once ...   \n",
       "\n",
       "  courses_taken  course_unit  cgpa_before  cgpa_after  cgpa_change  \n",
       "0            10         23.0         3.39        3.51         0.12  \n",
       "1            10         23.0         4.44        4.50         0.06  \n",
       "\n",
       "[2 rows x 21 columns]"
      ]
     },
     "execution_count": 371,
     "metadata": {},
     "output_type": "execute_result"
    }
   ],
   "source": [
    "data.drop(columns=['other_dept'], inplace=True)\n",
    "data.head(2)"
   ]
  },
  {
   "attachments": {},
   "cell_type": "markdown",
   "id": "2d41fb20",
   "metadata": {},
   "source": [
    "### Non-UNILAG Students\n",
    "\n",
    "We would like to extract a df of students that are not from the University of Lagos for future analysis"
   ]
  },
  {
   "cell_type": "code",
   "execution_count": 372,
   "id": "1c454a1c",
   "metadata": {},
   "outputs": [
    {
     "data": {
      "text/html": [
       "<div>\n",
       "<style scoped>\n",
       "    .dataframe tbody tr th:only-of-type {\n",
       "        vertical-align: middle;\n",
       "    }\n",
       "\n",
       "    .dataframe tbody tr th {\n",
       "        vertical-align: top;\n",
       "    }\n",
       "\n",
       "    .dataframe thead th {\n",
       "        text-align: right;\n",
       "    }\n",
       "</style>\n",
       "<table border=\"1\" class=\"dataframe\">\n",
       "  <thead>\n",
       "    <tr style=\"text-align: right;\">\n",
       "      <th></th>\n",
       "      <th>unilag</th>\n",
       "      <th>non_unilag</th>\n",
       "      <th>level</th>\n",
       "      <th>age</th>\n",
       "      <th>gender</th>\n",
       "      <th>relationship</th>\n",
       "      <th>faculty</th>\n",
       "      <th>department</th>\n",
       "      <th>strike_effect</th>\n",
       "      <th>challenge</th>\n",
       "      <th>...</th>\n",
       "      <th>skills</th>\n",
       "      <th>prep_before</th>\n",
       "      <th>prep_after</th>\n",
       "      <th>lecture</th>\n",
       "      <th>academic_act</th>\n",
       "      <th>courses_taken</th>\n",
       "      <th>course_unit</th>\n",
       "      <th>cgpa_before</th>\n",
       "      <th>cgpa_after</th>\n",
       "      <th>cgpa_change</th>\n",
       "    </tr>\n",
       "  </thead>\n",
       "  <tbody>\n",
       "    <tr>\n",
       "      <th>32</th>\n",
       "      <td>No</td>\n",
       "      <td>Federal University of Petroleum Resources Effu...</td>\n",
       "      <td>300 Level</td>\n",
       "      <td>20</td>\n",
       "      <td>Female</td>\n",
       "      <td>Single</td>\n",
       "      <td>Engineering</td>\n",
       "      <td>Chemical engineering</td>\n",
       "      <td>No effect</td>\n",
       "      <td>Reading and going to class</td>\n",
       "      <td>...</td>\n",
       "      <td>None of the above</td>\n",
       "      <td>Very</td>\n",
       "      <td>Very</td>\n",
       "      <td>Fewer lecturers attended classes</td>\n",
       "      <td>Rarely: I engaged in academic activities once ...</td>\n",
       "      <td>11</td>\n",
       "      <td>22.0</td>\n",
       "      <td>4.67</td>\n",
       "      <td>4.67</td>\n",
       "      <td>0.00</td>\n",
       "    </tr>\n",
       "    <tr>\n",
       "      <th>50</th>\n",
       "      <td>No</td>\n",
       "      <td>OOU OGUN STATE</td>\n",
       "      <td>500 Level</td>\n",
       "      <td>23</td>\n",
       "      <td>Male</td>\n",
       "      <td>Single</td>\n",
       "      <td>AGRICULTURE</td>\n",
       "      <td>Fisheries</td>\n",
       "      <td>NaN</td>\n",
       "      <td>NaN</td>\n",
       "      <td>...</td>\n",
       "      <td>Acquired skills unrelated to course of study</td>\n",
       "      <td>Very</td>\n",
       "      <td>Moderately</td>\n",
       "      <td>Worse lectures after the strike</td>\n",
       "      <td>Rarely: I engaged in academic activities once ...</td>\n",
       "      <td>9</td>\n",
       "      <td>19.0</td>\n",
       "      <td>3.51</td>\n",
       "      <td>3.66</td>\n",
       "      <td>0.15</td>\n",
       "    </tr>\n",
       "    <tr>\n",
       "      <th>97</th>\n",
       "      <td>No</td>\n",
       "      <td>University of Ibadan</td>\n",
       "      <td>300 Level</td>\n",
       "      <td>22</td>\n",
       "      <td>Male</td>\n",
       "      <td>Single</td>\n",
       "      <td>Social Sciences</td>\n",
       "      <td>Economics</td>\n",
       "      <td>Reduced enthusiasm for academic related activi...</td>\n",
       "      <td>Refocusing</td>\n",
       "      <td>...</td>\n",
       "      <td>Acquired skills relevant to course of study</td>\n",
       "      <td>Moderately</td>\n",
       "      <td>Moderately</td>\n",
       "      <td>Worse lectures after the strike</td>\n",
       "      <td>Never: I did not engage in any academic activi...</td>\n",
       "      <td>10</td>\n",
       "      <td>30.0</td>\n",
       "      <td>2.80</td>\n",
       "      <td>2.70</td>\n",
       "      <td>-0.10</td>\n",
       "    </tr>\n",
       "    <tr>\n",
       "      <th>132</th>\n",
       "      <td>No</td>\n",
       "      <td>Alex Ekwueme Federal University Ndufu-Alike Ik...</td>\n",
       "      <td>300 Level</td>\n",
       "      <td>23</td>\n",
       "      <td>Female</td>\n",
       "      <td>Single</td>\n",
       "      <td>Basic Medical Sciences</td>\n",
       "      <td>Physiology</td>\n",
       "      <td>It made me slack,I don't know what I'm doing i...</td>\n",
       "      <td>Studying school books</td>\n",
       "      <td>...</td>\n",
       "      <td>Volunteered for an event or organization</td>\n",
       "      <td>Poorly</td>\n",
       "      <td>Moderately</td>\n",
       "      <td>Fewer lecturers attended classes</td>\n",
       "      <td>Rarely: I engaged in academic activities once ...</td>\n",
       "      <td>9</td>\n",
       "      <td>21.0</td>\n",
       "      <td>2.95</td>\n",
       "      <td>0.00</td>\n",
       "      <td>-2.95</td>\n",
       "    </tr>\n",
       "    <tr>\n",
       "      <th>135</th>\n",
       "      <td>No</td>\n",
       "      <td>University of ibadan</td>\n",
       "      <td>Masters Program</td>\n",
       "      <td>26</td>\n",
       "      <td>Female</td>\n",
       "      <td>Single</td>\n",
       "      <td>Basic Medical Sciences</td>\n",
       "      <td>Microbiology</td>\n",
       "      <td>Not really, it was just more difficult than ea...</td>\n",
       "      <td>Going back to lecture room was quite difficult...</td>\n",
       "      <td>...</td>\n",
       "      <td>Acquired skills unrelated to course of study</td>\n",
       "      <td>Very</td>\n",
       "      <td>Moderately</td>\n",
       "      <td>No noticeable change</td>\n",
       "      <td>Never: I did not engage in any academic activi...</td>\n",
       "      <td>9</td>\n",
       "      <td>3.0</td>\n",
       "      <td>0.00</td>\n",
       "      <td>4.01</td>\n",
       "      <td>4.01</td>\n",
       "    </tr>\n",
       "  </tbody>\n",
       "</table>\n",
       "<p>5 rows × 21 columns</p>\n",
       "</div>"
      ],
      "text/plain": [
       "    unilag                                         non_unilag  \\\n",
       "32      No  Federal University of Petroleum Resources Effu...   \n",
       "50      No                                    OOU OGUN STATE    \n",
       "97      No                              University of Ibadan    \n",
       "132     No  Alex Ekwueme Federal University Ndufu-Alike Ik...   \n",
       "135     No                               University of ibadan   \n",
       "\n",
       "               level  age  gender relationship                 faculty  \\\n",
       "32         300 Level   20  Female       Single             Engineering   \n",
       "50         500 Level   23    Male       Single            AGRICULTURE    \n",
       "97         300 Level   22    Male       Single         Social Sciences   \n",
       "132        300 Level   23  Female       Single  Basic Medical Sciences   \n",
       "135  Masters Program   26  Female       Single  Basic Medical Sciences   \n",
       "\n",
       "               department                                      strike_effect  \\\n",
       "32   Chemical engineering                                          No effect   \n",
       "50             Fisheries                                                 NaN   \n",
       "97              Economics  Reduced enthusiasm for academic related activi...   \n",
       "132            Physiology  It made me slack,I don't know what I'm doing i...   \n",
       "135          Microbiology  Not really, it was just more difficult than ea...   \n",
       "\n",
       "                                             challenge  ...  \\\n",
       "32                          Reading and going to class  ...   \n",
       "50                                                 NaN  ...   \n",
       "97                                         Refocusing   ...   \n",
       "132                             Studying school books   ...   \n",
       "135  Going back to lecture room was quite difficult...  ...   \n",
       "\n",
       "                                           skills prep_before  prep_after  \\\n",
       "32                              None of the above        Very        Very   \n",
       "50   Acquired skills unrelated to course of study        Very  Moderately   \n",
       "97    Acquired skills relevant to course of study  Moderately  Moderately   \n",
       "132      Volunteered for an event or organization      Poorly  Moderately   \n",
       "135  Acquired skills unrelated to course of study        Very  Moderately   \n",
       "\n",
       "                              lecture  \\\n",
       "32   Fewer lecturers attended classes   \n",
       "50    Worse lectures after the strike   \n",
       "97    Worse lectures after the strike   \n",
       "132  Fewer lecturers attended classes   \n",
       "135              No noticeable change   \n",
       "\n",
       "                                          academic_act courses_taken  \\\n",
       "32   Rarely: I engaged in academic activities once ...            11   \n",
       "50   Rarely: I engaged in academic activities once ...             9   \n",
       "97   Never: I did not engage in any academic activi...            10   \n",
       "132  Rarely: I engaged in academic activities once ...             9   \n",
       "135  Never: I did not engage in any academic activi...             9   \n",
       "\n",
       "     course_unit  cgpa_before  cgpa_after  cgpa_change  \n",
       "32          22.0         4.67        4.67         0.00  \n",
       "50          19.0         3.51        3.66         0.15  \n",
       "97          30.0         2.80        2.70        -0.10  \n",
       "132         21.0         2.95        0.00        -2.95  \n",
       "135          3.0         0.00        4.01         4.01  \n",
       "\n",
       "[5 rows x 21 columns]"
      ]
     },
     "execution_count": 372,
     "metadata": {},
     "output_type": "execute_result"
    }
   ],
   "source": [
    "df_non_unilag = data[data['unilag'] == \"No\"] \n",
    "\n",
    "df_non_unilag.head()"
   ]
  },
  {
   "attachments": {},
   "cell_type": "markdown",
   "id": "7250dcb2",
   "metadata": {},
   "source": [
    "Students without a CGPA won't help our analysis much."
   ]
  },
  {
   "cell_type": "code",
   "execution_count": 373,
   "id": "00e24374",
   "metadata": {},
   "outputs": [],
   "source": [
    "no_cgpa = df_non_unilag[(df_non_unilag[\"cgpa_before\"] == 0)|(df_non_unilag[\"cgpa_after\"] == 0)]\n",
    "\n",
    "df_non_unilag = df_non_unilag.drop(no_cgpa.index)"
   ]
  },
  {
   "cell_type": "code",
   "execution_count": 374,
   "id": "8902a23a",
   "metadata": {},
   "outputs": [
    {
     "data": {
      "text/html": [
       "<div>\n",
       "<style scoped>\n",
       "    .dataframe tbody tr th:only-of-type {\n",
       "        vertical-align: middle;\n",
       "    }\n",
       "\n",
       "    .dataframe tbody tr th {\n",
       "        vertical-align: top;\n",
       "    }\n",
       "\n",
       "    .dataframe thead th {\n",
       "        text-align: right;\n",
       "    }\n",
       "</style>\n",
       "<table border=\"1\" class=\"dataframe\">\n",
       "  <thead>\n",
       "    <tr style=\"text-align: right;\">\n",
       "      <th></th>\n",
       "      <th>age</th>\n",
       "      <th>courses_taken</th>\n",
       "      <th>course_unit</th>\n",
       "      <th>cgpa_before</th>\n",
       "      <th>cgpa_after</th>\n",
       "      <th>cgpa_change</th>\n",
       "    </tr>\n",
       "  </thead>\n",
       "  <tbody>\n",
       "    <tr>\n",
       "      <th>count</th>\n",
       "      <td>14.000000</td>\n",
       "      <td>14.000000</td>\n",
       "      <td>13.000000</td>\n",
       "      <td>14.000000</td>\n",
       "      <td>14.000000</td>\n",
       "      <td>14.000000</td>\n",
       "    </tr>\n",
       "    <tr>\n",
       "      <th>mean</th>\n",
       "      <td>21.642857</td>\n",
       "      <td>8.928571</td>\n",
       "      <td>20.307692</td>\n",
       "      <td>3.627857</td>\n",
       "      <td>3.586429</td>\n",
       "      <td>-0.041429</td>\n",
       "    </tr>\n",
       "    <tr>\n",
       "      <th>std</th>\n",
       "      <td>1.446861</td>\n",
       "      <td>1.899971</td>\n",
       "      <td>7.576110</td>\n",
       "      <td>0.694098</td>\n",
       "      <td>0.692860</td>\n",
       "      <td>0.453022</td>\n",
       "    </tr>\n",
       "    <tr>\n",
       "      <th>min</th>\n",
       "      <td>20.000000</td>\n",
       "      <td>6.000000</td>\n",
       "      <td>0.000000</td>\n",
       "      <td>2.450000</td>\n",
       "      <td>2.000000</td>\n",
       "      <td>-1.000000</td>\n",
       "    </tr>\n",
       "    <tr>\n",
       "      <th>25%</th>\n",
       "      <td>21.000000</td>\n",
       "      <td>7.250000</td>\n",
       "      <td>18.000000</td>\n",
       "      <td>3.100000</td>\n",
       "      <td>3.212500</td>\n",
       "      <td>-0.275000</td>\n",
       "    </tr>\n",
       "    <tr>\n",
       "      <th>50%</th>\n",
       "      <td>21.000000</td>\n",
       "      <td>9.000000</td>\n",
       "      <td>22.000000</td>\n",
       "      <td>3.615000</td>\n",
       "      <td>3.685000</td>\n",
       "      <td>-0.090000</td>\n",
       "    </tr>\n",
       "    <tr>\n",
       "      <th>75%</th>\n",
       "      <td>22.750000</td>\n",
       "      <td>10.000000</td>\n",
       "      <td>23.000000</td>\n",
       "      <td>4.000000</td>\n",
       "      <td>3.897500</td>\n",
       "      <td>0.112500</td>\n",
       "    </tr>\n",
       "    <tr>\n",
       "      <th>max</th>\n",
       "      <td>25.000000</td>\n",
       "      <td>12.000000</td>\n",
       "      <td>30.000000</td>\n",
       "      <td>4.670000</td>\n",
       "      <td>4.670000</td>\n",
       "      <td>0.900000</td>\n",
       "    </tr>\n",
       "  </tbody>\n",
       "</table>\n",
       "</div>"
      ],
      "text/plain": [
       "             age  courses_taken  course_unit  cgpa_before  cgpa_after  \\\n",
       "count  14.000000      14.000000    13.000000    14.000000   14.000000   \n",
       "mean   21.642857       8.928571    20.307692     3.627857    3.586429   \n",
       "std     1.446861       1.899971     7.576110     0.694098    0.692860   \n",
       "min    20.000000       6.000000     0.000000     2.450000    2.000000   \n",
       "25%    21.000000       7.250000    18.000000     3.100000    3.212500   \n",
       "50%    21.000000       9.000000    22.000000     3.615000    3.685000   \n",
       "75%    22.750000      10.000000    23.000000     4.000000    3.897500   \n",
       "max    25.000000      12.000000    30.000000     4.670000    4.670000   \n",
       "\n",
       "       cgpa_change  \n",
       "count    14.000000  \n",
       "mean     -0.041429  \n",
       "std       0.453022  \n",
       "min      -1.000000  \n",
       "25%      -0.275000  \n",
       "50%      -0.090000  \n",
       "75%       0.112500  \n",
       "max       0.900000  "
      ]
     },
     "execution_count": 374,
     "metadata": {},
     "output_type": "execute_result"
    }
   ],
   "source": [
    "df_non_unilag.describe()"
   ]
  },
  {
   "attachments": {},
   "cell_type": "markdown",
   "id": "46b775b9",
   "metadata": {},
   "source": [
    "### UNILAG students\n",
    "\n",
    "Now we may address the bulk of our problem. The main population for this study consists of UNILAG students. Let's start by subsetting UNIALG students. "
   ]
  },
  {
   "cell_type": "code",
   "execution_count": 375,
   "id": "966fce34",
   "metadata": {},
   "outputs": [
    {
     "name": "stdout",
     "output_type": "stream",
     "text": [
      "<class 'pandas.core.frame.DataFrame'>\n",
      "Int64Index: 413 entries, 0 to 429\n",
      "Data columns (total 20 columns):\n",
      " #   Column         Non-Null Count  Dtype  \n",
      "---  ------         --------------  -----  \n",
      " 0   unilag         413 non-null    object \n",
      " 1   level          413 non-null    object \n",
      " 2   age            413 non-null    int64  \n",
      " 3   gender         413 non-null    object \n",
      " 4   relationship   413 non-null    object \n",
      " 5   faculty        413 non-null    object \n",
      " 6   department     413 non-null    object \n",
      " 7   strike_effect  332 non-null    object \n",
      " 8   challenge      327 non-null    object \n",
      " 9   work           413 non-null    object \n",
      " 10  skills         413 non-null    object \n",
      " 11  prep_before    413 non-null    object \n",
      " 12  prep_after     413 non-null    object \n",
      " 13  lecture        413 non-null    object \n",
      " 14  academic_act   413 non-null    object \n",
      " 15  courses_taken  413 non-null    int64  \n",
      " 16  course_unit    337 non-null    float64\n",
      " 17  cgpa_before    413 non-null    float64\n",
      " 18  cgpa_after     413 non-null    float64\n",
      " 19  cgpa_change    413 non-null    float64\n",
      "dtypes: float64(4), int64(2), object(14)\n",
      "memory usage: 67.8+ KB\n"
     ]
    }
   ],
   "source": [
    "df_unilag = data[data['unilag'] != \"No\"] \n",
    "\n",
    "# drop non_unilag column\n",
    "df_unilag = df_unilag.drop(\"non_unilag\", axis=1)\n",
    " \n",
    "df_unilag.info()"
   ]
  },
  {
   "attachments": {},
   "cell_type": "markdown",
   "id": "e028fc48",
   "metadata": {},
   "source": [
    "#### Addressing cases of No CGPA\n",
    "\n",
    "Since the 2022 ASUU strike occured in the first semester, we expect that newly admitted students won't have a CGPA before the strike. In such cases, the participants were told to input \"0\"."
   ]
  },
  {
   "cell_type": "code",
   "execution_count": 376,
   "id": "1b481d59",
   "metadata": {},
   "outputs": [
    {
     "name": "stdout",
     "output_type": "stream",
     "text": [
      "<class 'pandas.core.frame.DataFrame'>\n",
      "Int64Index: 107 entries, 4 to 428\n",
      "Data columns (total 20 columns):\n",
      " #   Column         Non-Null Count  Dtype  \n",
      "---  ------         --------------  -----  \n",
      " 0   unilag         107 non-null    object \n",
      " 1   level          107 non-null    object \n",
      " 2   age            107 non-null    int64  \n",
      " 3   gender         107 non-null    object \n",
      " 4   relationship   107 non-null    object \n",
      " 5   faculty        107 non-null    object \n",
      " 6   department     107 non-null    object \n",
      " 7   strike_effect  82 non-null     object \n",
      " 8   challenge      80 non-null     object \n",
      " 9   work           107 non-null    object \n",
      " 10  skills         107 non-null    object \n",
      " 11  prep_before    107 non-null    object \n",
      " 12  prep_after     107 non-null    object \n",
      " 13  lecture        107 non-null    object \n",
      " 14  academic_act   107 non-null    object \n",
      " 15  courses_taken  107 non-null    int64  \n",
      " 16  course_unit    92 non-null     float64\n",
      " 17  cgpa_before    107 non-null    float64\n",
      " 18  cgpa_after     107 non-null    float64\n",
      " 19  cgpa_change    107 non-null    float64\n",
      "dtypes: float64(4), int64(2), object(14)\n",
      "memory usage: 17.6+ KB\n"
     ]
    }
   ],
   "source": [
    "#Extract a dataframe of individuals who had no cgpa before but cgpa after\n",
    "\n",
    "no_cgpa_before = df_unilag[df_unilag['cgpa_before'] == 0]\n",
    "\n",
    "no_cgpa_before.info()"
   ]
  },
  {
   "attachments": {},
   "cell_type": "markdown",
   "id": "6985d846",
   "metadata": {},
   "source": [
    "#### No CGPA After? \n",
    "At the time of this survey, some students were yet to see their results. Hence, they filled in 0 in the CGPA After column. While their comments may be useful, we can't use the value they inputed in analysis. Therefore, we have to address this."
   ]
  },
  {
   "attachments": {},
   "cell_type": "markdown",
   "id": "ebad6823",
   "metadata": {},
   "source": [
    "What proportion of students in the UNILAG dataframe are victims of this?"
   ]
  },
  {
   "cell_type": "code",
   "execution_count": 377,
   "id": "05f0ab2b",
   "metadata": {},
   "outputs": [
    {
     "data": {
      "text/plain": [
       "'About 9% of UNILAG Students were affected'"
      ]
     },
     "execution_count": 377,
     "metadata": {},
     "output_type": "execute_result"
    }
   ],
   "source": [
    "percent_affected = len(df_unilag[df_unilag['cgpa_after'] == 0])/len(df_unilag) * 100\n",
    "\n",
    "f\"About {round(percent_affected)}% of UNILAG Students were affected\""
   ]
  },
  {
   "attachments": {},
   "cell_type": "markdown",
   "id": "1a48a848",
   "metadata": {},
   "source": [
    "How many students have complete info?"
   ]
  },
  {
   "cell_type": "code",
   "execution_count": 378,
   "id": "b416d8b7",
   "metadata": {},
   "outputs": [
    {
     "data": {
      "text/plain": [
       "300"
      ]
     },
     "execution_count": 378,
     "metadata": {},
     "output_type": "execute_result"
    }
   ],
   "source": [
    "len(df_unilag[(df_unilag['cgpa_before'] != 0.00) & (df_unilag['cgpa_after'] != 0)])"
   ]
  },
  {
   "attachments": {},
   "cell_type": "markdown",
   "id": "232757ce",
   "metadata": {},
   "source": [
    "#### Valid CGPA\n",
    "\n",
    "Now we have a dataframe of students with valid CGPAs. That is, neither CGPA before nor CGPA after = 0."
   ]
  },
  {
   "cell_type": "code",
   "execution_count": 379,
   "id": "7dd9b9a6",
   "metadata": {},
   "outputs": [],
   "source": [
    "df_valid_cgpa = df_unilag[(df_unilag['cgpa_before'] != 0.00) & (df_unilag['cgpa_after'] != 0)]"
   ]
  },
  {
   "cell_type": "code",
   "execution_count": 380,
   "id": "20b322e4",
   "metadata": {},
   "outputs": [
    {
     "name": "stdout",
     "output_type": "stream",
     "text": [
      "<class 'pandas.core.frame.DataFrame'>\n",
      "Int64Index: 300 entries, 0 to 429\n",
      "Data columns (total 20 columns):\n",
      " #   Column         Non-Null Count  Dtype  \n",
      "---  ------         --------------  -----  \n",
      " 0   unilag         300 non-null    object \n",
      " 1   level          300 non-null    object \n",
      " 2   age            300 non-null    int64  \n",
      " 3   gender         300 non-null    object \n",
      " 4   relationship   300 non-null    object \n",
      " 5   faculty        300 non-null    object \n",
      " 6   department     300 non-null    object \n",
      " 7   strike_effect  244 non-null    object \n",
      " 8   challenge      241 non-null    object \n",
      " 9   work           300 non-null    object \n",
      " 10  skills         300 non-null    object \n",
      " 11  prep_before    300 non-null    object \n",
      " 12  prep_after     300 non-null    object \n",
      " 13  lecture        300 non-null    object \n",
      " 14  academic_act   300 non-null    object \n",
      " 15  courses_taken  300 non-null    int64  \n",
      " 16  course_unit    239 non-null    float64\n",
      " 17  cgpa_before    300 non-null    float64\n",
      " 18  cgpa_after     300 non-null    float64\n",
      " 19  cgpa_change    300 non-null    float64\n",
      "dtypes: float64(4), int64(2), object(14)\n",
      "memory usage: 49.2+ KB\n"
     ]
    }
   ],
   "source": [
    "#Checking data information\n",
    "df_valid_cgpa.info()"
   ]
  },
  {
   "attachments": {},
   "cell_type": "markdown",
   "id": "3d220af4",
   "metadata": {},
   "source": [
    "Checking missing values for each column, once more"
   ]
  },
  {
   "cell_type": "code",
   "execution_count": 381,
   "id": "277680a6",
   "metadata": {},
   "outputs": [
    {
     "data": {
      "text/plain": [
       "unilag            0\n",
       "level             0\n",
       "age               0\n",
       "gender            0\n",
       "relationship      0\n",
       "faculty           0\n",
       "department        0\n",
       "strike_effect    56\n",
       "challenge        59\n",
       "work              0\n",
       "skills            0\n",
       "prep_before       0\n",
       "prep_after        0\n",
       "lecture           0\n",
       "academic_act      0\n",
       "courses_taken     0\n",
       "course_unit      61\n",
       "cgpa_before       0\n",
       "cgpa_after        0\n",
       "cgpa_change       0\n",
       "dtype: int64"
      ]
     },
     "execution_count": 381,
     "metadata": {},
     "output_type": "execute_result"
    }
   ],
   "source": [
    "df_valid_cgpa.isna().sum()"
   ]
  },
  {
   "attachments": {},
   "cell_type": "markdown",
   "id": "a0d59186",
   "metadata": {},
   "source": [
    "Lots of missing values in the `strike_effect` and `challenge` columns. We'll deal with that later."
   ]
  },
  {
   "attachments": {},
   "cell_type": "markdown",
   "id": "f099aaaf",
   "metadata": {},
   "source": [
    "#### Quest for Duplicates"
   ]
  },
  {
   "attachments": {},
   "cell_type": "markdown",
   "id": "8d24701c",
   "metadata": {},
   "source": [
    "Are there any duplicates?"
   ]
  },
  {
   "cell_type": "code",
   "execution_count": 382,
   "id": "2534e375",
   "metadata": {},
   "outputs": [
    {
     "data": {
      "text/html": [
       "<div>\n",
       "<style scoped>\n",
       "    .dataframe tbody tr th:only-of-type {\n",
       "        vertical-align: middle;\n",
       "    }\n",
       "\n",
       "    .dataframe tbody tr th {\n",
       "        vertical-align: top;\n",
       "    }\n",
       "\n",
       "    .dataframe thead th {\n",
       "        text-align: right;\n",
       "    }\n",
       "</style>\n",
       "<table border=\"1\" class=\"dataframe\">\n",
       "  <thead>\n",
       "    <tr style=\"text-align: right;\">\n",
       "      <th></th>\n",
       "      <th>unilag</th>\n",
       "      <th>level</th>\n",
       "      <th>age</th>\n",
       "      <th>gender</th>\n",
       "      <th>relationship</th>\n",
       "      <th>faculty</th>\n",
       "      <th>department</th>\n",
       "      <th>strike_effect</th>\n",
       "      <th>challenge</th>\n",
       "      <th>work</th>\n",
       "      <th>skills</th>\n",
       "      <th>prep_before</th>\n",
       "      <th>prep_after</th>\n",
       "      <th>lecture</th>\n",
       "      <th>academic_act</th>\n",
       "      <th>courses_taken</th>\n",
       "      <th>course_unit</th>\n",
       "      <th>cgpa_before</th>\n",
       "      <th>cgpa_after</th>\n",
       "      <th>cgpa_change</th>\n",
       "    </tr>\n",
       "  </thead>\n",
       "  <tbody>\n",
       "    <tr>\n",
       "      <th>160</th>\n",
       "      <td>Yes</td>\n",
       "      <td>400 Level</td>\n",
       "      <td>22</td>\n",
       "      <td>Female</td>\n",
       "      <td>Single</td>\n",
       "      <td>Education</td>\n",
       "      <td>Arts &amp; social science education</td>\n",
       "      <td>I just want to end all this..🥲</td>\n",
       "      <td>Having to return back to reading books and att...</td>\n",
       "      <td>Worked in a role unrelated to my studies</td>\n",
       "      <td>Acquired skills unrelated to course of study, ...</td>\n",
       "      <td>Moderately</td>\n",
       "      <td>Poorly</td>\n",
       "      <td>No noticeable change</td>\n",
       "      <td>Never: I did not engage in any academic activi...</td>\n",
       "      <td>8</td>\n",
       "      <td>16.0</td>\n",
       "      <td>3.69</td>\n",
       "      <td>2.34</td>\n",
       "      <td>-1.35</td>\n",
       "    </tr>\n",
       "  </tbody>\n",
       "</table>\n",
       "</div>"
      ],
      "text/plain": [
       "    unilag      level  age  gender relationship    faculty  \\\n",
       "160    Yes  400 Level   22  Female       Single  Education   \n",
       "\n",
       "                          department                   strike_effect  \\\n",
       "160  Arts & social science education  I just want to end all this..🥲   \n",
       "\n",
       "                                             challenge  \\\n",
       "160  Having to return back to reading books and att...   \n",
       "\n",
       "                                         work  \\\n",
       "160  Worked in a role unrelated to my studies   \n",
       "\n",
       "                                                skills prep_before prep_after  \\\n",
       "160  Acquired skills unrelated to course of study, ...  Moderately     Poorly   \n",
       "\n",
       "                  lecture                                       academic_act  \\\n",
       "160  No noticeable change  Never: I did not engage in any academic activi...   \n",
       "\n",
       "     courses_taken  course_unit  cgpa_before  cgpa_after  cgpa_change  \n",
       "160              8         16.0         3.69        2.34        -1.35  "
      ]
     },
     "execution_count": 382,
     "metadata": {},
     "output_type": "execute_result"
    }
   ],
   "source": [
    "#Search for duplicates\n",
    "\n",
    "df_valid_cgpa[df_valid_cgpa.duplicated()]"
   ]
  },
  {
   "cell_type": "code",
   "execution_count": 383,
   "id": "69e9f702",
   "metadata": {},
   "outputs": [],
   "source": [
    "df_valid_cgpa = df_valid_cgpa.drop_duplicates(keep='first')\n",
    "df_valid_cgpa.reset_index(drop=True, inplace = True)"
   ]
  },
  {
   "attachments": {},
   "cell_type": "markdown",
   "id": "f78bcbab",
   "metadata": {},
   "source": [
    "#### Missing values in the course_unit column?\n",
    "\n",
    "It is clear that 61 missing values in a column is wild.\n",
    "\n",
    "The safest option is to create a simple model to predict the values"
   ]
  },
  {
   "attachments": {},
   "cell_type": "markdown",
   "id": "40280446",
   "metadata": {},
   "source": [
    "Select the relevant courses to predict `course_units`. These are dependent on `level`, `faculty`, `department`, and `course_taken` ."
   ]
  },
  {
   "cell_type": "code",
   "execution_count": 384,
   "id": "ab150fe2",
   "metadata": {},
   "outputs": [
    {
     "name": "stdout",
     "output_type": "stream",
     "text": [
      "<class 'pandas.core.frame.DataFrame'>\n",
      "RangeIndex: 299 entries, 0 to 298\n",
      "Data columns (total 5 columns):\n",
      " #   Column         Non-Null Count  Dtype  \n",
      "---  ------         --------------  -----  \n",
      " 0   level          299 non-null    object \n",
      " 1   faculty        299 non-null    object \n",
      " 2   department     299 non-null    object \n",
      " 3   courses_taken  299 non-null    int64  \n",
      " 4   course_unit    238 non-null    float64\n",
      "dtypes: float64(1), int64(1), object(3)\n",
      "memory usage: 11.8+ KB\n"
     ]
    }
   ],
   "source": [
    "#select relevant columns\n",
    "\n",
    "course_unit_data  = df_valid_cgpa[[\"level\", \"faculty\", \"department\", \"courses_taken\",\"course_unit\"]]\n",
    "course_unit_data.info()"
   ]
  },
  {
   "attachments": {},
   "cell_type": "markdown",
   "id": "867f952e",
   "metadata": {},
   "source": [
    "Now, we're going to separate the course unit data. We'll create two dataframes to house the given values and the missing values. We aim to use the known values to predict the unknown.\n",
    "\n"
   ]
  },
  {
   "cell_type": "code",
   "execution_count": 385,
   "id": "6d8c8a82",
   "metadata": {},
   "outputs": [],
   "source": [
    "from sklearn.linear_model import LinearRegression\n",
    "\n",
    "# Step 1: Prepare the data\n",
    "\n",
    "valid_course_units = (course_unit_data[course_unit_data['course_unit'].notnull() & (course_unit_data['course_unit'] > 0)]\n",
    "             .reset_index(drop=True))\n",
    "invalid_course_units = course_unit_data[course_unit_data[\"course_unit\"].isnull()]"
   ]
  },
  {
   "attachments": {},
   "cell_type": "markdown",
   "id": "77089c41",
   "metadata": {},
   "source": [
    "Now we split the valid course units."
   ]
  },
  {
   "cell_type": "code",
   "execution_count": 386,
   "id": "26cb23b5",
   "metadata": {},
   "outputs": [],
   "source": [
    "# Step 2: Split the data into features (X) and target (y)\n",
    "target = 'course_unit'\n",
    "\n",
    "X = valid_course_units.drop(columns=[target])\n",
    "y = valid_course_units[target]"
   ]
  },
  {
   "attachments": {},
   "cell_type": "markdown",
   "id": "b08d4a7f",
   "metadata": {},
   "source": [
    "Encode categorical variables"
   ]
  },
  {
   "cell_type": "code",
   "execution_count": 387,
   "id": "cf87cb73",
   "metadata": {},
   "outputs": [],
   "source": [
    "#Define the preprocessor with OneHotEncoder for categorical columns\n",
    "\n",
    "from sklearn.preprocessing import OneHotEncoder\n",
    "from sklearn.compose import ColumnTransformer\n",
    "from sklearn.linear_model import LinearRegression\n",
    "from sklearn.pipeline import Pipeline\n",
    "from sklearn.impute import SimpleImputer\n",
    "# Define the columns that need to be encoded (categorical columns)\n",
    "categorical_cols = ['level', 'faculty',\n",
    "                    'department']\n",
    "\n",
    "# Define the preprocessor with OneHotEncoder for categorical columns and SimpleImputer for missing values\n",
    "\n",
    "encoder = OneHotEncoder(handle_unknown='ignore')\n",
    "\n",
    "\n",
    "preprocessor = ColumnTransformer(\n",
    "    transformers=[\n",
    "        ('cat', encoder, categorical_cols),\n",
    "    ],\n",
    "    remainder='passthrough'  # Place remainder parameter outside the transformers list\n",
    ")"
   ]
  },
  {
   "cell_type": "code",
   "execution_count": 388,
   "id": "8b914f12",
   "metadata": {},
   "outputs": [],
   "source": [
    "# Step 4: Fit and transform the preprocessor on the training data\n",
    "X_processed = preprocessor.fit_transform(X)"
   ]
  },
  {
   "attachments": {},
   "cell_type": "markdown",
   "id": "925bc58c",
   "metadata": {},
   "source": [
    "Create training and test data"
   ]
  },
  {
   "cell_type": "code",
   "execution_count": 389,
   "id": "67a509e1",
   "metadata": {},
   "outputs": [],
   "source": [
    "from sklearn.model_selection import train_test_split\n",
    "\n",
    "X_train, X_test, y_train, y_test = train_test_split(X_processed, y, test_size=0.2, random_state=42)"
   ]
  },
  {
   "attachments": {},
   "cell_type": "markdown",
   "id": "fd24294f",
   "metadata": {},
   "source": [
    "Time to train the model!"
   ]
  },
  {
   "cell_type": "code",
   "execution_count": 390,
   "id": "fe85d71f",
   "metadata": {},
   "outputs": [
    {
     "data": {
      "text/html": [
       "<style>#sk-container-id-5 {color: black;background-color: white;}#sk-container-id-5 pre{padding: 0;}#sk-container-id-5 div.sk-toggleable {background-color: white;}#sk-container-id-5 label.sk-toggleable__label {cursor: pointer;display: block;width: 100%;margin-bottom: 0;padding: 0.3em;box-sizing: border-box;text-align: center;}#sk-container-id-5 label.sk-toggleable__label-arrow:before {content: \"▸\";float: left;margin-right: 0.25em;color: #696969;}#sk-container-id-5 label.sk-toggleable__label-arrow:hover:before {color: black;}#sk-container-id-5 div.sk-estimator:hover label.sk-toggleable__label-arrow:before {color: black;}#sk-container-id-5 div.sk-toggleable__content {max-height: 0;max-width: 0;overflow: hidden;text-align: left;background-color: #f0f8ff;}#sk-container-id-5 div.sk-toggleable__content pre {margin: 0.2em;color: black;border-radius: 0.25em;background-color: #f0f8ff;}#sk-container-id-5 input.sk-toggleable__control:checked~div.sk-toggleable__content {max-height: 200px;max-width: 100%;overflow: auto;}#sk-container-id-5 input.sk-toggleable__control:checked~label.sk-toggleable__label-arrow:before {content: \"▾\";}#sk-container-id-5 div.sk-estimator input.sk-toggleable__control:checked~label.sk-toggleable__label {background-color: #d4ebff;}#sk-container-id-5 div.sk-label input.sk-toggleable__control:checked~label.sk-toggleable__label {background-color: #d4ebff;}#sk-container-id-5 input.sk-hidden--visually {border: 0;clip: rect(1px 1px 1px 1px);clip: rect(1px, 1px, 1px, 1px);height: 1px;margin: -1px;overflow: hidden;padding: 0;position: absolute;width: 1px;}#sk-container-id-5 div.sk-estimator {font-family: monospace;background-color: #f0f8ff;border: 1px dotted black;border-radius: 0.25em;box-sizing: border-box;margin-bottom: 0.5em;}#sk-container-id-5 div.sk-estimator:hover {background-color: #d4ebff;}#sk-container-id-5 div.sk-parallel-item::after {content: \"\";width: 100%;border-bottom: 1px solid gray;flex-grow: 1;}#sk-container-id-5 div.sk-label:hover label.sk-toggleable__label {background-color: #d4ebff;}#sk-container-id-5 div.sk-serial::before {content: \"\";position: absolute;border-left: 1px solid gray;box-sizing: border-box;top: 0;bottom: 0;left: 50%;z-index: 0;}#sk-container-id-5 div.sk-serial {display: flex;flex-direction: column;align-items: center;background-color: white;padding-right: 0.2em;padding-left: 0.2em;position: relative;}#sk-container-id-5 div.sk-item {position: relative;z-index: 1;}#sk-container-id-5 div.sk-parallel {display: flex;align-items: stretch;justify-content: center;background-color: white;position: relative;}#sk-container-id-5 div.sk-item::before, #sk-container-id-5 div.sk-parallel-item::before {content: \"\";position: absolute;border-left: 1px solid gray;box-sizing: border-box;top: 0;bottom: 0;left: 50%;z-index: -1;}#sk-container-id-5 div.sk-parallel-item {display: flex;flex-direction: column;z-index: 1;position: relative;background-color: white;}#sk-container-id-5 div.sk-parallel-item:first-child::after {align-self: flex-end;width: 50%;}#sk-container-id-5 div.sk-parallel-item:last-child::after {align-self: flex-start;width: 50%;}#sk-container-id-5 div.sk-parallel-item:only-child::after {width: 0;}#sk-container-id-5 div.sk-dashed-wrapped {border: 1px dashed gray;margin: 0 0.4em 0.5em 0.4em;box-sizing: border-box;padding-bottom: 0.4em;background-color: white;}#sk-container-id-5 div.sk-label label {font-family: monospace;font-weight: bold;display: inline-block;line-height: 1.2em;}#sk-container-id-5 div.sk-label-container {text-align: center;}#sk-container-id-5 div.sk-container {/* jupyter's `normalize.less` sets `[hidden] { display: none; }` but bootstrap.min.css set `[hidden] { display: none !important; }` so we also need the `!important` here to be able to override the default hidden behavior on the sphinx rendered scikit-learn.org. See: https://github.com/scikit-learn/scikit-learn/issues/21755 */display: inline-block !important;position: relative;}#sk-container-id-5 div.sk-text-repr-fallback {display: none;}</style><div id=\"sk-container-id-5\" class=\"sk-top-container\"><div class=\"sk-text-repr-fallback\"><pre>LinearRegression()</pre><b>In a Jupyter environment, please rerun this cell to show the HTML representation or trust the notebook. <br />On GitHub, the HTML representation is unable to render, please try loading this page with nbviewer.org.</b></div><div class=\"sk-container\" hidden><div class=\"sk-item\"><div class=\"sk-estimator sk-toggleable\"><input class=\"sk-toggleable__control sk-hidden--visually\" id=\"sk-estimator-id-5\" type=\"checkbox\" checked><label for=\"sk-estimator-id-5\" class=\"sk-toggleable__label sk-toggleable__label-arrow\">LinearRegression</label><div class=\"sk-toggleable__content\"><pre>LinearRegression()</pre></div></div></div></div></div>"
      ],
      "text/plain": [
       "LinearRegression()"
      ]
     },
     "execution_count": 390,
     "metadata": {},
     "output_type": "execute_result"
    }
   ],
   "source": [
    "# Step 5: Train a model on the training data\n",
    "model = LinearRegression()\n",
    "model.fit(X_train, y_train)"
   ]
  },
  {
   "attachments": {},
   "cell_type": "markdown",
   "id": "c1d0eada",
   "metadata": {},
   "source": [
    "What is our accuracy like?"
   ]
  },
  {
   "cell_type": "code",
   "execution_count": 391,
   "id": "29a8b06c",
   "metadata": {},
   "outputs": [
    {
     "data": {
      "text/plain": [
       "0.2756756756756757"
      ]
     },
     "execution_count": 391,
     "metadata": {},
     "output_type": "execute_result"
    }
   ],
   "source": [
    "# training accuracy\n",
    "from sklearn.metrics import accuracy_score\n",
    "y_train_pred = np.round(model.predict(X_train))\n",
    "accuracy_score(np.round(y_train), y_train_pred)"
   ]
  },
  {
   "cell_type": "code",
   "execution_count": 392,
   "id": "8257822a",
   "metadata": {},
   "outputs": [
    {
     "data": {
      "text/plain": [
       "0.1702127659574468"
      ]
     },
     "execution_count": 392,
     "metadata": {},
     "output_type": "execute_result"
    }
   ],
   "source": [
    "# test accuracy\n",
    "y_test_pred = np.round(model.predict(X_test))\n",
    "accuracy_score(np.round(y_test), y_test_pred)"
   ]
  },
  {
   "attachments": {},
   "cell_type": "markdown",
   "id": "712f3b39",
   "metadata": {},
   "source": [
    "Time to predict the missing values"
   ]
  },
  {
   "cell_type": "code",
   "execution_count": 393,
   "id": "3cec648b",
   "metadata": {},
   "outputs": [],
   "source": [
    "# Step 6: Use the trained model to predict the missing values\n",
    "X_invalid = invalid_course_units.drop(columns=['course_unit'])\n",
    "X_invalid_processed = preprocessor.transform(X_invalid)\n",
    "predicted_values = np.round(model.predict(X_invalid_processed))"
   ]
  },
  {
   "cell_type": "code",
   "execution_count": 394,
   "id": "f28f14c9",
   "metadata": {},
   "outputs": [
    {
     "name": "stderr",
     "output_type": "stream",
     "text": [
      "C:\\Users\\User\\AppData\\Local\\Temp\\ipykernel_6668\\1218774725.py:2: SettingWithCopyWarning: \n",
      "A value is trying to be set on a copy of a slice from a DataFrame.\n",
      "Try using .loc[row_indexer,col_indexer] = value instead\n",
      "\n",
      "See the caveats in the documentation: https://pandas.pydata.org/pandas-docs/stable/user_guide/indexing.html#returning-a-view-versus-a-copy\n",
      "  invalid_course_units['course_unit'] = np.ceil(predicted_values)\n"
     ]
    },
    {
     "data": {
      "text/html": [
       "<div>\n",
       "<style scoped>\n",
       "    .dataframe tbody tr th:only-of-type {\n",
       "        vertical-align: middle;\n",
       "    }\n",
       "\n",
       "    .dataframe tbody tr th {\n",
       "        vertical-align: top;\n",
       "    }\n",
       "\n",
       "    .dataframe thead th {\n",
       "        text-align: right;\n",
       "    }\n",
       "</style>\n",
       "<table border=\"1\" class=\"dataframe\">\n",
       "  <thead>\n",
       "    <tr style=\"text-align: right;\">\n",
       "      <th></th>\n",
       "      <th>level</th>\n",
       "      <th>faculty</th>\n",
       "      <th>department</th>\n",
       "      <th>courses_taken</th>\n",
       "      <th>course_unit</th>\n",
       "    </tr>\n",
       "  </thead>\n",
       "  <tbody>\n",
       "    <tr>\n",
       "      <th>3</th>\n",
       "      <td>400 Level</td>\n",
       "      <td>Social Sciences</td>\n",
       "      <td>Political science</td>\n",
       "      <td>7</td>\n",
       "      <td>12.0</td>\n",
       "    </tr>\n",
       "    <tr>\n",
       "      <th>9</th>\n",
       "      <td>500 Level</td>\n",
       "      <td>Engineering</td>\n",
       "      <td>Surveying &amp; geo-informatics engineering</td>\n",
       "      <td>10</td>\n",
       "      <td>21.0</td>\n",
       "    </tr>\n",
       "    <tr>\n",
       "      <th>13</th>\n",
       "      <td>400 Level</td>\n",
       "      <td>Engineering</td>\n",
       "      <td>Chemical engineering</td>\n",
       "      <td>10</td>\n",
       "      <td>22.0</td>\n",
       "    </tr>\n",
       "    <tr>\n",
       "      <th>16</th>\n",
       "      <td>300 Level</td>\n",
       "      <td>Education</td>\n",
       "      <td>Educational foundations</td>\n",
       "      <td>10</td>\n",
       "      <td>17.0</td>\n",
       "    </tr>\n",
       "    <tr>\n",
       "      <th>18</th>\n",
       "      <td>300 Level</td>\n",
       "      <td>Social Sciences</td>\n",
       "      <td>Mass communication</td>\n",
       "      <td>9</td>\n",
       "      <td>22.0</td>\n",
       "    </tr>\n",
       "  </tbody>\n",
       "</table>\n",
       "</div>"
      ],
      "text/plain": [
       "        level          faculty                               department  \\\n",
       "3   400 Level  Social Sciences                        Political science   \n",
       "9   500 Level      Engineering  Surveying & geo-informatics engineering   \n",
       "13  400 Level      Engineering                     Chemical engineering   \n",
       "16  300 Level        Education                  Educational foundations   \n",
       "18  300 Level  Social Sciences                       Mass communication   \n",
       "\n",
       "    courses_taken  course_unit  \n",
       "3               7         12.0  \n",
       "9              10         21.0  \n",
       "13             10         22.0  \n",
       "16             10         17.0  \n",
       "18              9         22.0  "
      ]
     },
     "execution_count": 394,
     "metadata": {},
     "output_type": "execute_result"
    }
   ],
   "source": [
    "# Step 7: Assign the predicted values to the training data\n",
    "invalid_course_units['course_unit'] = np.ceil(predicted_values)\n",
    "invalid_course_units.head()"
   ]
  },
  {
   "attachments": {},
   "cell_type": "markdown",
   "id": "2988ee04",
   "metadata": {},
   "source": [
    "Now let's merge the predicted values to the general dataframe."
   ]
  },
  {
   "attachments": {},
   "cell_type": "markdown",
   "id": "1b62ce30",
   "metadata": {},
   "source": [
    "Create a copy of the previous dataframe, to prevent errors."
   ]
  },
  {
   "cell_type": "code",
   "execution_count": 395,
   "id": "65bcf2e3",
   "metadata": {},
   "outputs": [],
   "source": [
    "df_clean = df_valid_cgpa.copy()"
   ]
  },
  {
   "attachments": {},
   "cell_type": "markdown",
   "id": "97da8827",
   "metadata": {},
   "source": [
    "Add the predicted values."
   ]
  },
  {
   "cell_type": "code",
   "execution_count": 396,
   "id": "2c6d0285",
   "metadata": {},
   "outputs": [],
   "source": [
    "changed_rows = invalid_course_units.index"
   ]
  },
  {
   "cell_type": "code",
   "execution_count": 402,
   "id": "af8bd3a6",
   "metadata": {},
   "outputs": [
    {
     "name": "stdout",
     "output_type": "stream",
     "text": [
      "<class 'pandas.core.frame.DataFrame'>\n",
      "RangeIndex: 299 entries, 0 to 298\n",
      "Data columns (total 20 columns):\n",
      " #   Column         Non-Null Count  Dtype  \n",
      "---  ------         --------------  -----  \n",
      " 0   unilag         299 non-null    object \n",
      " 1   level          299 non-null    object \n",
      " 2   age            299 non-null    int64  \n",
      " 3   gender         299 non-null    object \n",
      " 4   relationship   299 non-null    object \n",
      " 5   faculty        299 non-null    object \n",
      " 6   department     299 non-null    object \n",
      " 7   strike_effect  243 non-null    object \n",
      " 8   challenge      240 non-null    object \n",
      " 9   work           299 non-null    object \n",
      " 10  skills         299 non-null    object \n",
      " 11  prep_before    299 non-null    object \n",
      " 12  prep_after     299 non-null    object \n",
      " 13  lecture        299 non-null    object \n",
      " 14  academic_act   299 non-null    object \n",
      " 15  courses_taken  299 non-null    int64  \n",
      " 16  course_unit    299 non-null    float64\n",
      " 17  cgpa_before    299 non-null    float64\n",
      " 18  cgpa_after     299 non-null    float64\n",
      " 19  cgpa_change    299 non-null    float64\n",
      "dtypes: float64(4), int64(2), object(14)\n",
      "memory usage: 46.8+ KB\n"
     ]
    }
   ],
   "source": [
    "df_clean.loc[changed_rows, \"course_unit\"] = invalid_course_units[\"course_unit\"]\n",
    "\n",
    "df_clean.info()"
   ]
  }
 ],
 "metadata": {
  "kernelspec": {
   "display_name": "Python 3 (ipykernel)",
   "language": "python",
   "name": "python3"
  },
  "language_info": {
   "codemirror_mode": {
    "name": "ipython",
    "version": 3
   },
   "file_extension": ".py",
   "mimetype": "text/x-python",
   "name": "python",
   "nbconvert_exporter": "python",
   "pygments_lexer": "ipython3",
   "version": "3.10.5"
  }
 },
 "nbformat": 4,
 "nbformat_minor": 5
}
