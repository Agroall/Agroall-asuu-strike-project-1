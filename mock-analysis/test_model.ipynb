{
 "cells": [
  {
   "cell_type": "markdown",
   "metadata": {},
   "source": [
    "# Model Building [Mock]"
   ]
  },
  {
   "attachments": {},
   "cell_type": "markdown",
   "metadata": {},
   "source": [
    "## Import Modules"
   ]
  },
  {
   "cell_type": "code",
   "execution_count": 104,
   "metadata": {},
   "outputs": [],
   "source": [
    "import matplotlib.pyplot as plt\n",
    "import pandas as pd\n",
    "import numpy as np\n",
    "import seaborn as sns\n",
    "\n",
    "import ipywidgets as widgets\n",
    "from ipywidgets import interact\n",
    "from sklearn.tree import DecisionTreeClassifier\n",
    "from sklearn.preprocessing import OneHotEncoder, OrdinalEncoder\n",
    "from sklearn.pipeline import make_pipeline\n",
    "from sklearn.model_selection import (train_test_split, \n",
    "                                     cross_val_score, \n",
    "                                     GridSearchCV)\n",
    "from sklearn.compose import ColumnTransformer\n",
    "from sklearn.linear_model import LinearRegression\n",
    "from sklearn.pipeline import Pipeline\n",
    "from sklearn.metrics import (mean_squared_error, \n",
    "                             accuracy_score, \n",
    "                             confusion_matrix,\n",
    "                             ConfusionMatrixDisplay, \n",
    "                             classification_report)\n",
    "from imblearn.over_sampling import RandomOverSampler\n",
    "from sklearn.ensemble import GradientBoostingClassifier\n",
    "from sklearn.impute import SimpleImputer\n",
    "from teaching_tools.widgets import ConfusionMatrixWidget"
   ]
  },
  {
   "attachments": {},
   "cell_type": "markdown",
   "metadata": {},
   "source": [
    "## Load data"
   ]
  },
  {
   "cell_type": "code",
   "execution_count": 105,
   "metadata": {},
   "outputs": [
    {
     "data": {
      "text/html": [
       "<div>\n",
       "<style scoped>\n",
       "    .dataframe tbody tr th:only-of-type {\n",
       "        vertical-align: middle;\n",
       "    }\n",
       "\n",
       "    .dataframe tbody tr th {\n",
       "        vertical-align: top;\n",
       "    }\n",
       "\n",
       "    .dataframe thead th {\n",
       "        text-align: right;\n",
       "    }\n",
       "</style>\n",
       "<table border=\"1\" class=\"dataframe\">\n",
       "  <thead>\n",
       "    <tr style=\"text-align: right;\">\n",
       "      <th></th>\n",
       "      <th>level</th>\n",
       "      <th>age</th>\n",
       "      <th>gender</th>\n",
       "      <th>marital_status</th>\n",
       "      <th>faculty</th>\n",
       "      <th>department</th>\n",
       "      <th>skill</th>\n",
       "      <th>prep_before</th>\n",
       "      <th>prep_after</th>\n",
       "      <th>quality_before</th>\n",
       "      <th>quality_after</th>\n",
       "      <th>confidence_before</th>\n",
       "      <th>confidence_after</th>\n",
       "      <th>cgpa_before</th>\n",
       "      <th>cgpa_after</th>\n",
       "      <th>employment</th>\n",
       "      <th>quit_job</th>\n",
       "      <th>cgpa_change</th>\n",
       "    </tr>\n",
       "  </thead>\n",
       "  <tbody>\n",
       "    <tr>\n",
       "      <th>0</th>\n",
       "      <td>400level</td>\n",
       "      <td>22–24</td>\n",
       "      <td>Female</td>\n",
       "      <td>Single</td>\n",
       "      <td>Management Science</td>\n",
       "      <td>Finance</td>\n",
       "      <td>Yes</td>\n",
       "      <td>Neutral</td>\n",
       "      <td>Poor</td>\n",
       "      <td>Neutral</td>\n",
       "      <td>Poor</td>\n",
       "      <td>Good</td>\n",
       "      <td>Neutral</td>\n",
       "      <td>3.868576</td>\n",
       "      <td>3.521037</td>\n",
       "      <td>Yes</td>\n",
       "      <td>No</td>\n",
       "      <td>-0.347539</td>\n",
       "    </tr>\n",
       "    <tr>\n",
       "      <th>1</th>\n",
       "      <td>300level</td>\n",
       "      <td>19–21</td>\n",
       "      <td>Male</td>\n",
       "      <td>Single</td>\n",
       "      <td>Science</td>\n",
       "      <td>Statistics</td>\n",
       "      <td>Yes</td>\n",
       "      <td>Good</td>\n",
       "      <td>Good</td>\n",
       "      <td>Good</td>\n",
       "      <td>Good</td>\n",
       "      <td>Good</td>\n",
       "      <td>Good</td>\n",
       "      <td>3.852298</td>\n",
       "      <td>4.567279</td>\n",
       "      <td>Yes</td>\n",
       "      <td>No</td>\n",
       "      <td>0.714981</td>\n",
       "    </tr>\n",
       "    <tr>\n",
       "      <th>2</th>\n",
       "      <td>300level</td>\n",
       "      <td>25–27</td>\n",
       "      <td>Male</td>\n",
       "      <td>Single</td>\n",
       "      <td>Science</td>\n",
       "      <td>Botany</td>\n",
       "      <td>Yes</td>\n",
       "      <td>Good</td>\n",
       "      <td>Neutral</td>\n",
       "      <td>Neutral</td>\n",
       "      <td>Poor</td>\n",
       "      <td>Good</td>\n",
       "      <td>Neutral</td>\n",
       "      <td>4.169165</td>\n",
       "      <td>4.050938</td>\n",
       "      <td>No</td>\n",
       "      <td>No</td>\n",
       "      <td>-0.118227</td>\n",
       "    </tr>\n",
       "    <tr>\n",
       "      <th>3</th>\n",
       "      <td>400level</td>\n",
       "      <td>22–24</td>\n",
       "      <td>Male</td>\n",
       "      <td>Single</td>\n",
       "      <td>Science</td>\n",
       "      <td>Geophysics</td>\n",
       "      <td>No</td>\n",
       "      <td>Poor</td>\n",
       "      <td>Neutral</td>\n",
       "      <td>Neutral</td>\n",
       "      <td>Poor</td>\n",
       "      <td>Neutral</td>\n",
       "      <td>Poor</td>\n",
       "      <td>3.537479</td>\n",
       "      <td>3.684619</td>\n",
       "      <td>No</td>\n",
       "      <td>No</td>\n",
       "      <td>0.147139</td>\n",
       "    </tr>\n",
       "    <tr>\n",
       "      <th>4</th>\n",
       "      <td>200level</td>\n",
       "      <td>16–18</td>\n",
       "      <td>Female</td>\n",
       "      <td>Married</td>\n",
       "      <td>Engineering</td>\n",
       "      <td>Civil Engineering</td>\n",
       "      <td>No</td>\n",
       "      <td>Neutral</td>\n",
       "      <td>Neutral</td>\n",
       "      <td>Neutral</td>\n",
       "      <td>Neutral</td>\n",
       "      <td>Neutral</td>\n",
       "      <td>Neutral</td>\n",
       "      <td>4.087705</td>\n",
       "      <td>3.683059</td>\n",
       "      <td>Yes</td>\n",
       "      <td>No</td>\n",
       "      <td>-0.404646</td>\n",
       "    </tr>\n",
       "  </tbody>\n",
       "</table>\n",
       "</div>"
      ],
      "text/plain": [
       "      level    age  gender marital_status             faculty  \\\n",
       "0  400level  22–24  Female         Single  Management Science   \n",
       "1  300level  19–21    Male         Single             Science   \n",
       "2  300level  25–27    Male         Single             Science   \n",
       "3  400level  22–24    Male         Single             Science   \n",
       "4  200level  16–18  Female        Married         Engineering   \n",
       "\n",
       "          department skill prep_before prep_after quality_before  \\\n",
       "0           Finance    Yes     Neutral       Poor        Neutral   \n",
       "1        Statistics    Yes        Good       Good           Good   \n",
       "2            Botany    Yes        Good    Neutral        Neutral   \n",
       "3        Geophysics     No        Poor    Neutral        Neutral   \n",
       "4  Civil Engineering    No     Neutral    Neutral        Neutral   \n",
       "\n",
       "  quality_after confidence_before confidence_after  cgpa_before  cgpa_after  \\\n",
       "0          Poor              Good          Neutral     3.868576    3.521037   \n",
       "1          Good              Good             Good     3.852298    4.567279   \n",
       "2          Poor              Good          Neutral     4.169165    4.050938   \n",
       "3          Poor           Neutral             Poor     3.537479    3.684619   \n",
       "4       Neutral           Neutral          Neutral     4.087705    3.683059   \n",
       "\n",
       "  employment quit_job  cgpa_change  \n",
       "0        Yes       No    -0.347539  \n",
       "1        Yes       No     0.714981  \n",
       "2         No       No    -0.118227  \n",
       "3         No       No     0.147139  \n",
       "4        Yes       No    -0.404646  "
      ]
     },
     "execution_count": 105,
     "metadata": {},
     "output_type": "execute_result"
    }
   ],
   "source": [
    "file = \"expanded_sample.csv\"\n",
    "test_df = pd.read_csv(file)\n",
    "test_df.head()"
   ]
  },
  {
   "attachments": {},
   "cell_type": "markdown",
   "metadata": {},
   "source": [
    "## Build Models"
   ]
  },
  {
   "attachments": {},
   "cell_type": "markdown",
   "metadata": {},
   "source": [
    "### Linear Regression"
   ]
  },
  {
   "cell_type": "code",
   "execution_count": 106,
   "metadata": {},
   "outputs": [],
   "source": [
    "linear_reg_df = test_df.drop(columns=[\"cgpa_before\", \"cgpa_after\"])"
   ]
  },
  {
   "cell_type": "code",
   "execution_count": 107,
   "metadata": {},
   "outputs": [],
   "source": [
    "# One-hot encode categorical features\n",
    "encoder = OneHotEncoder()\n",
    "encoded_df = encoder.fit_transform(linear_reg_df.drop(columns=\"cgpa_change\"))\n",
    "encoded_df = pd.DataFrame(encoded_df.toarray(), columns=encoder.get_feature_names_out(linear_reg_df.drop(columns=\"cgpa_change\").columns))\n",
    "linear_reg_df = pd.concat([linear_reg_df, encoded_df], axis=1)"
   ]
  },
  {
   "cell_type": "markdown",
   "metadata": {},
   "source": [
    "#### Select features and target"
   ]
  },
  {
   "cell_type": "code",
   "execution_count": 108,
   "metadata": {},
   "outputs": [],
   "source": [
    "target = \"cgpa_change\"\n",
    "X_linear_reg = linear_reg_df.drop(columns=target)\n",
    "y_linear_reg = linear_reg_df[target]\n",
    "\n",
    "# Going forward linear regresion will be abreviated to lr"
   ]
  },
  {
   "cell_type": "code",
   "execution_count": 109,
   "metadata": {},
   "outputs": [],
   "source": [
    "over_sampler = RandomOverSampler(random_state=42)\n",
    "# X_linear_reg, y_linear_reg = over_sampler.fit_resample(X_linear_reg, y_linear_reg)\n",
    "# X_linear_reg.head()"
   ]
  },
  {
   "cell_type": "markdown",
   "metadata": {},
   "source": [
    "Split data into test and training sets"
   ]
  },
  {
   "cell_type": "code",
   "execution_count": 110,
   "metadata": {},
   "outputs": [],
   "source": [
    "X_train_lr, X_test_lr, y_train_lr, y_test_lr = train_test_split(X_linear_reg, y_linear_reg, test_size=0.2, random_state=42)"
   ]
  },
  {
   "cell_type": "markdown",
   "metadata": {},
   "source": [
    "Split training data into training and validation data"
   ]
  },
  {
   "cell_type": "code",
   "execution_count": 111,
   "metadata": {},
   "outputs": [],
   "source": [
    "X_train_lr, X_val_lr, y_train_lr, y_val_lr = train_test_split(\n",
    "        X_train_lr, y_train_lr, test_size=0.2, random_state=42\n",
    ")"
   ]
  },
  {
   "cell_type": "markdown",
   "metadata": {},
   "source": [
    "Make pipeline"
   ]
  },
  {
   "cell_type": "code",
   "execution_count": 112,
   "metadata": {},
   "outputs": [],
   "source": [
    "# create the column transformer to one-hot encode the categorical features\n",
    "categorical_features = X_linear_reg.columns\n",
    "preprocessor = ColumnTransformer(\n",
    "    transformers=[('cat', OneHotEncoder(), categorical_features)], remainder='passthrough')"
   ]
  },
  {
   "cell_type": "code",
   "execution_count": 113,
   "metadata": {},
   "outputs": [
    {
     "data": {
      "text/html": [
       "<style>#sk-container-id-10 {color: black;background-color: white;}#sk-container-id-10 pre{padding: 0;}#sk-container-id-10 div.sk-toggleable {background-color: white;}#sk-container-id-10 label.sk-toggleable__label {cursor: pointer;display: block;width: 100%;margin-bottom: 0;padding: 0.3em;box-sizing: border-box;text-align: center;}#sk-container-id-10 label.sk-toggleable__label-arrow:before {content: \"▸\";float: left;margin-right: 0.25em;color: #696969;}#sk-container-id-10 label.sk-toggleable__label-arrow:hover:before {color: black;}#sk-container-id-10 div.sk-estimator:hover label.sk-toggleable__label-arrow:before {color: black;}#sk-container-id-10 div.sk-toggleable__content {max-height: 0;max-width: 0;overflow: hidden;text-align: left;background-color: #f0f8ff;}#sk-container-id-10 div.sk-toggleable__content pre {margin: 0.2em;color: black;border-radius: 0.25em;background-color: #f0f8ff;}#sk-container-id-10 input.sk-toggleable__control:checked~div.sk-toggleable__content {max-height: 200px;max-width: 100%;overflow: auto;}#sk-container-id-10 input.sk-toggleable__control:checked~label.sk-toggleable__label-arrow:before {content: \"▾\";}#sk-container-id-10 div.sk-estimator input.sk-toggleable__control:checked~label.sk-toggleable__label {background-color: #d4ebff;}#sk-container-id-10 div.sk-label input.sk-toggleable__control:checked~label.sk-toggleable__label {background-color: #d4ebff;}#sk-container-id-10 input.sk-hidden--visually {border: 0;clip: rect(1px 1px 1px 1px);clip: rect(1px, 1px, 1px, 1px);height: 1px;margin: -1px;overflow: hidden;padding: 0;position: absolute;width: 1px;}#sk-container-id-10 div.sk-estimator {font-family: monospace;background-color: #f0f8ff;border: 1px dotted black;border-radius: 0.25em;box-sizing: border-box;margin-bottom: 0.5em;}#sk-container-id-10 div.sk-estimator:hover {background-color: #d4ebff;}#sk-container-id-10 div.sk-parallel-item::after {content: \"\";width: 100%;border-bottom: 1px solid gray;flex-grow: 1;}#sk-container-id-10 div.sk-label:hover label.sk-toggleable__label {background-color: #d4ebff;}#sk-container-id-10 div.sk-serial::before {content: \"\";position: absolute;border-left: 1px solid gray;box-sizing: border-box;top: 0;bottom: 0;left: 50%;z-index: 0;}#sk-container-id-10 div.sk-serial {display: flex;flex-direction: column;align-items: center;background-color: white;padding-right: 0.2em;padding-left: 0.2em;position: relative;}#sk-container-id-10 div.sk-item {position: relative;z-index: 1;}#sk-container-id-10 div.sk-parallel {display: flex;align-items: stretch;justify-content: center;background-color: white;position: relative;}#sk-container-id-10 div.sk-item::before, #sk-container-id-10 div.sk-parallel-item::before {content: \"\";position: absolute;border-left: 1px solid gray;box-sizing: border-box;top: 0;bottom: 0;left: 50%;z-index: -1;}#sk-container-id-10 div.sk-parallel-item {display: flex;flex-direction: column;z-index: 1;position: relative;background-color: white;}#sk-container-id-10 div.sk-parallel-item:first-child::after {align-self: flex-end;width: 50%;}#sk-container-id-10 div.sk-parallel-item:last-child::after {align-self: flex-start;width: 50%;}#sk-container-id-10 div.sk-parallel-item:only-child::after {width: 0;}#sk-container-id-10 div.sk-dashed-wrapped {border: 1px dashed gray;margin: 0 0.4em 0.5em 0.4em;box-sizing: border-box;padding-bottom: 0.4em;background-color: white;}#sk-container-id-10 div.sk-label label {font-family: monospace;font-weight: bold;display: inline-block;line-height: 1.2em;}#sk-container-id-10 div.sk-label-container {text-align: center;}#sk-container-id-10 div.sk-container {/* jupyter's `normalize.less` sets `[hidden] { display: none; }` but bootstrap.min.css set `[hidden] { display: none !important; }` so we also need the `!important` here to be able to override the default hidden behavior on the sphinx rendered scikit-learn.org. See: https://github.com/scikit-learn/scikit-learn/issues/21755 */display: inline-block !important;position: relative;}#sk-container-id-10 div.sk-text-repr-fallback {display: none;}</style><div id=\"sk-container-id-10\" class=\"sk-top-container\"><div class=\"sk-text-repr-fallback\"><pre>Pipeline(steps=[(&#x27;preprocessor&#x27;,\n",
       "                 ColumnTransformer(remainder=&#x27;passthrough&#x27;,\n",
       "                                   transformers=[(&#x27;cat&#x27;, OneHotEncoder(),\n",
       "                                                  Index([&#x27;level&#x27;, &#x27;age&#x27;, &#x27;gender&#x27;, &#x27;marital_status&#x27;, &#x27;faculty&#x27;, &#x27;department&#x27;,\n",
       "       &#x27;skill&#x27;, &#x27;prep_before&#x27;, &#x27;prep_after&#x27;, &#x27;quality_before&#x27;, &#x27;quality_after&#x27;,\n",
       "       &#x27;confidence_before&#x27;, &#x27;confidence_after&#x27;, &#x27;employment&#x27;, &#x27;quit_job&#x27;,\n",
       "       &#x27;level_200level&#x27;, &#x27;level_300level&#x27;, &#x27;lev...\n",
       "       &#x27;quality_before_Good&#x27;, &#x27;quality_before_Neutral&#x27;, &#x27;quality_before_Poor&#x27;,\n",
       "       &#x27;quality_after_Good&#x27;, &#x27;quality_after_Neutral&#x27;, &#x27;quality_after_Poor&#x27;,\n",
       "       &#x27;confidence_before_Good&#x27;, &#x27;confidence_before_Neutral&#x27;,\n",
       "       &#x27;confidence_after_Good&#x27;, &#x27;confidence_after_Neutral&#x27;,\n",
       "       &#x27;confidence_after_Poor&#x27;, &#x27;employment_No&#x27;, &#x27;employment_Yes&#x27;,\n",
       "       &#x27;quit_job_No&#x27;, &#x27;quit_job_Yes&#x27;, &#x27;quit_job_nan&#x27;],\n",
       "      dtype=&#x27;object&#x27;))])),\n",
       "                (&#x27;regressor&#x27;, LinearRegression())])</pre><b>In a Jupyter environment, please rerun this cell to show the HTML representation or trust the notebook. <br />On GitHub, the HTML representation is unable to render, please try loading this page with nbviewer.org.</b></div><div class=\"sk-container\" hidden><div class=\"sk-item sk-dashed-wrapped\"><div class=\"sk-label-container\"><div class=\"sk-label sk-toggleable\"><input class=\"sk-toggleable__control sk-hidden--visually\" id=\"sk-estimator-id-43\" type=\"checkbox\" ><label for=\"sk-estimator-id-43\" class=\"sk-toggleable__label sk-toggleable__label-arrow\">Pipeline</label><div class=\"sk-toggleable__content\"><pre>Pipeline(steps=[(&#x27;preprocessor&#x27;,\n",
       "                 ColumnTransformer(remainder=&#x27;passthrough&#x27;,\n",
       "                                   transformers=[(&#x27;cat&#x27;, OneHotEncoder(),\n",
       "                                                  Index([&#x27;level&#x27;, &#x27;age&#x27;, &#x27;gender&#x27;, &#x27;marital_status&#x27;, &#x27;faculty&#x27;, &#x27;department&#x27;,\n",
       "       &#x27;skill&#x27;, &#x27;prep_before&#x27;, &#x27;prep_after&#x27;, &#x27;quality_before&#x27;, &#x27;quality_after&#x27;,\n",
       "       &#x27;confidence_before&#x27;, &#x27;confidence_after&#x27;, &#x27;employment&#x27;, &#x27;quit_job&#x27;,\n",
       "       &#x27;level_200level&#x27;, &#x27;level_300level&#x27;, &#x27;lev...\n",
       "       &#x27;quality_before_Good&#x27;, &#x27;quality_before_Neutral&#x27;, &#x27;quality_before_Poor&#x27;,\n",
       "       &#x27;quality_after_Good&#x27;, &#x27;quality_after_Neutral&#x27;, &#x27;quality_after_Poor&#x27;,\n",
       "       &#x27;confidence_before_Good&#x27;, &#x27;confidence_before_Neutral&#x27;,\n",
       "       &#x27;confidence_after_Good&#x27;, &#x27;confidence_after_Neutral&#x27;,\n",
       "       &#x27;confidence_after_Poor&#x27;, &#x27;employment_No&#x27;, &#x27;employment_Yes&#x27;,\n",
       "       &#x27;quit_job_No&#x27;, &#x27;quit_job_Yes&#x27;, &#x27;quit_job_nan&#x27;],\n",
       "      dtype=&#x27;object&#x27;))])),\n",
       "                (&#x27;regressor&#x27;, LinearRegression())])</pre></div></div></div><div class=\"sk-serial\"><div class=\"sk-item sk-dashed-wrapped\"><div class=\"sk-label-container\"><div class=\"sk-label sk-toggleable\"><input class=\"sk-toggleable__control sk-hidden--visually\" id=\"sk-estimator-id-44\" type=\"checkbox\" ><label for=\"sk-estimator-id-44\" class=\"sk-toggleable__label sk-toggleable__label-arrow\">preprocessor: ColumnTransformer</label><div class=\"sk-toggleable__content\"><pre>ColumnTransformer(remainder=&#x27;passthrough&#x27;,\n",
       "                  transformers=[(&#x27;cat&#x27;, OneHotEncoder(),\n",
       "                                 Index([&#x27;level&#x27;, &#x27;age&#x27;, &#x27;gender&#x27;, &#x27;marital_status&#x27;, &#x27;faculty&#x27;, &#x27;department&#x27;,\n",
       "       &#x27;skill&#x27;, &#x27;prep_before&#x27;, &#x27;prep_after&#x27;, &#x27;quality_before&#x27;, &#x27;quality_after&#x27;,\n",
       "       &#x27;confidence_before&#x27;, &#x27;confidence_after&#x27;, &#x27;employment&#x27;, &#x27;quit_job&#x27;,\n",
       "       &#x27;level_200level&#x27;, &#x27;level_300level&#x27;, &#x27;level_400level&#x27;, &#x27;level_500level.&#x27;,\n",
       "       &#x27;...\n",
       "       &#x27;quality_before_Good&#x27;, &#x27;quality_before_Neutral&#x27;, &#x27;quality_before_Poor&#x27;,\n",
       "       &#x27;quality_after_Good&#x27;, &#x27;quality_after_Neutral&#x27;, &#x27;quality_after_Poor&#x27;,\n",
       "       &#x27;confidence_before_Good&#x27;, &#x27;confidence_before_Neutral&#x27;,\n",
       "       &#x27;confidence_after_Good&#x27;, &#x27;confidence_after_Neutral&#x27;,\n",
       "       &#x27;confidence_after_Poor&#x27;, &#x27;employment_No&#x27;, &#x27;employment_Yes&#x27;,\n",
       "       &#x27;quit_job_No&#x27;, &#x27;quit_job_Yes&#x27;, &#x27;quit_job_nan&#x27;],\n",
       "      dtype=&#x27;object&#x27;))])</pre></div></div></div><div class=\"sk-parallel\"><div class=\"sk-parallel-item\"><div class=\"sk-item\"><div class=\"sk-label-container\"><div class=\"sk-label sk-toggleable\"><input class=\"sk-toggleable__control sk-hidden--visually\" id=\"sk-estimator-id-45\" type=\"checkbox\" ><label for=\"sk-estimator-id-45\" class=\"sk-toggleable__label sk-toggleable__label-arrow\">cat</label><div class=\"sk-toggleable__content\"><pre>Index([&#x27;level&#x27;, &#x27;age&#x27;, &#x27;gender&#x27;, &#x27;marital_status&#x27;, &#x27;faculty&#x27;, &#x27;department&#x27;,\n",
       "       &#x27;skill&#x27;, &#x27;prep_before&#x27;, &#x27;prep_after&#x27;, &#x27;quality_before&#x27;, &#x27;quality_after&#x27;,\n",
       "       &#x27;confidence_before&#x27;, &#x27;confidence_after&#x27;, &#x27;employment&#x27;, &#x27;quit_job&#x27;,\n",
       "       &#x27;level_200level&#x27;, &#x27;level_300level&#x27;, &#x27;level_400level&#x27;, &#x27;level_500level.&#x27;,\n",
       "       &#x27;age_16–18&#x27;, &#x27;age_19–21&#x27;, &#x27;age_22–24&#x27;, &#x27;age_25–27&#x27;, &#x27;age_27+&#x27;,\n",
       "       &#x27;gender_Female&#x27;, &#x27;gender_Male&#x27;, &#x27;marital_status_Married&#x27;,\n",
       "       &#x27;marital_status_Single&#x27;, &#x27;faculty_Education&#x27;, &#x27;faculty_Engineering&#x27;,\n",
       "       &#x27;faculty_Law&#x27;, &#x27;faculty_Management Science&#x27;, &#x27;faculty_Science&#x27;,\n",
       "       &#x27;department_Art and social sciences Education &#x27;, &#x27;department_Botany &#x27;,\n",
       "       &#x27;department_Cell Biology and Genetics&#x27;, &#x27;department_Civil Engineering&#x27;,\n",
       "       &#x27;department_Educational foundations &#x27;,\n",
       "       &#x27;department_Electrical and Electronics Engineering &#x27;,\n",
       "       &#x27;department_Finance &#x27;, &#x27;department_Geophysics &#x27;, &#x27;department_Law&#x27;,\n",
       "       &#x27;department_Marine  science&#x27;, &#x27;department_Met and mat&#x27;,\n",
       "       &#x27;department_Statistics &#x27;, &#x27;department_Yoruba &#x27;,\n",
       "       &#x27;department_accounting &#x27;, &#x27;skill_No&#x27;, &#x27;skill_No Skill&#x27;, &#x27;skill_Yes&#x27;,\n",
       "       &#x27;prep_before_Good&#x27;, &#x27;prep_before_Neutral&#x27;, &#x27;prep_before_Poor&#x27;,\n",
       "       &#x27;prep_after_Good&#x27;, &#x27;prep_after_Neutral&#x27;, &#x27;prep_after_Poor&#x27;,\n",
       "       &#x27;quality_before_Good&#x27;, &#x27;quality_before_Neutral&#x27;, &#x27;quality_before_Poor&#x27;,\n",
       "       &#x27;quality_after_Good&#x27;, &#x27;quality_after_Neutral&#x27;, &#x27;quality_after_Poor&#x27;,\n",
       "       &#x27;confidence_before_Good&#x27;, &#x27;confidence_before_Neutral&#x27;,\n",
       "       &#x27;confidence_after_Good&#x27;, &#x27;confidence_after_Neutral&#x27;,\n",
       "       &#x27;confidence_after_Poor&#x27;, &#x27;employment_No&#x27;, &#x27;employment_Yes&#x27;,\n",
       "       &#x27;quit_job_No&#x27;, &#x27;quit_job_Yes&#x27;, &#x27;quit_job_nan&#x27;],\n",
       "      dtype=&#x27;object&#x27;)</pre></div></div></div><div class=\"sk-serial\"><div class=\"sk-item\"><div class=\"sk-estimator sk-toggleable\"><input class=\"sk-toggleable__control sk-hidden--visually\" id=\"sk-estimator-id-46\" type=\"checkbox\" ><label for=\"sk-estimator-id-46\" class=\"sk-toggleable__label sk-toggleable__label-arrow\">OneHotEncoder</label><div class=\"sk-toggleable__content\"><pre>OneHotEncoder()</pre></div></div></div></div></div></div><div class=\"sk-parallel-item\"><div class=\"sk-item\"><div class=\"sk-label-container\"><div class=\"sk-label sk-toggleable\"><input class=\"sk-toggleable__control sk-hidden--visually\" id=\"sk-estimator-id-47\" type=\"checkbox\" ><label for=\"sk-estimator-id-47\" class=\"sk-toggleable__label sk-toggleable__label-arrow\">remainder</label><div class=\"sk-toggleable__content\"><pre>[]</pre></div></div></div><div class=\"sk-serial\"><div class=\"sk-item\"><div class=\"sk-estimator sk-toggleable\"><input class=\"sk-toggleable__control sk-hidden--visually\" id=\"sk-estimator-id-48\" type=\"checkbox\" ><label for=\"sk-estimator-id-48\" class=\"sk-toggleable__label sk-toggleable__label-arrow\">passthrough</label><div class=\"sk-toggleable__content\"><pre>passthrough</pre></div></div></div></div></div></div></div></div><div class=\"sk-item\"><div class=\"sk-estimator sk-toggleable\"><input class=\"sk-toggleable__control sk-hidden--visually\" id=\"sk-estimator-id-49\" type=\"checkbox\" ><label for=\"sk-estimator-id-49\" class=\"sk-toggleable__label sk-toggleable__label-arrow\">LinearRegression</label><div class=\"sk-toggleable__content\"><pre>LinearRegression()</pre></div></div></div></div></div></div></div>"
      ],
      "text/plain": [
       "Pipeline(steps=[('preprocessor',\n",
       "                 ColumnTransformer(remainder='passthrough',\n",
       "                                   transformers=[('cat', OneHotEncoder(),\n",
       "                                                  Index(['level', 'age', 'gender', 'marital_status', 'faculty', 'department',\n",
       "       'skill', 'prep_before', 'prep_after', 'quality_before', 'quality_after',\n",
       "       'confidence_before', 'confidence_after', 'employment', 'quit_job',\n",
       "       'level_200level', 'level_300level', 'lev...\n",
       "       'quality_before_Good', 'quality_before_Neutral', 'quality_before_Poor',\n",
       "       'quality_after_Good', 'quality_after_Neutral', 'quality_after_Poor',\n",
       "       'confidence_before_Good', 'confidence_before_Neutral',\n",
       "       'confidence_after_Good', 'confidence_after_Neutral',\n",
       "       'confidence_after_Poor', 'employment_No', 'employment_Yes',\n",
       "       'quit_job_No', 'quit_job_Yes', 'quit_job_nan'],\n",
       "      dtype='object'))])),\n",
       "                ('regressor', LinearRegression())])"
      ]
     },
     "execution_count": 113,
     "metadata": {},
     "output_type": "execute_result"
    }
   ],
   "source": [
    "# create the linear regression model\n",
    "model = Pipeline(steps=[('preprocessor', preprocessor),\n",
    "                        ('regressor', LinearRegression())])\n",
    "\n",
    "\n",
    "# fit the model to the training data\n",
    "model.fit(X_train_lr, y_train_lr)"
   ]
  },
  {
   "cell_type": "code",
   "execution_count": 114,
   "metadata": {},
   "outputs": [
    {
     "name": "stdout",
     "output_type": "stream",
     "text": [
      "\n",
      "Baseline MSE: 0.20356 \n",
      "Training MSE: 0.20137\n"
     ]
    }
   ],
   "source": [
    "# evaluate the model's performance on the training data\n",
    "y_train_lr_mean = y_train_lr.mean()\n",
    "y_train_lr_baseline = [y_train_lr_mean]*len(y_train_lr)\n",
    "baseline_mse = mean_squared_error(y_train_lr, y_train_lr_baseline)\n",
    "training_mse = mean_squared_error(y_train_lr, model.predict(X_train_lr))\n",
    "print(f\"\"\"\n",
    "Baseline MSE: {round(baseline_mse, 5)} \n",
    "Training MSE: {round(training_mse, 5)}\"\"\")"
   ]
  },
  {
   "cell_type": "code",
   "execution_count": 115,
   "metadata": {},
   "outputs": [
    {
     "name": "stdout",
     "output_type": "stream",
     "text": [
      "\n",
      "Baseline MSE: 0.20356 \n",
      "Training MSE: 0.20137\n",
      "Validation MSE: 0.21994\n"
     ]
    }
   ],
   "source": [
    "# predict the target variable for the validation data\n",
    "y_pred_val = model.predict(X_val_lr)\n",
    "\n",
    "\n",
    "# evaluate the model's performance on the validation data\n",
    "y_val_mean = y_val_lr.mean()\n",
    "y_val_baseline = [y_val_mean]*len(y_val_lr)\n",
    "val_mse = mean_squared_error(y_val_lr, y_pred_val)\n",
    "\n",
    "print(f\"\"\"\n",
    "Baseline MSE: {round(baseline_mse, 5)} \n",
    "Training MSE: {round(training_mse, 5)}\n",
    "Validation MSE: {round(val_mse, 5)}\"\"\")"
   ]
  },
  {
   "cell_type": "code",
   "execution_count": 116,
   "metadata": {},
   "outputs": [
    {
     "name": "stdout",
     "output_type": "stream",
     "text": [
      "Mean MSE: 0.20357\n",
      "Standard deviation of MSE: 0.00945\n"
     ]
    }
   ],
   "source": [
    "# perform k-fold cross-validation\n",
    "\n",
    "scores = cross_val_score(model, X_linear_reg, y_linear_reg, cv=5, scoring='neg_mean_squared_error')\n",
    "\n",
    "# calculate the mean and standard deviation of the scores\n",
    "mean_mse = np.mean(-scores)\n",
    "std_mse = np.std(-scores)\n",
    "\n",
    "# print the mean and standard deviation of the scores\n",
    "print(f\"Mean MSE: {mean_mse:.5f}\")\n",
    "print(f\"Standard deviation of MSE: {std_mse:.5f}\")"
   ]
  },
  {
   "cell_type": "code",
   "execution_count": 117,
   "metadata": {},
   "outputs": [
    {
     "data": {
      "text/plain": [
       "Text(0, 0.5, 'Residuals')"
      ]
     },
     "execution_count": 117,
     "metadata": {},
     "output_type": "execute_result"
    },
    {
     "data": {
      "image/png": "[encoded data removed]",
      "text/plain": [
       "<Figure size 640x480 with 1 Axes>"
      ]
     },
     "metadata": {},
     "output_type": "display_data"
    }
   ],
   "source": [
    "# calculate the residuals\n",
    "residuals = y_val_lr - y_pred_val\n",
    "\n",
    "# plot the residuals\n",
    "plt.scatter(y_val_lr, residuals)\n",
    "plt.axhline(y=0, color='r', linestyle='-')\n",
    "plt.xlabel('Actual values')\n",
    "plt.ylabel('Residuals')"
   ]
  },
  {
   "cell_type": "code",
   "execution_count": 118,
   "metadata": {},
   "outputs": [
    {
     "data": {
      "text/plain": [
       "0.21994373512983717"
      ]
     },
     "execution_count": 118,
     "metadata": {},
     "output_type": "execute_result"
    }
   ],
   "source": [
    "# evaluate the model's performance on the test data\n",
    "mse = mean_squared_error(y_val_lr, y_pred_val)\n",
    "mse"
   ]
  },
  {
   "attachments": {},
   "cell_type": "markdown",
   "metadata": {},
   "source": [
    "### Decision Tree Classifier"
   ]
  },
  {
   "attachments": {},
   "cell_type": "markdown",
   "metadata": {},
   "source": [
    "### Recategorise data\n",
    "\n",
    "Check only if CGPA dropped or not."
   ]
  },
  {
   "cell_type": "code",
   "execution_count": 119,
   "metadata": {},
   "outputs": [],
   "source": [
    "def rise_or_drop(val):  \n",
    "    \"\"\"\n",
    "    This function splits the given column into two catgories one based on the direction of the number\n",
    "    (Positive or Negative)\n",
    "    val: This function is designed to be used with series.apply so no input is needed here.\n",
    "    \"\"\"    \n",
    "    \n",
    "    if val > 0:\n",
    "        category= False # CGPA rose\n",
    "    else:\n",
    "        category= True # CGPA dropped\n",
    "    \n",
    "    return category"
   ]
  },
  {
   "cell_type": "code",
   "execution_count": 120,
   "metadata": {},
   "outputs": [],
   "source": [
    "def categorize_change(val):\n",
    "    \"\"\"\n",
    "    This function splits the given column into 6 catgories based on the magnitude of the difference in the val column.\n",
    "    val: This function is designed to be used with series.apply so no input is needed here.\n",
    "    \"\"\"    \n",
    "    \n",
    "    category = \"\"\n",
    "\n",
    "    if abs(val) >= 1:\n",
    "        category+=\"EXTREME\"\n",
    "    elif abs(val) >= 0.5:\n",
    "        category+=\"VERY HIGH\"\n",
    "    elif abs(val) >= 0.2:\n",
    "        category+=\"HIGH\"\n",
    "    elif abs(val) >= 0.1:\n",
    "        category+=\"MEDIUM\"\n",
    "    elif abs(val) >= 0.05:\n",
    "        category+=\"LOW\"\n",
    "    else:\n",
    "        category+=\" VERY LOW\"\n",
    "        \n",
    "    if val > 0:\n",
    "        category+= \"-RISE\"\n",
    "    else:\n",
    "        category+= \"-DROP\"\n",
    "    \n",
    "    return category"
   ]
  },
  {
   "cell_type": "code",
   "execution_count": 121,
   "metadata": {},
   "outputs": [
    {
     "data": {
      "text/plain": [
       "level                category\n",
       "age                  category\n",
       "gender               category\n",
       "marital_status       category\n",
       "faculty              category\n",
       "department           category\n",
       "skill                category\n",
       "prep_before          category\n",
       "prep_after           category\n",
       "quality_before       category\n",
       "quality_after        category\n",
       "confidence_before    category\n",
       "confidence_after     category\n",
       "employment           category\n",
       "cgpa_drop                bool\n",
       "dtype: object"
      ]
     },
     "execution_count": 121,
     "metadata": {},
     "output_type": "execute_result"
    }
   ],
   "source": [
    "categorical_df = test_df.drop(columns=[\"cgpa_before\", \"cgpa_after\"])\n",
    "\n",
    "categorical_df[\"cgpa_drop\"] = categorical_df[\"cgpa_change\"].apply(rise_or_drop)\n",
    "\n",
    "categorical_df.drop(columns=[\"cgpa_change\", \"quit_job\"], inplace=True)\n",
    "\n",
    "categorical_df[categorical_df.select_dtypes(\"object\").columns] = categorical_df.select_dtypes(\n",
    "    \"object\").astype(\"category\")\n",
    "categorical_df.dtypes"
   ]
  },
  {
   "cell_type": "code",
   "execution_count": 122,
   "metadata": {},
   "outputs": [],
   "source": [
    "target = \"cgpa_drop\"\n",
    "X_decision_tree = categorical_df.drop(columns=target)\n",
    "y_decision_tree = categorical_df[target]\n",
    "\n",
    "# Going forward decision tree will be abreviated to dt"
   ]
  },
  {
   "cell_type": "code",
   "execution_count": 123,
   "metadata": {},
   "outputs": [],
   "source": [
    "X_train_dt, X_test_dt, y_train_dt, y_test_dt= train_test_split(X_decision_tree, y_decision_tree, test_size=0.2, random_state=42)"
   ]
  },
  {
   "cell_type": "code",
   "execution_count": 124,
   "metadata": {},
   "outputs": [
    {
     "name": "stdout",
     "output_type": "stream",
     "text": [
      "X_train_over shape: (2942, 14)\n"
     ]
    },
    {
     "data": {
      "text/html": [
       "<div>\n",
       "<style scoped>\n",
       "    .dataframe tbody tr th:only-of-type {\n",
       "        vertical-align: middle;\n",
       "    }\n",
       "\n",
       "    .dataframe tbody tr th {\n",
       "        vertical-align: top;\n",
       "    }\n",
       "\n",
       "    .dataframe thead th {\n",
       "        text-align: right;\n",
       "    }\n",
       "</style>\n",
       "<table border=\"1\" class=\"dataframe\">\n",
       "  <thead>\n",
       "    <tr style=\"text-align: right;\">\n",
       "      <th></th>\n",
       "      <th>level</th>\n",
       "      <th>age</th>\n",
       "      <th>gender</th>\n",
       "      <th>marital_status</th>\n",
       "      <th>faculty</th>\n",
       "      <th>department</th>\n",
       "      <th>skill</th>\n",
       "      <th>prep_before</th>\n",
       "      <th>prep_after</th>\n",
       "      <th>quality_before</th>\n",
       "      <th>quality_after</th>\n",
       "      <th>confidence_before</th>\n",
       "      <th>confidence_after</th>\n",
       "      <th>employment</th>\n",
       "    </tr>\n",
       "  </thead>\n",
       "  <tbody>\n",
       "    <tr>\n",
       "      <th>0</th>\n",
       "      <td>500level.</td>\n",
       "      <td>27+</td>\n",
       "      <td>Female</td>\n",
       "      <td>Married</td>\n",
       "      <td>Engineering</td>\n",
       "      <td>Met and mat</td>\n",
       "      <td>Yes</td>\n",
       "      <td>Good</td>\n",
       "      <td>Neutral</td>\n",
       "      <td>Good</td>\n",
       "      <td>Neutral</td>\n",
       "      <td>Neutral</td>\n",
       "      <td>Neutral</td>\n",
       "      <td>No</td>\n",
       "    </tr>\n",
       "    <tr>\n",
       "      <th>1</th>\n",
       "      <td>300level</td>\n",
       "      <td>22–24</td>\n",
       "      <td>Male</td>\n",
       "      <td>Single</td>\n",
       "      <td>Education</td>\n",
       "      <td>Educational foundations</td>\n",
       "      <td>No</td>\n",
       "      <td>Neutral</td>\n",
       "      <td>Good</td>\n",
       "      <td>Neutral</td>\n",
       "      <td>Neutral</td>\n",
       "      <td>Neutral</td>\n",
       "      <td>Neutral</td>\n",
       "      <td>Yes</td>\n",
       "    </tr>\n",
       "    <tr>\n",
       "      <th>2</th>\n",
       "      <td>400level</td>\n",
       "      <td>22–24</td>\n",
       "      <td>Male</td>\n",
       "      <td>Single</td>\n",
       "      <td>Science</td>\n",
       "      <td>Geophysics</td>\n",
       "      <td>No</td>\n",
       "      <td>Poor</td>\n",
       "      <td>Neutral</td>\n",
       "      <td>Neutral</td>\n",
       "      <td>Poor</td>\n",
       "      <td>Neutral</td>\n",
       "      <td>Poor</td>\n",
       "      <td>No</td>\n",
       "    </tr>\n",
       "    <tr>\n",
       "      <th>3</th>\n",
       "      <td>400level</td>\n",
       "      <td>19–21</td>\n",
       "      <td>Male</td>\n",
       "      <td>Single</td>\n",
       "      <td>Engineering</td>\n",
       "      <td>Electrical and Electronics Engineering</td>\n",
       "      <td>Yes</td>\n",
       "      <td>Poor</td>\n",
       "      <td>Good</td>\n",
       "      <td>Neutral</td>\n",
       "      <td>Neutral</td>\n",
       "      <td>Neutral</td>\n",
       "      <td>Neutral</td>\n",
       "      <td>Yes</td>\n",
       "    </tr>\n",
       "    <tr>\n",
       "      <th>4</th>\n",
       "      <td>300level</td>\n",
       "      <td>25–27</td>\n",
       "      <td>Male</td>\n",
       "      <td>Single</td>\n",
       "      <td>Science</td>\n",
       "      <td>Botany</td>\n",
       "      <td>Yes</td>\n",
       "      <td>Good</td>\n",
       "      <td>Neutral</td>\n",
       "      <td>Neutral</td>\n",
       "      <td>Poor</td>\n",
       "      <td>Good</td>\n",
       "      <td>Neutral</td>\n",
       "      <td>No</td>\n",
       "    </tr>\n",
       "  </tbody>\n",
       "</table>\n",
       "</div>"
      ],
      "text/plain": [
       "       level    age  gender marital_status      faculty  \\\n",
       "0  500level.    27+  Female        Married  Engineering   \n",
       "1   300level  22–24    Male         Single    Education   \n",
       "2   400level  22–24    Male         Single      Science   \n",
       "3   400level  19–21    Male         Single  Engineering   \n",
       "4   300level  25–27    Male         Single      Science   \n",
       "\n",
       "                                department skill prep_before prep_after  \\\n",
       "0                              Met and mat   Yes        Good    Neutral   \n",
       "1                 Educational foundations     No     Neutral       Good   \n",
       "2                              Geophysics     No        Poor    Neutral   \n",
       "3  Electrical and Electronics Engineering    Yes        Poor       Good   \n",
       "4                                  Botany    Yes        Good    Neutral   \n",
       "\n",
       "  quality_before quality_after confidence_before confidence_after employment  \n",
       "0           Good       Neutral           Neutral          Neutral         No  \n",
       "1        Neutral       Neutral           Neutral          Neutral        Yes  \n",
       "2        Neutral          Poor           Neutral             Poor         No  \n",
       "3        Neutral       Neutral           Neutral          Neutral        Yes  \n",
       "4        Neutral          Poor              Good          Neutral         No  "
      ]
     },
     "execution_count": 124,
     "metadata": {},
     "output_type": "execute_result"
    }
   ],
   "source": [
    "# Importing the necessary libraries\n",
    "from imblearn.over_sampling import RandomOverSampler\n",
    "\n",
    "# Initializing the RandomOverSampler with a fixed random_state for reproducibility\n",
    "over_sampler = RandomOverSampler(random_state=42)\n",
    "\n",
    "# Resampling the training data to balance the target classes\n",
    "X_train_over_dt, y_train_over_dt = over_sampler.fit_resample(X_train_dt, y_train_dt)\n",
    "\n",
    "# Printing the shape of the resampled training data\n",
    "print(\"X_train_over shape:\", X_train_over_dt.shape)\n",
    "\n",
    "# Displaying the first few rows of the resampled training data\n",
    "X_train_over_dt.head()\n"
   ]
  },
  {
   "cell_type": "code",
   "execution_count": 125,
   "metadata": {},
   "outputs": [
    {
     "name": "stdout",
     "output_type": "stream",
     "text": [
      "Baseline Accuracy: 0.66\n"
     ]
    }
   ],
   "source": [
    "# Calculating the baseline accuracy for the binary classification problem\n",
    "# Baseline accuracy is the accuracy achieved by always predicting the majority class\n",
    "\n",
    "# Counting the frequency of each class in the target variable 'y_train_dt'\n",
    "class_counts = y_train_dt.value_counts()\n",
    "\n",
    "# Calculating the percentage of the majority class in the target variable\n",
    "baseline_accuracy = class_counts.max() / len(y_train_dt)\n",
    "\n",
    "# Rounding the baseline accuracy to two decimal places for better readability\n",
    "rounded_baseline_accuracy = round(baseline_accuracy, 2)\n",
    "\n",
    "# Printing the baseline accuracy\n",
    "print(\"Baseline Accuracy:\", rounded_baseline_accuracy)\n"
   ]
  },
  {
   "cell_type": "code",
   "execution_count": 126,
   "metadata": {},
   "outputs": [
    {
     "name": "stdout",
     "output_type": "stream",
     "text": [
      "Training Accuracy Scores: [0.6566964285714286, 0.6566964285714286, 0.6566964285714286]\n"
     ]
    }
   ],
   "source": [
    "# Create empty lists for training and validation accuracy scores\n",
    "training_acc = []\n",
    "depth_hyperparams = range(1, 50, 2)\n",
    "\n",
    "for d in depth_hyperparams:\n",
    "    # Create model with `max_depth` of `d`\n",
    "    test_model = model = make_pipeline(\n",
    "        OrdinalEncoder(), \n",
    "        DecisionTreeClassifier(max_depth=d, random_state=42)\n",
    "    )\n",
    "    # Fit model to training data\n",
    "    test_model.fit(X_train_dt, y_train_dt)\n",
    "    # Calculate training accuracy score and append to `training_acc`\n",
    "    training_acc.append(test_model.score(X_train_dt, y_train_dt))\n",
    "\n",
    "# max_train_acc = max(validation_acc)\n",
    "# optimal_depth = validation_acc.index(max_val_acc) + 6\n",
    "print(\"Training Accuracy Scores:\", training_acc[:3])\n",
    "# print(\"Validation Accuracy Scores:\", validation_acc[:3])\n",
    "# print(\"Max Validation Accuracy Score:\", max_val_acc)\n",
    "# print(\"Optimal Depth:\", optimal_depth)"
   ]
  },
  {
   "cell_type": "code",
   "execution_count": 127,
   "metadata": {},
   "outputs": [
    {
     "data": {
      "image/png": "[encoded data removed]",
      "text/plain": [
       "<Figure size 640x480 with 1 Axes>"
      ]
     },
     "metadata": {},
     "output_type": "display_data"
    }
   ],
   "source": [
    "# Plot `depth_hyperparams`, `training_acc`\n",
    "plt.plot(depth_hyperparams, training_acc, label=\"training\")\n",
    "# plt.plot(depth_hyperparams, validation_acc, label=\"validation\")\n",
    "plt.xlabel(\"Max Depth\")\n",
    "plt.ylabel(\"Accuracy Score\")\n",
    "plt.legend();"
   ]
  },
  {
   "cell_type": "code",
   "execution_count": 128,
   "metadata": {},
   "outputs": [
    {
     "data": {
      "text/html": [
       "<style>#sk-container-id-11 {color: black;background-color: white;}#sk-container-id-11 pre{padding: 0;}#sk-container-id-11 div.sk-toggleable {background-color: white;}#sk-container-id-11 label.sk-toggleable__label {cursor: pointer;display: block;width: 100%;margin-bottom: 0;padding: 0.3em;box-sizing: border-box;text-align: center;}#sk-container-id-11 label.sk-toggleable__label-arrow:before {content: \"▸\";float: left;margin-right: 0.25em;color: #696969;}#sk-container-id-11 label.sk-toggleable__label-arrow:hover:before {color: black;}#sk-container-id-11 div.sk-estimator:hover label.sk-toggleable__label-arrow:before {color: black;}#sk-container-id-11 div.sk-toggleable__content {max-height: 0;max-width: 0;overflow: hidden;text-align: left;background-color: #f0f8ff;}#sk-container-id-11 div.sk-toggleable__content pre {margin: 0.2em;color: black;border-radius: 0.25em;background-color: #f0f8ff;}#sk-container-id-11 input.sk-toggleable__control:checked~div.sk-toggleable__content {max-height: 200px;max-width: 100%;overflow: auto;}#sk-container-id-11 input.sk-toggleable__control:checked~label.sk-toggleable__label-arrow:before {content: \"▾\";}#sk-container-id-11 div.sk-estimator input.sk-toggleable__control:checked~label.sk-toggleable__label {background-color: #d4ebff;}#sk-container-id-11 div.sk-label input.sk-toggleable__control:checked~label.sk-toggleable__label {background-color: #d4ebff;}#sk-container-id-11 input.sk-hidden--visually {border: 0;clip: rect(1px 1px 1px 1px);clip: rect(1px, 1px, 1px, 1px);height: 1px;margin: -1px;overflow: hidden;padding: 0;position: absolute;width: 1px;}#sk-container-id-11 div.sk-estimator {font-family: monospace;background-color: #f0f8ff;border: 1px dotted black;border-radius: 0.25em;box-sizing: border-box;margin-bottom: 0.5em;}#sk-container-id-11 div.sk-estimator:hover {background-color: #d4ebff;}#sk-container-id-11 div.sk-parallel-item::after {content: \"\";width: 100%;border-bottom: 1px solid gray;flex-grow: 1;}#sk-container-id-11 div.sk-label:hover label.sk-toggleable__label {background-color: #d4ebff;}#sk-container-id-11 div.sk-serial::before {content: \"\";position: absolute;border-left: 1px solid gray;box-sizing: border-box;top: 0;bottom: 0;left: 50%;z-index: 0;}#sk-container-id-11 div.sk-serial {display: flex;flex-direction: column;align-items: center;background-color: white;padding-right: 0.2em;padding-left: 0.2em;position: relative;}#sk-container-id-11 div.sk-item {position: relative;z-index: 1;}#sk-container-id-11 div.sk-parallel {display: flex;align-items: stretch;justify-content: center;background-color: white;position: relative;}#sk-container-id-11 div.sk-item::before, #sk-container-id-11 div.sk-parallel-item::before {content: \"\";position: absolute;border-left: 1px solid gray;box-sizing: border-box;top: 0;bottom: 0;left: 50%;z-index: -1;}#sk-container-id-11 div.sk-parallel-item {display: flex;flex-direction: column;z-index: 1;position: relative;background-color: white;}#sk-container-id-11 div.sk-parallel-item:first-child::after {align-self: flex-end;width: 50%;}#sk-container-id-11 div.sk-parallel-item:last-child::after {align-self: flex-start;width: 50%;}#sk-container-id-11 div.sk-parallel-item:only-child::after {width: 0;}#sk-container-id-11 div.sk-dashed-wrapped {border: 1px dashed gray;margin: 0 0.4em 0.5em 0.4em;box-sizing: border-box;padding-bottom: 0.4em;background-color: white;}#sk-container-id-11 div.sk-label label {font-family: monospace;font-weight: bold;display: inline-block;line-height: 1.2em;}#sk-container-id-11 div.sk-label-container {text-align: center;}#sk-container-id-11 div.sk-container {/* jupyter's `normalize.less` sets `[hidden] { display: none; }` but bootstrap.min.css set `[hidden] { display: none !important; }` so we also need the `!important` here to be able to override the default hidden behavior on the sphinx rendered scikit-learn.org. See: https://github.com/scikit-learn/scikit-learn/issues/21755 */display: inline-block !important;position: relative;}#sk-container-id-11 div.sk-text-repr-fallback {display: none;}</style><div id=\"sk-container-id-11\" class=\"sk-top-container\"><div class=\"sk-text-repr-fallback\"><pre>Pipeline(steps=[(&#x27;ordinalencoder&#x27;, OrdinalEncoder()),\n",
       "                (&#x27;decisiontreeclassifier&#x27;,\n",
       "                 DecisionTreeClassifier(random_state=42))])</pre><b>In a Jupyter environment, please rerun this cell to show the HTML representation or trust the notebook. <br />On GitHub, the HTML representation is unable to render, please try loading this page with nbviewer.org.</b></div><div class=\"sk-container\" hidden><div class=\"sk-item sk-dashed-wrapped\"><div class=\"sk-label-container\"><div class=\"sk-label sk-toggleable\"><input class=\"sk-toggleable__control sk-hidden--visually\" id=\"sk-estimator-id-50\" type=\"checkbox\" ><label for=\"sk-estimator-id-50\" class=\"sk-toggleable__label sk-toggleable__label-arrow\">Pipeline</label><div class=\"sk-toggleable__content\"><pre>Pipeline(steps=[(&#x27;ordinalencoder&#x27;, OrdinalEncoder()),\n",
       "                (&#x27;decisiontreeclassifier&#x27;,\n",
       "                 DecisionTreeClassifier(random_state=42))])</pre></div></div></div><div class=\"sk-serial\"><div class=\"sk-item\"><div class=\"sk-estimator sk-toggleable\"><input class=\"sk-toggleable__control sk-hidden--visually\" id=\"sk-estimator-id-51\" type=\"checkbox\" ><label for=\"sk-estimator-id-51\" class=\"sk-toggleable__label sk-toggleable__label-arrow\">OrdinalEncoder</label><div class=\"sk-toggleable__content\"><pre>OrdinalEncoder()</pre></div></div></div><div class=\"sk-item\"><div class=\"sk-estimator sk-toggleable\"><input class=\"sk-toggleable__control sk-hidden--visually\" id=\"sk-estimator-id-52\" type=\"checkbox\" ><label for=\"sk-estimator-id-52\" class=\"sk-toggleable__label sk-toggleable__label-arrow\">DecisionTreeClassifier</label><div class=\"sk-toggleable__content\"><pre>DecisionTreeClassifier(random_state=42)</pre></div></div></div></div></div></div></div>"
      ],
      "text/plain": [
       "Pipeline(steps=[('ordinalencoder', OrdinalEncoder()),\n",
       "                ('decisiontreeclassifier',\n",
       "                 DecisionTreeClassifier(random_state=42))])"
      ]
     },
     "execution_count": 128,
     "metadata": {},
     "output_type": "execute_result"
    }
   ],
   "source": [
    "# Creating a Decision Tree model using a pipeline with OrdinalEncoder as a preprocessor\n",
    "\n",
    "# Step 1: Preprocessing the features with OrdinalEncoder\n",
    "# OrdinalEncoder is used to convert categorical features into ordinal integers.\n",
    "# It is appropriate for features with a natural order, such as education levels or rankings.\n",
    "\n",
    "# Step 2: Creating the Decision Tree Classifier model\n",
    "# DecisionTreeClassifier is used as the classification model for this pipeline.\n",
    "# It will learn to classify data based on the ordinal-encoded features.\n",
    "\n",
    "# Step 3: Combining preprocessing and model into a pipeline\n",
    "# We use the make_pipeline function to create a pipeline that sequentially applies\n",
    "# OrdinalEncoder to preprocess the features and then trains the DecisionTreeClassifier.\n",
    "\n",
    "# Step 4: Fitting the model on the training data\n",
    "# We use the fit method to train the dt_model on the X_train_dt (features) and y_train_dt (target).\n",
    "\n",
    "# Note: The random_state parameter is set to 42 to ensure reproducibility of results.\n",
    "\n",
    "# Final Note: The trained model is now ready to make predictions on new data.\n",
    "\n",
    "# Code Block:\n",
    "# Creating the pipeline with OrdinalEncoder and DecisionTreeClassifier\n",
    "dt_model = make_pipeline(\n",
    "    OrdinalEncoder(), \n",
    "    DecisionTreeClassifier(random_state=42)\n",
    ")\n",
    "\n",
    "# Fitting the model on the training data\n",
    "dt_model.fit(X_train_dt, y_train_dt)\n"
   ]
  },
  {
   "cell_type": "code",
   "execution_count": 129,
   "metadata": {},
   "outputs": [
    {
     "data": {
      "text/plain": [
       "{'decisiontreeclassifier__max_depth': [3, 4, 5, 6, 7],\n",
       " 'decisiontreeclassifier__min_samples_leaf': [1, 2, 3, 4, 5],\n",
       " 'decisiontreeclassifier__min_samples_split': [2, 3, 4, 5, 6]}"
      ]
     },
     "execution_count": 129,
     "metadata": {},
     "output_type": "execute_result"
    }
   ],
   "source": [
    "# Define a dictionary 'param_grid' for hyperparameter tuning of DecisionTreeClassifier.\n",
    "\n",
    "# The hyperparameters to tune are:\n",
    "# 1. max_depth: The maximum depth of the decision tree. It controls the depth of the tree,\n",
    "#               and higher values may lead to overfitting.\n",
    "# 2. min_samples_leaf: The minimum number of samples required to be at a leaf node.\n",
    "#                      It controls the minimum size of leaf nodes, which helps to avoid overfitting.\n",
    "# 3. min_samples_split: The minimum number of samples required to split an internal node.\n",
    "#                       It controls the minimum size of internal nodes before a split, preventing overfitting.\n",
    "\n",
    "# We create a dictionary 'param_grid' with three keys, each corresponding to a hyperparameter.\n",
    "# The values associated with each key are lists of hyperparameter values to be tried during tuning.\n",
    "\n",
    "param_grid = {\n",
    "    'decisiontreeclassifier__max_depth': [3, 4, 5, 6, 7],\n",
    "    'decisiontreeclassifier__min_samples_leaf': [1, 2, 3, 4, 5],\n",
    "    'decisiontreeclassifier__min_samples_split': [2, 3, 4, 5, 6]\n",
    "}\n",
    "\n",
    "# The 'param_grid' dictionary is now ready to be used in hyperparameter tuning using techniques like GridSearchCV or RandomizedSearchCV.\n"
   ]
  },
  {
   "cell_type": "code",
   "execution_count": 130,
   "metadata": {},
   "outputs": [
    {
     "data": {
      "text/html": [
       "<style>#sk-container-id-12 {color: black;background-color: white;}#sk-container-id-12 pre{padding: 0;}#sk-container-id-12 div.sk-toggleable {background-color: white;}#sk-container-id-12 label.sk-toggleable__label {cursor: pointer;display: block;width: 100%;margin-bottom: 0;padding: 0.3em;box-sizing: border-box;text-align: center;}#sk-container-id-12 label.sk-toggleable__label-arrow:before {content: \"▸\";float: left;margin-right: 0.25em;color: #696969;}#sk-container-id-12 label.sk-toggleable__label-arrow:hover:before {color: black;}#sk-container-id-12 div.sk-estimator:hover label.sk-toggleable__label-arrow:before {color: black;}#sk-container-id-12 div.sk-toggleable__content {max-height: 0;max-width: 0;overflow: hidden;text-align: left;background-color: #f0f8ff;}#sk-container-id-12 div.sk-toggleable__content pre {margin: 0.2em;color: black;border-radius: 0.25em;background-color: #f0f8ff;}#sk-container-id-12 input.sk-toggleable__control:checked~div.sk-toggleable__content {max-height: 200px;max-width: 100%;overflow: auto;}#sk-container-id-12 input.sk-toggleable__control:checked~label.sk-toggleable__label-arrow:before {content: \"▾\";}#sk-container-id-12 div.sk-estimator input.sk-toggleable__control:checked~label.sk-toggleable__label {background-color: #d4ebff;}#sk-container-id-12 div.sk-label input.sk-toggleable__control:checked~label.sk-toggleable__label {background-color: #d4ebff;}#sk-container-id-12 input.sk-hidden--visually {border: 0;clip: rect(1px 1px 1px 1px);clip: rect(1px, 1px, 1px, 1px);height: 1px;margin: -1px;overflow: hidden;padding: 0;position: absolute;width: 1px;}#sk-container-id-12 div.sk-estimator {font-family: monospace;background-color: #f0f8ff;border: 1px dotted black;border-radius: 0.25em;box-sizing: border-box;margin-bottom: 0.5em;}#sk-container-id-12 div.sk-estimator:hover {background-color: #d4ebff;}#sk-container-id-12 div.sk-parallel-item::after {content: \"\";width: 100%;border-bottom: 1px solid gray;flex-grow: 1;}#sk-container-id-12 div.sk-label:hover label.sk-toggleable__label {background-color: #d4ebff;}#sk-container-id-12 div.sk-serial::before {content: \"\";position: absolute;border-left: 1px solid gray;box-sizing: border-box;top: 0;bottom: 0;left: 50%;z-index: 0;}#sk-container-id-12 div.sk-serial {display: flex;flex-direction: column;align-items: center;background-color: white;padding-right: 0.2em;padding-left: 0.2em;position: relative;}#sk-container-id-12 div.sk-item {position: relative;z-index: 1;}#sk-container-id-12 div.sk-parallel {display: flex;align-items: stretch;justify-content: center;background-color: white;position: relative;}#sk-container-id-12 div.sk-item::before, #sk-container-id-12 div.sk-parallel-item::before {content: \"\";position: absolute;border-left: 1px solid gray;box-sizing: border-box;top: 0;bottom: 0;left: 50%;z-index: -1;}#sk-container-id-12 div.sk-parallel-item {display: flex;flex-direction: column;z-index: 1;position: relative;background-color: white;}#sk-container-id-12 div.sk-parallel-item:first-child::after {align-self: flex-end;width: 50%;}#sk-container-id-12 div.sk-parallel-item:last-child::after {align-self: flex-start;width: 50%;}#sk-container-id-12 div.sk-parallel-item:only-child::after {width: 0;}#sk-container-id-12 div.sk-dashed-wrapped {border: 1px dashed gray;margin: 0 0.4em 0.5em 0.4em;box-sizing: border-box;padding-bottom: 0.4em;background-color: white;}#sk-container-id-12 div.sk-label label {font-family: monospace;font-weight: bold;display: inline-block;line-height: 1.2em;}#sk-container-id-12 div.sk-label-container {text-align: center;}#sk-container-id-12 div.sk-container {/* jupyter's `normalize.less` sets `[hidden] { display: none; }` but bootstrap.min.css set `[hidden] { display: none !important; }` so we also need the `!important` here to be able to override the default hidden behavior on the sphinx rendered scikit-learn.org. See: https://github.com/scikit-learn/scikit-learn/issues/21755 */display: inline-block !important;position: relative;}#sk-container-id-12 div.sk-text-repr-fallback {display: none;}</style><div id=\"sk-container-id-12\" class=\"sk-top-container\"><div class=\"sk-text-repr-fallback\"><pre>GridSearchCV(cv=5,\n",
       "             estimator=Pipeline(steps=[(&#x27;ordinalencoder&#x27;, OrdinalEncoder()),\n",
       "                                       (&#x27;decisiontreeclassifier&#x27;,\n",
       "                                        DecisionTreeClassifier(random_state=42))]),\n",
       "             param_grid={&#x27;decisiontreeclassifier__max_depth&#x27;: [3, 4, 5, 6, 7],\n",
       "                         &#x27;decisiontreeclassifier__min_samples_leaf&#x27;: [1, 2, 3,\n",
       "                                                                      4, 5],\n",
       "                         &#x27;decisiontreeclassifier__min_samples_split&#x27;: [2, 3, 4,\n",
       "                                                                       5, 6]})</pre><b>In a Jupyter environment, please rerun this cell to show the HTML representation or trust the notebook. <br />On GitHub, the HTML representation is unable to render, please try loading this page with nbviewer.org.</b></div><div class=\"sk-container\" hidden><div class=\"sk-item sk-dashed-wrapped\"><div class=\"sk-label-container\"><div class=\"sk-label sk-toggleable\"><input class=\"sk-toggleable__control sk-hidden--visually\" id=\"sk-estimator-id-53\" type=\"checkbox\" ><label for=\"sk-estimator-id-53\" class=\"sk-toggleable__label sk-toggleable__label-arrow\">GridSearchCV</label><div class=\"sk-toggleable__content\"><pre>GridSearchCV(cv=5,\n",
       "             estimator=Pipeline(steps=[(&#x27;ordinalencoder&#x27;, OrdinalEncoder()),\n",
       "                                       (&#x27;decisiontreeclassifier&#x27;,\n",
       "                                        DecisionTreeClassifier(random_state=42))]),\n",
       "             param_grid={&#x27;decisiontreeclassifier__max_depth&#x27;: [3, 4, 5, 6, 7],\n",
       "                         &#x27;decisiontreeclassifier__min_samples_leaf&#x27;: [1, 2, 3,\n",
       "                                                                      4, 5],\n",
       "                         &#x27;decisiontreeclassifier__min_samples_split&#x27;: [2, 3, 4,\n",
       "                                                                       5, 6]})</pre></div></div></div><div class=\"sk-parallel\"><div class=\"sk-parallel-item\"><div class=\"sk-item\"><div class=\"sk-label-container\"><div class=\"sk-label sk-toggleable\"><input class=\"sk-toggleable__control sk-hidden--visually\" id=\"sk-estimator-id-54\" type=\"checkbox\" ><label for=\"sk-estimator-id-54\" class=\"sk-toggleable__label sk-toggleable__label-arrow\">estimator: Pipeline</label><div class=\"sk-toggleable__content\"><pre>Pipeline(steps=[(&#x27;ordinalencoder&#x27;, OrdinalEncoder()),\n",
       "                (&#x27;decisiontreeclassifier&#x27;,\n",
       "                 DecisionTreeClassifier(random_state=42))])</pre></div></div></div><div class=\"sk-serial\"><div class=\"sk-item\"><div class=\"sk-serial\"><div class=\"sk-item\"><div class=\"sk-estimator sk-toggleable\"><input class=\"sk-toggleable__control sk-hidden--visually\" id=\"sk-estimator-id-55\" type=\"checkbox\" ><label for=\"sk-estimator-id-55\" class=\"sk-toggleable__label sk-toggleable__label-arrow\">OrdinalEncoder</label><div class=\"sk-toggleable__content\"><pre>OrdinalEncoder()</pre></div></div></div><div class=\"sk-item\"><div class=\"sk-estimator sk-toggleable\"><input class=\"sk-toggleable__control sk-hidden--visually\" id=\"sk-estimator-id-56\" type=\"checkbox\" ><label for=\"sk-estimator-id-56\" class=\"sk-toggleable__label sk-toggleable__label-arrow\">DecisionTreeClassifier</label><div class=\"sk-toggleable__content\"><pre>DecisionTreeClassifier(random_state=42)</pre></div></div></div></div></div></div></div></div></div></div></div></div>"
      ],
      "text/plain": [
       "GridSearchCV(cv=5,\n",
       "             estimator=Pipeline(steps=[('ordinalencoder', OrdinalEncoder()),\n",
       "                                       ('decisiontreeclassifier',\n",
       "                                        DecisionTreeClassifier(random_state=42))]),\n",
       "             param_grid={'decisiontreeclassifier__max_depth': [3, 4, 5, 6, 7],\n",
       "                         'decisiontreeclassifier__min_samples_leaf': [1, 2, 3,\n",
       "                                                                      4, 5],\n",
       "                         'decisiontreeclassifier__min_samples_split': [2, 3, 4,\n",
       "                                                                       5, 6]})"
      ]
     },
     "execution_count": 130,
     "metadata": {},
     "output_type": "execute_result"
    }
   ],
   "source": [
    "# Create a GridSearchCV object\n",
    "grid_search = GridSearchCV(dt_model, param_grid, cv=5)\n",
    "\n",
    "# Fit the GridSearchCV object to the data\n",
    "grid_search.fit(X_train_over_dt, y_train_over_dt)"
   ]
  },
  {
   "cell_type": "code",
   "execution_count": 131,
   "metadata": {},
   "outputs": [
    {
     "data": {
      "text/html": [
       "<div>\n",
       "<style scoped>\n",
       "    .dataframe tbody tr th:only-of-type {\n",
       "        vertical-align: middle;\n",
       "    }\n",
       "\n",
       "    .dataframe tbody tr th {\n",
       "        vertical-align: top;\n",
       "    }\n",
       "\n",
       "    .dataframe thead th {\n",
       "        text-align: right;\n",
       "    }\n",
       "</style>\n",
       "<table border=\"1\" class=\"dataframe\">\n",
       "  <thead>\n",
       "    <tr style=\"text-align: right;\">\n",
       "      <th></th>\n",
       "      <th>mean_fit_time</th>\n",
       "      <th>std_fit_time</th>\n",
       "      <th>mean_score_time</th>\n",
       "      <th>std_score_time</th>\n",
       "      <th>param_decisiontreeclassifier__max_depth</th>\n",
       "      <th>param_decisiontreeclassifier__min_samples_leaf</th>\n",
       "      <th>param_decisiontreeclassifier__min_samples_split</th>\n",
       "      <th>params</th>\n",
       "      <th>split0_test_score</th>\n",
       "      <th>split1_test_score</th>\n",
       "      <th>split2_test_score</th>\n",
       "      <th>split3_test_score</th>\n",
       "      <th>split4_test_score</th>\n",
       "      <th>mean_test_score</th>\n",
       "      <th>std_test_score</th>\n",
       "      <th>rank_test_score</th>\n",
       "    </tr>\n",
       "  </thead>\n",
       "  <tbody>\n",
       "    <tr>\n",
       "      <th>87</th>\n",
       "      <td>0.019548</td>\n",
       "      <td>0.004720</td>\n",
       "      <td>0.005386</td>\n",
       "      <td>0.000474</td>\n",
       "      <td>6</td>\n",
       "      <td>3</td>\n",
       "      <td>4</td>\n",
       "      <td>{'decisiontreeclassifier__max_depth': 6, 'deci...</td>\n",
       "      <td>0.519525</td>\n",
       "      <td>0.480475</td>\n",
       "      <td>0.520408</td>\n",
       "      <td>0.528912</td>\n",
       "      <td>0.547619</td>\n",
       "      <td>0.519388</td>\n",
       "      <td>0.021922</td>\n",
       "      <td>1</td>\n",
       "    </tr>\n",
       "    <tr>\n",
       "      <th>98</th>\n",
       "      <td>0.015365</td>\n",
       "      <td>0.001368</td>\n",
       "      <td>0.004782</td>\n",
       "      <td>0.001734</td>\n",
       "      <td>6</td>\n",
       "      <td>5</td>\n",
       "      <td>5</td>\n",
       "      <td>{'decisiontreeclassifier__max_depth': 6, 'deci...</td>\n",
       "      <td>0.519525</td>\n",
       "      <td>0.480475</td>\n",
       "      <td>0.520408</td>\n",
       "      <td>0.528912</td>\n",
       "      <td>0.547619</td>\n",
       "      <td>0.519388</td>\n",
       "      <td>0.021922</td>\n",
       "      <td>1</td>\n",
       "    </tr>\n",
       "    <tr>\n",
       "      <th>97</th>\n",
       "      <td>0.016129</td>\n",
       "      <td>0.001835</td>\n",
       "      <td>0.004210</td>\n",
       "      <td>0.000741</td>\n",
       "      <td>6</td>\n",
       "      <td>5</td>\n",
       "      <td>4</td>\n",
       "      <td>{'decisiontreeclassifier__max_depth': 6, 'deci...</td>\n",
       "      <td>0.519525</td>\n",
       "      <td>0.480475</td>\n",
       "      <td>0.520408</td>\n",
       "      <td>0.528912</td>\n",
       "      <td>0.547619</td>\n",
       "      <td>0.519388</td>\n",
       "      <td>0.021922</td>\n",
       "      <td>1</td>\n",
       "    </tr>\n",
       "    <tr>\n",
       "      <th>96</th>\n",
       "      <td>0.017153</td>\n",
       "      <td>0.001584</td>\n",
       "      <td>0.004975</td>\n",
       "      <td>0.001413</td>\n",
       "      <td>6</td>\n",
       "      <td>5</td>\n",
       "      <td>3</td>\n",
       "      <td>{'decisiontreeclassifier__max_depth': 6, 'deci...</td>\n",
       "      <td>0.519525</td>\n",
       "      <td>0.480475</td>\n",
       "      <td>0.520408</td>\n",
       "      <td>0.528912</td>\n",
       "      <td>0.547619</td>\n",
       "      <td>0.519388</td>\n",
       "      <td>0.021922</td>\n",
       "      <td>1</td>\n",
       "    </tr>\n",
       "    <tr>\n",
       "      <th>95</th>\n",
       "      <td>0.018736</td>\n",
       "      <td>0.001936</td>\n",
       "      <td>0.006596</td>\n",
       "      <td>0.001735</td>\n",
       "      <td>6</td>\n",
       "      <td>5</td>\n",
       "      <td>2</td>\n",
       "      <td>{'decisiontreeclassifier__max_depth': 6, 'deci...</td>\n",
       "      <td>0.519525</td>\n",
       "      <td>0.480475</td>\n",
       "      <td>0.520408</td>\n",
       "      <td>0.528912</td>\n",
       "      <td>0.547619</td>\n",
       "      <td>0.519388</td>\n",
       "      <td>0.021922</td>\n",
       "      <td>1</td>\n",
       "    </tr>\n",
       "    <tr>\n",
       "      <th>94</th>\n",
       "      <td>0.023921</td>\n",
       "      <td>0.018014</td>\n",
       "      <td>0.006206</td>\n",
       "      <td>0.001164</td>\n",
       "      <td>6</td>\n",
       "      <td>4</td>\n",
       "      <td>6</td>\n",
       "      <td>{'decisiontreeclassifier__max_depth': 6, 'deci...</td>\n",
       "      <td>0.519525</td>\n",
       "      <td>0.480475</td>\n",
       "      <td>0.520408</td>\n",
       "      <td>0.528912</td>\n",
       "      <td>0.547619</td>\n",
       "      <td>0.519388</td>\n",
       "      <td>0.021922</td>\n",
       "      <td>1</td>\n",
       "    </tr>\n",
       "    <tr>\n",
       "      <th>93</th>\n",
       "      <td>0.014953</td>\n",
       "      <td>0.000620</td>\n",
       "      <td>0.003996</td>\n",
       "      <td>0.000620</td>\n",
       "      <td>6</td>\n",
       "      <td>4</td>\n",
       "      <td>5</td>\n",
       "      <td>{'decisiontreeclassifier__max_depth': 6, 'deci...</td>\n",
       "      <td>0.519525</td>\n",
       "      <td>0.480475</td>\n",
       "      <td>0.520408</td>\n",
       "      <td>0.528912</td>\n",
       "      <td>0.547619</td>\n",
       "      <td>0.519388</td>\n",
       "      <td>0.021922</td>\n",
       "      <td>1</td>\n",
       "    </tr>\n",
       "    <tr>\n",
       "      <th>92</th>\n",
       "      <td>0.019941</td>\n",
       "      <td>0.003032</td>\n",
       "      <td>0.005784</td>\n",
       "      <td>0.001814</td>\n",
       "      <td>6</td>\n",
       "      <td>4</td>\n",
       "      <td>4</td>\n",
       "      <td>{'decisiontreeclassifier__max_depth': 6, 'deci...</td>\n",
       "      <td>0.519525</td>\n",
       "      <td>0.480475</td>\n",
       "      <td>0.520408</td>\n",
       "      <td>0.528912</td>\n",
       "      <td>0.547619</td>\n",
       "      <td>0.519388</td>\n",
       "      <td>0.021922</td>\n",
       "      <td>1</td>\n",
       "    </tr>\n",
       "    <tr>\n",
       "      <th>91</th>\n",
       "      <td>0.016343</td>\n",
       "      <td>0.002568</td>\n",
       "      <td>0.005202</td>\n",
       "      <td>0.001470</td>\n",
       "      <td>6</td>\n",
       "      <td>4</td>\n",
       "      <td>3</td>\n",
       "      <td>{'decisiontreeclassifier__max_depth': 6, 'deci...</td>\n",
       "      <td>0.519525</td>\n",
       "      <td>0.480475</td>\n",
       "      <td>0.520408</td>\n",
       "      <td>0.528912</td>\n",
       "      <td>0.547619</td>\n",
       "      <td>0.519388</td>\n",
       "      <td>0.021922</td>\n",
       "      <td>1</td>\n",
       "    </tr>\n",
       "    <tr>\n",
       "      <th>90</th>\n",
       "      <td>0.013756</td>\n",
       "      <td>0.000990</td>\n",
       "      <td>0.004587</td>\n",
       "      <td>0.001186</td>\n",
       "      <td>6</td>\n",
       "      <td>4</td>\n",
       "      <td>2</td>\n",
       "      <td>{'decisiontreeclassifier__max_depth': 6, 'deci...</td>\n",
       "      <td>0.519525</td>\n",
       "      <td>0.480475</td>\n",
       "      <td>0.520408</td>\n",
       "      <td>0.528912</td>\n",
       "      <td>0.547619</td>\n",
       "      <td>0.519388</td>\n",
       "      <td>0.021922</td>\n",
       "      <td>1</td>\n",
       "    </tr>\n",
       "  </tbody>\n",
       "</table>\n",
       "</div>"
      ],
      "text/plain": [
       "    mean_fit_time  std_fit_time  mean_score_time  std_score_time  \\\n",
       "87       0.019548      0.004720         0.005386        0.000474   \n",
       "98       0.015365      0.001368         0.004782        0.001734   \n",
       "97       0.016129      0.001835         0.004210        0.000741   \n",
       "96       0.017153      0.001584         0.004975        0.001413   \n",
       "95       0.018736      0.001936         0.006596        0.001735   \n",
       "94       0.023921      0.018014         0.006206        0.001164   \n",
       "93       0.014953      0.000620         0.003996        0.000620   \n",
       "92       0.019941      0.003032         0.005784        0.001814   \n",
       "91       0.016343      0.002568         0.005202        0.001470   \n",
       "90       0.013756      0.000990         0.004587        0.001186   \n",
       "\n",
       "   param_decisiontreeclassifier__max_depth  \\\n",
       "87                                       6   \n",
       "98                                       6   \n",
       "97                                       6   \n",
       "96                                       6   \n",
       "95                                       6   \n",
       "94                                       6   \n",
       "93                                       6   \n",
       "92                                       6   \n",
       "91                                       6   \n",
       "90                                       6   \n",
       "\n",
       "   param_decisiontreeclassifier__min_samples_leaf  \\\n",
       "87                                              3   \n",
       "98                                              5   \n",
       "97                                              5   \n",
       "96                                              5   \n",
       "95                                              5   \n",
       "94                                              4   \n",
       "93                                              4   \n",
       "92                                              4   \n",
       "91                                              4   \n",
       "90                                              4   \n",
       "\n",
       "   param_decisiontreeclassifier__min_samples_split  \\\n",
       "87                                               4   \n",
       "98                                               5   \n",
       "97                                               4   \n",
       "96                                               3   \n",
       "95                                               2   \n",
       "94                                               6   \n",
       "93                                               5   \n",
       "92                                               4   \n",
       "91                                               3   \n",
       "90                                               2   \n",
       "\n",
       "                                               params  split0_test_score  \\\n",
       "87  {'decisiontreeclassifier__max_depth': 6, 'deci...           0.519525   \n",
       "98  {'decisiontreeclassifier__max_depth': 6, 'deci...           0.519525   \n",
       "97  {'decisiontreeclassifier__max_depth': 6, 'deci...           0.519525   \n",
       "96  {'decisiontreeclassifier__max_depth': 6, 'deci...           0.519525   \n",
       "95  {'decisiontreeclassifier__max_depth': 6, 'deci...           0.519525   \n",
       "94  {'decisiontreeclassifier__max_depth': 6, 'deci...           0.519525   \n",
       "93  {'decisiontreeclassifier__max_depth': 6, 'deci...           0.519525   \n",
       "92  {'decisiontreeclassifier__max_depth': 6, 'deci...           0.519525   \n",
       "91  {'decisiontreeclassifier__max_depth': 6, 'deci...           0.519525   \n",
       "90  {'decisiontreeclassifier__max_depth': 6, 'deci...           0.519525   \n",
       "\n",
       "    split1_test_score  split2_test_score  split3_test_score  \\\n",
       "87           0.480475           0.520408           0.528912   \n",
       "98           0.480475           0.520408           0.528912   \n",
       "97           0.480475           0.520408           0.528912   \n",
       "96           0.480475           0.520408           0.528912   \n",
       "95           0.480475           0.520408           0.528912   \n",
       "94           0.480475           0.520408           0.528912   \n",
       "93           0.480475           0.520408           0.528912   \n",
       "92           0.480475           0.520408           0.528912   \n",
       "91           0.480475           0.520408           0.528912   \n",
       "90           0.480475           0.520408           0.528912   \n",
       "\n",
       "    split4_test_score  mean_test_score  std_test_score  rank_test_score  \n",
       "87           0.547619         0.519388        0.021922                1  \n",
       "98           0.547619         0.519388        0.021922                1  \n",
       "97           0.547619         0.519388        0.021922                1  \n",
       "96           0.547619         0.519388        0.021922                1  \n",
       "95           0.547619         0.519388        0.021922                1  \n",
       "94           0.547619         0.519388        0.021922                1  \n",
       "93           0.547619         0.519388        0.021922                1  \n",
       "92           0.547619         0.519388        0.021922                1  \n",
       "91           0.547619         0.519388        0.021922                1  \n",
       "90           0.547619         0.519388        0.021922                1  "
      ]
     },
     "execution_count": 131,
     "metadata": {},
     "output_type": "execute_result"
    }
   ],
   "source": [
    "results = pd.DataFrame(grid_search.cv_results_)\n",
    "results.sort_values(\"rank_test_score\").head(10)"
   ]
  },
  {
   "cell_type": "code",
   "execution_count": 132,
   "metadata": {},
   "outputs": [
    {
     "data": {
      "text/plain": [
       "{'decisiontreeclassifier__max_depth': 6,\n",
       " 'decisiontreeclassifier__min_samples_leaf': 1,\n",
       " 'decisiontreeclassifier__min_samples_split': 2}"
      ]
     },
     "execution_count": 132,
     "metadata": {},
     "output_type": "execute_result"
    }
   ],
   "source": [
    "grid_search.best_params_"
   ]
  },
  {
   "cell_type": "code",
   "execution_count": 133,
   "metadata": {},
   "outputs": [
    {
     "name": "stdout",
     "output_type": "stream",
     "text": [
      "Training Accuracy: 0.5\n",
      "Validation Accuracy: 0.6964\n"
     ]
    }
   ],
   "source": [
    "# Calculate and display the training and validation accuracies of the model.\n",
    "\n",
    "# 'model' is the trained decision tree model, which has been fitted on the oversampled training data.\n",
    "\n",
    "# Calculate the training accuracy of the model on the oversampled training data.\n",
    "# The method 'score' of the trained model returns the mean accuracy on the given data and labels.\n",
    "# Here, 'X_train_over_dt' represents the feature matrix of the oversampled training data,\n",
    "# and 'y_train_over_dt' represents the corresponding target labels.\n",
    "# The calculated accuracy is assigned to the variable 'acc_train'.\n",
    "acc_train = model.score(X_train_over_dt, y_train_over_dt)\n",
    "\n",
    "# Calculate the validation accuracy of the model on the validation (test) data.\n",
    "# Similarly, 'X_test_dt' represents the feature matrix of the test data,\n",
    "# and 'y_test_dt' represents the corresponding target labels.\n",
    "# The calculated accuracy is assigned to the variable 'acc_test'.\n",
    "acc_test = model.score(X_test_dt, y_test_dt)\n",
    "\n",
    "# Display the training accuracy and validation accuracy in a user-friendly format.\n",
    "# The 'round' function is used to round the accuracy values to 4 decimal places for better readability.\n",
    "print(\"Training Accuracy:\", round(acc_train, 4))\n",
    "print(\"Validation Accuracy:\", round(acc_test, 4))\n"
   ]
  },
  {
   "cell_type": "code",
   "execution_count": 134,
   "metadata": {},
   "outputs": [
    {
     "name": "stdout",
     "output_type": "stream",
     "text": [
      "Training Accuracy: 0.66\n",
      "Validation Accuracy: 0.7\n"
     ]
    }
   ],
   "source": [
    "# Calculate and display the training accuracy and validation accuracy of the decision tree model.\n",
    "\n",
    "# 'dt_model' is the trained decision tree model, which is created as a pipeline with an ordinal encoder for preprocessing.\n",
    "# It has been fitted on the training data represented by 'X_train_dt' (feature matrix) and 'y_train_dt' (target labels).\n",
    "\n",
    "# Calculate the training accuracy of the decision tree model.\n",
    "# The 'predict' method of the trained model 'dt_model' is used to make predictions on the training data 'X_train_dt'.\n",
    "# The 'accuracy_score' function is then used to compare the predicted labels with the true labels 'y_train_dt'\n",
    "# and calculate the training accuracy.\n",
    "# The calculated accuracy is assigned to the variable 'acc_train'.\n",
    "acc_train = accuracy_score(y_train_dt, dt_model.predict(X_train_dt))\n",
    "\n",
    "# Calculate the validation accuracy of the decision tree model.\n",
    "# The 'score' method of the trained model 'dt_model' is used to calculate the mean accuracy on the validation data 'X_test_dt'\n",
    "# and the corresponding target labels 'y_test_dt'.\n",
    "# The calculated accuracy is assigned to the variable 'acc_val'.\n",
    "acc_val = dt_model.score(X_test_dt, y_test_dt)\n",
    "\n",
    "# Display the training accuracy and validation accuracy in a user-friendly format.\n",
    "# The 'round' function is used to round the accuracy values to 2 decimal places for better readability.\n",
    "print(\"Training Accuracy:\", round(acc_train, 2))\n",
    "print(\"Validation Accuracy:\", round(acc_val, 2))\n"
   ]
  },
  {
   "cell_type": "code",
   "execution_count": 135,
   "metadata": {},
   "outputs": [
    {
     "data": {
      "text/plain": [
       "faculty        0.033810\n",
       "prep_before    0.048065\n",
       "level          0.079878\n",
       "skill          0.379009\n",
       "age            0.387404\n",
       "dtype: float64"
      ]
     },
     "execution_count": 135,
     "metadata": {},
     "output_type": "execute_result"
    }
   ],
   "source": [
    "# Extract feature importances from the trained decision tree model and display the top five important features.\n",
    "\n",
    "# 'X_train_dt' represents the feature matrix of the training data used to train the decision tree model.\n",
    "# 'features' is a list containing the names of all the features in the feature matrix.\n",
    "\n",
    "# Extract feature importances from the decision tree model.\n",
    "# The 'named_steps' attribute of 'dt_model' provides access to the individual components of the pipeline.\n",
    "# 'dt_model.named_steps[\"decisiontreeclassifier\"]' accesses the trained decision tree classifier from the pipeline.\n",
    "# The 'feature_importances_' attribute of the decision tree classifier provides the importance scores of each feature.\n",
    "# The importance scores are assigned to the variable 'importances'.\n",
    "importances = dt_model.named_steps[\"decisiontreeclassifier\"].feature_importances_\n",
    "\n",
    "# Create a pandas Series to pair feature names with their corresponding importance scores.\n",
    "# The 'pd.Series' constructor is used to create a Series object with 'importances' as the data and 'features' as the index.\n",
    "# The 'index' parameter ensures that the feature names are used as the index of the Series.\n",
    "# The resulting Series 'feat_imp' is sorted in ascending order based on the importance scores using the 'sort_values' method.\n",
    "feat_imp = pd.Series(importances, index=features).sort_values()\n",
    "\n",
    "# Display the top five important features.\n",
    "# The 'tail' method is used to select the last five entries of 'feat_imp', which represent the top five features with the highest importance scores.\n",
    "print(feat_imp.tail())\n"
   ]
  },
  {
   "cell_type": "code",
   "execution_count": 136,
   "metadata": {},
   "outputs": [
    {
     "data": {
      "image/png": "[encoded data removed]",
      "text/plain": [
       "<Figure size 640x480 with 1 Axes>"
      ]
     },
     "metadata": {},
     "output_type": "display_data"
    }
   ],
   "source": [
    "# Create horizontal bar chart of feature importances\n",
    "feat_imp.plot(kind=\"barh\")\n",
    "plt.xlabel(\"Gini Importance\")\n",
    "plt.ylabel(\"Label\")\n",
    "plt.title(\"Most Important Determiners of Academic Performance\");"
   ]
  },
  {
   "cell_type": "code",
   "execution_count": 137,
   "metadata": {},
   "outputs": [
    {
     "data": {
      "text/plain": [
       "0.6964285714285714"
      ]
     },
     "execution_count": 137,
     "metadata": {},
     "output_type": "execute_result"
    }
   ],
   "source": [
    "predictions = dt_model.predict(X_test_dt)\n",
    "\n",
    "accuracy_score(predictions, y_test_dt)"
   ]
  },
  {
   "cell_type": "code",
   "execution_count": 138,
   "metadata": {},
   "outputs": [
    {
     "data": {
      "text/plain": [
       "<sklearn.metrics._plot.confusion_matrix.ConfusionMatrixDisplay at 0x1ef36a56800>"
      ]
     },
     "execution_count": 138,
     "metadata": {},
     "output_type": "execute_result"
    },
    {
     "data": {
      "image/png": "[encoded data removed]",
      "text/plain": [
       "<Figure size 640x480 with 2 Axes>"
      ]
     },
     "metadata": {},
     "output_type": "display_data"
    }
   ],
   "source": [
    "ConfusionMatrixDisplay.from_estimator(grid_search, X_test_dt, y_test_dt)"
   ]
  },
  {
   "cell_type": "code",
   "execution_count": 139,
   "metadata": {},
   "outputs": [
    {
     "name": "stdout",
     "output_type": "stream",
     "text": [
      "              precision    recall  f1-score   support\n",
      "\n",
      "       False       0.00      0.00      0.00       170\n",
      "        True       0.70      1.00      0.82       390\n",
      "\n",
      "    accuracy                           0.70       560\n",
      "   macro avg       0.35      0.50      0.41       560\n",
      "weighted avg       0.49      0.70      0.57       560\n",
      "\n"
     ]
    },
    {
     "name": "stderr",
     "output_type": "stream",
     "text": [
      "c:\\Users\\User\\AppData\\Local\\Programs\\Python\\Python310\\lib\\site-packages\\sklearn\\metrics\\_classification.py:1334: UndefinedMetricWarning: Precision and F-score are ill-defined and being set to 0.0 in labels with no predicted samples. Use `zero_division` parameter to control this behavior.\n",
      "  _warn_prf(average, modifier, msg_start, len(result))\n",
      "c:\\Users\\User\\AppData\\Local\\Programs\\Python\\Python310\\lib\\site-packages\\sklearn\\metrics\\_classification.py:1334: UndefinedMetricWarning: Precision and F-score are ill-defined and being set to 0.0 in labels with no predicted samples. Use `zero_division` parameter to control this behavior.\n",
      "  _warn_prf(average, modifier, msg_start, len(result))\n",
      "c:\\Users\\User\\AppData\\Local\\Programs\\Python\\Python310\\lib\\site-packages\\sklearn\\metrics\\_classification.py:1334: UndefinedMetricWarning: Precision and F-score are ill-defined and being set to 0.0 in labels with no predicted samples. Use `zero_division` parameter to control this behavior.\n",
      "  _warn_prf(average, modifier, msg_start, len(result))\n"
     ]
    }
   ],
   "source": [
    "print(classification_report(y_test_dt, model.predict(X_test_dt)))\n"
   ]
  },
  {
   "cell_type": "code",
   "execution_count": 140,
   "metadata": {},
   "outputs": [
    {
     "data": {
      "application/vnd.jupyter.widget-view+json": {
       "model_id": "70fdab583d1942709d5ea266f869ff9b",
       "version_major": 2,
       "version_minor": 0
      },
      "text/plain": [
       "FloatSlider(value=0.5, continuous_update=False, description='Threshold:', max=1.0)"
      ]
     },
     "metadata": {},
     "output_type": "display_data"
    },
    {
     "data": {
      "application/vnd.jupyter.widget-view+json": {
       "model_id": "647114f5f2374206928adc387c2bab03",
       "version_major": 2,
       "version_minor": 0
      },
      "text/plain": [
       "HBox(children=(Output(layout=Layout(height='300px', width='300px')), VBox(children=(Output(layout=Layout(heigh…"
      ]
     },
     "metadata": {},
     "output_type": "display_data"
    }
   ],
   "source": [
    "c = ConfusionMatrixWidget(model, X_test_dt, y_test_dt)\n",
    "c.show()"
   ]
  },
  {
   "attachments": {},
   "cell_type": "markdown",
   "metadata": {},
   "source": [
    "## Gradient Boosting Classifier"
   ]
  },
  {
   "cell_type": "code",
   "execution_count": 141,
   "metadata": {},
   "outputs": [
    {
     "name": "stdout",
     "output_type": "stream",
     "text": [
      "X shape: (2800, 14)\n",
      "y shape: (2800,)\n"
     ]
    }
   ],
   "source": [
    "target = \"cgpa_drop\"\n",
    "X = categorical_df.drop(columns=target)\n",
    "y = categorical_df[target]\n",
    "\n",
    "print(\"X shape:\", X.shape)\n",
    "print(\"y shape:\", y.shape)"
   ]
  },
  {
   "cell_type": "code",
   "execution_count": 142,
   "metadata": {},
   "outputs": [
    {
     "name": "stdout",
     "output_type": "stream",
     "text": [
      "X_train shape: (2240, 14)\n",
      "y_train shape: (2240,)\n",
      "X_test shape: (560, 14)\n",
      "y_test shape: (560,)\n"
     ]
    }
   ],
   "source": [
    "X_train, X_test, y_train, y_test = train_test_split(\n",
    "    X, y, test_size=0.2, random_state=42)\n",
    "\n",
    "print(\"X_train shape:\", X_train.shape)\n",
    "print(\"y_train shape:\", y_train.shape)\n",
    "print(\"X_test shape:\", X_test.shape)\n",
    "print(\"y_test shape:\", y_test.shape)"
   ]
  },
  {
   "cell_type": "code",
   "execution_count": 143,
   "metadata": {},
   "outputs": [
    {
     "name": "stdout",
     "output_type": "stream",
     "text": [
      "X_train_over shape: (2942, 14)\n"
     ]
    },
    {
     "data": {
      "text/html": [
       "<div>\n",
       "<style scoped>\n",
       "    .dataframe tbody tr th:only-of-type {\n",
       "        vertical-align: middle;\n",
       "    }\n",
       "\n",
       "    .dataframe tbody tr th {\n",
       "        vertical-align: top;\n",
       "    }\n",
       "\n",
       "    .dataframe thead th {\n",
       "        text-align: right;\n",
       "    }\n",
       "</style>\n",
       "<table border=\"1\" class=\"dataframe\">\n",
       "  <thead>\n",
       "    <tr style=\"text-align: right;\">\n",
       "      <th></th>\n",
       "      <th>level</th>\n",
       "      <th>age</th>\n",
       "      <th>gender</th>\n",
       "      <th>marital_status</th>\n",
       "      <th>faculty</th>\n",
       "      <th>department</th>\n",
       "      <th>skill</th>\n",
       "      <th>prep_before</th>\n",
       "      <th>prep_after</th>\n",
       "      <th>quality_before</th>\n",
       "      <th>quality_after</th>\n",
       "      <th>confidence_before</th>\n",
       "      <th>confidence_after</th>\n",
       "      <th>employment</th>\n",
       "    </tr>\n",
       "  </thead>\n",
       "  <tbody>\n",
       "    <tr>\n",
       "      <th>0</th>\n",
       "      <td>500level.</td>\n",
       "      <td>27+</td>\n",
       "      <td>Female</td>\n",
       "      <td>Married</td>\n",
       "      <td>Engineering</td>\n",
       "      <td>Met and mat</td>\n",
       "      <td>Yes</td>\n",
       "      <td>Good</td>\n",
       "      <td>Neutral</td>\n",
       "      <td>Good</td>\n",
       "      <td>Neutral</td>\n",
       "      <td>Neutral</td>\n",
       "      <td>Neutral</td>\n",
       "      <td>No</td>\n",
       "    </tr>\n",
       "    <tr>\n",
       "      <th>1</th>\n",
       "      <td>300level</td>\n",
       "      <td>22–24</td>\n",
       "      <td>Male</td>\n",
       "      <td>Single</td>\n",
       "      <td>Education</td>\n",
       "      <td>Educational foundations</td>\n",
       "      <td>No</td>\n",
       "      <td>Neutral</td>\n",
       "      <td>Good</td>\n",
       "      <td>Neutral</td>\n",
       "      <td>Neutral</td>\n",
       "      <td>Neutral</td>\n",
       "      <td>Neutral</td>\n",
       "      <td>Yes</td>\n",
       "    </tr>\n",
       "    <tr>\n",
       "      <th>2</th>\n",
       "      <td>400level</td>\n",
       "      <td>22–24</td>\n",
       "      <td>Male</td>\n",
       "      <td>Single</td>\n",
       "      <td>Science</td>\n",
       "      <td>Geophysics</td>\n",
       "      <td>No</td>\n",
       "      <td>Poor</td>\n",
       "      <td>Neutral</td>\n",
       "      <td>Neutral</td>\n",
       "      <td>Poor</td>\n",
       "      <td>Neutral</td>\n",
       "      <td>Poor</td>\n",
       "      <td>No</td>\n",
       "    </tr>\n",
       "    <tr>\n",
       "      <th>3</th>\n",
       "      <td>400level</td>\n",
       "      <td>19–21</td>\n",
       "      <td>Male</td>\n",
       "      <td>Single</td>\n",
       "      <td>Engineering</td>\n",
       "      <td>Electrical and Electronics Engineering</td>\n",
       "      <td>Yes</td>\n",
       "      <td>Poor</td>\n",
       "      <td>Good</td>\n",
       "      <td>Neutral</td>\n",
       "      <td>Neutral</td>\n",
       "      <td>Neutral</td>\n",
       "      <td>Neutral</td>\n",
       "      <td>Yes</td>\n",
       "    </tr>\n",
       "    <tr>\n",
       "      <th>4</th>\n",
       "      <td>300level</td>\n",
       "      <td>25–27</td>\n",
       "      <td>Male</td>\n",
       "      <td>Single</td>\n",
       "      <td>Science</td>\n",
       "      <td>Botany</td>\n",
       "      <td>Yes</td>\n",
       "      <td>Good</td>\n",
       "      <td>Neutral</td>\n",
       "      <td>Neutral</td>\n",
       "      <td>Poor</td>\n",
       "      <td>Good</td>\n",
       "      <td>Neutral</td>\n",
       "      <td>No</td>\n",
       "    </tr>\n",
       "  </tbody>\n",
       "</table>\n",
       "</div>"
      ],
      "text/plain": [
       "       level    age  gender marital_status      faculty  \\\n",
       "0  500level.    27+  Female        Married  Engineering   \n",
       "1   300level  22–24    Male         Single    Education   \n",
       "2   400level  22–24    Male         Single      Science   \n",
       "3   400level  19–21    Male         Single  Engineering   \n",
       "4   300level  25–27    Male         Single      Science   \n",
       "\n",
       "                                department skill prep_before prep_after  \\\n",
       "0                              Met and mat   Yes        Good    Neutral   \n",
       "1                 Educational foundations     No     Neutral       Good   \n",
       "2                              Geophysics     No        Poor    Neutral   \n",
       "3  Electrical and Electronics Engineering    Yes        Poor       Good   \n",
       "4                                  Botany    Yes        Good    Neutral   \n",
       "\n",
       "  quality_before quality_after confidence_before confidence_after employment  \n",
       "0           Good       Neutral           Neutral          Neutral         No  \n",
       "1        Neutral       Neutral           Neutral          Neutral        Yes  \n",
       "2        Neutral          Poor           Neutral             Poor         No  \n",
       "3        Neutral       Neutral           Neutral          Neutral        Yes  \n",
       "4        Neutral          Poor              Good          Neutral         No  "
      ]
     },
     "execution_count": 143,
     "metadata": {},
     "output_type": "execute_result"
    }
   ],
   "source": [
    "over_sampler = RandomOverSampler(random_state=42)\n",
    "X_train_over, y_train_over = over_sampler.fit_resample(X_train, y_train)\n",
    "print(\"X_train_over shape:\", X_train_over.shape)\n",
    "X_train_over.head()"
   ]
  },
  {
   "cell_type": "code",
   "execution_count": 144,
   "metadata": {},
   "outputs": [
    {
     "data": {
      "text/plain": [
       "True     0.5\n",
       "False    0.5\n",
       "Name: cgpa_drop, dtype: float64"
      ]
     },
     "execution_count": 144,
     "metadata": {},
     "output_type": "execute_result"
    }
   ],
   "source": [
    "y_train_over.value_counts(normalize=True)"
   ]
  },
  {
   "cell_type": "code",
   "execution_count": 145,
   "metadata": {},
   "outputs": [
    {
     "name": "stdout",
     "output_type": "stream",
     "text": [
      "Baseline Accuracy: 0.6567\n"
     ]
    }
   ],
   "source": [
    "acc_baseline = y_train.value_counts(normalize=True).max()\n",
    "print(\"Baseline Accuracy:\", round(acc_baseline, 4))"
   ]
  },
  {
   "cell_type": "code",
   "execution_count": 146,
   "metadata": {},
   "outputs": [],
   "source": [
    "clf = make_pipeline(\n",
    "    OrdinalEncoder(), GradientBoostingClassifier()\n",
    ")"
   ]
  },
  {
   "cell_type": "code",
   "execution_count": 147,
   "metadata": {},
   "outputs": [
    {
     "data": {
      "text/plain": [
       "{'gradientboostingclassifier__n_estimators': range(20, 31, 5),\n",
       " 'gradientboostingclassifier__max_depth': range(2, 5)}"
      ]
     },
     "execution_count": 147,
     "metadata": {},
     "output_type": "execute_result"
    }
   ],
   "source": [
    "params = {\n",
    "    \"gradientboostingclassifier__n_estimators\": range(20, 31, 5),\n",
    "    \"gradientboostingclassifier__max_depth\": range(2, 5)\n",
    "}\n",
    "params\n"
   ]
  },
  {
   "cell_type": "code",
   "execution_count": 148,
   "metadata": {},
   "outputs": [
    {
     "name": "stdout",
     "output_type": "stream",
     "text": [
      "Fitting 5 folds for each of 9 candidates, totalling 45 fits\n"
     ]
    },
    {
     "data": {
      "text/html": [
       "<style>#sk-container-id-13 {color: black;background-color: white;}#sk-container-id-13 pre{padding: 0;}#sk-container-id-13 div.sk-toggleable {background-color: white;}#sk-container-id-13 label.sk-toggleable__label {cursor: pointer;display: block;width: 100%;margin-bottom: 0;padding: 0.3em;box-sizing: border-box;text-align: center;}#sk-container-id-13 label.sk-toggleable__label-arrow:before {content: \"▸\";float: left;margin-right: 0.25em;color: #696969;}#sk-container-id-13 label.sk-toggleable__label-arrow:hover:before {color: black;}#sk-container-id-13 div.sk-estimator:hover label.sk-toggleable__label-arrow:before {color: black;}#sk-container-id-13 div.sk-toggleable__content {max-height: 0;max-width: 0;overflow: hidden;text-align: left;background-color: #f0f8ff;}#sk-container-id-13 div.sk-toggleable__content pre {margin: 0.2em;color: black;border-radius: 0.25em;background-color: #f0f8ff;}#sk-container-id-13 input.sk-toggleable__control:checked~div.sk-toggleable__content {max-height: 200px;max-width: 100%;overflow: auto;}#sk-container-id-13 input.sk-toggleable__control:checked~label.sk-toggleable__label-arrow:before {content: \"▾\";}#sk-container-id-13 div.sk-estimator input.sk-toggleable__control:checked~label.sk-toggleable__label {background-color: #d4ebff;}#sk-container-id-13 div.sk-label input.sk-toggleable__control:checked~label.sk-toggleable__label {background-color: #d4ebff;}#sk-container-id-13 input.sk-hidden--visually {border: 0;clip: rect(1px 1px 1px 1px);clip: rect(1px, 1px, 1px, 1px);height: 1px;margin: -1px;overflow: hidden;padding: 0;position: absolute;width: 1px;}#sk-container-id-13 div.sk-estimator {font-family: monospace;background-color: #f0f8ff;border: 1px dotted black;border-radius: 0.25em;box-sizing: border-box;margin-bottom: 0.5em;}#sk-container-id-13 div.sk-estimator:hover {background-color: #d4ebff;}#sk-container-id-13 div.sk-parallel-item::after {content: \"\";width: 100%;border-bottom: 1px solid gray;flex-grow: 1;}#sk-container-id-13 div.sk-label:hover label.sk-toggleable__label {background-color: #d4ebff;}#sk-container-id-13 div.sk-serial::before {content: \"\";position: absolute;border-left: 1px solid gray;box-sizing: border-box;top: 0;bottom: 0;left: 50%;z-index: 0;}#sk-container-id-13 div.sk-serial {display: flex;flex-direction: column;align-items: center;background-color: white;padding-right: 0.2em;padding-left: 0.2em;position: relative;}#sk-container-id-13 div.sk-item {position: relative;z-index: 1;}#sk-container-id-13 div.sk-parallel {display: flex;align-items: stretch;justify-content: center;background-color: white;position: relative;}#sk-container-id-13 div.sk-item::before, #sk-container-id-13 div.sk-parallel-item::before {content: \"\";position: absolute;border-left: 1px solid gray;box-sizing: border-box;top: 0;bottom: 0;left: 50%;z-index: -1;}#sk-container-id-13 div.sk-parallel-item {display: flex;flex-direction: column;z-index: 1;position: relative;background-color: white;}#sk-container-id-13 div.sk-parallel-item:first-child::after {align-self: flex-end;width: 50%;}#sk-container-id-13 div.sk-parallel-item:last-child::after {align-self: flex-start;width: 50%;}#sk-container-id-13 div.sk-parallel-item:only-child::after {width: 0;}#sk-container-id-13 div.sk-dashed-wrapped {border: 1px dashed gray;margin: 0 0.4em 0.5em 0.4em;box-sizing: border-box;padding-bottom: 0.4em;background-color: white;}#sk-container-id-13 div.sk-label label {font-family: monospace;font-weight: bold;display: inline-block;line-height: 1.2em;}#sk-container-id-13 div.sk-label-container {text-align: center;}#sk-container-id-13 div.sk-container {/* jupyter's `normalize.less` sets `[hidden] { display: none; }` but bootstrap.min.css set `[hidden] { display: none !important; }` so we also need the `!important` here to be able to override the default hidden behavior on the sphinx rendered scikit-learn.org. See: https://github.com/scikit-learn/scikit-learn/issues/21755 */display: inline-block !important;position: relative;}#sk-container-id-13 div.sk-text-repr-fallback {display: none;}</style><div id=\"sk-container-id-13\" class=\"sk-top-container\"><div class=\"sk-text-repr-fallback\"><pre>GridSearchCV(cv=5,\n",
       "             estimator=Pipeline(steps=[(&#x27;ordinalencoder&#x27;, OrdinalEncoder()),\n",
       "                                       (&#x27;gradientboostingclassifier&#x27;,\n",
       "                                        GradientBoostingClassifier())]),\n",
       "             n_jobs=-1,\n",
       "             param_grid={&#x27;gradientboostingclassifier__max_depth&#x27;: range(2, 5),\n",
       "                         &#x27;gradientboostingclassifier__n_estimators&#x27;: range(20, 31, 5)},\n",
       "             verbose=1)</pre><b>In a Jupyter environment, please rerun this cell to show the HTML representation or trust the notebook. <br />On GitHub, the HTML representation is unable to render, please try loading this page with nbviewer.org.</b></div><div class=\"sk-container\" hidden><div class=\"sk-item sk-dashed-wrapped\"><div class=\"sk-label-container\"><div class=\"sk-label sk-toggleable\"><input class=\"sk-toggleable__control sk-hidden--visually\" id=\"sk-estimator-id-57\" type=\"checkbox\" ><label for=\"sk-estimator-id-57\" class=\"sk-toggleable__label sk-toggleable__label-arrow\">GridSearchCV</label><div class=\"sk-toggleable__content\"><pre>GridSearchCV(cv=5,\n",
       "             estimator=Pipeline(steps=[(&#x27;ordinalencoder&#x27;, OrdinalEncoder()),\n",
       "                                       (&#x27;gradientboostingclassifier&#x27;,\n",
       "                                        GradientBoostingClassifier())]),\n",
       "             n_jobs=-1,\n",
       "             param_grid={&#x27;gradientboostingclassifier__max_depth&#x27;: range(2, 5),\n",
       "                         &#x27;gradientboostingclassifier__n_estimators&#x27;: range(20, 31, 5)},\n",
       "             verbose=1)</pre></div></div></div><div class=\"sk-parallel\"><div class=\"sk-parallel-item\"><div class=\"sk-item\"><div class=\"sk-label-container\"><div class=\"sk-label sk-toggleable\"><input class=\"sk-toggleable__control sk-hidden--visually\" id=\"sk-estimator-id-58\" type=\"checkbox\" ><label for=\"sk-estimator-id-58\" class=\"sk-toggleable__label sk-toggleable__label-arrow\">estimator: Pipeline</label><div class=\"sk-toggleable__content\"><pre>Pipeline(steps=[(&#x27;ordinalencoder&#x27;, OrdinalEncoder()),\n",
       "                (&#x27;gradientboostingclassifier&#x27;, GradientBoostingClassifier())])</pre></div></div></div><div class=\"sk-serial\"><div class=\"sk-item\"><div class=\"sk-serial\"><div class=\"sk-item\"><div class=\"sk-estimator sk-toggleable\"><input class=\"sk-toggleable__control sk-hidden--visually\" id=\"sk-estimator-id-59\" type=\"checkbox\" ><label for=\"sk-estimator-id-59\" class=\"sk-toggleable__label sk-toggleable__label-arrow\">OrdinalEncoder</label><div class=\"sk-toggleable__content\"><pre>OrdinalEncoder()</pre></div></div></div><div class=\"sk-item\"><div class=\"sk-estimator sk-toggleable\"><input class=\"sk-toggleable__control sk-hidden--visually\" id=\"sk-estimator-id-60\" type=\"checkbox\" ><label for=\"sk-estimator-id-60\" class=\"sk-toggleable__label sk-toggleable__label-arrow\">GradientBoostingClassifier</label><div class=\"sk-toggleable__content\"><pre>GradientBoostingClassifier()</pre></div></div></div></div></div></div></div></div></div></div></div></div>"
      ],
      "text/plain": [
       "GridSearchCV(cv=5,\n",
       "             estimator=Pipeline(steps=[('ordinalencoder', OrdinalEncoder()),\n",
       "                                       ('gradientboostingclassifier',\n",
       "                                        GradientBoostingClassifier())]),\n",
       "             n_jobs=-1,\n",
       "             param_grid={'gradientboostingclassifier__max_depth': range(2, 5),\n",
       "                         'gradientboostingclassifier__n_estimators': range(20, 31, 5)},\n",
       "             verbose=1)"
      ]
     },
     "execution_count": 148,
     "metadata": {},
     "output_type": "execute_result"
    }
   ],
   "source": [
    "model = GridSearchCV(clf, param_grid=params, verbose=1, n_jobs=-1, cv=5)\n",
    "model.fit(X_train_over, y_train_over)"
   ]
  },
  {
   "cell_type": "code",
   "execution_count": 149,
   "metadata": {},
   "outputs": [
    {
     "data": {
      "text/html": [
       "<div>\n",
       "<style scoped>\n",
       "    .dataframe tbody tr th:only-of-type {\n",
       "        vertical-align: middle;\n",
       "    }\n",
       "\n",
       "    .dataframe tbody tr th {\n",
       "        vertical-align: top;\n",
       "    }\n",
       "\n",
       "    .dataframe thead th {\n",
       "        text-align: right;\n",
       "    }\n",
       "</style>\n",
       "<table border=\"1\" class=\"dataframe\">\n",
       "  <thead>\n",
       "    <tr style=\"text-align: right;\">\n",
       "      <th></th>\n",
       "      <th>mean_fit_time</th>\n",
       "      <th>std_fit_time</th>\n",
       "      <th>mean_score_time</th>\n",
       "      <th>std_score_time</th>\n",
       "      <th>param_gradientboostingclassifier__max_depth</th>\n",
       "      <th>param_gradientboostingclassifier__n_estimators</th>\n",
       "      <th>params</th>\n",
       "      <th>split0_test_score</th>\n",
       "      <th>split1_test_score</th>\n",
       "      <th>split2_test_score</th>\n",
       "      <th>split3_test_score</th>\n",
       "      <th>split4_test_score</th>\n",
       "      <th>mean_test_score</th>\n",
       "      <th>std_test_score</th>\n",
       "      <th>rank_test_score</th>\n",
       "    </tr>\n",
       "  </thead>\n",
       "  <tbody>\n",
       "    <tr>\n",
       "      <th>3</th>\n",
       "      <td>0.100132</td>\n",
       "      <td>0.009764</td>\n",
       "      <td>0.009774</td>\n",
       "      <td>0.003645</td>\n",
       "      <td>3</td>\n",
       "      <td>20</td>\n",
       "      <td>{'gradientboostingclassifier__max_depth': 3, '...</td>\n",
       "      <td>0.528014</td>\n",
       "      <td>0.466893</td>\n",
       "      <td>0.520408</td>\n",
       "      <td>0.528912</td>\n",
       "      <td>0.547619</td>\n",
       "      <td>0.518369</td>\n",
       "      <td>0.027253</td>\n",
       "      <td>1</td>\n",
       "    </tr>\n",
       "    <tr>\n",
       "      <th>4</th>\n",
       "      <td>0.099733</td>\n",
       "      <td>0.012471</td>\n",
       "      <td>0.008377</td>\n",
       "      <td>0.001017</td>\n",
       "      <td>3</td>\n",
       "      <td>25</td>\n",
       "      <td>{'gradientboostingclassifier__max_depth': 3, '...</td>\n",
       "      <td>0.528014</td>\n",
       "      <td>0.466893</td>\n",
       "      <td>0.520408</td>\n",
       "      <td>0.528912</td>\n",
       "      <td>0.547619</td>\n",
       "      <td>0.518369</td>\n",
       "      <td>0.027253</td>\n",
       "      <td>1</td>\n",
       "    </tr>\n",
       "    <tr>\n",
       "      <th>5</th>\n",
       "      <td>0.104719</td>\n",
       "      <td>0.002958</td>\n",
       "      <td>0.009774</td>\n",
       "      <td>0.003420</td>\n",
       "      <td>3</td>\n",
       "      <td>30</td>\n",
       "      <td>{'gradientboostingclassifier__max_depth': 3, '...</td>\n",
       "      <td>0.519525</td>\n",
       "      <td>0.466893</td>\n",
       "      <td>0.520408</td>\n",
       "      <td>0.528912</td>\n",
       "      <td>0.547619</td>\n",
       "      <td>0.516671</td>\n",
       "      <td>0.026861</td>\n",
       "      <td>3</td>\n",
       "    </tr>\n",
       "    <tr>\n",
       "      <th>6</th>\n",
       "      <td>0.089161</td>\n",
       "      <td>0.003314</td>\n",
       "      <td>0.008976</td>\n",
       "      <td>0.001093</td>\n",
       "      <td>4</td>\n",
       "      <td>20</td>\n",
       "      <td>{'gradientboostingclassifier__max_depth': 4, '...</td>\n",
       "      <td>0.519525</td>\n",
       "      <td>0.466893</td>\n",
       "      <td>0.520408</td>\n",
       "      <td>0.528912</td>\n",
       "      <td>0.547619</td>\n",
       "      <td>0.516671</td>\n",
       "      <td>0.026861</td>\n",
       "      <td>3</td>\n",
       "    </tr>\n",
       "    <tr>\n",
       "      <th>7</th>\n",
       "      <td>0.103921</td>\n",
       "      <td>0.003362</td>\n",
       "      <td>0.007779</td>\n",
       "      <td>0.000746</td>\n",
       "      <td>4</td>\n",
       "      <td>25</td>\n",
       "      <td>{'gradientboostingclassifier__max_depth': 4, '...</td>\n",
       "      <td>0.519525</td>\n",
       "      <td>0.466893</td>\n",
       "      <td>0.520408</td>\n",
       "      <td>0.528912</td>\n",
       "      <td>0.547619</td>\n",
       "      <td>0.516671</td>\n",
       "      <td>0.026861</td>\n",
       "      <td>3</td>\n",
       "    </tr>\n",
       "    <tr>\n",
       "      <th>8</th>\n",
       "      <td>0.214620</td>\n",
       "      <td>0.036168</td>\n",
       "      <td>0.011170</td>\n",
       "      <td>0.002777</td>\n",
       "      <td>4</td>\n",
       "      <td>30</td>\n",
       "      <td>{'gradientboostingclassifier__max_depth': 4, '...</td>\n",
       "      <td>0.519525</td>\n",
       "      <td>0.466893</td>\n",
       "      <td>0.520408</td>\n",
       "      <td>0.528912</td>\n",
       "      <td>0.547619</td>\n",
       "      <td>0.516671</td>\n",
       "      <td>0.026861</td>\n",
       "      <td>3</td>\n",
       "    </tr>\n",
       "    <tr>\n",
       "      <th>1</th>\n",
       "      <td>0.083776</td>\n",
       "      <td>0.002959</td>\n",
       "      <td>0.008577</td>\n",
       "      <td>0.001017</td>\n",
       "      <td>2</td>\n",
       "      <td>25</td>\n",
       "      <td>{'gradientboostingclassifier__max_depth': 2, '...</td>\n",
       "      <td>0.512733</td>\n",
       "      <td>0.466893</td>\n",
       "      <td>0.517007</td>\n",
       "      <td>0.528912</td>\n",
       "      <td>0.539116</td>\n",
       "      <td>0.512932</td>\n",
       "      <td>0.024808</td>\n",
       "      <td>7</td>\n",
       "    </tr>\n",
       "    <tr>\n",
       "      <th>2</th>\n",
       "      <td>0.103324</td>\n",
       "      <td>0.015433</td>\n",
       "      <td>0.012168</td>\n",
       "      <td>0.003908</td>\n",
       "      <td>2</td>\n",
       "      <td>30</td>\n",
       "      <td>{'gradientboostingclassifier__max_depth': 2, '...</td>\n",
       "      <td>0.512733</td>\n",
       "      <td>0.466893</td>\n",
       "      <td>0.513605</td>\n",
       "      <td>0.528912</td>\n",
       "      <td>0.539116</td>\n",
       "      <td>0.512252</td>\n",
       "      <td>0.024733</td>\n",
       "      <td>8</td>\n",
       "    </tr>\n",
       "    <tr>\n",
       "      <th>0</th>\n",
       "      <td>0.094747</td>\n",
       "      <td>0.010574</td>\n",
       "      <td>0.017953</td>\n",
       "      <td>0.005606</td>\n",
       "      <td>2</td>\n",
       "      <td>20</td>\n",
       "      <td>{'gradientboostingclassifier__max_depth': 2, '...</td>\n",
       "      <td>0.512733</td>\n",
       "      <td>0.466893</td>\n",
       "      <td>0.510204</td>\n",
       "      <td>0.525510</td>\n",
       "      <td>0.544218</td>\n",
       "      <td>0.511912</td>\n",
       "      <td>0.025530</td>\n",
       "      <td>9</td>\n",
       "    </tr>\n",
       "  </tbody>\n",
       "</table>\n",
       "</div>"
      ],
      "text/plain": [
       "   mean_fit_time  std_fit_time  mean_score_time  std_score_time  \\\n",
       "3       0.100132      0.009764         0.009774        0.003645   \n",
       "4       0.099733      0.012471         0.008377        0.001017   \n",
       "5       0.104719      0.002958         0.009774        0.003420   \n",
       "6       0.089161      0.003314         0.008976        0.001093   \n",
       "7       0.103921      0.003362         0.007779        0.000746   \n",
       "8       0.214620      0.036168         0.011170        0.002777   \n",
       "1       0.083776      0.002959         0.008577        0.001017   \n",
       "2       0.103324      0.015433         0.012168        0.003908   \n",
       "0       0.094747      0.010574         0.017953        0.005606   \n",
       "\n",
       "  param_gradientboostingclassifier__max_depth  \\\n",
       "3                                           3   \n",
       "4                                           3   \n",
       "5                                           3   \n",
       "6                                           4   \n",
       "7                                           4   \n",
       "8                                           4   \n",
       "1                                           2   \n",
       "2                                           2   \n",
       "0                                           2   \n",
       "\n",
       "  param_gradientboostingclassifier__n_estimators  \\\n",
       "3                                             20   \n",
       "4                                             25   \n",
       "5                                             30   \n",
       "6                                             20   \n",
       "7                                             25   \n",
       "8                                             30   \n",
       "1                                             25   \n",
       "2                                             30   \n",
       "0                                             20   \n",
       "\n",
       "                                              params  split0_test_score  \\\n",
       "3  {'gradientboostingclassifier__max_depth': 3, '...           0.528014   \n",
       "4  {'gradientboostingclassifier__max_depth': 3, '...           0.528014   \n",
       "5  {'gradientboostingclassifier__max_depth': 3, '...           0.519525   \n",
       "6  {'gradientboostingclassifier__max_depth': 4, '...           0.519525   \n",
       "7  {'gradientboostingclassifier__max_depth': 4, '...           0.519525   \n",
       "8  {'gradientboostingclassifier__max_depth': 4, '...           0.519525   \n",
       "1  {'gradientboostingclassifier__max_depth': 2, '...           0.512733   \n",
       "2  {'gradientboostingclassifier__max_depth': 2, '...           0.512733   \n",
       "0  {'gradientboostingclassifier__max_depth': 2, '...           0.512733   \n",
       "\n",
       "   split1_test_score  split2_test_score  split3_test_score  split4_test_score  \\\n",
       "3           0.466893           0.520408           0.528912           0.547619   \n",
       "4           0.466893           0.520408           0.528912           0.547619   \n",
       "5           0.466893           0.520408           0.528912           0.547619   \n",
       "6           0.466893           0.520408           0.528912           0.547619   \n",
       "7           0.466893           0.520408           0.528912           0.547619   \n",
       "8           0.466893           0.520408           0.528912           0.547619   \n",
       "1           0.466893           0.517007           0.528912           0.539116   \n",
       "2           0.466893           0.513605           0.528912           0.539116   \n",
       "0           0.466893           0.510204           0.525510           0.544218   \n",
       "\n",
       "   mean_test_score  std_test_score  rank_test_score  \n",
       "3         0.518369        0.027253                1  \n",
       "4         0.518369        0.027253                1  \n",
       "5         0.516671        0.026861                3  \n",
       "6         0.516671        0.026861                3  \n",
       "7         0.516671        0.026861                3  \n",
       "8         0.516671        0.026861                3  \n",
       "1         0.512932        0.024808                7  \n",
       "2         0.512252        0.024733                8  \n",
       "0         0.511912        0.025530                9  "
      ]
     },
     "execution_count": 149,
     "metadata": {},
     "output_type": "execute_result"
    }
   ],
   "source": [
    "results = pd.DataFrame(model.cv_results_)\n",
    "results.sort_values(\"rank_test_score\").head(10)"
   ]
  },
  {
   "cell_type": "code",
   "execution_count": 150,
   "metadata": {},
   "outputs": [
    {
     "data": {
      "text/plain": [
       "{'gradientboostingclassifier__max_depth': 3,\n",
       " 'gradientboostingclassifier__n_estimators': 20}"
      ]
     },
     "execution_count": 150,
     "metadata": {},
     "output_type": "execute_result"
    }
   ],
   "source": [
    "model.best_params_"
   ]
  },
  {
   "cell_type": "code",
   "execution_count": 151,
   "metadata": {},
   "outputs": [
    {
     "name": "stdout",
     "output_type": "stream",
     "text": [
      "Training Accuracy: 0.5401\n",
      "Validation Accuracy: 0.4411\n"
     ]
    }
   ],
   "source": [
    "acc_train = model.score(X_train_over, y_train_over)\n",
    "acc_test = model.score(X_test, y_test)\n",
    "\n",
    "print(\"Training Accuracy:\", round(acc_train, 4))\n",
    "print(\"Validation Accuracy:\", round(acc_test, 4))\n"
   ]
  },
  {
   "cell_type": "code",
   "execution_count": 152,
   "metadata": {},
   "outputs": [
    {
     "data": {
      "text/plain": [
       "<sklearn.metrics._plot.confusion_matrix.ConfusionMatrixDisplay at 0x1ef36b77430>"
      ]
     },
     "execution_count": 152,
     "metadata": {},
     "output_type": "execute_result"
    },
    {
     "data": {
      "image/png": "[encoded data removed]",
      "text/plain": [
       "<Figure size 640x480 with 2 Axes>"
      ]
     },
     "metadata": {},
     "output_type": "display_data"
    }
   ],
   "source": [
    "# Plot confusion matrix\n",
    "ConfusionMatrixDisplay.from_estimator(model, X_test, y_test)"
   ]
  },
  {
   "cell_type": "code",
   "execution_count": 162,
   "metadata": {},
   "outputs": [
    {
     "name": "stdout",
     "output_type": "stream",
     "text": [
      "              precision    recall  f1-score   support\n",
      "\n",
      "       False       0.28      0.54      0.37       170\n",
      "        True       0.67      0.40      0.50       390\n",
      "\n",
      "    accuracy                           0.44       560\n",
      "   macro avg       0.47      0.47      0.43       560\n",
      "weighted avg       0.55      0.44      0.46       560\n",
      "\n"
     ]
    }
   ],
   "source": [
    "print(classification_report(y_test, model.predict(X_test)))\n",
    "# classification_report(y_test, model.predict(X_test)).split()\n"
   ]
  },
  {
   "cell_type": "code",
   "execution_count": 1,
   "metadata": {},
   "outputs": [
    {
     "ename": "NameError",
     "evalue": "name 'widgets' is not defined",
     "output_type": "error",
     "traceback": [
      "\u001b[1;31m---------------------------------------------------------------------------\u001b[0m",
      "\u001b[1;31mNameError\u001b[0m                                 Traceback (most recent call last)",
      "Cell \u001b[1;32mIn[1], line 16\u001b[0m\n\u001b[0;32m     12\u001b[0m     \u001b[39mprint\u001b[39m(\u001b[39mf\u001b[39m\u001b[39m\"\u001b[39m\u001b[39mRecall: \u001b[39m\u001b[39m{\u001b[39;00mrecall\u001b[39m}\u001b[39;00m\u001b[39m\"\u001b[39m)\n\u001b[0;32m     13\u001b[0m     \u001b[39mprint\u001b[39m(\u001b[39mf\u001b[39m\u001b[39m\"\u001b[39m\u001b[39mAccuracy: \u001b[39m\u001b[39m{\u001b[39;00maccuracy\u001b[39m}\u001b[39;00m\u001b[39m\"\u001b[39m)\n\u001b[1;32m---> 16\u001b[0m thresh_widget \u001b[39m=\u001b[39m widgets\u001b[39m.\u001b[39mFloatSlider(\u001b[39mmin\u001b[39m\u001b[39m=\u001b[39m\u001b[39m0\u001b[39m, \u001b[39mmax\u001b[39m\u001b[39m=\u001b[39m\u001b[39m1\u001b[39m, value\u001b[39m=\u001b[39m\u001b[39m0.5\u001b[39m, step\u001b[39m=\u001b[39m\u001b[39m0.01\u001b[39m)\n\u001b[0;32m     18\u001b[0m interact(make_cnf_matrix, threshold\u001b[39m=\u001b[39mthresh_widget)\n",
      "\u001b[1;31mNameError\u001b[0m: name 'widgets' is not defined"
     ]
    }
   ],
   "source": [
    "def make_cnf_matrix(threshold):\n",
    "    \"\"\"_ignore this function, it's not used and it's not properly built\n",
    "    \"\"\"\n",
    "    y_predict_proba = model.predict_proba(X_test)[:, 1]\n",
    "    y_pred = y_predict_proba > threshold\n",
    "    conf_matrix = confusion_matrix(y_test, y_pred)\n",
    "    tn, fp, fn, tp = conf_matrix.ravel()\n",
    "    ConfusionMatrixDisplay.from_predictions(y_test, y_pred, colorbar=True)\n",
    "    precision = classification_report(y_test, y_pred).split()[10]\n",
    "    recall = classification_report(y_test, y_pred).split()[11]\n",
    "    accuracy = classification_report(y_test, y_pred).split()[15]\n",
    "    print(f\"Precision: {precision}\")\n",
    "    print(f\"Recall: {recall}\")\n",
    "    print(f\"Accuracy: {accuracy}\")\n",
    "\n",
    "\n",
    "thresh_widget = widgets.FloatSlider(min=0, max=1, value=0.5, step=0.01)\n",
    "\n",
    "interact(make_cnf_matrix, threshold=thresh_widget)\n"
   ]
  }
 ],
 "metadata": {
  "kernelspec": {
   "display_name": "Python 3",
   "language": "python",
   "name": "python3"
  },
  "language_info": {
   "codemirror_mode": {
    "name": "ipython",
    "version": 3
   },
   "file_extension": ".py",
   "mimetype": "text/x-python",
   "name": "python",
   "nbconvert_exporter": "python",
   "pygments_lexer": "ipython3",
   "version": "3.11.4"
  },
  "orig_nbformat": 4
 },
 "nbformat": 4,
 "nbformat_minor": 2
}
